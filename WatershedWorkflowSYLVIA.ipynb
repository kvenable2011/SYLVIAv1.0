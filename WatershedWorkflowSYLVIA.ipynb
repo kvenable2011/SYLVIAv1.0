{
 "cells": [
  {
   "cell_type": "code",
   "execution_count": 1,
   "id": "1ba53ed0",
   "metadata": {},
   "outputs": [],
   "source": [
    "import helpers"
   ]
  },
  {
   "cell_type": "code",
   "execution_count": 2,
   "id": "aa659ec7",
   "metadata": {},
   "outputs": [],
   "source": [
    "import api_request\n",
    "import pandas as pd"
   ]
  },
  {
   "cell_type": "code",
   "execution_count": 3,
   "id": "cd4b06bc",
   "metadata": {},
   "outputs": [
    {
     "name": "stdout",
     "output_type": "stream",
     "text": [
      "Help on module helpers:\n",
      "\n",
      "NAME\n",
      "    helpers\n",
      "\n",
      "CLASSES\n",
      "    builtins.object\n",
      "        Helper\n",
      "    \n",
      "    class Helper(builtins.object)\n",
      "     |  Methods defined here:\n",
      "     |  \n",
      "     |  __init__(self)\n",
      "     |      Initialize self.  See help(type(self)) for accurate signature.\n",
      "     |  \n",
      "     |  do_dict_override(self, old_dict, new_dict, verbose=None, recursive=None, inplace=None)\n",
      "     |      key:values in old_dict replaced by any matching keys in new_dict, otherwise old_dict is left the same and returned.\n",
      "     |      Original version with more complex options found in kernelkernel/pisces kernelcompare.py\n",
      "     |      This option supports substitution of dictionaries from new_dict to old_dict when\n",
      "     |          old_dict does not have a dict as its original value\n",
      "     |  \n",
      "     |  getname(self, filename)\n",
      "     |  \n",
      "     |  ----------------------------------------------------------------------\n",
      "     |  Data descriptors defined here:\n",
      "     |  \n",
      "     |  __dict__\n",
      "     |      dictionary for instance variables (if defined)\n",
      "     |  \n",
      "     |  __weakref__\n",
      "     |      list of weak references to the object (if defined)\n",
      "\n",
      "FILE\n",
      "    c:\\users\\kvenable\\onedrive - environmental protection agency (epa)\\oldlaptopfiles\\python scripts\\helpers.py\n",
      "\n",
      "\n"
     ]
    }
   ],
   "source": [
    "help(helpers)"
   ]
  },
  {
   "cell_type": "code",
   "execution_count": null,
   "id": "7ae1e47c",
   "metadata": {},
   "outputs": [],
   "source": []
  },
  {
   "cell_type": "code",
   "execution_count": 4,
   "id": "246fa248",
   "metadata": {},
   "outputs": [
    {
     "name": "stdout",
     "output_type": "stream",
     "text": [
      "Help on class module in module builtins:\n",
      "\n",
      "class module(object)\n",
      " |  module(name, doc=None)\n",
      " |  \n",
      " |  Create a module object.\n",
      " |  \n",
      " |  The name must be a string; the optional doc argument can have any type.\n",
      " |  \n",
      " |  Methods defined here:\n",
      " |  \n",
      " |  __delattr__(self, name, /)\n",
      " |      Implement delattr(self, name).\n",
      " |  \n",
      " |  __dir__(...)\n",
      " |      __dir__() -> list\n",
      " |      specialized dir() implementation\n",
      " |  \n",
      " |  __getattribute__(self, name, /)\n",
      " |      Return getattr(self, name).\n",
      " |  \n",
      " |  __init__(self, /, *args, **kwargs)\n",
      " |      Initialize self.  See help(type(self)) for accurate signature.\n",
      " |  \n",
      " |  __repr__(self, /)\n",
      " |      Return repr(self).\n",
      " |  \n",
      " |  __setattr__(self, name, value, /)\n",
      " |      Implement setattr(self, name, value).\n",
      " |  \n",
      " |  ----------------------------------------------------------------------\n",
      " |  Static methods defined here:\n",
      " |  \n",
      " |  __new__(*args, **kwargs) from builtins.type\n",
      " |      Create and return a new object.  See help(type) for accurate signature.\n",
      " |  \n",
      " |  ----------------------------------------------------------------------\n",
      " |  Data descriptors defined here:\n",
      " |  \n",
      " |  __dict__\n",
      "\n"
     ]
    }
   ],
   "source": [
    "help(type(helpers))"
   ]
  },
  {
   "cell_type": "code",
   "execution_count": 5,
   "id": "e97ebc0c",
   "metadata": {},
   "outputs": [],
   "source": [
    "test_parse = {\n",
    "  \"component\": \"workflow\",\n",
    "  \"dataset\": {\"runoffSource\": \"nldas\",\n",
    "  \"streamHydrology\": \"constant\",\n",
    "  \"aggregation\": \"false\",\n",
    "  \"source\": \"streamflow\"\n",
    "  },\n",
    "  \"dateTimeSpan\": {\n",
    "    \"startDate\": \"2014-07-01T00:00:00\",\n",
    "    \"endDate\": \"2014-07-31T00:00:00\",\n",
    "    \"dateTimeFormat\": \"yyyy-MM-dd HH\"\n",
    "  },\n",
    "  \"geometry\": {\n",
    "    \"description\": \"null\",\n",
    "    \"comID\": \"0\",\n",
    "    \"hucID\": \"030501030102\",\n",
    "    \"stationID\": \"null\",\n",
    "    \"point\": \"null\",\n",
    "    \"geometryMetadata\": {\n",
    "      \"precipSource\": \"nldas\"\n",
    "    },\n",
    "    \"timezone\": \"null\"\n",
    "  },\n",
    "  \"dataValueFormat\": \"E3\",\n",
    "  \"temporalResolution\": \"default\",\n",
    "  \"timeLocalized\": \"true\",\n",
    "  \"units\": \"default\",\n",
    "  \"outputFormat\": \"json\",\n",
    "  \"baseURL\": \"null\",\n",
    "  \"inputTimeSeries\": \"null\", \n",
    "  #\"output_name\": \"workflow\"\n",
    "}"
   ]
  },
  {
   "cell_type": "code",
   "execution_count": 6,
   "id": "1465f154",
   "metadata": {},
   "outputs": [
    {
     "data": {
      "text/plain": [
       "dict"
      ]
     },
     "execution_count": 6,
     "metadata": {},
     "output_type": "execute_result"
    }
   ],
   "source": [
    "type(test_parse)"
   ]
  },
  {
   "cell_type": "code",
   "execution_count": 7,
   "id": "3127111f",
   "metadata": {},
   "outputs": [
    {
     "name": "stdout",
     "output_type": "stream",
     "text": [
      "Help on class HMS in module api_request:\n",
      "\n",
      "class HMS(builtins.object)\n",
      " |  HMS(requestdict={})\n",
      " |  \n",
      " |  Python sample code for accessing the HMS web API. Functions as a CLI tool.\n",
      " |  If download is successful, data will be written to a json file.\n",
      " |  \n",
      " |  Methods defined here:\n",
      " |  \n",
      " |  __init__(self, requestdict={})\n",
      " |      Initialization of the HMS request class object.\n",
      " |      :param component: HMS data component, valid values are 'hydrology', 'meteorology', and 'workflow'\n",
      " |      :param dataset: HMS component dataset, each component contains multiple datasets that can be found on the\n",
      " |      website or from the swagger api.\n",
      " |      :param source: Component dataset data source.\n",
      " |      :param start_date: Time series start date.\n",
      " |      :param end_date: Time series end date.\n",
      " |      :param geometry: Time series location, type and format depend on dataset source.\n",
      " |      :param timestep: Time series timestep, valid values are 'default', 'daily', 'weekly', 'monthly', 'yearly'\n",
      " |  \n",
      " |  get_data(self, recheck=1)\n",
      " |      Queries the HMS data endpoint for the tasks current status.\n",
      " |  \n",
      " |  login(self)\n",
      " |  \n",
      " |  save_data(self, file_name=None)\n",
      " |      Writes the downloaded data to json file.\n",
      " |      :param file_name: Optional file name for the data output.\n",
      " |      :return: None\n",
      " |  \n",
      " |  savejson(self, obj, path)\n",
      " |  \n",
      " |  set_request_body(self)\n",
      " |      Sets the input parameters to the request json object obtained from the hms swagger api documentation.\n",
      " |  \n",
      " |  submit_request(self)\n",
      " |      Sends the request for data to the HMS API which triggers a new task.\n",
      " |      Request response returns a task ID and task status.\n",
      " |  \n",
      " |  unpackresult(self, r1text)\n",
      " |  \n",
      " |  ----------------------------------------------------------------------\n",
      " |  Data descriptors defined here:\n",
      " |  \n",
      " |  __dict__\n",
      " |      dictionary for instance variables (if defined)\n",
      " |  \n",
      " |  __weakref__\n",
      " |      list of weak references to the object (if defined)\n",
      " |  \n",
      " |  ----------------------------------------------------------------------\n",
      " |  Data and other attributes defined here:\n",
      " |  \n",
      " |  data_url = 'https://ceamdev.ceeopdev.net/hms/rest/api/v2/hms/data?job_...\n",
      " |  \n",
      " |  login_url = 'https://ceamdev.ceeopdev.net/login/?next=/hms/'\n",
      " |  \n",
      " |  password = 'hmsAdmin2020!'\n",
      " |  \n",
      " |  request_body = {}\n",
      " |  \n",
      " |  request_url = 'https://ceamdev.ceeopdev.net/hms/rest/api/v3/'\n",
      " |  \n",
      " |  result = None\n",
      " |  \n",
      " |  server = 'https://ceamdev.ceeopdev.net'\n",
      " |  \n",
      " |  swagger_url = 'https://ceamdev.ceeopdev.net/hms/api_doc/swagger/'\n",
      " |  \n",
      " |  task = None\n",
      " |  \n",
      " |  task_id = None\n",
      " |  \n",
      " |  user = 'hmsadmin'\n",
      "\n"
     ]
    }
   ],
   "source": [
    "help(api_request.HMS)"
   ]
  },
  {
   "cell_type": "code",
   "execution_count": 15,
   "id": "3a0b82ba",
   "metadata": {},
   "outputs": [
    {
     "data": {
      "text/plain": [
       "<function api_request.HMS.login(self)>"
      ]
     },
     "execution_count": 15,
     "metadata": {},
     "output_type": "execute_result"
    }
   ],
   "source": [
    "api_request.HMS.login"
   ]
  },
  {
   "cell_type": "code",
   "execution_count": 16,
   "id": "65e9c5af",
   "metadata": {},
   "outputs": [
    {
     "data": {
      "text/plain": [
       "{}"
      ]
     },
     "execution_count": 16,
     "metadata": {},
     "output_type": "execute_result"
    }
   ],
   "source": [
    "api_request.HMS.request_body"
   ]
  },
  {
   "cell_type": "code",
   "execution_count": 12,
   "id": "b4917670",
   "metadata": {},
   "outputs": [
    {
     "ename": "IndentationError",
     "evalue": "unexpected indent (Temp/ipykernel_24228/3312983926.py, line 2)",
     "output_type": "error",
     "traceback": [
      "\u001b[1;36m  File \u001b[1;32m\"C:\\Users\\kvenable\\AppData\\Local\\Temp/ipykernel_24228/3312983926.py\"\u001b[1;36m, line \u001b[1;32m2\u001b[0m\n\u001b[1;33m    ds = \"precipitation\"\u001b[0m\n\u001b[1;37m    ^\u001b[0m\n\u001b[1;31mIndentationError\u001b[0m\u001b[1;31m:\u001b[0m unexpected indent\n"
     ]
    }
   ],
   "source": [
    " cmp:\"hydrology\", ds: \"precipitation\", src:\"nldas\", date0 = \"2010-01-01\"\n",
    "    date1 = \"2010-12-31\"\n",
    "    geometry = {\n",
    "        \"point\": {\n",
    "            \"latitude\": 33.925,\n",
    "            \"longitude\": -83.355\n",
    "        }\n",
    "    }\n",
    "    ts = \"daily\""
   ]
  },
  {
   "cell_type": "code",
   "execution_count": 8,
   "id": "45423680",
   "metadata": {},
   "outputs": [],
   "source": [
    "query1 = {\n",
    "  \"runoffSource\": \"nldas\",\n",
    "  \"streamHydrology\": \"constant\",\n",
    "  \"aggregation\": \"false\",\n",
    "  \"source\": \"streamflow\",\n",
    "  \"dateTimeSpan\": {\n",
    "    \"startDate\": \"2014-07-01T00:00:00\",\n",
    "    \"endDate\": \"2014-07-31T00:00:00\",\n",
    "    \"dateTimeFormat\": \"yyyy-MM-dd HH\"\n",
    "  },\n",
    "  \"geometry\": {\n",
    "    \"description\": \"null\",\n",
    "    \"comID\": \"0\",\n",
    "    \"hucID\": \"030501030102\",\n",
    "    \"stationID\": \"null\",\n",
    "    \"point\": \"null\",\n",
    "    \"geometryMetadata\": {\n",
    "      \"precipSource\": \"nldas\"\n",
    "    },\n",
    "    \"timezone\": \"null\"\n",
    "  },\n",
    "  \"dataValueFormat\": \"E3\",\n",
    "  \"temporalResolution\": \"default\",\n",
    "  \"timeLocalized\": \"true\",\n",
    "  \"units\": \"default\",\n",
    "  \"outputFormat\": \"json\",\n",
    "  \"baseURL\": \"null\",\n",
    "  \"inputTimeSeries\": \"null\"\n",
    "}"
   ]
  },
  {
   "cell_type": "code",
   "execution_count": 9,
   "id": "e6060914",
   "metadata": {},
   "outputs": [],
   "source": [
    "import requests\n",
    "\n",
    "headers = {\n",
    "    'accept': '*/*',\n",
    "    'Content-Type': 'application/json-patch+json',\n",
    "}\n",
    "\n",
    "data = '{\"runoffSource\":\"nldas\",\"streamHydrology\":\"constant\",\"aggregation\":false,\"source\":\"streamflow\",\"dateTimeSpan\":{\"startDate\":\"2014-07-01T00:00:00\",\"endDate\":\"2014-07-31T00:00:00\",\"dateTimeFormat\":\"yyyy-MM-dd HH\"},\"geometry\":{\"description\":null,\"comID\":0,\"hucID\":\"030501030102\",\"stationID\":null,\"point\":null,\"geometryMetadata\":{\"precipSource\":\"nldas\"},\"timezone\":null},\"dataValueFormat\":\"E3\",\"temporalResolution\":\"default\",\"timeLocalized\":true,\"units\":\"default\",\"outputFormat\":\"json\",\"baseURL\":null,\"inputTimeSeries\":null}'\n",
    "\n",
    "response = requests.post('https://ceamdev.ceeopdev.net/hms/rest/api/workflow/watershed', headers=headers, data=data)"
   ]
  },
  {
   "cell_type": "code",
   "execution_count": 10,
   "id": "b7e6aa53",
   "metadata": {},
   "outputs": [
    {
     "name": "stdout",
     "output_type": "stream",
     "text": [
      "{'dataset': 'Precipitation, SurfaceRunoff, SubsurfaceRunoff, StreamHydrology', 'dataSource': 'nldas, nldas, nldas, constant', 'metadata': {'request_url': 'api/workflow/watershed', 'start_date': '07/01/2014 01:00:00', 'end_date': '08/08/2014 00:00:00', 'timestep': 'daily', 'errors': '', 'catchments': '9731358,9731344,9731340,9731296,9731492,9731288,9731484,9731260,9731474,9731478,9731256,9731486,9731252,9731254,9731240,9731488,9731490,9731496,9731348', 'connectivity_table_source': 'PlusFlowlineVAA', 'NHDPlus_url': 'http://www.horizon-systems.com/nhdplus/NHDPlusV2_data.php', 'Time_elapsed': '0.7019666666666666'}, 'data': {'9731358': {'Precipitation': {'dataset': 'Precipitation', 'dataSource': 'nldas', 'metadata': {'request_time': '11/30/2022 19:43:56', 'column_1': 'Date (GMT) (GMT)', 'column_2': 'Precipitation', 'units': 'mm', 'Precipitation_sum': '155.78900000000002', 'Precipitation_mean': '5.025', 'Precipitation_max': '48.3', 'Precipitation_standard_deviation': '11.642', 'Precipitation_variance': '135.527', 'Precipitation_median': '0.187', 'Precipitation_entropy': '3.566', 'Precipitation_geometric_mean': '0', 'Precipitation_skewness': '3.081', 'Precipitation_root_mean_square': '12.506', 'Precipitation_99_percentile': '48.3', 'Precipitation_99_percentile_count': '1', 'Precipitation_95_percentile': '43.575', 'Precipitation_95_percentile_count': '1', 'Precipitation_75_percentile': '3.598', 'Precipitation_75_percentile_count': '8', 'Precipitation_zero_count': '12', 'timeseries_timezone': 'GMT'}, 'data': {'07/01/2014': ['0.051'], '07/02/2014': ['0'], '07/03/2014': ['1.328'], '07/04/2014': ['11.12'], '07/05/2014': ['0'], '07/06/2014': ['0'], '07/07/2014': ['0'], '07/08/2014': ['0'], '07/09/2014': ['5.53'], '07/10/2014': ['0.187'], '07/11/2014': ['0.127'], '07/12/2014': ['0'], '07/13/2014': ['0'], '07/14/2014': ['0'], '07/15/2014': ['11'], '07/16/2014': ['18.3'], '07/17/2014': ['0'], '07/18/2014': ['0.001'], '07/19/2014': ['2.971'], '07/20/2014': ['1.466'], '07/21/2014': ['43.05'], '07/22/2014': ['1.046'], '07/23/2014': ['0.479'], '07/24/2014': ['48.3'], '07/25/2014': ['3.724'], '07/26/2014': ['0'], '07/27/2014': ['4.125'], '07/28/2014': ['2.705'], '07/29/2014': ['0'], '07/30/2014': ['0'], '07/31/2014': ['0.279']}}, 'SurfaceRunoff': {'dataset': 'Runoff', 'dataSource': 'nldas', 'metadata': {'request_time': '11/30/2022 19:43:56', 'column_1': 'Date (GMT) (GMT)', 'column_2': 'Runoff', 'units': 'mm', 'Runoff_sum': '19.435', 'Runoff_mean': '0.627', 'Runoff_max': '9.093', 'Runoff_standard_deviation': '1.932', 'Runoff_variance': '3.733', 'Runoff_median': '0', 'Runoff_entropy': '2.351', 'Runoff_geometric_mean': '0', 'Runoff_skewness': '3.744', 'Runoff_root_mean_square': '2.001', 'Runoff_99_percentile': '9.093', 'Runoff_99_percentile_count': '1', 'Runoff_95_percentile': '6.313', 'Runoff_95_percentile_count': '1', 'Runoff_75_percentile': '0.029', 'Runoff_75_percentile_count': '8', 'Runoff_zero_count': '19', 'timeseries_timezone': 'GMT'}, 'data': {'07/01/2014': ['0'], '07/02/2014': ['0'], '07/03/2014': ['0.002'], '07/04/2014': ['0.856'], '07/05/2014': ['0'], '07/06/2014': ['0'], '07/07/2014': ['0'], '07/08/2014': ['0'], '07/09/2014': ['0.145'], '07/10/2014': ['0'], '07/11/2014': ['0'], '07/12/2014': ['0'], '07/13/2014': ['0'], '07/14/2014': ['0'], '07/15/2014': ['1.352'], '07/16/2014': ['1.665'], '07/17/2014': ['0'], '07/18/2014': ['0'], '07/19/2014': ['0.004'], '07/20/2014': ['0.007'], '07/21/2014': ['6.004'], '07/22/2014': ['0.001'], '07/23/2014': ['0'], '07/24/2014': ['9.093'], '07/25/2014': ['0'], '07/26/2014': ['0'], '07/27/2014': ['0.273'], '07/28/2014': ['0.033'], '07/29/2014': ['0'], '07/30/2014': ['0'], '07/31/2014': ['0']}}, 'SubsurfaceRunoff': {'dataset': 'Baseflow', 'dataSource': 'nldas', 'metadata': {'request_time': '11/30/2022 19:43:56', 'column_1': 'Date (GMT) (GMT)', 'column_2': 'Baseflow', 'units': 'mm', 'Baseflow_sum': '1.8050000000000006', 'Baseflow_mean': '0.058', 'Baseflow_max': '0.109', 'Baseflow_standard_deviation': '0.029', 'Baseflow_variance': '0.001', 'Baseflow_median': '0.054', 'Baseflow_entropy': '4.454', 'Baseflow_geometric_mean': '0.051', 'Baseflow_skewness': '0.292', 'Baseflow_root_mean_square': '0.065', 'Baseflow_99_percentile': '0.109', 'Baseflow_99_percentile_count': '1', 'Baseflow_95_percentile': '0.108', 'Baseflow_95_percentile_count': '2', 'Baseflow_75_percentile': '0.087', 'Baseflow_75_percentile_count': '8', 'Baseflow_zero_count': '0', 'timeseries_timezone': 'GMT'}, 'data': {'07/01/2014': ['0.109'], '07/02/2014': ['0.108'], '07/03/2014': ['0.102'], '07/04/2014': ['0.096'], '07/05/2014': ['0.088'], '07/06/2014': ['0.08'], '07/07/2014': ['0.073'], '07/08/2014': ['0.066'], '07/09/2014': ['0.061'], '07/10/2014': ['0.058'], '07/11/2014': ['0.054'], '07/12/2014': ['0.049'], '07/13/2014': ['0.043'], '07/14/2014': ['0.04'], '07/15/2014': ['0.035'], '07/16/2014': ['0.033'], '07/17/2014': ['0.028'], '07/18/2014': ['0.026'], '07/19/2014': ['0.024'], '07/20/2014': ['0.024'], '07/21/2014': ['0.022'], '07/22/2014': ['0.024'], '07/23/2014': ['0.026'], '07/24/2014': ['0.028'], '07/25/2014': ['0.036'], '07/26/2014': ['0.054'], '07/27/2014': ['0.07'], '07/28/2014': ['0.082'], '07/29/2014': ['0.088'], '07/30/2014': ['0.09'], '07/31/2014': ['0.088']}}, 'StreamHydrology': {'dataset': 'Streamflow', 'dataSource': 'constant', 'metadata': {'request_time': '11/30/2022 19:43:56', 'column_1': 'Date (GMT)', 'column_2': 'Streamflow', 'units': 'm^3/sec'}, 'data': {'07/01/2014': ['1.66'], '07/02/2014': ['1.724'], '07/03/2014': ['5.796'], '07/04/2014': ['13.147'], '07/05/2014': ['1.743'], '07/06/2014': ['1.79'], '07/07/2014': ['1.837'], '07/08/2014': ['1.878'], '07/09/2014': ['4.186'], '07/10/2014': ['1.936'], '07/11/2014': ['1.952'], '07/12/2014': ['1.957'], '07/13/2014': ['1.955'], '07/14/2014': ['1.947'], '07/15/2014': ['4.689'], '07/16/2014': ['7.767'], '07/17/2014': ['1.901'], '07/18/2014': ['1.886'], '07/19/2014': ['1.896'], '07/20/2014': ['1.858'], '07/21/2014': ['11.021'], '07/22/2014': ['3.229'], '07/23/2014': ['1.826'], '07/24/2014': ['2.92'], '07/25/2014': ['2.165'], '07/26/2014': ['1.944'], '07/27/2014': ['2.21'], '07/28/2014': ['2.096'], '07/29/2014': ['2.072'], '07/30/2014': ['2.09'], '07/31/2014': ['2.098']}}}, '9731344': {'Precipitation': {'dataset': 'Precipitation', 'dataSource': 'nldas', 'metadata': {'request_time': '11/30/2022 19:43:56', 'column_1': 'Date (GMT) (GMT)', 'column_2': 'Precipitation', 'units': 'mm', 'Precipitation_sum': '155.78900000000002', 'Precipitation_mean': '5.025', 'Precipitation_max': '48.3', 'Precipitation_standard_deviation': '11.642', 'Precipitation_variance': '135.527', 'Precipitation_median': '0.187', 'Precipitation_entropy': '3.566', 'Precipitation_geometric_mean': '0', 'Precipitation_skewness': '3.081', 'Precipitation_root_mean_square': '12.506', 'Precipitation_99_percentile': '48.3', 'Precipitation_99_percentile_count': '1', 'Precipitation_95_percentile': '43.575', 'Precipitation_95_percentile_count': '1', 'Precipitation_75_percentile': '3.598', 'Precipitation_75_percentile_count': '8', 'Precipitation_zero_count': '12', 'timeseries_timezone': 'GMT'}, 'data': {'07/01/2014': ['0.051'], '07/02/2014': ['0'], '07/03/2014': ['1.328'], '07/04/2014': ['11.12'], '07/05/2014': ['0'], '07/06/2014': ['0'], '07/07/2014': ['0'], '07/08/2014': ['0'], '07/09/2014': ['5.53'], '07/10/2014': ['0.187'], '07/11/2014': ['0.127'], '07/12/2014': ['0'], '07/13/2014': ['0'], '07/14/2014': ['0'], '07/15/2014': ['11'], '07/16/2014': ['18.3'], '07/17/2014': ['0'], '07/18/2014': ['0.001'], '07/19/2014': ['2.971'], '07/20/2014': ['1.466'], '07/21/2014': ['43.05'], '07/22/2014': ['1.046'], '07/23/2014': ['0.479'], '07/24/2014': ['48.3'], '07/25/2014': ['3.724'], '07/26/2014': ['0'], '07/27/2014': ['4.125'], '07/28/2014': ['2.705'], '07/29/2014': ['0'], '07/30/2014': ['0'], '07/31/2014': ['0.279']}}, 'SurfaceRunoff': {'dataset': 'Runoff', 'dataSource': 'nldas', 'metadata': {'request_time': '11/30/2022 19:43:56', 'column_1': 'Date (GMT) (GMT)', 'column_2': 'Runoff', 'units': 'mm', 'Runoff_sum': '19.435', 'Runoff_mean': '0.627', 'Runoff_max': '9.093', 'Runoff_standard_deviation': '1.932', 'Runoff_variance': '3.733', 'Runoff_median': '0', 'Runoff_entropy': '2.351', 'Runoff_geometric_mean': '0', 'Runoff_skewness': '3.744', 'Runoff_root_mean_square': '2.001', 'Runoff_99_percentile': '9.093', 'Runoff_99_percentile_count': '1', 'Runoff_95_percentile': '6.313', 'Runoff_95_percentile_count': '1', 'Runoff_75_percentile': '0.029', 'Runoff_75_percentile_count': '8', 'Runoff_zero_count': '19', 'timeseries_timezone': 'GMT'}, 'data': {'07/01/2014': ['0'], '07/02/2014': ['0'], '07/03/2014': ['0.002'], '07/04/2014': ['0.856'], '07/05/2014': ['0'], '07/06/2014': ['0'], '07/07/2014': ['0'], '07/08/2014': ['0'], '07/09/2014': ['0.145'], '07/10/2014': ['0'], '07/11/2014': ['0'], '07/12/2014': ['0'], '07/13/2014': ['0'], '07/14/2014': ['0'], '07/15/2014': ['1.352'], '07/16/2014': ['1.665'], '07/17/2014': ['0'], '07/18/2014': ['0'], '07/19/2014': ['0.004'], '07/20/2014': ['0.007'], '07/21/2014': ['6.004'], '07/22/2014': ['0.001'], '07/23/2014': ['0'], '07/24/2014': ['9.093'], '07/25/2014': ['0'], '07/26/2014': ['0'], '07/27/2014': ['0.273'], '07/28/2014': ['0.033'], '07/29/2014': ['0'], '07/30/2014': ['0'], '07/31/2014': ['0']}}, 'SubsurfaceRunoff': {'dataset': 'Baseflow', 'dataSource': 'nldas', 'metadata': {'request_time': '11/30/2022 19:43:56', 'column_1': 'Date (GMT) (GMT)', 'column_2': 'Baseflow', 'units': 'mm', 'Baseflow_sum': '1.8050000000000006', 'Baseflow_mean': '0.058', 'Baseflow_max': '0.109', 'Baseflow_standard_deviation': '0.029', 'Baseflow_variance': '0.001', 'Baseflow_median': '0.054', 'Baseflow_entropy': '4.454', 'Baseflow_geometric_mean': '0.051', 'Baseflow_skewness': '0.292', 'Baseflow_root_mean_square': '0.065', 'Baseflow_99_percentile': '0.109', 'Baseflow_99_percentile_count': '1', 'Baseflow_95_percentile': '0.108', 'Baseflow_95_percentile_count': '2', 'Baseflow_75_percentile': '0.087', 'Baseflow_75_percentile_count': '8', 'Baseflow_zero_count': '0', 'timeseries_timezone': 'GMT'}, 'data': {'07/01/2014': ['0.109'], '07/02/2014': ['0.108'], '07/03/2014': ['0.102'], '07/04/2014': ['0.096'], '07/05/2014': ['0.088'], '07/06/2014': ['0.08'], '07/07/2014': ['0.073'], '07/08/2014': ['0.066'], '07/09/2014': ['0.061'], '07/10/2014': ['0.058'], '07/11/2014': ['0.054'], '07/12/2014': ['0.049'], '07/13/2014': ['0.043'], '07/14/2014': ['0.04'], '07/15/2014': ['0.035'], '07/16/2014': ['0.033'], '07/17/2014': ['0.028'], '07/18/2014': ['0.026'], '07/19/2014': ['0.024'], '07/20/2014': ['0.024'], '07/21/2014': ['0.022'], '07/22/2014': ['0.024'], '07/23/2014': ['0.026'], '07/24/2014': ['0.028'], '07/25/2014': ['0.036'], '07/26/2014': ['0.054'], '07/27/2014': ['0.07'], '07/28/2014': ['0.082'], '07/29/2014': ['0.088'], '07/30/2014': ['0.09'], '07/31/2014': ['0.088']}}, 'StreamHydrology': {'dataset': 'Streamflow', 'dataSource': 'constant', 'metadata': {'request_time': '11/30/2022 19:43:56', 'column_1': 'Date (GMT)', 'column_2': 'Streamflow', 'units': 'm^3/sec'}, 'data': {'07/01/2014': ['0.829'], '07/02/2014': ['0.861'], '07/03/2014': ['2.897'], '07/04/2014': ['6.563'], '07/05/2014': ['0.87'], '07/06/2014': ['0.894'], '07/07/2014': ['0.918'], '07/08/2014': ['0.938'], '07/09/2014': ['2.091'], '07/10/2014': ['0.967'], '07/11/2014': ['0.975'], '07/12/2014': ['0.978'], '07/13/2014': ['0.977'], '07/14/2014': ['0.973'], '07/15/2014': ['2.329'], '07/16/2014': ['3.865'], '07/17/2014': ['0.95'], '07/18/2014': ['0.943'], '07/19/2014': ['0.948'], '07/20/2014': ['0.929'], '07/21/2014': ['5.446'], '07/22/2014': ['1.614'], '07/23/2014': ['0.913'], '07/24/2014': ['1.362'], '07/25/2014': ['1.082'], '07/26/2014': ['0.971'], '07/27/2014': ['1.101'], '07/28/2014': ['1.047'], '07/29/2014': ['1.035'], '07/30/2014': ['1.044'], '07/31/2014': ['1.048']}}}, '9731340': {'Precipitation': {'dataset': 'Precipitation', 'dataSource': 'nldas', 'metadata': {'request_time': '11/30/2022 19:43:56', 'column_1': 'Date (GMT) (GMT)', 'column_2': 'Precipitation', 'units': 'mm', 'Precipitation_sum': '157.54900000000004', 'Precipitation_mean': '5.082', 'Precipitation_max': '33.78', 'Precipitation_standard_deviation': '9.265', 'Precipitation_variance': '85.847', 'Precipitation_median': '0.085', 'Precipitation_entropy': '3.566', 'Precipitation_geometric_mean': '0', 'Precipitation_skewness': '1.868', 'Precipitation_root_mean_square': '10.436', 'Precipitation_99_percentile': '33.78', 'Precipitation_99_percentile_count': '1', 'Precipitation_95_percentile': '25.689', 'Precipitation_95_percentile_count': '1', 'Precipitation_75_percentile': '3.254', 'Precipitation_75_percentile_count': '8', 'Precipitation_zero_count': '12', 'timeseries_timezone': 'GMT'}, 'data': {'07/01/2014': ['0.625'], '07/02/2014': ['0'], '07/03/2014': ['3.803'], '07/04/2014': ['20.8'], '07/05/2014': ['0'], '07/06/2014': ['0'], '07/07/2014': ['0.017'], '07/08/2014': ['0'], '07/09/2014': ['18.82'], '07/10/2014': ['0.085'], '07/11/2014': ['0.061'], '07/12/2014': ['0'], '07/13/2014': ['0'], '07/14/2014': ['0'], '07/15/2014': ['20.56'], '07/16/2014': ['24.79'], '07/17/2014': ['0'], '07/18/2014': ['0'], '07/19/2014': ['2.9'], '07/20/2014': ['1.512'], '07/21/2014': ['33.78'], '07/22/2014': ['1.827'], '07/23/2014': ['0.437'], '07/24/2014': ['18.88'], '07/25/2014': ['3.274'], '07/26/2014': ['0'], '07/27/2014': ['3.153'], '07/28/2014': ['2.175'], '07/29/2014': ['0'], '07/30/2014': ['0'], '07/31/2014': ['0.05']}}, 'SurfaceRunoff': {'dataset': 'Runoff', 'dataSource': 'nldas', 'metadata': {'request_time': '11/30/2022 19:43:56', 'column_1': 'Date (GMT) (GMT)', 'column_2': 'Runoff', 'units': 'mm', 'Runoff_sum': '19.211', 'Runoff_mean': '0.62', 'Runoff_max': '4.466', 'Runoff_standard_deviation': '1.343', 'Runoff_variance': '1.805', 'Runoff_median': '0', 'Runoff_entropy': '2.89', 'Runoff_geometric_mean': '0', 'Runoff_skewness': '2.057', 'Runoff_root_mean_square': '1.46', 'Runoff_99_percentile': '4.466', 'Runoff_99_percentile_count': '1', 'Runoff_95_percentile': '4.07', 'Runoff_95_percentile_count': '1', 'Runoff_75_percentile': '0.09', 'Runoff_75_percentile_count': '8', 'Runoff_zero_count': '16', 'timeseries_timezone': 'GMT'}, 'data': {'07/01/2014': ['0.009'], '07/02/2014': ['0'], '07/03/2014': ['0.078'], '07/04/2014': ['4.466'], '07/05/2014': ['0'], '07/06/2014': ['0'], '07/07/2014': ['0'], '07/08/2014': ['0'], '07/09/2014': ['1.675'], '07/10/2014': ['0'], '07/11/2014': ['0'], '07/12/2014': ['0'], '07/13/2014': ['0'], '07/14/2014': ['0'], '07/15/2014': ['3.623'], '07/16/2014': ['3.311'], '07/17/2014': ['0'], '07/18/2014': ['0'], '07/19/2014': ['0.005'], '07/20/2014': ['0.01'], '07/21/2014': ['4.026'], '07/22/2014': ['0.008'], '07/23/2014': ['0.004'], '07/24/2014': ['1.72'], '07/25/2014': ['0.093'], '07/26/2014': ['0'], '07/27/2014': ['0.159'], '07/28/2014': ['0.024'], '07/29/2014': ['0'], '07/30/2014': ['0'], '07/31/2014': ['0']}}, 'SubsurfaceRunoff': {'dataset': 'Baseflow', 'dataSource': 'nldas', 'metadata': {'request_time': '11/30/2022 19:43:56', 'column_1': 'Date (GMT) (GMT)', 'column_2': 'Baseflow', 'units': 'mm', 'Baseflow_sum': '3.371', 'Baseflow_mean': '0.109', 'Baseflow_max': '0.201', 'Baseflow_standard_deviation': '0.044', 'Baseflow_variance': '0.002', 'Baseflow_median': '0.094', 'Baseflow_entropy': '4.825', 'Baseflow_geometric_mean': '0.101', 'Baseflow_skewness': '1.093', 'Baseflow_root_mean_square': '0.117', 'Baseflow_99_percentile': '0.201', 'Baseflow_99_percentile_count': '1', 'Baseflow_95_percentile': '0.198', 'Baseflow_95_percentile_count': '2', 'Baseflow_75_percentile': '0.119', 'Baseflow_75_percentile_count': '8', 'Baseflow_zero_count': '0', 'timeseries_timezone': 'GMT'}, 'data': {'07/01/2014': ['0.118'], '07/02/2014': ['0.116'], '07/03/2014': ['0.111'], '07/04/2014': ['0.107'], '07/05/2014': ['0.102'], '07/06/2014': ['0.098'], '07/07/2014': ['0.094'], '07/08/2014': ['0.09'], '07/09/2014': ['0.086'], '07/10/2014': ['0.085'], '07/11/2014': ['0.083'], '07/12/2014': ['0.078'], '07/13/2014': ['0.073'], '07/14/2014': ['0.07'], '07/15/2014': ['0.066'], '07/16/2014': ['0.064'], '07/17/2014': ['0.064'], '07/18/2014': ['0.066'], '07/19/2014': ['0.069'], '07/20/2014': ['0.074'], '07/21/2014': ['0.077'], '07/22/2014': ['0.087'], '07/23/2014': ['0.103'], '07/24/2014': ['0.119'], '07/25/2014': ['0.139'], '07/26/2014': ['0.163'], '07/27/2014': ['0.182'], '07/28/2014': ['0.196'], '07/29/2014': ['0.201'], '07/30/2014': ['0.198'], '07/31/2014': ['0.192']}}, 'StreamHydrology': {'dataset': 'Streamflow', 'dataSource': 'constant', 'metadata': {'request_time': '11/30/2022 19:43:56', 'column_1': 'Date (GMT)', 'column_2': 'Streamflow', 'units': 'm^3/sec'}, 'data': {'07/01/2014': ['0.829'], '07/02/2014': ['0.861'], '07/03/2014': ['2.897'], '07/04/2014': ['6.563'], '07/05/2014': ['0.87'], '07/06/2014': ['0.894'], '07/07/2014': ['0.918'], '07/08/2014': ['0.938'], '07/09/2014': ['2.091'], '07/10/2014': ['0.967'], '07/11/2014': ['0.975'], '07/12/2014': ['0.978'], '07/13/2014': ['0.977'], '07/14/2014': ['0.973'], '07/15/2014': ['2.329'], '07/16/2014': ['3.865'], '07/17/2014': ['0.95'], '07/18/2014': ['0.943'], '07/19/2014': ['0.948'], '07/20/2014': ['0.929'], '07/21/2014': ['5.445'], '07/22/2014': ['1.614'], '07/23/2014': ['0.913'], '07/24/2014': ['1.361'], '07/25/2014': ['1.082'], '07/26/2014': ['0.971'], '07/27/2014': ['1.101'], '07/28/2014': ['1.047'], '07/29/2014': ['1.035'], '07/30/2014': ['1.044'], '07/31/2014': ['1.048']}}}, '9731296': {'Precipitation': {'dataset': 'Precipitation', 'dataSource': 'nldas', 'metadata': {'request_time': '11/30/2022 19:43:56', 'column_1': 'Date (GMT) (GMT)', 'column_2': 'Precipitation', 'units': 'mm', 'Precipitation_sum': '111.13300000000001', 'Precipitation_mean': '3.585', 'Precipitation_max': '22.85', 'Precipitation_standard_deviation': '6.235', 'Precipitation_variance': '38.874', 'Precipitation_median': '0.067', 'Precipitation_entropy': '3.566', 'Precipitation_geometric_mean': '0', 'Precipitation_skewness': '1.96', 'Precipitation_root_mean_square': '7.104', 'Precipitation_99_percentile': '22.85', 'Precipitation_99_percentile_count': '1', 'Precipitation_95_percentile': '20.564', 'Precipitation_95_percentile_count': '1', 'Precipitation_75_percentile': '4.171', 'Precipitation_75_percentile_count': '8', 'Precipitation_zero_count': '12', 'timeseries_timezone': 'GMT'}, 'data': {'07/01/2014': ['0.215'], '07/02/2014': ['0'], '07/03/2014': ['11.85'], '07/04/2014': ['20.31'], '07/05/2014': ['0'], '07/06/2014': ['0'], '07/07/2014': ['0'], '07/08/2014': ['0.003'], '07/09/2014': ['10.64'], '07/10/2014': ['0.067'], '07/11/2014': ['0.032'], '07/12/2014': ['0'], '07/13/2014': ['0'], '07/14/2014': ['0'], '07/15/2014': ['5.968'], '07/16/2014': ['14.19'], '07/17/2014': ['0'], '07/18/2014': ['0'], '07/19/2014': ['3.328'], '07/20/2014': ['0.354'], '07/21/2014': ['22.85'], '07/22/2014': ['9.652'], '07/23/2014': ['0.412'], '07/24/2014': ['4.34'], '07/25/2014': ['2.546'], '07/26/2014': ['0'], '07/27/2014': ['2.282'], '07/28/2014': ['2.072'], '07/29/2014': ['0'], '07/30/2014': ['0'], '07/31/2014': ['0.022']}}, 'SurfaceRunoff': {'dataset': 'Runoff', 'dataSource': 'nldas', 'metadata': {'request_time': '11/30/2022 19:43:56', 'column_1': 'Date (GMT) (GMT)', 'column_2': 'Runoff', 'units': 'mm', 'Runoff_sum': '11.332000000000003', 'Runoff_mean': '0.366', 'Runoff_max': '3.432', 'Runoff_standard_deviation': '0.849', 'Runoff_variance': '0.721', 'Runoff_median': '0', 'Runoff_entropy': '2.351', 'Runoff_geometric_mean': '0', 'Runoff_skewness': '2.655', 'Runoff_root_mean_square': '0.912', 'Runoff_99_percentile': '3.432', 'Runoff_99_percentile_count': '1', 'Runoff_95_percentile': '2.822', 'Runoff_95_percentile_count': '1', 'Runoff_75_percentile': '0.098', 'Runoff_75_percentile_count': '8', 'Runoff_zero_count': '19', 'timeseries_timezone': 'GMT'}, 'data': {'07/01/2014': ['0'], '07/02/2014': ['0'], '07/03/2014': ['1.714'], '07/04/2014': ['3.432'], '07/05/2014': ['0'], '07/06/2014': ['0'], '07/07/2014': ['0'], '07/08/2014': ['0'], '07/09/2014': ['0.733'], '07/10/2014': ['0'], '07/11/2014': ['0'], '07/12/2014': ['0'], '07/13/2014': ['0'], '07/14/2014': ['0'], '07/15/2014': ['0.208'], '07/16/2014': ['1.554'], '07/17/2014': ['0'], '07/18/2014': ['0'], '07/19/2014': ['0.008'], '07/20/2014': ['0'], '07/21/2014': ['2.754'], '07/22/2014': ['0.665'], '07/23/2014': ['0'], '07/24/2014': ['0.086'], '07/25/2014': ['0.1'], '07/26/2014': ['0'], '07/27/2014': ['0.063'], '07/28/2014': ['0.015'], '07/29/2014': ['0'], '07/30/2014': ['0'], '07/31/2014': ['0']}}, 'SubsurfaceRunoff': {'dataset': 'Baseflow', 'dataSource': 'nldas', 'metadata': {'request_time': '11/30/2022 19:43:56', 'column_1': 'Date (GMT) (GMT)', 'column_2': 'Baseflow', 'units': 'mm', 'Baseflow_sum': '27.365', 'Baseflow_mean': '0.883', 'Baseflow_max': '0.971', 'Baseflow_standard_deviation': '0.052', 'Baseflow_variance': '0.003', 'Baseflow_median': '0.891', 'Baseflow_entropy': '4.761', 'Baseflow_geometric_mean': '0.881', 'Baseflow_skewness': '-0.512', 'Baseflow_root_mean_square': '0.884', 'Baseflow_99_percentile': '0.971', 'Baseflow_99_percentile_count': '1', 'Baseflow_95_percentile': '0.966', 'Baseflow_95_percentile_count': '1', 'Baseflow_75_percentile': '0.919', 'Baseflow_75_percentile_count': '8', 'Baseflow_zero_count': '0', 'timeseries_timezone': 'GMT'}, 'data': {'07/01/2014': ['0.764'], '07/02/2014': ['0.797'], '07/03/2014': ['0.796'], '07/04/2014': ['0.796'], '07/05/2014': ['0.811'], '07/06/2014': ['0.834'], '07/07/2014': ['0.858'], '07/08/2014': ['0.88'], '07/09/2014': ['0.896'], '07/10/2014': ['0.909'], '07/11/2014': ['0.917'], '07/12/2014': ['0.921'], '07/13/2014': ['0.922'], '07/14/2014': ['0.919'], '07/15/2014': ['0.914'], '07/16/2014': ['0.906'], '07/17/2014': ['0.899'], '07/18/2014': ['0.891'], '07/19/2014': ['0.883'], '07/20/2014': ['0.875'], '07/21/2014': ['0.865'], '07/22/2014': ['0.857'], '07/23/2014': ['0.855'], '07/24/2014': ['0.864'], '07/25/2014': ['0.88'], '07/26/2014': ['0.901'], '07/27/2014': ['0.922'], '07/28/2014': ['0.941'], '07/29/2014': ['0.956'], '07/30/2014': ['0.965'], '07/31/2014': ['0.971']}}, 'StreamHydrology': {'dataset': 'Streamflow', 'dataSource': 'constant', 'metadata': {'request_time': '11/30/2022 19:43:56', 'column_1': 'Date (GMT)', 'column_2': 'Streamflow', 'units': 'm^3/sec'}, 'data': {'07/01/2014': ['0.788'], '07/02/2014': ['0.821'], '07/03/2014': ['2.804'], '07/04/2014': ['5.624'], '07/05/2014': ['0.833'], '07/06/2014': ['0.856'], '07/07/2014': ['0.881'], '07/08/2014': ['0.901'], '07/09/2014': ['1.729'], '07/10/2014': ['0.931'], '07/11/2014': ['0.939'], '07/12/2014': ['0.942'], '07/13/2014': ['0.942'], '07/14/2014': ['0.939'], '07/15/2014': ['1.625'], '07/16/2014': ['3.187'], '07/17/2014': ['0.918'], '07/18/2014': ['0.91'], '07/19/2014': ['0.913'], '07/20/2014': ['0.893'], '07/21/2014': ['4.607'], '07/22/2014': ['1.562'], '07/23/2014': ['0.873'], '07/24/2014': ['1.001'], '07/25/2014': ['1.016'], '07/26/2014': ['0.92'], '07/27/2014': ['1.015'], '07/28/2014': ['0.984'], '07/29/2014': ['0.976'], '07/30/2014': ['0.985'], '07/31/2014': ['0.99']}}}, '9731492': {'Precipitation': {'dataset': 'Precipitation', 'dataSource': 'nldas', 'metadata': {'request_time': '11/30/2022 19:43:56', 'column_1': 'Date (GMT) (GMT)', 'column_2': 'Precipitation', 'units': 'mm', 'Precipitation_sum': '111.13300000000001', 'Precipitation_mean': '3.585', 'Precipitation_max': '22.85', 'Precipitation_standard_deviation': '6.235', 'Precipitation_variance': '38.874', 'Precipitation_median': '0.067', 'Precipitation_entropy': '3.566', 'Precipitation_geometric_mean': '0', 'Precipitation_skewness': '1.96', 'Precipitation_root_mean_square': '7.104', 'Precipitation_99_percentile': '22.85', 'Precipitation_99_percentile_count': '1', 'Precipitation_95_percentile': '20.564', 'Precipitation_95_percentile_count': '1', 'Precipitation_75_percentile': '4.171', 'Precipitation_75_percentile_count': '8', 'Precipitation_zero_count': '12', 'timeseries_timezone': 'GMT'}, 'data': {'07/01/2014': ['0.215'], '07/02/2014': ['0'], '07/03/2014': ['11.85'], '07/04/2014': ['20.31'], '07/05/2014': ['0'], '07/06/2014': ['0'], '07/07/2014': ['0'], '07/08/2014': ['0.003'], '07/09/2014': ['10.64'], '07/10/2014': ['0.067'], '07/11/2014': ['0.032'], '07/12/2014': ['0'], '07/13/2014': ['0'], '07/14/2014': ['0'], '07/15/2014': ['5.968'], '07/16/2014': ['14.19'], '07/17/2014': ['0'], '07/18/2014': ['0'], '07/19/2014': ['3.328'], '07/20/2014': ['0.354'], '07/21/2014': ['22.85'], '07/22/2014': ['9.652'], '07/23/2014': ['0.412'], '07/24/2014': ['4.34'], '07/25/2014': ['2.546'], '07/26/2014': ['0'], '07/27/2014': ['2.282'], '07/28/2014': ['2.072'], '07/29/2014': ['0'], '07/30/2014': ['0'], '07/31/2014': ['0.022']}}, 'SurfaceRunoff': {'dataset': 'Runoff', 'dataSource': 'nldas', 'metadata': {'request_time': '11/30/2022 19:43:56', 'column_1': 'Date (GMT) (GMT)', 'column_2': 'Runoff', 'units': 'mm', 'Runoff_sum': '11.332000000000003', 'Runoff_mean': '0.366', 'Runoff_max': '3.432', 'Runoff_standard_deviation': '0.849', 'Runoff_variance': '0.721', 'Runoff_median': '0', 'Runoff_entropy': '2.351', 'Runoff_geometric_mean': '0', 'Runoff_skewness': '2.655', 'Runoff_root_mean_square': '0.912', 'Runoff_99_percentile': '3.432', 'Runoff_99_percentile_count': '1', 'Runoff_95_percentile': '2.822', 'Runoff_95_percentile_count': '1', 'Runoff_75_percentile': '0.098', 'Runoff_75_percentile_count': '8', 'Runoff_zero_count': '19', 'timeseries_timezone': 'GMT'}, 'data': {'07/01/2014': ['0'], '07/02/2014': ['0'], '07/03/2014': ['1.714'], '07/04/2014': ['3.432'], '07/05/2014': ['0'], '07/06/2014': ['0'], '07/07/2014': ['0'], '07/08/2014': ['0'], '07/09/2014': ['0.733'], '07/10/2014': ['0'], '07/11/2014': ['0'], '07/12/2014': ['0'], '07/13/2014': ['0'], '07/14/2014': ['0'], '07/15/2014': ['0.208'], '07/16/2014': ['1.554'], '07/17/2014': ['0'], '07/18/2014': ['0'], '07/19/2014': ['0.008'], '07/20/2014': ['0'], '07/21/2014': ['2.754'], '07/22/2014': ['0.665'], '07/23/2014': ['0'], '07/24/2014': ['0.086'], '07/25/2014': ['0.1'], '07/26/2014': ['0'], '07/27/2014': ['0.063'], '07/28/2014': ['0.015'], '07/29/2014': ['0'], '07/30/2014': ['0'], '07/31/2014': ['0']}}, 'SubsurfaceRunoff': {'dataset': 'Baseflow', 'dataSource': 'nldas', 'metadata': {'request_time': '11/30/2022 19:43:56', 'column_1': 'Date (GMT) (GMT)', 'column_2': 'Baseflow', 'units': 'mm', 'Baseflow_sum': '27.365', 'Baseflow_mean': '0.883', 'Baseflow_max': '0.971', 'Baseflow_standard_deviation': '0.052', 'Baseflow_variance': '0.003', 'Baseflow_median': '0.891', 'Baseflow_entropy': '4.761', 'Baseflow_geometric_mean': '0.881', 'Baseflow_skewness': '-0.512', 'Baseflow_root_mean_square': '0.884', 'Baseflow_99_percentile': '0.971', 'Baseflow_99_percentile_count': '1', 'Baseflow_95_percentile': '0.966', 'Baseflow_95_percentile_count': '1', 'Baseflow_75_percentile': '0.919', 'Baseflow_75_percentile_count': '8', 'Baseflow_zero_count': '0', 'timeseries_timezone': 'GMT'}, 'data': {'07/01/2014': ['0.764'], '07/02/2014': ['0.797'], '07/03/2014': ['0.796'], '07/04/2014': ['0.796'], '07/05/2014': ['0.811'], '07/06/2014': ['0.834'], '07/07/2014': ['0.858'], '07/08/2014': ['0.88'], '07/09/2014': ['0.896'], '07/10/2014': ['0.909'], '07/11/2014': ['0.917'], '07/12/2014': ['0.921'], '07/13/2014': ['0.922'], '07/14/2014': ['0.919'], '07/15/2014': ['0.914'], '07/16/2014': ['0.906'], '07/17/2014': ['0.899'], '07/18/2014': ['0.891'], '07/19/2014': ['0.883'], '07/20/2014': ['0.875'], '07/21/2014': ['0.865'], '07/22/2014': ['0.857'], '07/23/2014': ['0.855'], '07/24/2014': ['0.864'], '07/25/2014': ['0.88'], '07/26/2014': ['0.901'], '07/27/2014': ['0.922'], '07/28/2014': ['0.941'], '07/29/2014': ['0.956'], '07/30/2014': ['0.965'], '07/31/2014': ['0.971']}}, 'StreamHydrology': {'dataset': 'Streamflow', 'dataSource': 'constant', 'metadata': {'request_time': '11/30/2022 19:43:56', 'column_1': 'Date (GMT)', 'column_2': 'Streamflow', 'units': 'm^3/sec'}, 'data': {'07/01/2014': ['0.734'], '07/02/2014': ['0.765'], '07/03/2014': ['2.627'], '07/04/2014': ['5.327'], '07/05/2014': ['0.776'], '07/06/2014': ['0.798'], '07/07/2014': ['0.82'], '07/08/2014': ['0.84'], '07/09/2014': ['1.615'], '07/10/2014': ['0.867'], '07/11/2014': ['0.874'], '07/12/2014': ['0.878'], '07/13/2014': ['0.878'], '07/14/2014': ['0.874'], '07/15/2014': ['1.546'], '07/16/2014': ['3.015'], '07/17/2014': ['0.855'], '07/18/2014': ['0.847'], '07/19/2014': ['0.851'], '07/20/2014': ['0.831'], '07/21/2014': ['4.353'], '07/22/2014': ['1.455'], '07/23/2014': ['0.813'], '07/24/2014': ['0.935'], '07/25/2014': ['0.948'], '07/26/2014': ['0.857'], '07/27/2014': ['0.946'], '07/28/2014': ['0.917'], '07/29/2014': ['0.909'], '07/30/2014': ['0.918'], '07/31/2014': ['0.922']}}}, '9731288': {'Precipitation': {'dataset': 'Precipitation', 'dataSource': 'nldas', 'metadata': {'request_time': '11/30/2022 19:43:56', 'column_1': 'Date (GMT) (GMT)', 'column_2': 'Precipitation', 'units': 'mm', 'Precipitation_sum': '111.13300000000001', 'Precipitation_mean': '3.585', 'Precipitation_max': '22.85', 'Precipitation_standard_deviation': '6.235', 'Precipitation_variance': '38.874', 'Precipitation_median': '0.067', 'Precipitation_entropy': '3.566', 'Precipitation_geometric_mean': '0', 'Precipitation_skewness': '1.96', 'Precipitation_root_mean_square': '7.104', 'Precipitation_99_percentile': '22.85', 'Precipitation_99_percentile_count': '1', 'Precipitation_95_percentile': '20.564', 'Precipitation_95_percentile_count': '1', 'Precipitation_75_percentile': '4.171', 'Precipitation_75_percentile_count': '8', 'Precipitation_zero_count': '12', 'timeseries_timezone': 'GMT'}, 'data': {'07/01/2014': ['0.215'], '07/02/2014': ['0'], '07/03/2014': ['11.85'], '07/04/2014': ['20.31'], '07/05/2014': ['0'], '07/06/2014': ['0'], '07/07/2014': ['0'], '07/08/2014': ['0.003'], '07/09/2014': ['10.64'], '07/10/2014': ['0.067'], '07/11/2014': ['0.032'], '07/12/2014': ['0'], '07/13/2014': ['0'], '07/14/2014': ['0'], '07/15/2014': ['5.968'], '07/16/2014': ['14.19'], '07/17/2014': ['0'], '07/18/2014': ['0'], '07/19/2014': ['3.328'], '07/20/2014': ['0.354'], '07/21/2014': ['22.85'], '07/22/2014': ['9.652'], '07/23/2014': ['0.412'], '07/24/2014': ['4.34'], '07/25/2014': ['2.546'], '07/26/2014': ['0'], '07/27/2014': ['2.282'], '07/28/2014': ['2.072'], '07/29/2014': ['0'], '07/30/2014': ['0'], '07/31/2014': ['0.022']}}, 'SurfaceRunoff': {'dataset': 'Runoff', 'dataSource': 'nldas', 'metadata': {'request_time': '11/30/2022 19:43:56', 'column_1': 'Date (GMT) (GMT)', 'column_2': 'Runoff', 'units': 'mm', 'Runoff_sum': '11.332000000000003', 'Runoff_mean': '0.366', 'Runoff_max': '3.432', 'Runoff_standard_deviation': '0.849', 'Runoff_variance': '0.721', 'Runoff_median': '0', 'Runoff_entropy': '2.351', 'Runoff_geometric_mean': '0', 'Runoff_skewness': '2.655', 'Runoff_root_mean_square': '0.912', 'Runoff_99_percentile': '3.432', 'Runoff_99_percentile_count': '1', 'Runoff_95_percentile': '2.822', 'Runoff_95_percentile_count': '1', 'Runoff_75_percentile': '0.098', 'Runoff_75_percentile_count': '8', 'Runoff_zero_count': '19', 'timeseries_timezone': 'GMT'}, 'data': {'07/01/2014': ['0'], '07/02/2014': ['0'], '07/03/2014': ['1.714'], '07/04/2014': ['3.432'], '07/05/2014': ['0'], '07/06/2014': ['0'], '07/07/2014': ['0'], '07/08/2014': ['0'], '07/09/2014': ['0.733'], '07/10/2014': ['0'], '07/11/2014': ['0'], '07/12/2014': ['0'], '07/13/2014': ['0'], '07/14/2014': ['0'], '07/15/2014': ['0.208'], '07/16/2014': ['1.554'], '07/17/2014': ['0'], '07/18/2014': ['0'], '07/19/2014': ['0.008'], '07/20/2014': ['0'], '07/21/2014': ['2.754'], '07/22/2014': ['0.665'], '07/23/2014': ['0'], '07/24/2014': ['0.086'], '07/25/2014': ['0.1'], '07/26/2014': ['0'], '07/27/2014': ['0.063'], '07/28/2014': ['0.015'], '07/29/2014': ['0'], '07/30/2014': ['0'], '07/31/2014': ['0']}}, 'SubsurfaceRunoff': {'dataset': 'Baseflow', 'dataSource': 'nldas', 'metadata': {'request_time': '11/30/2022 19:43:56', 'column_1': 'Date (GMT) (GMT)', 'column_2': 'Baseflow', 'units': 'mm', 'Baseflow_sum': '27.365', 'Baseflow_mean': '0.883', 'Baseflow_max': '0.971', 'Baseflow_standard_deviation': '0.052', 'Baseflow_variance': '0.003', 'Baseflow_median': '0.891', 'Baseflow_entropy': '4.761', 'Baseflow_geometric_mean': '0.881', 'Baseflow_skewness': '-0.512', 'Baseflow_root_mean_square': '0.884', 'Baseflow_99_percentile': '0.971', 'Baseflow_99_percentile_count': '1', 'Baseflow_95_percentile': '0.966', 'Baseflow_95_percentile_count': '1', 'Baseflow_75_percentile': '0.919', 'Baseflow_75_percentile_count': '8', 'Baseflow_zero_count': '0', 'timeseries_timezone': 'GMT'}, 'data': {'07/01/2014': ['0.764'], '07/02/2014': ['0.797'], '07/03/2014': ['0.796'], '07/04/2014': ['0.796'], '07/05/2014': ['0.811'], '07/06/2014': ['0.834'], '07/07/2014': ['0.858'], '07/08/2014': ['0.88'], '07/09/2014': ['0.896'], '07/10/2014': ['0.909'], '07/11/2014': ['0.917'], '07/12/2014': ['0.921'], '07/13/2014': ['0.922'], '07/14/2014': ['0.919'], '07/15/2014': ['0.914'], '07/16/2014': ['0.906'], '07/17/2014': ['0.899'], '07/18/2014': ['0.891'], '07/19/2014': ['0.883'], '07/20/2014': ['0.875'], '07/21/2014': ['0.865'], '07/22/2014': ['0.857'], '07/23/2014': ['0.855'], '07/24/2014': ['0.864'], '07/25/2014': ['0.88'], '07/26/2014': ['0.901'], '07/27/2014': ['0.922'], '07/28/2014': ['0.941'], '07/29/2014': ['0.956'], '07/30/2014': ['0.965'], '07/31/2014': ['0.971']}}, 'StreamHydrology': {'dataset': 'Streamflow', 'dataSource': 'constant', 'metadata': {'request_time': '11/30/2022 19:43:56', 'column_1': 'Date (GMT)', 'column_2': 'Streamflow', 'units': 'm^3/sec'}, 'data': {'07/01/2014': ['0.658'], '07/02/2014': ['0.686'], '07/03/2014': ['2.378'], '07/04/2014': ['4.907'], '07/05/2014': ['0.695'], '07/06/2014': ['0.715'], '07/07/2014': ['0.735'], '07/08/2014': ['0.752'], '07/09/2014': ['1.453'], '07/10/2014': ['0.776'], '07/11/2014': ['0.783'], '07/12/2014': ['0.786'], '07/13/2014': ['0.786'], '07/14/2014': ['0.783'], '07/15/2014': ['1.435'], '07/16/2014': ['2.77'], '07/17/2014': ['0.765'], '07/18/2014': ['0.759'], '07/19/2014': ['0.762'], '07/20/2014': ['0.744'], '07/21/2014': ['3.993'], '07/22/2014': ['1.303'], '07/23/2014': ['0.728'], '07/24/2014': ['0.84'], '07/25/2014': ['0.85'], '07/26/2014': ['0.767'], '07/27/2014': ['0.848'], '07/28/2014': ['0.822'], '07/29/2014': ['0.813'], '07/30/2014': ['0.822'], '07/31/2014': ['0.826']}}}, '9731484': {'Precipitation': {'dataset': 'Precipitation', 'dataSource': 'nldas', 'metadata': {'request_time': '11/30/2022 19:43:56', 'column_1': 'Date (GMT) (GMT)', 'column_2': 'Precipitation', 'units': 'mm', 'Precipitation_sum': '111.13300000000001', 'Precipitation_mean': '3.585', 'Precipitation_max': '22.85', 'Precipitation_standard_deviation': '6.235', 'Precipitation_variance': '38.874', 'Precipitation_median': '0.067', 'Precipitation_entropy': '3.566', 'Precipitation_geometric_mean': '0', 'Precipitation_skewness': '1.96', 'Precipitation_root_mean_square': '7.104', 'Precipitation_99_percentile': '22.85', 'Precipitation_99_percentile_count': '1', 'Precipitation_95_percentile': '20.564', 'Precipitation_95_percentile_count': '1', 'Precipitation_75_percentile': '4.171', 'Precipitation_75_percentile_count': '8', 'Precipitation_zero_count': '12', 'timeseries_timezone': 'GMT'}, 'data': {'07/01/2014': ['0.215'], '07/02/2014': ['0'], '07/03/2014': ['11.85'], '07/04/2014': ['20.31'], '07/05/2014': ['0'], '07/06/2014': ['0'], '07/07/2014': ['0'], '07/08/2014': ['0.003'], '07/09/2014': ['10.64'], '07/10/2014': ['0.067'], '07/11/2014': ['0.032'], '07/12/2014': ['0'], '07/13/2014': ['0'], '07/14/2014': ['0'], '07/15/2014': ['5.968'], '07/16/2014': ['14.19'], '07/17/2014': ['0'], '07/18/2014': ['0'], '07/19/2014': ['3.328'], '07/20/2014': ['0.354'], '07/21/2014': ['22.85'], '07/22/2014': ['9.652'], '07/23/2014': ['0.412'], '07/24/2014': ['4.34'], '07/25/2014': ['2.546'], '07/26/2014': ['0'], '07/27/2014': ['2.282'], '07/28/2014': ['2.072'], '07/29/2014': ['0'], '07/30/2014': ['0'], '07/31/2014': ['0.022']}}, 'SurfaceRunoff': {'dataset': 'Runoff', 'dataSource': 'nldas', 'metadata': {'request_time': '11/30/2022 19:43:56', 'column_1': 'Date (GMT) (GMT)', 'column_2': 'Runoff', 'units': 'mm', 'Runoff_sum': '11.332000000000003', 'Runoff_mean': '0.366', 'Runoff_max': '3.432', 'Runoff_standard_deviation': '0.849', 'Runoff_variance': '0.721', 'Runoff_median': '0', 'Runoff_entropy': '2.351', 'Runoff_geometric_mean': '0', 'Runoff_skewness': '2.655', 'Runoff_root_mean_square': '0.912', 'Runoff_99_percentile': '3.432', 'Runoff_99_percentile_count': '1', 'Runoff_95_percentile': '2.822', 'Runoff_95_percentile_count': '1', 'Runoff_75_percentile': '0.098', 'Runoff_75_percentile_count': '8', 'Runoff_zero_count': '19', 'timeseries_timezone': 'GMT'}, 'data': {'07/01/2014': ['0'], '07/02/2014': ['0'], '07/03/2014': ['1.714'], '07/04/2014': ['3.432'], '07/05/2014': ['0'], '07/06/2014': ['0'], '07/07/2014': ['0'], '07/08/2014': ['0'], '07/09/2014': ['0.733'], '07/10/2014': ['0'], '07/11/2014': ['0'], '07/12/2014': ['0'], '07/13/2014': ['0'], '07/14/2014': ['0'], '07/15/2014': ['0.208'], '07/16/2014': ['1.554'], '07/17/2014': ['0'], '07/18/2014': ['0'], '07/19/2014': ['0.008'], '07/20/2014': ['0'], '07/21/2014': ['2.754'], '07/22/2014': ['0.665'], '07/23/2014': ['0'], '07/24/2014': ['0.086'], '07/25/2014': ['0.1'], '07/26/2014': ['0'], '07/27/2014': ['0.063'], '07/28/2014': ['0.015'], '07/29/2014': ['0'], '07/30/2014': ['0'], '07/31/2014': ['0']}}, 'SubsurfaceRunoff': {'dataset': 'Baseflow', 'dataSource': 'nldas', 'metadata': {'request_time': '11/30/2022 19:43:56', 'column_1': 'Date (GMT) (GMT)', 'column_2': 'Baseflow', 'units': 'mm', 'Baseflow_sum': '27.365', 'Baseflow_mean': '0.883', 'Baseflow_max': '0.971', 'Baseflow_standard_deviation': '0.052', 'Baseflow_variance': '0.003', 'Baseflow_median': '0.891', 'Baseflow_entropy': '4.761', 'Baseflow_geometric_mean': '0.881', 'Baseflow_skewness': '-0.512', 'Baseflow_root_mean_square': '0.884', 'Baseflow_99_percentile': '0.971', 'Baseflow_99_percentile_count': '1', 'Baseflow_95_percentile': '0.966', 'Baseflow_95_percentile_count': '1', 'Baseflow_75_percentile': '0.919', 'Baseflow_75_percentile_count': '8', 'Baseflow_zero_count': '0', 'timeseries_timezone': 'GMT'}, 'data': {'07/01/2014': ['0.764'], '07/02/2014': ['0.797'], '07/03/2014': ['0.796'], '07/04/2014': ['0.796'], '07/05/2014': ['0.811'], '07/06/2014': ['0.834'], '07/07/2014': ['0.858'], '07/08/2014': ['0.88'], '07/09/2014': ['0.896'], '07/10/2014': ['0.909'], '07/11/2014': ['0.917'], '07/12/2014': ['0.921'], '07/13/2014': ['0.922'], '07/14/2014': ['0.919'], '07/15/2014': ['0.914'], '07/16/2014': ['0.906'], '07/17/2014': ['0.899'], '07/18/2014': ['0.891'], '07/19/2014': ['0.883'], '07/20/2014': ['0.875'], '07/21/2014': ['0.865'], '07/22/2014': ['0.857'], '07/23/2014': ['0.855'], '07/24/2014': ['0.864'], '07/25/2014': ['0.88'], '07/26/2014': ['0.901'], '07/27/2014': ['0.922'], '07/28/2014': ['0.941'], '07/29/2014': ['0.956'], '07/30/2014': ['0.965'], '07/31/2014': ['0.971']}}, 'StreamHydrology': {'dataset': 'Streamflow', 'dataSource': 'constant', 'metadata': {'request_time': '11/30/2022 19:43:56', 'column_1': 'Date (GMT)', 'column_2': 'Streamflow', 'units': 'm^3/sec'}, 'data': {'07/01/2014': ['0.413'], '07/02/2014': ['0.431'], '07/03/2014': ['1.411'], '07/04/2014': ['2.657'], '07/05/2014': ['0.438'], '07/06/2014': ['0.45'], '07/07/2014': ['0.463'], '07/08/2014': ['0.474'], '07/09/2014': ['0.896'], '07/10/2014': ['0.489'], '07/11/2014': ['0.493'], '07/12/2014': ['0.495'], '07/13/2014': ['0.495'], '07/14/2014': ['0.494'], '07/15/2014': ['1.081'], '07/16/2014': ['1.579'], '07/17/2014': ['0.482'], '07/18/2014': ['0.478'], '07/19/2014': ['0.48'], '07/20/2014': ['0.47'], '07/21/2014': ['2.3'], '07/22/2014': ['0.821'], '07/23/2014': ['0.459'], '07/24/2014': ['0.518'], '07/25/2014': ['0.532'], '07/26/2014': ['0.484'], '07/27/2014': ['0.536'], '07/28/2014': ['0.516'], '07/29/2014': ['0.513'], '07/30/2014': ['0.518'], '07/31/2014': ['0.521']}}}, '9731260': {'Precipitation': {'dataset': 'Precipitation', 'dataSource': 'nldas', 'metadata': {'request_time': '11/30/2022 19:43:56', 'column_1': 'Date (GMT) (GMT)', 'column_2': 'Precipitation', 'units': 'mm', 'Precipitation_sum': '111.13300000000001', 'Precipitation_mean': '3.585', 'Precipitation_max': '22.85', 'Precipitation_standard_deviation': '6.235', 'Precipitation_variance': '38.874', 'Precipitation_median': '0.067', 'Precipitation_entropy': '3.566', 'Precipitation_geometric_mean': '0', 'Precipitation_skewness': '1.96', 'Precipitation_root_mean_square': '7.104', 'Precipitation_99_percentile': '22.85', 'Precipitation_99_percentile_count': '1', 'Precipitation_95_percentile': '20.564', 'Precipitation_95_percentile_count': '1', 'Precipitation_75_percentile': '4.171', 'Precipitation_75_percentile_count': '8', 'Precipitation_zero_count': '12', 'timeseries_timezone': 'GMT'}, 'data': {'07/01/2014': ['0.215'], '07/02/2014': ['0'], '07/03/2014': ['11.85'], '07/04/2014': ['20.31'], '07/05/2014': ['0'], '07/06/2014': ['0'], '07/07/2014': ['0'], '07/08/2014': ['0.003'], '07/09/2014': ['10.64'], '07/10/2014': ['0.067'], '07/11/2014': ['0.032'], '07/12/2014': ['0'], '07/13/2014': ['0'], '07/14/2014': ['0'], '07/15/2014': ['5.968'], '07/16/2014': ['14.19'], '07/17/2014': ['0'], '07/18/2014': ['0'], '07/19/2014': ['3.328'], '07/20/2014': ['0.354'], '07/21/2014': ['22.85'], '07/22/2014': ['9.652'], '07/23/2014': ['0.412'], '07/24/2014': ['4.34'], '07/25/2014': ['2.546'], '07/26/2014': ['0'], '07/27/2014': ['2.282'], '07/28/2014': ['2.072'], '07/29/2014': ['0'], '07/30/2014': ['0'], '07/31/2014': ['0.022']}}, 'SurfaceRunoff': {'dataset': 'Runoff', 'dataSource': 'nldas', 'metadata': {'request_time': '11/30/2022 19:43:56', 'column_1': 'Date (GMT) (GMT)', 'column_2': 'Runoff', 'units': 'mm', 'Runoff_sum': '11.332000000000003', 'Runoff_mean': '0.366', 'Runoff_max': '3.432', 'Runoff_standard_deviation': '0.849', 'Runoff_variance': '0.721', 'Runoff_median': '0', 'Runoff_entropy': '2.351', 'Runoff_geometric_mean': '0', 'Runoff_skewness': '2.655', 'Runoff_root_mean_square': '0.912', 'Runoff_99_percentile': '3.432', 'Runoff_99_percentile_count': '1', 'Runoff_95_percentile': '2.822', 'Runoff_95_percentile_count': '1', 'Runoff_75_percentile': '0.098', 'Runoff_75_percentile_count': '8', 'Runoff_zero_count': '19', 'timeseries_timezone': 'GMT'}, 'data': {'07/01/2014': ['0'], '07/02/2014': ['0'], '07/03/2014': ['1.714'], '07/04/2014': ['3.432'], '07/05/2014': ['0'], '07/06/2014': ['0'], '07/07/2014': ['0'], '07/08/2014': ['0'], '07/09/2014': ['0.733'], '07/10/2014': ['0'], '07/11/2014': ['0'], '07/12/2014': ['0'], '07/13/2014': ['0'], '07/14/2014': ['0'], '07/15/2014': ['0.208'], '07/16/2014': ['1.554'], '07/17/2014': ['0'], '07/18/2014': ['0'], '07/19/2014': ['0.008'], '07/20/2014': ['0'], '07/21/2014': ['2.754'], '07/22/2014': ['0.665'], '07/23/2014': ['0'], '07/24/2014': ['0.086'], '07/25/2014': ['0.1'], '07/26/2014': ['0'], '07/27/2014': ['0.063'], '07/28/2014': ['0.015'], '07/29/2014': ['0'], '07/30/2014': ['0'], '07/31/2014': ['0']}}, 'SubsurfaceRunoff': {'dataset': 'Baseflow', 'dataSource': 'nldas', 'metadata': {'request_time': '11/30/2022 19:43:56', 'column_1': 'Date (GMT) (GMT)', 'column_2': 'Baseflow', 'units': 'mm', 'Baseflow_sum': '27.365', 'Baseflow_mean': '0.883', 'Baseflow_max': '0.971', 'Baseflow_standard_deviation': '0.052', 'Baseflow_variance': '0.003', 'Baseflow_median': '0.891', 'Baseflow_entropy': '4.761', 'Baseflow_geometric_mean': '0.881', 'Baseflow_skewness': '-0.512', 'Baseflow_root_mean_square': '0.884', 'Baseflow_99_percentile': '0.971', 'Baseflow_99_percentile_count': '1', 'Baseflow_95_percentile': '0.966', 'Baseflow_95_percentile_count': '1', 'Baseflow_75_percentile': '0.919', 'Baseflow_75_percentile_count': '8', 'Baseflow_zero_count': '0', 'timeseries_timezone': 'GMT'}, 'data': {'07/01/2014': ['0.764'], '07/02/2014': ['0.797'], '07/03/2014': ['0.796'], '07/04/2014': ['0.796'], '07/05/2014': ['0.811'], '07/06/2014': ['0.834'], '07/07/2014': ['0.858'], '07/08/2014': ['0.88'], '07/09/2014': ['0.896'], '07/10/2014': ['0.909'], '07/11/2014': ['0.917'], '07/12/2014': ['0.921'], '07/13/2014': ['0.922'], '07/14/2014': ['0.919'], '07/15/2014': ['0.914'], '07/16/2014': ['0.906'], '07/17/2014': ['0.899'], '07/18/2014': ['0.891'], '07/19/2014': ['0.883'], '07/20/2014': ['0.875'], '07/21/2014': ['0.865'], '07/22/2014': ['0.857'], '07/23/2014': ['0.855'], '07/24/2014': ['0.864'], '07/25/2014': ['0.88'], '07/26/2014': ['0.901'], '07/27/2014': ['0.922'], '07/28/2014': ['0.941'], '07/29/2014': ['0.956'], '07/30/2014': ['0.965'], '07/31/2014': ['0.971']}}, 'StreamHydrology': {'dataset': 'Streamflow', 'dataSource': 'constant', 'metadata': {'request_time': '11/30/2022 19:43:56', 'column_1': 'Date (GMT)', 'column_2': 'Streamflow', 'units': 'm^3/sec'}, 'data': {'07/01/2014': ['0.056'], '07/02/2014': ['0.059'], '07/03/2014': ['0.238'], '07/04/2014': ['0.681'], '07/05/2014': ['0.059'], '07/06/2014': ['0.06'], '07/07/2014': ['0.061'], '07/08/2014': ['0.063'], '07/09/2014': ['0.134'], '07/10/2014': ['0.064'], '07/11/2014': ['0.065'], '07/12/2014': ['0.065'], '07/13/2014': ['0.064'], '07/14/2014': ['0.064'], '07/15/2014': ['0.556'], '07/16/2014': ['0.429'], '07/17/2014': ['0.062'], '07/18/2014': ['0.062'], '07/19/2014': ['0.063'], '07/20/2014': ['0.061'], '07/21/2014': ['0.608'], '07/22/2014': ['0.11'], '07/23/2014': ['0.06'], '07/24/2014': ['0.074'], '07/25/2014': ['0.074'], '07/26/2014': ['0.063'], '07/27/2014': ['0.076'], '07/28/2014': ['0.069'], '07/29/2014': ['0.067'], '07/30/2014': ['0.067'], '07/31/2014': ['0.067']}}}, '9731474': {'Precipitation': {'dataset': 'Precipitation', 'dataSource': 'nldas', 'metadata': {'request_time': '11/30/2022 19:43:56', 'column_1': 'Date (GMT) (GMT)', 'column_2': 'Precipitation', 'units': 'mm', 'Precipitation_sum': '114.91699999999999', 'Precipitation_mean': '3.707', 'Precipitation_max': '28.09', 'Precipitation_standard_deviation': '7.521', 'Precipitation_variance': '56.564', 'Precipitation_median': '0.11', 'Precipitation_entropy': '3.566', 'Precipitation_geometric_mean': '0', 'Precipitation_skewness': '2.569', 'Precipitation_root_mean_square': '8.275', 'Precipitation_99_percentile': '28.09', 'Precipitation_99_percentile_count': '1', 'Precipitation_95_percentile': '27.451', 'Precipitation_95_percentile_count': '1', 'Precipitation_75_percentile': '3.309', 'Precipitation_75_percentile_count': '8', 'Precipitation_zero_count': '12', 'timeseries_timezone': 'GMT'}, 'data': {'07/01/2014': ['0.501'], '07/02/2014': ['0'], '07/03/2014': ['9.362'], '07/04/2014': ['27.38'], '07/05/2014': ['0'], '07/06/2014': ['0'], '07/07/2014': ['0'], '07/08/2014': ['0'], '07/09/2014': ['6.598'], '07/10/2014': ['0.11'], '07/11/2014': ['0.014'], '07/12/2014': ['0'], '07/13/2014': ['0'], '07/14/2014': ['0.079'], '07/15/2014': ['2.951'], '07/16/2014': ['19.09'], '07/17/2014': ['0'], '07/18/2014': ['0'], '07/19/2014': ['5.027'], '07/20/2014': ['0.187'], '07/21/2014': ['28.09'], '07/22/2014': ['5.146'], '07/23/2014': ['0.09'], '07/24/2014': ['3.347'], '07/25/2014': ['2'], '07/26/2014': ['0'], '07/27/2014': ['1.692'], '07/28/2014': ['3.119'], '07/29/2014': ['0'], '07/30/2014': ['0'], '07/31/2014': ['0.134']}}, 'SurfaceRunoff': {'dataset': 'Runoff', 'dataSource': 'nldas', 'metadata': {'request_time': '11/30/2022 19:43:56', 'column_1': 'Date (GMT) (GMT)', 'column_2': 'Runoff', 'units': 'mm', 'Runoff_sum': '12.776', 'Runoff_mean': '0.412', 'Runoff_max': '5.425', 'Runoff_standard_deviation': '1.187', 'Runoff_variance': '1.408', 'Runoff_median': '0', 'Runoff_entropy': '2.468', 'Runoff_geometric_mean': '0', 'Runoff_skewness': '3.348', 'Runoff_root_mean_square': '1.238', 'Runoff_99_percentile': '5.425', 'Runoff_99_percentile_count': '1', 'Runoff_95_percentile': '3.503', 'Runoff_95_percentile_count': '1', 'Runoff_75_percentile': '0.03', 'Runoff_75_percentile_count': '8', 'Runoff_zero_count': '18', 'timeseries_timezone': 'GMT'}, 'data': {'07/01/2014': ['0.001'], '07/02/2014': ['0'], '07/03/2014': ['1.042'], '07/04/2014': ['5.425'], '07/05/2014': ['0'], '07/06/2014': ['0'], '07/07/2014': ['0'], '07/08/2014': ['0'], '07/09/2014': ['0.262'], '07/10/2014': ['0'], '07/11/2014': ['0'], '07/12/2014': ['0'], '07/13/2014': ['0'], '07/14/2014': ['0'], '07/15/2014': ['0.006'], '07/16/2014': ['2.466'], '07/17/2014': ['0'], '07/18/2014': ['0'], '07/19/2014': ['0.016'], '07/20/2014': ['0'], '07/21/2014': ['3.289'], '07/22/2014': ['0.027'], '07/23/2014': ['0'], '07/24/2014': ['0.136'], '07/25/2014': ['0.059'], '07/26/2014': ['0'], '07/27/2014': ['0.016'], '07/28/2014': ['0.031'], '07/29/2014': ['0'], '07/30/2014': ['0'], '07/31/2014': ['0']}}, 'SubsurfaceRunoff': {'dataset': 'Baseflow', 'dataSource': 'nldas', 'metadata': {'request_time': '11/30/2022 19:43:56', 'column_1': 'Date (GMT) (GMT)', 'column_2': 'Baseflow', 'units': 'mm', 'Baseflow_sum': '0.4370000000000001', 'Baseflow_mean': '0.014', 'Baseflow_max': '0.034', 'Baseflow_standard_deviation': '0.008', 'Baseflow_variance': '0', 'Baseflow_median': '0.011', 'Baseflow_entropy': '3.728', 'Baseflow_geometric_mean': '0.012', 'Baseflow_skewness': '1.015', 'Baseflow_root_mean_square': '0.016', 'Baseflow_99_percentile': '0.034', 'Baseflow_99_percentile_count': '1', 'Baseflow_95_percentile': '0.032', 'Baseflow_95_percentile_count': '2', 'Baseflow_75_percentile': '0.019', 'Baseflow_75_percentile_count': '9', 'Baseflow_zero_count': '0', 'timeseries_timezone': 'GMT'}, 'data': {'07/01/2014': ['0.034'], '07/02/2014': ['0.032'], '07/03/2014': ['0.028'], '07/04/2014': ['0.026'], '07/05/2014': ['0.024'], '07/06/2014': ['0.023'], '07/07/2014': ['0.021'], '07/08/2014': ['0.019'], '07/09/2014': ['0.019'], '07/10/2014': ['0.017'], '07/11/2014': ['0.017'], '07/12/2014': ['0.015'], '07/13/2014': ['0.014'], '07/14/2014': ['0.012'], '07/15/2014': ['0.012'], '07/16/2014': ['0.011'], '07/17/2014': ['0.01'], '07/18/2014': ['0.009'], '07/19/2014': ['0.007'], '07/20/2014': ['0.007'], '07/21/2014': ['0.007'], '07/22/2014': ['0.007'], '07/23/2014': ['0.008'], '07/24/2014': ['0.008'], '07/25/2014': ['0.008'], '07/26/2014': ['0.008'], '07/27/2014': ['0.007'], '07/28/2014': ['0.007'], '07/29/2014': ['0.007'], '07/30/2014': ['0.007'], '07/31/2014': ['0.006']}}, 'StreamHydrology': {'dataset': 'Streamflow', 'dataSource': 'constant', 'metadata': {'request_time': '11/30/2022 19:43:56', 'column_1': 'Date (GMT)', 'column_2': 'Streamflow', 'units': 'm^3/sec'}, 'data': {'07/01/2014': ['0.002'], '07/02/2014': ['0.002'], '07/03/2014': ['0.059'], '07/04/2014': ['0.301'], '07/05/2014': ['0.001'], '07/06/2014': ['0.001'], '07/07/2014': ['0.001'], '07/08/2014': ['0.001'], '07/09/2014': ['0.015'], '07/10/2014': ['0.001'], '07/11/2014': ['0.001'], '07/12/2014': ['0.001'], '07/13/2014': ['0.001'], '07/14/2014': ['0.001'], '07/15/2014': ['0.001'], '07/16/2014': ['0.137'], '07/17/2014': ['0.001'], '07/18/2014': ['0'], '07/19/2014': ['0.001'], '07/20/2014': ['0'], '07/21/2014': ['0.182'], '07/22/2014': ['0.002'], '07/23/2014': ['0'], '07/24/2014': ['0.008'], '07/25/2014': ['0.004'], '07/26/2014': ['0'], '07/27/2014': ['0.001'], '07/28/2014': ['0.002'], '07/29/2014': ['0'], '07/30/2014': ['0'], '07/31/2014': ['0']}}}, '9731478': {'Precipitation': {'dataset': 'Precipitation', 'dataSource': 'nldas', 'metadata': {'request_time': '11/30/2022 19:43:56', 'column_1': 'Date (GMT) (GMT)', 'column_2': 'Precipitation', 'units': 'mm', 'Precipitation_sum': '111.13300000000001', 'Precipitation_mean': '3.585', 'Precipitation_max': '22.85', 'Precipitation_standard_deviation': '6.235', 'Precipitation_variance': '38.874', 'Precipitation_median': '0.067', 'Precipitation_entropy': '3.566', 'Precipitation_geometric_mean': '0', 'Precipitation_skewness': '1.96', 'Precipitation_root_mean_square': '7.104', 'Precipitation_99_percentile': '22.85', 'Precipitation_99_percentile_count': '1', 'Precipitation_95_percentile': '20.564', 'Precipitation_95_percentile_count': '1', 'Precipitation_75_percentile': '4.171', 'Precipitation_75_percentile_count': '8', 'Precipitation_zero_count': '12', 'timeseries_timezone': 'GMT'}, 'data': {'07/01/2014': ['0.215'], '07/02/2014': ['0'], '07/03/2014': ['11.85'], '07/04/2014': ['20.31'], '07/05/2014': ['0'], '07/06/2014': ['0'], '07/07/2014': ['0'], '07/08/2014': ['0.003'], '07/09/2014': ['10.64'], '07/10/2014': ['0.067'], '07/11/2014': ['0.032'], '07/12/2014': ['0'], '07/13/2014': ['0'], '07/14/2014': ['0'], '07/15/2014': ['5.968'], '07/16/2014': ['14.19'], '07/17/2014': ['0'], '07/18/2014': ['0'], '07/19/2014': ['3.328'], '07/20/2014': ['0.354'], '07/21/2014': ['22.85'], '07/22/2014': ['9.652'], '07/23/2014': ['0.412'], '07/24/2014': ['4.34'], '07/25/2014': ['2.546'], '07/26/2014': ['0'], '07/27/2014': ['2.282'], '07/28/2014': ['2.072'], '07/29/2014': ['0'], '07/30/2014': ['0'], '07/31/2014': ['0.022']}}, 'SurfaceRunoff': {'dataset': 'Runoff', 'dataSource': 'nldas', 'metadata': {'request_time': '11/30/2022 19:43:56', 'column_1': 'Date (GMT) (GMT)', 'column_2': 'Runoff', 'units': 'mm', 'Runoff_sum': '11.332000000000003', 'Runoff_mean': '0.366', 'Runoff_max': '3.432', 'Runoff_standard_deviation': '0.849', 'Runoff_variance': '0.721', 'Runoff_median': '0', 'Runoff_entropy': '2.351', 'Runoff_geometric_mean': '0', 'Runoff_skewness': '2.655', 'Runoff_root_mean_square': '0.912', 'Runoff_99_percentile': '3.432', 'Runoff_99_percentile_count': '1', 'Runoff_95_percentile': '2.822', 'Runoff_95_percentile_count': '1', 'Runoff_75_percentile': '0.098', 'Runoff_75_percentile_count': '8', 'Runoff_zero_count': '19', 'timeseries_timezone': 'GMT'}, 'data': {'07/01/2014': ['0'], '07/02/2014': ['0'], '07/03/2014': ['1.714'], '07/04/2014': ['3.432'], '07/05/2014': ['0'], '07/06/2014': ['0'], '07/07/2014': ['0'], '07/08/2014': ['0'], '07/09/2014': ['0.733'], '07/10/2014': ['0'], '07/11/2014': ['0'], '07/12/2014': ['0'], '07/13/2014': ['0'], '07/14/2014': ['0'], '07/15/2014': ['0.208'], '07/16/2014': ['1.554'], '07/17/2014': ['0'], '07/18/2014': ['0'], '07/19/2014': ['0.008'], '07/20/2014': ['0'], '07/21/2014': ['2.754'], '07/22/2014': ['0.665'], '07/23/2014': ['0'], '07/24/2014': ['0.086'], '07/25/2014': ['0.1'], '07/26/2014': ['0'], '07/27/2014': ['0.063'], '07/28/2014': ['0.015'], '07/29/2014': ['0'], '07/30/2014': ['0'], '07/31/2014': ['0']}}, 'SubsurfaceRunoff': {'dataset': 'Baseflow', 'dataSource': 'nldas', 'metadata': {'request_time': '11/30/2022 19:43:56', 'column_1': 'Date (GMT) (GMT)', 'column_2': 'Baseflow', 'units': 'mm', 'Baseflow_sum': '27.365', 'Baseflow_mean': '0.883', 'Baseflow_max': '0.971', 'Baseflow_standard_deviation': '0.052', 'Baseflow_variance': '0.003', 'Baseflow_median': '0.891', 'Baseflow_entropy': '4.761', 'Baseflow_geometric_mean': '0.881', 'Baseflow_skewness': '-0.512', 'Baseflow_root_mean_square': '0.884', 'Baseflow_99_percentile': '0.971', 'Baseflow_99_percentile_count': '1', 'Baseflow_95_percentile': '0.966', 'Baseflow_95_percentile_count': '1', 'Baseflow_75_percentile': '0.919', 'Baseflow_75_percentile_count': '8', 'Baseflow_zero_count': '0', 'timeseries_timezone': 'GMT'}, 'data': {'07/01/2014': ['0.764'], '07/02/2014': ['0.797'], '07/03/2014': ['0.796'], '07/04/2014': ['0.796'], '07/05/2014': ['0.811'], '07/06/2014': ['0.834'], '07/07/2014': ['0.858'], '07/08/2014': ['0.88'], '07/09/2014': ['0.896'], '07/10/2014': ['0.909'], '07/11/2014': ['0.917'], '07/12/2014': ['0.921'], '07/13/2014': ['0.922'], '07/14/2014': ['0.919'], '07/15/2014': ['0.914'], '07/16/2014': ['0.906'], '07/17/2014': ['0.899'], '07/18/2014': ['0.891'], '07/19/2014': ['0.883'], '07/20/2014': ['0.875'], '07/21/2014': ['0.865'], '07/22/2014': ['0.857'], '07/23/2014': ['0.855'], '07/24/2014': ['0.864'], '07/25/2014': ['0.88'], '07/26/2014': ['0.901'], '07/27/2014': ['0.922'], '07/28/2014': ['0.941'], '07/29/2014': ['0.956'], '07/30/2014': ['0.965'], '07/31/2014': ['0.971']}}, 'StreamHydrology': {'dataset': 'Streamflow', 'dataSource': 'constant', 'metadata': {'request_time': '11/30/2022 19:43:56', 'column_1': 'Date (GMT)', 'column_2': 'Streamflow', 'units': 'm^3/sec'}, 'data': {'07/01/2014': ['0.02'], '07/02/2014': ['0.02'], '07/03/2014': ['0.064'], '07/04/2014': ['0.108'], '07/05/2014': ['0.021'], '07/06/2014': ['0.021'], '07/07/2014': ['0.022'], '07/08/2014': ['0.022'], '07/09/2014': ['0.042'], '07/10/2014': ['0.023'], '07/11/2014': ['0.023'], '07/12/2014': ['0.024'], '07/13/2014': ['0.024'], '07/14/2014': ['0.023'], '07/15/2014': ['0.029'], '07/16/2014': ['0.063'], '07/17/2014': ['0.023'], '07/18/2014': ['0.023'], '07/19/2014': ['0.023'], '07/20/2014': ['0.022'], '07/21/2014': ['0.092'], '07/22/2014': ['0.039'], '07/23/2014': ['0.022'], '07/24/2014': ['0.024'], '07/25/2014': ['0.025'], '07/26/2014': ['0.023'], '07/27/2014': ['0.025'], '07/28/2014': ['0.024'], '07/29/2014': ['0.024'], '07/30/2014': ['0.025'], '07/31/2014': ['0.025']}}}, '9731256': {'Precipitation': {'dataset': 'Precipitation', 'dataSource': 'nldas', 'metadata': {'request_time': '11/30/2022 19:43:56', 'column_1': 'Date (GMT) (GMT)', 'column_2': 'Precipitation', 'units': 'mm', 'Precipitation_sum': '125.64399999999999', 'Precipitation_mean': '4.053', 'Precipitation_max': '38.27', 'Precipitation_standard_deviation': '8.983', 'Precipitation_variance': '80.701', 'Precipitation_median': '0.188', 'Precipitation_entropy': '3.566', 'Precipitation_geometric_mean': '0', 'Precipitation_skewness': '2.8', 'Precipitation_root_mean_square': '9.722', 'Precipitation_99_percentile': '38.27', 'Precipitation_99_percentile_count': '1', 'Precipitation_95_percentile': '28.658', 'Precipitation_95_percentile_count': '1', 'Precipitation_75_percentile': '2.826', 'Precipitation_75_percentile_count': '8', 'Precipitation_zero_count': '12', 'timeseries_timezone': 'GMT'}, 'data': {'07/01/2014': ['0.21'], '07/02/2014': ['0'], '07/03/2014': ['3.576'], '07/04/2014': ['15.49'], '07/05/2014': ['0'], '07/06/2014': ['0'], '07/07/2014': ['0.02'], '07/08/2014': ['0.014'], '07/09/2014': ['5.704'], '07/10/2014': ['0.188'], '07/11/2014': ['0.143'], '07/12/2014': ['0'], '07/13/2014': ['0'], '07/14/2014': ['0'], '07/15/2014': ['38.27'], '07/16/2014': ['19.44'], '07/17/2014': ['0'], '07/18/2014': ['0'], '07/19/2014': ['2.831'], '07/20/2014': ['0.291'], '07/21/2014': ['27.59'], '07/22/2014': ['4.213'], '07/23/2014': ['0.261'], '07/24/2014': ['1.086'], '07/25/2014': ['1.553'], '07/26/2014': ['0'], '07/27/2014': ['2.8'], '07/28/2014': ['1.964'], '07/29/2014': ['0'], '07/30/2014': ['0'], '07/31/2014': ['0']}}, 'SurfaceRunoff': {'dataset': 'Runoff', 'dataSource': 'nldas', 'metadata': {'request_time': '11/30/2022 19:43:56', 'column_1': 'Date (GMT) (GMT)', 'column_2': 'Runoff', 'units': 'mm', 'Runoff_sum': '15.825', 'Runoff_mean': '0.51', 'Runoff_max': '8.374', 'Runoff_standard_deviation': '1.628', 'Runoff_variance': '2.652', 'Runoff_median': '0', 'Runoff_entropy': '2.286', 'Runoff_geometric_mean': '0', 'Runoff_skewness': '4.191', 'Runoff_root_mean_square': '1.681', 'Runoff_99_percentile': '8.374', 'Runoff_99_percentile_count': '1', 'Runoff_95_percentile': '3.692', 'Runoff_95_percentile_count': '1', 'Runoff_75_percentile': '0.068', 'Runoff_75_percentile_count': '8', 'Runoff_zero_count': '19', 'timeseries_timezone': 'GMT'}, 'data': {'07/01/2014': ['0'], '07/02/2014': ['0'], '07/03/2014': ['0.117'], '07/04/2014': ['1.614'], '07/05/2014': ['0'], '07/06/2014': ['0'], '07/07/2014': ['0'], '07/08/2014': ['0'], '07/09/2014': ['0.117'], '07/10/2014': ['0'], '07/11/2014': ['0'], '07/12/2014': ['0'], '07/13/2014': ['0'], '07/14/2014': ['0'], '07/15/2014': ['8.374'], '07/16/2014': ['2.19'], '07/17/2014': ['0'], '07/18/2014': ['0'], '07/19/2014': ['0.008'], '07/20/2014': ['0'], '07/21/2014': ['3.172'], '07/22/2014': ['0.074'], '07/23/2014': ['0'], '07/24/2014': ['0.001'], '07/25/2014': ['0.036'], '07/26/2014': ['0'], '07/27/2014': ['0.109'], '07/28/2014': ['0.013'], '07/29/2014': ['0'], '07/30/2014': ['0'], '07/31/2014': ['0']}}, 'SubsurfaceRunoff': {'dataset': 'Baseflow', 'dataSource': 'nldas', 'metadata': {'request_time': '11/30/2022 19:43:56', 'column_1': 'Date (GMT) (GMT)', 'column_2': 'Baseflow', 'units': 'mm', 'Baseflow_sum': '1.0560000000000003', 'Baseflow_mean': '0.034', 'Baseflow_max': '0.054', 'Baseflow_standard_deviation': '0.01', 'Baseflow_variance': '0', 'Baseflow_median': '0.033', 'Baseflow_entropy': '4.196', 'Baseflow_geometric_mean': '0.033', 'Baseflow_skewness': '0.623', 'Baseflow_root_mean_square': '0.036', 'Baseflow_99_percentile': '0.054', 'Baseflow_99_percentile_count': '2', 'Baseflow_95_percentile': '0.054', 'Baseflow_95_percentile_count': '2', 'Baseflow_75_percentile': '0.039', 'Baseflow_75_percentile_count': '8', 'Baseflow_zero_count': '0', 'timeseries_timezone': 'GMT'}, 'data': {'07/01/2014': ['0.054'], '07/02/2014': ['0.054'], '07/03/2014': ['0.053'], '07/04/2014': ['0.051'], '07/05/2014': ['0.048'], '07/06/2014': ['0.045'], '07/07/2014': ['0.043'], '07/08/2014': ['0.04'], '07/09/2014': ['0.037'], '07/10/2014': ['0.036'], '07/11/2014': ['0.034'], '07/12/2014': ['0.031'], '07/13/2014': ['0.028'], '07/14/2014': ['0.026'], '07/15/2014': ['0.023'], '07/16/2014': ['0.022'], '07/17/2014': ['0.021'], '07/18/2014': ['0.021'], '07/19/2014': ['0.022'], '07/20/2014': ['0.023'], '07/21/2014': ['0.023'], '07/22/2014': ['0.026'], '07/23/2014': ['0.029'], '07/24/2014': ['0.032'], '07/25/2014': ['0.035'], '07/26/2014': ['0.036'], '07/27/2014': ['0.036'], '07/28/2014': ['0.035'], '07/29/2014': ['0.033'], '07/30/2014': ['0.031'], '07/31/2014': ['0.028']}}, 'StreamHydrology': {'dataset': 'Streamflow', 'dataSource': 'constant', 'metadata': {'request_time': '11/30/2022 19:43:56', 'column_1': 'Date (GMT)', 'column_2': 'Streamflow', 'units': 'm^3/sec'}, 'data': {'07/01/2014': ['0.003'], '07/02/2014': ['0.003'], '07/03/2014': ['0.01'], '07/04/2014': ['0.095'], '07/05/2014': ['0.003'], '07/06/2014': ['0.003'], '07/07/2014': ['0.002'], '07/08/2014': ['0.002'], '07/09/2014': ['0.009'], '07/10/2014': ['0.002'], '07/11/2014': ['0.002'], '07/12/2014': ['0.002'], '07/13/2014': ['0.002'], '07/14/2014': ['0.001'], '07/15/2014': ['0.48'], '07/16/2014': ['0.126'], '07/17/2014': ['0.001'], '07/18/2014': ['0.001'], '07/19/2014': ['0.002'], '07/20/2014': ['0.001'], '07/21/2014': ['0.183'], '07/22/2014': ['0.006'], '07/23/2014': ['0.002'], '07/24/2014': ['0.002'], '07/25/2014': ['0.004'], '07/26/2014': ['0.002'], '07/27/2014': ['0.008'], '07/28/2014': ['0.003'], '07/29/2014': ['0.002'], '07/30/2014': ['0.002'], '07/31/2014': ['0.002']}}}, '9731486': {'Precipitation': {'dataset': 'Precipitation', 'dataSource': 'nldas', 'metadata': {'request_time': '11/30/2022 19:43:56', 'column_1': 'Date (GMT) (GMT)', 'column_2': 'Precipitation', 'units': 'mm', 'Precipitation_sum': '111.13300000000001', 'Precipitation_mean': '3.585', 'Precipitation_max': '22.85', 'Precipitation_standard_deviation': '6.235', 'Precipitation_variance': '38.874', 'Precipitation_median': '0.067', 'Precipitation_entropy': '3.566', 'Precipitation_geometric_mean': '0', 'Precipitation_skewness': '1.96', 'Precipitation_root_mean_square': '7.104', 'Precipitation_99_percentile': '22.85', 'Precipitation_99_percentile_count': '1', 'Precipitation_95_percentile': '20.564', 'Precipitation_95_percentile_count': '1', 'Precipitation_75_percentile': '4.171', 'Precipitation_75_percentile_count': '8', 'Precipitation_zero_count': '12', 'timeseries_timezone': 'GMT'}, 'data': {'07/01/2014': ['0.215'], '07/02/2014': ['0'], '07/03/2014': ['11.85'], '07/04/2014': ['20.31'], '07/05/2014': ['0'], '07/06/2014': ['0'], '07/07/2014': ['0'], '07/08/2014': ['0.003'], '07/09/2014': ['10.64'], '07/10/2014': ['0.067'], '07/11/2014': ['0.032'], '07/12/2014': ['0'], '07/13/2014': ['0'], '07/14/2014': ['0'], '07/15/2014': ['5.968'], '07/16/2014': ['14.19'], '07/17/2014': ['0'], '07/18/2014': ['0'], '07/19/2014': ['3.328'], '07/20/2014': ['0.354'], '07/21/2014': ['22.85'], '07/22/2014': ['9.652'], '07/23/2014': ['0.412'], '07/24/2014': ['4.34'], '07/25/2014': ['2.546'], '07/26/2014': ['0'], '07/27/2014': ['2.282'], '07/28/2014': ['2.072'], '07/29/2014': ['0'], '07/30/2014': ['0'], '07/31/2014': ['0.022']}}, 'SurfaceRunoff': {'dataset': 'Runoff', 'dataSource': 'nldas', 'metadata': {'request_time': '11/30/2022 19:43:56', 'column_1': 'Date (GMT) (GMT)', 'column_2': 'Runoff', 'units': 'mm', 'Runoff_sum': '11.332000000000003', 'Runoff_mean': '0.366', 'Runoff_max': '3.432', 'Runoff_standard_deviation': '0.849', 'Runoff_variance': '0.721', 'Runoff_median': '0', 'Runoff_entropy': '2.351', 'Runoff_geometric_mean': '0', 'Runoff_skewness': '2.655', 'Runoff_root_mean_square': '0.912', 'Runoff_99_percentile': '3.432', 'Runoff_99_percentile_count': '1', 'Runoff_95_percentile': '2.822', 'Runoff_95_percentile_count': '1', 'Runoff_75_percentile': '0.098', 'Runoff_75_percentile_count': '8', 'Runoff_zero_count': '19', 'timeseries_timezone': 'GMT'}, 'data': {'07/01/2014': ['0'], '07/02/2014': ['0'], '07/03/2014': ['1.714'], '07/04/2014': ['3.432'], '07/05/2014': ['0'], '07/06/2014': ['0'], '07/07/2014': ['0'], '07/08/2014': ['0'], '07/09/2014': ['0.733'], '07/10/2014': ['0'], '07/11/2014': ['0'], '07/12/2014': ['0'], '07/13/2014': ['0'], '07/14/2014': ['0'], '07/15/2014': ['0.208'], '07/16/2014': ['1.554'], '07/17/2014': ['0'], '07/18/2014': ['0'], '07/19/2014': ['0.008'], '07/20/2014': ['0'], '07/21/2014': ['2.754'], '07/22/2014': ['0.665'], '07/23/2014': ['0'], '07/24/2014': ['0.086'], '07/25/2014': ['0.1'], '07/26/2014': ['0'], '07/27/2014': ['0.063'], '07/28/2014': ['0.015'], '07/29/2014': ['0'], '07/30/2014': ['0'], '07/31/2014': ['0']}}, 'SubsurfaceRunoff': {'dataset': 'Baseflow', 'dataSource': 'nldas', 'metadata': {'request_time': '11/30/2022 19:43:56', 'column_1': 'Date (GMT) (GMT)', 'column_2': 'Baseflow', 'units': 'mm', 'Baseflow_sum': '27.365', 'Baseflow_mean': '0.883', 'Baseflow_max': '0.971', 'Baseflow_standard_deviation': '0.052', 'Baseflow_variance': '0.003', 'Baseflow_median': '0.891', 'Baseflow_entropy': '4.761', 'Baseflow_geometric_mean': '0.881', 'Baseflow_skewness': '-0.512', 'Baseflow_root_mean_square': '0.884', 'Baseflow_99_percentile': '0.971', 'Baseflow_99_percentile_count': '1', 'Baseflow_95_percentile': '0.966', 'Baseflow_95_percentile_count': '1', 'Baseflow_75_percentile': '0.919', 'Baseflow_75_percentile_count': '8', 'Baseflow_zero_count': '0', 'timeseries_timezone': 'GMT'}, 'data': {'07/01/2014': ['0.764'], '07/02/2014': ['0.797'], '07/03/2014': ['0.796'], '07/04/2014': ['0.796'], '07/05/2014': ['0.811'], '07/06/2014': ['0.834'], '07/07/2014': ['0.858'], '07/08/2014': ['0.88'], '07/09/2014': ['0.896'], '07/10/2014': ['0.909'], '07/11/2014': ['0.917'], '07/12/2014': ['0.921'], '07/13/2014': ['0.922'], '07/14/2014': ['0.919'], '07/15/2014': ['0.914'], '07/16/2014': ['0.906'], '07/17/2014': ['0.899'], '07/18/2014': ['0.891'], '07/19/2014': ['0.883'], '07/20/2014': ['0.875'], '07/21/2014': ['0.865'], '07/22/2014': ['0.857'], '07/23/2014': ['0.855'], '07/24/2014': ['0.864'], '07/25/2014': ['0.88'], '07/26/2014': ['0.901'], '07/27/2014': ['0.922'], '07/28/2014': ['0.941'], '07/29/2014': ['0.956'], '07/30/2014': ['0.965'], '07/31/2014': ['0.971']}}, 'StreamHydrology': {'dataset': 'Streamflow', 'dataSource': 'constant', 'metadata': {'request_time': '11/30/2022 19:43:56', 'column_1': 'Date (GMT)', 'column_2': 'Streamflow', 'units': 'm^3/sec'}, 'data': {'07/01/2014': ['0.242'], '07/02/2014': ['0.252'], '07/03/2014': ['0.959'], '07/04/2014': ['2.236'], '07/05/2014': ['0.255'], '07/06/2014': ['0.262'], '07/07/2014': ['0.269'], '07/08/2014': ['0.276'], '07/09/2014': ['0.552'], '07/10/2014': ['0.284'], '07/11/2014': ['0.287'], '07/12/2014': ['0.288'], '07/13/2014': ['0.288'], '07/14/2014': ['0.286'], '07/15/2014': ['0.35'], '07/16/2014': ['1.183'], '07/17/2014': ['0.28'], '07/18/2014': ['0.277'], '07/19/2014': ['0.28'], '07/20/2014': ['0.272'], '07/21/2014': ['1.681'], '07/22/2014': ['0.477'], '07/23/2014': ['0.266'], '07/24/2014': ['0.319'], '07/25/2014': ['0.315'], '07/26/2014': ['0.28'], '07/27/2014': ['0.309'], '07/28/2014': ['0.302'], '07/29/2014': ['0.297'], '07/30/2014': ['0.3'], '07/31/2014': ['0.301']}}}, '9731252': {'Precipitation': {'dataset': 'Precipitation', 'dataSource': 'nldas', 'metadata': {'request_time': '11/30/2022 19:43:56', 'column_1': 'Date (GMT) (GMT)', 'column_2': 'Precipitation', 'units': 'mm', 'Precipitation_sum': '114.91699999999999', 'Precipitation_mean': '3.707', 'Precipitation_max': '28.09', 'Precipitation_standard_deviation': '7.521', 'Precipitation_variance': '56.564', 'Precipitation_median': '0.11', 'Precipitation_entropy': '3.566', 'Precipitation_geometric_mean': '0', 'Precipitation_skewness': '2.569', 'Precipitation_root_mean_square': '8.275', 'Precipitation_99_percentile': '28.09', 'Precipitation_99_percentile_count': '1', 'Precipitation_95_percentile': '27.451', 'Precipitation_95_percentile_count': '1', 'Precipitation_75_percentile': '3.309', 'Precipitation_75_percentile_count': '8', 'Precipitation_zero_count': '12', 'timeseries_timezone': 'GMT'}, 'data': {'07/01/2014': ['0.501'], '07/02/2014': ['0'], '07/03/2014': ['9.362'], '07/04/2014': ['27.38'], '07/05/2014': ['0'], '07/06/2014': ['0'], '07/07/2014': ['0'], '07/08/2014': ['0'], '07/09/2014': ['6.598'], '07/10/2014': ['0.11'], '07/11/2014': ['0.014'], '07/12/2014': ['0'], '07/13/2014': ['0'], '07/14/2014': ['0.079'], '07/15/2014': ['2.951'], '07/16/2014': ['19.09'], '07/17/2014': ['0'], '07/18/2014': ['0'], '07/19/2014': ['5.027'], '07/20/2014': ['0.187'], '07/21/2014': ['28.09'], '07/22/2014': ['5.146'], '07/23/2014': ['0.09'], '07/24/2014': ['3.347'], '07/25/2014': ['2'], '07/26/2014': ['0'], '07/27/2014': ['1.692'], '07/28/2014': ['3.119'], '07/29/2014': ['0'], '07/30/2014': ['0'], '07/31/2014': ['0.134']}}, 'SurfaceRunoff': {'dataset': 'Runoff', 'dataSource': 'nldas', 'metadata': {'request_time': '11/30/2022 19:43:56', 'column_1': 'Date (GMT) (GMT)', 'column_2': 'Runoff', 'units': 'mm', 'Runoff_sum': '12.776', 'Runoff_mean': '0.412', 'Runoff_max': '5.425', 'Runoff_standard_deviation': '1.187', 'Runoff_variance': '1.408', 'Runoff_median': '0', 'Runoff_entropy': '2.468', 'Runoff_geometric_mean': '0', 'Runoff_skewness': '3.348', 'Runoff_root_mean_square': '1.238', 'Runoff_99_percentile': '5.425', 'Runoff_99_percentile_count': '1', 'Runoff_95_percentile': '3.503', 'Runoff_95_percentile_count': '1', 'Runoff_75_percentile': '0.03', 'Runoff_75_percentile_count': '8', 'Runoff_zero_count': '18', 'timeseries_timezone': 'GMT'}, 'data': {'07/01/2014': ['0.001'], '07/02/2014': ['0'], '07/03/2014': ['1.042'], '07/04/2014': ['5.425'], '07/05/2014': ['0'], '07/06/2014': ['0'], '07/07/2014': ['0'], '07/08/2014': ['0'], '07/09/2014': ['0.262'], '07/10/2014': ['0'], '07/11/2014': ['0'], '07/12/2014': ['0'], '07/13/2014': ['0'], '07/14/2014': ['0'], '07/15/2014': ['0.006'], '07/16/2014': ['2.466'], '07/17/2014': ['0'], '07/18/2014': ['0'], '07/19/2014': ['0.016'], '07/20/2014': ['0'], '07/21/2014': ['3.289'], '07/22/2014': ['0.027'], '07/23/2014': ['0'], '07/24/2014': ['0.136'], '07/25/2014': ['0.059'], '07/26/2014': ['0'], '07/27/2014': ['0.016'], '07/28/2014': ['0.031'], '07/29/2014': ['0'], '07/30/2014': ['0'], '07/31/2014': ['0']}}, 'SubsurfaceRunoff': {'dataset': 'Baseflow', 'dataSource': 'nldas', 'metadata': {'request_time': '11/30/2022 19:43:56', 'column_1': 'Date (GMT) (GMT)', 'column_2': 'Baseflow', 'units': 'mm', 'Baseflow_sum': '0.4370000000000001', 'Baseflow_mean': '0.014', 'Baseflow_max': '0.034', 'Baseflow_standard_deviation': '0.008', 'Baseflow_variance': '0', 'Baseflow_median': '0.011', 'Baseflow_entropy': '3.728', 'Baseflow_geometric_mean': '0.012', 'Baseflow_skewness': '1.015', 'Baseflow_root_mean_square': '0.016', 'Baseflow_99_percentile': '0.034', 'Baseflow_99_percentile_count': '1', 'Baseflow_95_percentile': '0.032', 'Baseflow_95_percentile_count': '2', 'Baseflow_75_percentile': '0.019', 'Baseflow_75_percentile_count': '9', 'Baseflow_zero_count': '0', 'timeseries_timezone': 'GMT'}, 'data': {'07/01/2014': ['0.034'], '07/02/2014': ['0.032'], '07/03/2014': ['0.028'], '07/04/2014': ['0.026'], '07/05/2014': ['0.024'], '07/06/2014': ['0.023'], '07/07/2014': ['0.021'], '07/08/2014': ['0.019'], '07/09/2014': ['0.019'], '07/10/2014': ['0.017'], '07/11/2014': ['0.017'], '07/12/2014': ['0.015'], '07/13/2014': ['0.014'], '07/14/2014': ['0.012'], '07/15/2014': ['0.012'], '07/16/2014': ['0.011'], '07/17/2014': ['0.01'], '07/18/2014': ['0.009'], '07/19/2014': ['0.007'], '07/20/2014': ['0.007'], '07/21/2014': ['0.007'], '07/22/2014': ['0.007'], '07/23/2014': ['0.008'], '07/24/2014': ['0.008'], '07/25/2014': ['0.008'], '07/26/2014': ['0.008'], '07/27/2014': ['0.007'], '07/28/2014': ['0.007'], '07/29/2014': ['0.007'], '07/30/2014': ['0.007'], '07/31/2014': ['0.006']}}, 'StreamHydrology': {'dataset': 'Streamflow', 'dataSource': 'constant', 'metadata': {'request_time': '11/30/2022 19:43:56', 'column_1': 'Date (GMT)', 'column_2': 'Streamflow', 'units': 'm^3/sec'}, 'data': {'07/01/2014': ['0.004'], '07/02/2014': ['0.003'], '07/03/2014': ['0.11'], '07/04/2014': ['0.559'], '07/05/2014': ['0.002'], '07/06/2014': ['0.002'], '07/07/2014': ['0.002'], '07/08/2014': ['0.002'], '07/09/2014': ['0.029'], '07/10/2014': ['0.002'], '07/11/2014': ['0.002'], '07/12/2014': ['0.002'], '07/13/2014': ['0.001'], '07/14/2014': ['0.001'], '07/15/2014': ['0.002'], '07/16/2014': ['0.254'], '07/17/2014': ['0.001'], '07/18/2014': ['0.001'], '07/19/2014': ['0.002'], '07/20/2014': ['0.001'], '07/21/2014': ['0.338'], '07/22/2014': ['0.003'], '07/23/2014': ['0.001'], '07/24/2014': ['0.015'], '07/25/2014': ['0.007'], '07/26/2014': ['0.001'], '07/27/2014': ['0.002'], '07/28/2014': ['0.004'], '07/29/2014': ['0.001'], '07/30/2014': ['0.001'], '07/31/2014': ['0.001']}}}, '9731254': {'Precipitation': {'dataset': 'Precipitation', 'dataSource': 'nldas', 'metadata': {'request_time': '11/30/2022 19:43:56', 'column_1': 'Date (GMT) (GMT)', 'column_2': 'Precipitation', 'units': 'mm', 'Precipitation_sum': '114.91699999999999', 'Precipitation_mean': '3.707', 'Precipitation_max': '28.09', 'Precipitation_standard_deviation': '7.521', 'Precipitation_variance': '56.564', 'Precipitation_median': '0.11', 'Precipitation_entropy': '3.566', 'Precipitation_geometric_mean': '0', 'Precipitation_skewness': '2.569', 'Precipitation_root_mean_square': '8.275', 'Precipitation_99_percentile': '28.09', 'Precipitation_99_percentile_count': '1', 'Precipitation_95_percentile': '27.451', 'Precipitation_95_percentile_count': '1', 'Precipitation_75_percentile': '3.309', 'Precipitation_75_percentile_count': '8', 'Precipitation_zero_count': '12', 'timeseries_timezone': 'GMT'}, 'data': {'07/01/2014': ['0.501'], '07/02/2014': ['0'], '07/03/2014': ['9.362'], '07/04/2014': ['27.38'], '07/05/2014': ['0'], '07/06/2014': ['0'], '07/07/2014': ['0'], '07/08/2014': ['0'], '07/09/2014': ['6.598'], '07/10/2014': ['0.11'], '07/11/2014': ['0.014'], '07/12/2014': ['0'], '07/13/2014': ['0'], '07/14/2014': ['0.079'], '07/15/2014': ['2.951'], '07/16/2014': ['19.09'], '07/17/2014': ['0'], '07/18/2014': ['0'], '07/19/2014': ['5.027'], '07/20/2014': ['0.187'], '07/21/2014': ['28.09'], '07/22/2014': ['5.146'], '07/23/2014': ['0.09'], '07/24/2014': ['3.347'], '07/25/2014': ['2'], '07/26/2014': ['0'], '07/27/2014': ['1.692'], '07/28/2014': ['3.119'], '07/29/2014': ['0'], '07/30/2014': ['0'], '07/31/2014': ['0.134']}}, 'SurfaceRunoff': {'dataset': 'Runoff', 'dataSource': 'nldas', 'metadata': {'request_time': '11/30/2022 19:43:56', 'column_1': 'Date (GMT) (GMT)', 'column_2': 'Runoff', 'units': 'mm', 'Runoff_sum': '12.776', 'Runoff_mean': '0.412', 'Runoff_max': '5.425', 'Runoff_standard_deviation': '1.187', 'Runoff_variance': '1.408', 'Runoff_median': '0', 'Runoff_entropy': '2.468', 'Runoff_geometric_mean': '0', 'Runoff_skewness': '3.348', 'Runoff_root_mean_square': '1.238', 'Runoff_99_percentile': '5.425', 'Runoff_99_percentile_count': '1', 'Runoff_95_percentile': '3.503', 'Runoff_95_percentile_count': '1', 'Runoff_75_percentile': '0.03', 'Runoff_75_percentile_count': '8', 'Runoff_zero_count': '18', 'timeseries_timezone': 'GMT'}, 'data': {'07/01/2014': ['0.001'], '07/02/2014': ['0'], '07/03/2014': ['1.042'], '07/04/2014': ['5.425'], '07/05/2014': ['0'], '07/06/2014': ['0'], '07/07/2014': ['0'], '07/08/2014': ['0'], '07/09/2014': ['0.262'], '07/10/2014': ['0'], '07/11/2014': ['0'], '07/12/2014': ['0'], '07/13/2014': ['0'], '07/14/2014': ['0'], '07/15/2014': ['0.006'], '07/16/2014': ['2.466'], '07/17/2014': ['0'], '07/18/2014': ['0'], '07/19/2014': ['0.016'], '07/20/2014': ['0'], '07/21/2014': ['3.289'], '07/22/2014': ['0.027'], '07/23/2014': ['0'], '07/24/2014': ['0.136'], '07/25/2014': ['0.059'], '07/26/2014': ['0'], '07/27/2014': ['0.016'], '07/28/2014': ['0.031'], '07/29/2014': ['0'], '07/30/2014': ['0'], '07/31/2014': ['0']}}, 'SubsurfaceRunoff': {'dataset': 'Baseflow', 'dataSource': 'nldas', 'metadata': {'request_time': '11/30/2022 19:43:56', 'column_1': 'Date (GMT) (GMT)', 'column_2': 'Baseflow', 'units': 'mm', 'Baseflow_sum': '0.4370000000000001', 'Baseflow_mean': '0.014', 'Baseflow_max': '0.034', 'Baseflow_standard_deviation': '0.008', 'Baseflow_variance': '0', 'Baseflow_median': '0.011', 'Baseflow_entropy': '3.728', 'Baseflow_geometric_mean': '0.012', 'Baseflow_skewness': '1.015', 'Baseflow_root_mean_square': '0.016', 'Baseflow_99_percentile': '0.034', 'Baseflow_99_percentile_count': '1', 'Baseflow_95_percentile': '0.032', 'Baseflow_95_percentile_count': '2', 'Baseflow_75_percentile': '0.019', 'Baseflow_75_percentile_count': '9', 'Baseflow_zero_count': '0', 'timeseries_timezone': 'GMT'}, 'data': {'07/01/2014': ['0.034'], '07/02/2014': ['0.032'], '07/03/2014': ['0.028'], '07/04/2014': ['0.026'], '07/05/2014': ['0.024'], '07/06/2014': ['0.023'], '07/07/2014': ['0.021'], '07/08/2014': ['0.019'], '07/09/2014': ['0.019'], '07/10/2014': ['0.017'], '07/11/2014': ['0.017'], '07/12/2014': ['0.015'], '07/13/2014': ['0.014'], '07/14/2014': ['0.012'], '07/15/2014': ['0.012'], '07/16/2014': ['0.011'], '07/17/2014': ['0.01'], '07/18/2014': ['0.009'], '07/19/2014': ['0.007'], '07/20/2014': ['0.007'], '07/21/2014': ['0.007'], '07/22/2014': ['0.007'], '07/23/2014': ['0.008'], '07/24/2014': ['0.008'], '07/25/2014': ['0.008'], '07/26/2014': ['0.008'], '07/27/2014': ['0.007'], '07/28/2014': ['0.007'], '07/29/2014': ['0.007'], '07/30/2014': ['0.007'], '07/31/2014': ['0.006']}}, 'StreamHydrology': {'dataset': 'Streamflow', 'dataSource': 'constant', 'metadata': {'request_time': '11/30/2022 19:43:56', 'column_1': 'Date (GMT)', 'column_2': 'Streamflow', 'units': 'm^3/sec'}, 'data': {'07/01/2014': ['0.002'], '07/02/2014': ['0.002'], '07/03/2014': ['0.072'], '07/04/2014': ['0.368'], '07/05/2014': ['0.002'], '07/06/2014': ['0.002'], '07/07/2014': ['0.001'], '07/08/2014': ['0.001'], '07/09/2014': ['0.019'], '07/10/2014': ['0.001'], '07/11/2014': ['0.001'], '07/12/2014': ['0.001'], '07/13/2014': ['0.001'], '07/14/2014': ['0.001'], '07/15/2014': ['0.001'], '07/16/2014': ['0.167'], '07/17/2014': ['0.001'], '07/18/2014': ['0.001'], '07/19/2014': ['0.002'], '07/20/2014': ['0'], '07/21/2014': ['0.223'], '07/22/2014': ['0.002'], '07/23/2014': ['0.001'], '07/24/2014': ['0.01'], '07/25/2014': ['0.005'], '07/26/2014': ['0.001'], '07/27/2014': ['0.002'], '07/28/2014': ['0.003'], '07/29/2014': ['0'], '07/30/2014': ['0'], '07/31/2014': ['0']}}}, '9731240': {'Precipitation': {'dataset': 'Precipitation', 'dataSource': 'nldas', 'metadata': {'request_time': '11/30/2022 19:43:56', 'column_1': 'Date (GMT) (GMT)', 'column_2': 'Precipitation', 'units': 'mm', 'Precipitation_sum': '114.91699999999999', 'Precipitation_mean': '3.707', 'Precipitation_max': '28.09', 'Precipitation_standard_deviation': '7.521', 'Precipitation_variance': '56.564', 'Precipitation_median': '0.11', 'Precipitation_entropy': '3.566', 'Precipitation_geometric_mean': '0', 'Precipitation_skewness': '2.569', 'Precipitation_root_mean_square': '8.275', 'Precipitation_99_percentile': '28.09', 'Precipitation_99_percentile_count': '1', 'Precipitation_95_percentile': '27.451', 'Precipitation_95_percentile_count': '1', 'Precipitation_75_percentile': '3.309', 'Precipitation_75_percentile_count': '8', 'Precipitation_zero_count': '12', 'timeseries_timezone': 'GMT'}, 'data': {'07/01/2014': ['0.501'], '07/02/2014': ['0'], '07/03/2014': ['9.362'], '07/04/2014': ['27.38'], '07/05/2014': ['0'], '07/06/2014': ['0'], '07/07/2014': ['0'], '07/08/2014': ['0'], '07/09/2014': ['6.598'], '07/10/2014': ['0.11'], '07/11/2014': ['0.014'], '07/12/2014': ['0'], '07/13/2014': ['0'], '07/14/2014': ['0.079'], '07/15/2014': ['2.951'], '07/16/2014': ['19.09'], '07/17/2014': ['0'], '07/18/2014': ['0'], '07/19/2014': ['5.027'], '07/20/2014': ['0.187'], '07/21/2014': ['28.09'], '07/22/2014': ['5.146'], '07/23/2014': ['0.09'], '07/24/2014': ['3.347'], '07/25/2014': ['2'], '07/26/2014': ['0'], '07/27/2014': ['1.692'], '07/28/2014': ['3.119'], '07/29/2014': ['0'], '07/30/2014': ['0'], '07/31/2014': ['0.134']}}, 'SurfaceRunoff': {'dataset': 'Runoff', 'dataSource': 'nldas', 'metadata': {'request_time': '11/30/2022 19:43:56', 'column_1': 'Date (GMT) (GMT)', 'column_2': 'Runoff', 'units': 'mm', 'Runoff_sum': '12.776', 'Runoff_mean': '0.412', 'Runoff_max': '5.425', 'Runoff_standard_deviation': '1.187', 'Runoff_variance': '1.408', 'Runoff_median': '0', 'Runoff_entropy': '2.468', 'Runoff_geometric_mean': '0', 'Runoff_skewness': '3.348', 'Runoff_root_mean_square': '1.238', 'Runoff_99_percentile': '5.425', 'Runoff_99_percentile_count': '1', 'Runoff_95_percentile': '3.503', 'Runoff_95_percentile_count': '1', 'Runoff_75_percentile': '0.03', 'Runoff_75_percentile_count': '8', 'Runoff_zero_count': '18', 'timeseries_timezone': 'GMT'}, 'data': {'07/01/2014': ['0.001'], '07/02/2014': ['0'], '07/03/2014': ['1.042'], '07/04/2014': ['5.425'], '07/05/2014': ['0'], '07/06/2014': ['0'], '07/07/2014': ['0'], '07/08/2014': ['0'], '07/09/2014': ['0.262'], '07/10/2014': ['0'], '07/11/2014': ['0'], '07/12/2014': ['0'], '07/13/2014': ['0'], '07/14/2014': ['0'], '07/15/2014': ['0.006'], '07/16/2014': ['2.466'], '07/17/2014': ['0'], '07/18/2014': ['0'], '07/19/2014': ['0.016'], '07/20/2014': ['0'], '07/21/2014': ['3.289'], '07/22/2014': ['0.027'], '07/23/2014': ['0'], '07/24/2014': ['0.136'], '07/25/2014': ['0.059'], '07/26/2014': ['0'], '07/27/2014': ['0.016'], '07/28/2014': ['0.031'], '07/29/2014': ['0'], '07/30/2014': ['0'], '07/31/2014': ['0']}}, 'SubsurfaceRunoff': {'dataset': 'Baseflow', 'dataSource': 'nldas', 'metadata': {'request_time': '11/30/2022 19:43:56', 'column_1': 'Date (GMT) (GMT)', 'column_2': 'Baseflow', 'units': 'mm', 'Baseflow_sum': '0.4370000000000001', 'Baseflow_mean': '0.014', 'Baseflow_max': '0.034', 'Baseflow_standard_deviation': '0.008', 'Baseflow_variance': '0', 'Baseflow_median': '0.011', 'Baseflow_entropy': '3.728', 'Baseflow_geometric_mean': '0.012', 'Baseflow_skewness': '1.015', 'Baseflow_root_mean_square': '0.016', 'Baseflow_99_percentile': '0.034', 'Baseflow_99_percentile_count': '1', 'Baseflow_95_percentile': '0.032', 'Baseflow_95_percentile_count': '2', 'Baseflow_75_percentile': '0.019', 'Baseflow_75_percentile_count': '9', 'Baseflow_zero_count': '0', 'timeseries_timezone': 'GMT'}, 'data': {'07/01/2014': ['0.034'], '07/02/2014': ['0.032'], '07/03/2014': ['0.028'], '07/04/2014': ['0.026'], '07/05/2014': ['0.024'], '07/06/2014': ['0.023'], '07/07/2014': ['0.021'], '07/08/2014': ['0.019'], '07/09/2014': ['0.019'], '07/10/2014': ['0.017'], '07/11/2014': ['0.017'], '07/12/2014': ['0.015'], '07/13/2014': ['0.014'], '07/14/2014': ['0.012'], '07/15/2014': ['0.012'], '07/16/2014': ['0.011'], '07/17/2014': ['0.01'], '07/18/2014': ['0.009'], '07/19/2014': ['0.007'], '07/20/2014': ['0.007'], '07/21/2014': ['0.007'], '07/22/2014': ['0.007'], '07/23/2014': ['0.008'], '07/24/2014': ['0.008'], '07/25/2014': ['0.008'], '07/26/2014': ['0.008'], '07/27/2014': ['0.007'], '07/28/2014': ['0.007'], '07/29/2014': ['0.007'], '07/30/2014': ['0.007'], '07/31/2014': ['0.006']}}, 'StreamHydrology': {'dataset': 'Streamflow', 'dataSource': 'constant', 'metadata': {'request_time': '11/30/2022 19:43:56', 'column_1': 'Date (GMT)', 'column_2': 'Streamflow', 'units': 'm^3/sec'}, 'data': {'07/01/2014': ['0'], '07/02/2014': ['0'], '07/03/2014': ['0.012'], '07/04/2014': ['0.061'], '07/05/2014': ['0'], '07/06/2014': ['0'], '07/07/2014': ['0'], '07/08/2014': ['0'], '07/09/2014': ['0.003'], '07/10/2014': ['0'], '07/11/2014': ['0'], '07/12/2014': ['0'], '07/13/2014': ['0'], '07/14/2014': ['0'], '07/15/2014': ['0'], '07/16/2014': ['0.028'], '07/17/2014': ['0'], '07/18/2014': ['0'], '07/19/2014': ['0'], '07/20/2014': ['0'], '07/21/2014': ['0.037'], '07/22/2014': ['0'], '07/23/2014': ['0'], '07/24/2014': ['0.002'], '07/25/2014': ['0.001'], '07/26/2014': ['0'], '07/27/2014': ['0'], '07/28/2014': ['0'], '07/29/2014': ['0'], '07/30/2014': ['0'], '07/31/2014': ['0']}}}, '9731488': {'Precipitation': {'dataset': 'Precipitation', 'dataSource': 'nldas', 'metadata': {'request_time': '11/30/2022 19:43:56', 'column_1': 'Date (GMT) (GMT)', 'column_2': 'Precipitation', 'units': 'mm', 'Precipitation_sum': '111.13300000000001', 'Precipitation_mean': '3.585', 'Precipitation_max': '22.85', 'Precipitation_standard_deviation': '6.235', 'Precipitation_variance': '38.874', 'Precipitation_median': '0.067', 'Precipitation_entropy': '3.566', 'Precipitation_geometric_mean': '0', 'Precipitation_skewness': '1.96', 'Precipitation_root_mean_square': '7.104', 'Precipitation_99_percentile': '22.85', 'Precipitation_99_percentile_count': '1', 'Precipitation_95_percentile': '20.564', 'Precipitation_95_percentile_count': '1', 'Precipitation_75_percentile': '4.171', 'Precipitation_75_percentile_count': '8', 'Precipitation_zero_count': '12', 'timeseries_timezone': 'GMT'}, 'data': {'07/01/2014': ['0.215'], '07/02/2014': ['0'], '07/03/2014': ['11.85'], '07/04/2014': ['20.31'], '07/05/2014': ['0'], '07/06/2014': ['0'], '07/07/2014': ['0'], '07/08/2014': ['0.003'], '07/09/2014': ['10.64'], '07/10/2014': ['0.067'], '07/11/2014': ['0.032'], '07/12/2014': ['0'], '07/13/2014': ['0'], '07/14/2014': ['0'], '07/15/2014': ['5.968'], '07/16/2014': ['14.19'], '07/17/2014': ['0'], '07/18/2014': ['0'], '07/19/2014': ['3.328'], '07/20/2014': ['0.354'], '07/21/2014': ['22.85'], '07/22/2014': ['9.652'], '07/23/2014': ['0.412'], '07/24/2014': ['4.34'], '07/25/2014': ['2.546'], '07/26/2014': ['0'], '07/27/2014': ['2.282'], '07/28/2014': ['2.072'], '07/29/2014': ['0'], '07/30/2014': ['0'], '07/31/2014': ['0.022']}}, 'SurfaceRunoff': {'dataset': 'Runoff', 'dataSource': 'nldas', 'metadata': {'request_time': '11/30/2022 19:43:56', 'column_1': 'Date (GMT) (GMT)', 'column_2': 'Runoff', 'units': 'mm', 'Runoff_sum': '11.332000000000003', 'Runoff_mean': '0.366', 'Runoff_max': '3.432', 'Runoff_standard_deviation': '0.849', 'Runoff_variance': '0.721', 'Runoff_median': '0', 'Runoff_entropy': '2.351', 'Runoff_geometric_mean': '0', 'Runoff_skewness': '2.655', 'Runoff_root_mean_square': '0.912', 'Runoff_99_percentile': '3.432', 'Runoff_99_percentile_count': '1', 'Runoff_95_percentile': '2.822', 'Runoff_95_percentile_count': '1', 'Runoff_75_percentile': '0.098', 'Runoff_75_percentile_count': '8', 'Runoff_zero_count': '19', 'timeseries_timezone': 'GMT'}, 'data': {'07/01/2014': ['0'], '07/02/2014': ['0'], '07/03/2014': ['1.714'], '07/04/2014': ['3.432'], '07/05/2014': ['0'], '07/06/2014': ['0'], '07/07/2014': ['0'], '07/08/2014': ['0'], '07/09/2014': ['0.733'], '07/10/2014': ['0'], '07/11/2014': ['0'], '07/12/2014': ['0'], '07/13/2014': ['0'], '07/14/2014': ['0'], '07/15/2014': ['0.208'], '07/16/2014': ['1.554'], '07/17/2014': ['0'], '07/18/2014': ['0'], '07/19/2014': ['0.008'], '07/20/2014': ['0'], '07/21/2014': ['2.754'], '07/22/2014': ['0.665'], '07/23/2014': ['0'], '07/24/2014': ['0.086'], '07/25/2014': ['0.1'], '07/26/2014': ['0'], '07/27/2014': ['0.063'], '07/28/2014': ['0.015'], '07/29/2014': ['0'], '07/30/2014': ['0'], '07/31/2014': ['0']}}, 'SubsurfaceRunoff': {'dataset': 'Baseflow', 'dataSource': 'nldas', 'metadata': {'request_time': '11/30/2022 19:43:56', 'column_1': 'Date (GMT) (GMT)', 'column_2': 'Baseflow', 'units': 'mm', 'Baseflow_sum': '27.365', 'Baseflow_mean': '0.883', 'Baseflow_max': '0.971', 'Baseflow_standard_deviation': '0.052', 'Baseflow_variance': '0.003', 'Baseflow_median': '0.891', 'Baseflow_entropy': '4.761', 'Baseflow_geometric_mean': '0.881', 'Baseflow_skewness': '-0.512', 'Baseflow_root_mean_square': '0.884', 'Baseflow_99_percentile': '0.971', 'Baseflow_99_percentile_count': '1', 'Baseflow_95_percentile': '0.966', 'Baseflow_95_percentile_count': '1', 'Baseflow_75_percentile': '0.919', 'Baseflow_75_percentile_count': '8', 'Baseflow_zero_count': '0', 'timeseries_timezone': 'GMT'}, 'data': {'07/01/2014': ['0.764'], '07/02/2014': ['0.797'], '07/03/2014': ['0.796'], '07/04/2014': ['0.796'], '07/05/2014': ['0.811'], '07/06/2014': ['0.834'], '07/07/2014': ['0.858'], '07/08/2014': ['0.88'], '07/09/2014': ['0.896'], '07/10/2014': ['0.909'], '07/11/2014': ['0.917'], '07/12/2014': ['0.921'], '07/13/2014': ['0.922'], '07/14/2014': ['0.919'], '07/15/2014': ['0.914'], '07/16/2014': ['0.906'], '07/17/2014': ['0.899'], '07/18/2014': ['0.891'], '07/19/2014': ['0.883'], '07/20/2014': ['0.875'], '07/21/2014': ['0.865'], '07/22/2014': ['0.857'], '07/23/2014': ['0.855'], '07/24/2014': ['0.864'], '07/25/2014': ['0.88'], '07/26/2014': ['0.901'], '07/27/2014': ['0.922'], '07/28/2014': ['0.941'], '07/29/2014': ['0.956'], '07/30/2014': ['0.965'], '07/31/2014': ['0.971']}}, 'StreamHydrology': {'dataset': 'Streamflow', 'dataSource': 'constant', 'metadata': {'request_time': '11/30/2022 19:43:56', 'column_1': 'Date (GMT)', 'column_2': 'Streamflow', 'units': 'm^3/sec'}, 'data': {'07/01/2014': ['0.072'], '07/02/2014': ['0.075'], '07/03/2014': ['0.238'], '07/04/2014': ['0.4'], '07/05/2014': ['0.077'], '07/06/2014': ['0.079'], '07/07/2014': ['0.081'], '07/08/2014': ['0.083'], '07/09/2014': ['0.154'], '07/10/2014': ['0.086'], '07/11/2014': ['0.087'], '07/12/2014': ['0.087'], '07/13/2014': ['0.087'], '07/14/2014': ['0.087'], '07/15/2014': ['0.106'], '07/16/2014': ['0.233'], '07/17/2014': ['0.085'], '07/18/2014': ['0.084'], '07/19/2014': ['0.084'], '07/20/2014': ['0.083'], '07/21/2014': ['0.343'], '07/22/2014': ['0.144'], '07/23/2014': ['0.081'], '07/24/2014': ['0.09'], '07/25/2014': ['0.093'], '07/26/2014': ['0.085'], '07/27/2014': ['0.093'], '07/28/2014': ['0.091'], '07/29/2014': ['0.09'], '07/30/2014': ['0.091'], '07/31/2014': ['0.092']}}}, '9731490': {'Precipitation': {'dataset': 'Precipitation', 'dataSource': 'nldas', 'metadata': {'request_time': '11/30/2022 19:43:56', 'column_1': 'Date (GMT) (GMT)', 'column_2': 'Precipitation', 'units': 'mm', 'Precipitation_sum': '111.13300000000001', 'Precipitation_mean': '3.585', 'Precipitation_max': '22.85', 'Precipitation_standard_deviation': '6.235', 'Precipitation_variance': '38.874', 'Precipitation_median': '0.067', 'Precipitation_entropy': '3.566', 'Precipitation_geometric_mean': '0', 'Precipitation_skewness': '1.96', 'Precipitation_root_mean_square': '7.104', 'Precipitation_99_percentile': '22.85', 'Precipitation_99_percentile_count': '1', 'Precipitation_95_percentile': '20.564', 'Precipitation_95_percentile_count': '1', 'Precipitation_75_percentile': '4.171', 'Precipitation_75_percentile_count': '8', 'Precipitation_zero_count': '12', 'timeseries_timezone': 'GMT'}, 'data': {'07/01/2014': ['0.215'], '07/02/2014': ['0'], '07/03/2014': ['11.85'], '07/04/2014': ['20.31'], '07/05/2014': ['0'], '07/06/2014': ['0'], '07/07/2014': ['0'], '07/08/2014': ['0.003'], '07/09/2014': ['10.64'], '07/10/2014': ['0.067'], '07/11/2014': ['0.032'], '07/12/2014': ['0'], '07/13/2014': ['0'], '07/14/2014': ['0'], '07/15/2014': ['5.968'], '07/16/2014': ['14.19'], '07/17/2014': ['0'], '07/18/2014': ['0'], '07/19/2014': ['3.328'], '07/20/2014': ['0.354'], '07/21/2014': ['22.85'], '07/22/2014': ['9.652'], '07/23/2014': ['0.412'], '07/24/2014': ['4.34'], '07/25/2014': ['2.546'], '07/26/2014': ['0'], '07/27/2014': ['2.282'], '07/28/2014': ['2.072'], '07/29/2014': ['0'], '07/30/2014': ['0'], '07/31/2014': ['0.022']}}, 'SurfaceRunoff': {'dataset': 'Runoff', 'dataSource': 'nldas', 'metadata': {'request_time': '11/30/2022 19:43:56', 'column_1': 'Date (GMT) (GMT)', 'column_2': 'Runoff', 'units': 'mm', 'Runoff_sum': '11.332000000000003', 'Runoff_mean': '0.366', 'Runoff_max': '3.432', 'Runoff_standard_deviation': '0.849', 'Runoff_variance': '0.721', 'Runoff_median': '0', 'Runoff_entropy': '2.351', 'Runoff_geometric_mean': '0', 'Runoff_skewness': '2.655', 'Runoff_root_mean_square': '0.912', 'Runoff_99_percentile': '3.432', 'Runoff_99_percentile_count': '1', 'Runoff_95_percentile': '2.822', 'Runoff_95_percentile_count': '1', 'Runoff_75_percentile': '0.098', 'Runoff_75_percentile_count': '8', 'Runoff_zero_count': '19', 'timeseries_timezone': 'GMT'}, 'data': {'07/01/2014': ['0'], '07/02/2014': ['0'], '07/03/2014': ['1.714'], '07/04/2014': ['3.432'], '07/05/2014': ['0'], '07/06/2014': ['0'], '07/07/2014': ['0'], '07/08/2014': ['0'], '07/09/2014': ['0.733'], '07/10/2014': ['0'], '07/11/2014': ['0'], '07/12/2014': ['0'], '07/13/2014': ['0'], '07/14/2014': ['0'], '07/15/2014': ['0.208'], '07/16/2014': ['1.554'], '07/17/2014': ['0'], '07/18/2014': ['0'], '07/19/2014': ['0.008'], '07/20/2014': ['0'], '07/21/2014': ['2.754'], '07/22/2014': ['0.665'], '07/23/2014': ['0'], '07/24/2014': ['0.086'], '07/25/2014': ['0.1'], '07/26/2014': ['0'], '07/27/2014': ['0.063'], '07/28/2014': ['0.015'], '07/29/2014': ['0'], '07/30/2014': ['0'], '07/31/2014': ['0']}}, 'SubsurfaceRunoff': {'dataset': 'Baseflow', 'dataSource': 'nldas', 'metadata': {'request_time': '11/30/2022 19:43:56', 'column_1': 'Date (GMT) (GMT)', 'column_2': 'Baseflow', 'units': 'mm', 'Baseflow_sum': '27.365', 'Baseflow_mean': '0.883', 'Baseflow_max': '0.971', 'Baseflow_standard_deviation': '0.052', 'Baseflow_variance': '0.003', 'Baseflow_median': '0.891', 'Baseflow_entropy': '4.761', 'Baseflow_geometric_mean': '0.881', 'Baseflow_skewness': '-0.512', 'Baseflow_root_mean_square': '0.884', 'Baseflow_99_percentile': '0.971', 'Baseflow_99_percentile_count': '1', 'Baseflow_95_percentile': '0.966', 'Baseflow_95_percentile_count': '1', 'Baseflow_75_percentile': '0.919', 'Baseflow_75_percentile_count': '8', 'Baseflow_zero_count': '0', 'timeseries_timezone': 'GMT'}, 'data': {'07/01/2014': ['0.764'], '07/02/2014': ['0.797'], '07/03/2014': ['0.796'], '07/04/2014': ['0.796'], '07/05/2014': ['0.811'], '07/06/2014': ['0.834'], '07/07/2014': ['0.858'], '07/08/2014': ['0.88'], '07/09/2014': ['0.896'], '07/10/2014': ['0.909'], '07/11/2014': ['0.917'], '07/12/2014': ['0.921'], '07/13/2014': ['0.922'], '07/14/2014': ['0.919'], '07/15/2014': ['0.914'], '07/16/2014': ['0.906'], '07/17/2014': ['0.899'], '07/18/2014': ['0.891'], '07/19/2014': ['0.883'], '07/20/2014': ['0.875'], '07/21/2014': ['0.865'], '07/22/2014': ['0.857'], '07/23/2014': ['0.855'], '07/24/2014': ['0.864'], '07/25/2014': ['0.88'], '07/26/2014': ['0.901'], '07/27/2014': ['0.922'], '07/28/2014': ['0.941'], '07/29/2014': ['0.956'], '07/30/2014': ['0.965'], '07/31/2014': ['0.971']}}, 'StreamHydrology': {'dataset': 'Streamflow', 'dataSource': 'constant', 'metadata': {'request_time': '11/30/2022 19:43:56', 'column_1': 'Date (GMT)', 'column_2': 'Streamflow', 'units': 'm^3/sec'}, 'data': {'07/01/2014': ['0.017'], '07/02/2014': ['0.018'], '07/03/2014': ['0.055'], '07/04/2014': ['0.093'], '07/05/2014': ['0.018'], '07/06/2014': ['0.018'], '07/07/2014': ['0.019'], '07/08/2014': ['0.019'], '07/09/2014': ['0.036'], '07/10/2014': ['0.02'], '07/11/2014': ['0.02'], '07/12/2014': ['0.02'], '07/13/2014': ['0.02'], '07/14/2014': ['0.02'], '07/15/2014': ['0.025'], '07/16/2014': ['0.054'], '07/17/2014': ['0.02'], '07/18/2014': ['0.02'], '07/19/2014': ['0.02'], '07/20/2014': ['0.019'], '07/21/2014': ['0.08'], '07/22/2014': ['0.034'], '07/23/2014': ['0.019'], '07/24/2014': ['0.021'], '07/25/2014': ['0.022'], '07/26/2014': ['0.02'], '07/27/2014': ['0.022'], '07/28/2014': ['0.021'], '07/29/2014': ['0.021'], '07/30/2014': ['0.021'], '07/31/2014': ['0.021']}}}, '9731496': {'Precipitation': {'dataset': 'Precipitation', 'dataSource': 'nldas', 'metadata': {'request_time': '11/30/2022 19:43:56', 'column_1': 'Date (GMT) (GMT)', 'column_2': 'Precipitation', 'units': 'mm', 'Precipitation_sum': '111.13300000000001', 'Precipitation_mean': '3.585', 'Precipitation_max': '22.85', 'Precipitation_standard_deviation': '6.235', 'Precipitation_variance': '38.874', 'Precipitation_median': '0.067', 'Precipitation_entropy': '3.566', 'Precipitation_geometric_mean': '0', 'Precipitation_skewness': '1.96', 'Precipitation_root_mean_square': '7.104', 'Precipitation_99_percentile': '22.85', 'Precipitation_99_percentile_count': '1', 'Precipitation_95_percentile': '20.564', 'Precipitation_95_percentile_count': '1', 'Precipitation_75_percentile': '4.171', 'Precipitation_75_percentile_count': '8', 'Precipitation_zero_count': '12', 'timeseries_timezone': 'GMT'}, 'data': {'07/01/2014': ['0.215'], '07/02/2014': ['0'], '07/03/2014': ['11.85'], '07/04/2014': ['20.31'], '07/05/2014': ['0'], '07/06/2014': ['0'], '07/07/2014': ['0'], '07/08/2014': ['0.003'], '07/09/2014': ['10.64'], '07/10/2014': ['0.067'], '07/11/2014': ['0.032'], '07/12/2014': ['0'], '07/13/2014': ['0'], '07/14/2014': ['0'], '07/15/2014': ['5.968'], '07/16/2014': ['14.19'], '07/17/2014': ['0'], '07/18/2014': ['0'], '07/19/2014': ['3.328'], '07/20/2014': ['0.354'], '07/21/2014': ['22.85'], '07/22/2014': ['9.652'], '07/23/2014': ['0.412'], '07/24/2014': ['4.34'], '07/25/2014': ['2.546'], '07/26/2014': ['0'], '07/27/2014': ['2.282'], '07/28/2014': ['2.072'], '07/29/2014': ['0'], '07/30/2014': ['0'], '07/31/2014': ['0.022']}}, 'SurfaceRunoff': {'dataset': 'Runoff', 'dataSource': 'nldas', 'metadata': {'request_time': '11/30/2022 19:43:56', 'column_1': 'Date (GMT) (GMT)', 'column_2': 'Runoff', 'units': 'mm', 'Runoff_sum': '11.332000000000003', 'Runoff_mean': '0.366', 'Runoff_max': '3.432', 'Runoff_standard_deviation': '0.849', 'Runoff_variance': '0.721', 'Runoff_median': '0', 'Runoff_entropy': '2.351', 'Runoff_geometric_mean': '0', 'Runoff_skewness': '2.655', 'Runoff_root_mean_square': '0.912', 'Runoff_99_percentile': '3.432', 'Runoff_99_percentile_count': '1', 'Runoff_95_percentile': '2.822', 'Runoff_95_percentile_count': '1', 'Runoff_75_percentile': '0.098', 'Runoff_75_percentile_count': '8', 'Runoff_zero_count': '19', 'timeseries_timezone': 'GMT'}, 'data': {'07/01/2014': ['0'], '07/02/2014': ['0'], '07/03/2014': ['1.714'], '07/04/2014': ['3.432'], '07/05/2014': ['0'], '07/06/2014': ['0'], '07/07/2014': ['0'], '07/08/2014': ['0'], '07/09/2014': ['0.733'], '07/10/2014': ['0'], '07/11/2014': ['0'], '07/12/2014': ['0'], '07/13/2014': ['0'], '07/14/2014': ['0'], '07/15/2014': ['0.208'], '07/16/2014': ['1.554'], '07/17/2014': ['0'], '07/18/2014': ['0'], '07/19/2014': ['0.008'], '07/20/2014': ['0'], '07/21/2014': ['2.754'], '07/22/2014': ['0.665'], '07/23/2014': ['0'], '07/24/2014': ['0.086'], '07/25/2014': ['0.1'], '07/26/2014': ['0'], '07/27/2014': ['0.063'], '07/28/2014': ['0.015'], '07/29/2014': ['0'], '07/30/2014': ['0'], '07/31/2014': ['0']}}, 'SubsurfaceRunoff': {'dataset': 'Baseflow', 'dataSource': 'nldas', 'metadata': {'request_time': '11/30/2022 19:43:56', 'column_1': 'Date (GMT) (GMT)', 'column_2': 'Baseflow', 'units': 'mm', 'Baseflow_sum': '27.365', 'Baseflow_mean': '0.883', 'Baseflow_max': '0.971', 'Baseflow_standard_deviation': '0.052', 'Baseflow_variance': '0.003', 'Baseflow_median': '0.891', 'Baseflow_entropy': '4.761', 'Baseflow_geometric_mean': '0.881', 'Baseflow_skewness': '-0.512', 'Baseflow_root_mean_square': '0.884', 'Baseflow_99_percentile': '0.971', 'Baseflow_99_percentile_count': '1', 'Baseflow_95_percentile': '0.966', 'Baseflow_95_percentile_count': '1', 'Baseflow_75_percentile': '0.919', 'Baseflow_75_percentile_count': '8', 'Baseflow_zero_count': '0', 'timeseries_timezone': 'GMT'}, 'data': {'07/01/2014': ['0.764'], '07/02/2014': ['0.797'], '07/03/2014': ['0.796'], '07/04/2014': ['0.796'], '07/05/2014': ['0.811'], '07/06/2014': ['0.834'], '07/07/2014': ['0.858'], '07/08/2014': ['0.88'], '07/09/2014': ['0.896'], '07/10/2014': ['0.909'], '07/11/2014': ['0.917'], '07/12/2014': ['0.921'], '07/13/2014': ['0.922'], '07/14/2014': ['0.919'], '07/15/2014': ['0.914'], '07/16/2014': ['0.906'], '07/17/2014': ['0.899'], '07/18/2014': ['0.891'], '07/19/2014': ['0.883'], '07/20/2014': ['0.875'], '07/21/2014': ['0.865'], '07/22/2014': ['0.857'], '07/23/2014': ['0.855'], '07/24/2014': ['0.864'], '07/25/2014': ['0.88'], '07/26/2014': ['0.901'], '07/27/2014': ['0.922'], '07/28/2014': ['0.941'], '07/29/2014': ['0.956'], '07/30/2014': ['0.965'], '07/31/2014': ['0.971']}}, 'StreamHydrology': {'dataset': 'Streamflow', 'dataSource': 'constant', 'metadata': {'request_time': '11/30/2022 19:43:56', 'column_1': 'Date (GMT)', 'column_2': 'Streamflow', 'units': 'm^3/sec'}, 'data': {'07/01/2014': ['0.018'], '07/02/2014': ['0.019'], '07/03/2014': ['0.058'], '07/04/2014': ['0.098'], '07/05/2014': ['0.019'], '07/06/2014': ['0.019'], '07/07/2014': ['0.02'], '07/08/2014': ['0.02'], '07/09/2014': ['0.038'], '07/10/2014': ['0.021'], '07/11/2014': ['0.021'], '07/12/2014': ['0.021'], '07/13/2014': ['0.021'], '07/14/2014': ['0.021'], '07/15/2014': ['0.026'], '07/16/2014': ['0.057'], '07/17/2014': ['0.021'], '07/18/2014': ['0.021'], '07/19/2014': ['0.021'], '07/20/2014': ['0.02'], '07/21/2014': ['0.084'], '07/22/2014': ['0.035'], '07/23/2014': ['0.02'], '07/24/2014': ['0.022'], '07/25/2014': ['0.023'], '07/26/2014': ['0.021'], '07/27/2014': ['0.023'], '07/28/2014': ['0.022'], '07/29/2014': ['0.022'], '07/30/2014': ['0.022'], '07/31/2014': ['0.023']}}}, '9731348': {'Precipitation': {'dataset': 'Precipitation', 'dataSource': 'nldas', 'metadata': {'request_time': '11/30/2022 19:43:56', 'column_1': 'Date (GMT) (GMT)', 'column_2': 'Precipitation', 'units': 'mm', 'Precipitation_sum': '155.78900000000002', 'Precipitation_mean': '5.025', 'Precipitation_max': '48.3', 'Precipitation_standard_deviation': '11.642', 'Precipitation_variance': '135.527', 'Precipitation_median': '0.187', 'Precipitation_entropy': '3.566', 'Precipitation_geometric_mean': '0', 'Precipitation_skewness': '3.081', 'Precipitation_root_mean_square': '12.506', 'Precipitation_99_percentile': '48.3', 'Precipitation_99_percentile_count': '1', 'Precipitation_95_percentile': '43.575', 'Precipitation_95_percentile_count': '1', 'Precipitation_75_percentile': '3.598', 'Precipitation_75_percentile_count': '8', 'Precipitation_zero_count': '12', 'timeseries_timezone': 'GMT'}, 'data': {'07/01/2014': ['0.051'], '07/02/2014': ['0'], '07/03/2014': ['1.328'], '07/04/2014': ['11.12'], '07/05/2014': ['0'], '07/06/2014': ['0'], '07/07/2014': ['0'], '07/08/2014': ['0'], '07/09/2014': ['5.53'], '07/10/2014': ['0.187'], '07/11/2014': ['0.127'], '07/12/2014': ['0'], '07/13/2014': ['0'], '07/14/2014': ['0'], '07/15/2014': ['11'], '07/16/2014': ['18.3'], '07/17/2014': ['0'], '07/18/2014': ['0.001'], '07/19/2014': ['2.971'], '07/20/2014': ['1.466'], '07/21/2014': ['43.05'], '07/22/2014': ['1.046'], '07/23/2014': ['0.479'], '07/24/2014': ['48.3'], '07/25/2014': ['3.724'], '07/26/2014': ['0'], '07/27/2014': ['4.125'], '07/28/2014': ['2.705'], '07/29/2014': ['0'], '07/30/2014': ['0'], '07/31/2014': ['0.279']}}, 'SurfaceRunoff': {'dataset': 'Runoff', 'dataSource': 'nldas', 'metadata': {'request_time': '11/30/2022 19:43:56', 'column_1': 'Date (GMT) (GMT)', 'column_2': 'Runoff', 'units': 'mm', 'Runoff_sum': '19.435', 'Runoff_mean': '0.627', 'Runoff_max': '9.093', 'Runoff_standard_deviation': '1.932', 'Runoff_variance': '3.733', 'Runoff_median': '0', 'Runoff_entropy': '2.351', 'Runoff_geometric_mean': '0', 'Runoff_skewness': '3.744', 'Runoff_root_mean_square': '2.001', 'Runoff_99_percentile': '9.093', 'Runoff_99_percentile_count': '1', 'Runoff_95_percentile': '6.313', 'Runoff_95_percentile_count': '1', 'Runoff_75_percentile': '0.029', 'Runoff_75_percentile_count': '8', 'Runoff_zero_count': '19', 'timeseries_timezone': 'GMT'}, 'data': {'07/01/2014': ['0'], '07/02/2014': ['0'], '07/03/2014': ['0.002'], '07/04/2014': ['0.856'], '07/05/2014': ['0'], '07/06/2014': ['0'], '07/07/2014': ['0'], '07/08/2014': ['0'], '07/09/2014': ['0.145'], '07/10/2014': ['0'], '07/11/2014': ['0'], '07/12/2014': ['0'], '07/13/2014': ['0'], '07/14/2014': ['0'], '07/15/2014': ['1.352'], '07/16/2014': ['1.665'], '07/17/2014': ['0'], '07/18/2014': ['0'], '07/19/2014': ['0.004'], '07/20/2014': ['0.007'], '07/21/2014': ['6.004'], '07/22/2014': ['0.001'], '07/23/2014': ['0'], '07/24/2014': ['9.093'], '07/25/2014': ['0'], '07/26/2014': ['0'], '07/27/2014': ['0.273'], '07/28/2014': ['0.033'], '07/29/2014': ['0'], '07/30/2014': ['0'], '07/31/2014': ['0']}}, 'SubsurfaceRunoff': {'dataset': 'Baseflow', 'dataSource': 'nldas', 'metadata': {'request_time': '11/30/2022 19:43:56', 'column_1': 'Date (GMT) (GMT)', 'column_2': 'Baseflow', 'units': 'mm', 'Baseflow_sum': '1.8050000000000006', 'Baseflow_mean': '0.058', 'Baseflow_max': '0.109', 'Baseflow_standard_deviation': '0.029', 'Baseflow_variance': '0.001', 'Baseflow_median': '0.054', 'Baseflow_entropy': '4.454', 'Baseflow_geometric_mean': '0.051', 'Baseflow_skewness': '0.292', 'Baseflow_root_mean_square': '0.065', 'Baseflow_99_percentile': '0.109', 'Baseflow_99_percentile_count': '1', 'Baseflow_95_percentile': '0.108', 'Baseflow_95_percentile_count': '2', 'Baseflow_75_percentile': '0.087', 'Baseflow_75_percentile_count': '8', 'Baseflow_zero_count': '0', 'timeseries_timezone': 'GMT'}, 'data': {'07/01/2014': ['0.109'], '07/02/2014': ['0.108'], '07/03/2014': ['0.102'], '07/04/2014': ['0.096'], '07/05/2014': ['0.088'], '07/06/2014': ['0.08'], '07/07/2014': ['0.073'], '07/08/2014': ['0.066'], '07/09/2014': ['0.061'], '07/10/2014': ['0.058'], '07/11/2014': ['0.054'], '07/12/2014': ['0.049'], '07/13/2014': ['0.043'], '07/14/2014': ['0.04'], '07/15/2014': ['0.035'], '07/16/2014': ['0.033'], '07/17/2014': ['0.028'], '07/18/2014': ['0.026'], '07/19/2014': ['0.024'], '07/20/2014': ['0.024'], '07/21/2014': ['0.022'], '07/22/2014': ['0.024'], '07/23/2014': ['0.026'], '07/24/2014': ['0.028'], '07/25/2014': ['0.036'], '07/26/2014': ['0.054'], '07/27/2014': ['0.07'], '07/28/2014': ['0.082'], '07/29/2014': ['0.088'], '07/30/2014': ['0.09'], '07/31/2014': ['0.088']}}, 'StreamHydrology': {'dataset': 'Streamflow', 'dataSource': 'constant', 'metadata': {'request_time': '11/30/2022 19:43:56', 'column_1': 'Date (GMT)', 'column_2': 'Streamflow', 'units': 'm^3/sec'}, 'data': {'07/01/2014': ['0.829'], '07/02/2014': ['0.861'], '07/03/2014': ['2.897'], '07/04/2014': ['6.564'], '07/05/2014': ['0.87'], '07/06/2014': ['0.894'], '07/07/2014': ['0.918'], '07/08/2014': ['0.938'], '07/09/2014': ['2.091'], '07/10/2014': ['0.967'], '07/11/2014': ['0.975'], '07/12/2014': ['0.978'], '07/13/2014': ['0.977'], '07/14/2014': ['0.973'], '07/15/2014': ['2.33'], '07/16/2014': ['3.866'], '07/17/2014': ['0.95'], '07/18/2014': ['0.943'], '07/19/2014': ['0.948'], '07/20/2014': ['0.929'], '07/21/2014': ['5.448'], '07/22/2014': ['1.614'], '07/23/2014': ['0.913'], '07/24/2014': ['1.366'], '07/25/2014': ['1.082'], '07/26/2014': ['0.971'], '07/27/2014': ['1.101'], '07/28/2014': ['1.047'], '07/29/2014': ['1.035'], '07/30/2014': ['1.044'], '07/31/2014': ['1.048']}}}}, 'table': {'9731240': {'COMID': '9731240', 'FROMCOMID': '0', 'TOCOMID': '9731240', 'FROMHYDSEQ': '0', 'TOHYDSEQ': '250110573', 'DIRECTION': '712', 'ReachCode': '03050103000768', 'SLOPE': '0.01054198', 'AreaSqKM': '0.9612', 'StreamLeve': '4', 'StreamOrde': '1', 'ReachCode1': '03050103000768', 'LengthKM': '1.459', 'MeanAnnFlowM3PS': '0.010732085013', 'MeanAnnVelMPS': '0.200381616', 'COMMENTS': 'Headwater', 'FROMCOMIDS': '0', 'TOCOMIDS': '9731240', 'COMID_SEQ': '1'}, '9731252': {'COMID': '9731252', 'FROMCOMID': '0', 'TOCOMID': '9731252', 'FROMHYDSEQ': '0', 'TOHYDSEQ': '250110569', 'DIRECTION': '712', 'ReachCode': '03050103000767', 'SLOPE': '0.00336848', 'AreaSqKM': '8.856', 'StreamLeve': '5', 'StreamOrde': '1', 'ReachCode1': '03050103000767', 'LengthKM': '1.856', 'MeanAnnFlowM3PS': '0.09865589494799999', 'MeanAnnVelMPS': '0.24176736000000001', 'COMMENTS': 'Headwater', 'FROMCOMIDS': '0', 'TOCOMIDS': '9731252', 'COMID_SEQ': '2'}, '9731256': {'COMID': '9731256', 'FROMCOMID': '0', 'TOCOMID': '9731256', 'FROMHYDSEQ': '0', 'TOHYDSEQ': '250110568', 'DIRECTION': '712', 'ReachCode': '03050103000765', 'SLOPE': '0.00462522', 'AreaSqKM': '4.9392', 'StreamLeve': '6', 'StreamOrde': '1', 'ReachCode1': '03050103000765', 'LengthKM': '1.791', 'MeanAnnFlowM3PS': '0.056067357059999996', 'MeanAnnVelMPS': '0.23010571200000002', 'COMMENTS': 'Headwater', 'FROMCOMIDS': '0', 'TOCOMIDS': '9731256', 'COMID_SEQ': '3'}, '9731474': {'COMID': '9731474', 'FROMCOMID': '0', 'TOCOMID': '9731474', 'FROMHYDSEQ': '0', 'TOHYDSEQ': '250110536', 'DIRECTION': '712', 'ReachCode': '03050103000253', 'SLOPE': '0.00834335', 'AreaSqKM': '4.7727', 'StreamLeve': '5', 'StreamOrde': '1', 'ReachCode1': '03050103000253', 'LengthKM': '3.476', 'MeanAnnFlowM3PS': '0.053717058759', 'MeanAnnVelMPS': '0.24221541600000002', 'COMMENTS': 'Headwater', 'FROMCOMIDS': '0', 'TOCOMIDS': '9731474', 'COMID_SEQ': '4'}, '9731478': {'COMID': '9731478', 'FROMCOMID': '0', 'TOCOMID': '9731478', 'FROMHYDSEQ': '0', 'TOHYDSEQ': '250110535', 'DIRECTION': '712', 'ReachCode': '03050103000764', 'SLOPE': '0.00782783', 'AreaSqKM': '2.2068', 'StreamLeve': '6', 'StreamOrde': '1', 'ReachCode1': '03050103000764', 'LengthKM': '2.393', 'MeanAnnFlowM3PS': '0.024975459054', 'MeanAnnVelMPS': '0.21694749600000002', 'COMMENTS': 'Headwater', 'FROMCOMIDS': '0', 'TOCOMIDS': '9731478', 'COMID_SEQ': '5'}, '9731488': {'COMID': '9731488', 'FROMCOMID': '0', 'TOCOMID': '9731488', 'FROMHYDSEQ': '0', 'TOHYDSEQ': '250110534', 'DIRECTION': '712', 'ReachCode': '03050103000769', 'SLOPE': '0.00611449', 'AreaSqKM': '8.181', 'StreamLeve': '5', 'StreamOrde': '1', 'ReachCode1': '03050103000769', 'LengthKM': '3.765', 'MeanAnnFlowM3PS': '0.125698483833', 'MeanAnnVelMPS': '0.25773888', 'COMMENTS': 'Headwater', 'FROMCOMIDS': '0', 'TOCOMIDS': '9731488', 'COMID_SEQ': '6'}, '9731490': {'COMID': '9731490', 'FROMCOMID': '0', 'TOCOMID': '9731490', 'FROMHYDSEQ': '0', 'TOHYDSEQ': '250110533', 'DIRECTION': '712', 'ReachCode': '03050103000770', 'SLOPE': '0.01336065', 'AreaSqKM': '1.9053', 'StreamLeve': '5', 'StreamOrde': '1', 'ReachCode1': '03050103000770', 'LengthKM': '2.223', 'MeanAnnFlowM3PS': '0.02067129831', 'MeanAnnVelMPS': '0.22297034400000001', 'COMMENTS': 'Headwater', 'FROMCOMIDS': '0', 'TOCOMIDS': '9731490', 'COMID_SEQ': '7'}, '9731496': {'COMID': '9731496', 'FROMCOMID': '0', 'TOCOMID': '9731496', 'FROMHYDSEQ': '0', 'TOHYDSEQ': '250110532', 'DIRECTION': '712', 'ReachCode': '03050103000771', 'SLOPE': '0.01436588', 'AreaSqKM': '2.0124', 'StreamLeve': '5', 'StreamOrde': '1', 'ReachCode1': '03050103000771', 'LengthKM': '2.413', 'MeanAnnFlowM3PS': '0.022002190119', 'MeanAnnVelMPS': '0.226198176', 'COMMENTS': 'Headwater', 'FROMCOMIDS': '0', 'TOCOMIDS': '9731496', 'COMID_SEQ': '8'}, '9731254': {'COMID': '9731254', 'FROMCOMID': '9731240', 'TOCOMID': '9731254', 'FROMHYDSEQ': '250110573', 'TOHYDSEQ': '250080605', 'DIRECTION': '709', 'ReachCode': '03050103000768', 'SLOPE': '0.00556844', 'AreaSqKM': '4.8744', 'StreamLeve': '4', 'StreamOrde': '1', 'ReachCode1': '03050103000768', 'LengthKM': '3.448', 'MeanAnnFlowM3PS': '0.06444914377199999', 'MeanAnnVelMPS': '0.23933505600000002', 'COMMENTS': '', 'FROMCOMIDS': '9731240', 'TOCOMIDS': '9731254', 'COMID_SEQ': '9'}, '9731260': {'COMID': '9731260', 'FROMCOMID': '9731256', 'TOCOMID': '9731260', 'FROMHYDSEQ': '250110568', 'TOHYDSEQ': '250080604', 'DIRECTION': '709', 'ReachCode': '03050103000252', 'SLOPE': '0.00270819', 'AreaSqKM': '5.8131', 'StreamLeve': '5', 'StreamOrde': '2', 'ReachCode1': '03050103000252', 'LengthKM': '1.477', 'MeanAnnFlowM3PS': '0.197566641519', 'MeanAnnVelMPS': '0.258138168', 'COMMENTS': '', 'FROMCOMIDS': '9731256,9731474', 'TOCOMIDS': '9731260', 'COMID_SEQ': '10'}, '9731484': {'COMID': '9731484', 'FROMCOMID': '9731260', 'TOCOMID': '9731484', 'FROMHYDSEQ': '250080604', 'TOHYDSEQ': '250065339', 'DIRECTION': '709', 'ReachCode': '03050103000251', 'SLOPE': '0.00223621', 'AreaSqKM': '38.1861', 'StreamLeve': '5', 'StreamOrde': '2', 'ReachCode1': '03050103000251', 'LengthKM': '12.387', 'MeanAnnFlowM3PS': '0.668645708211', 'MeanAnnVelMPS': '0.306647088', 'COMMENTS': '', 'FROMCOMIDS': '9731260,9731478', 'TOCOMIDS': '9731484', 'COMID_SEQ': '11'}, '9731486': {'COMID': '9731486', 'FROMCOMID': '9731252', 'TOCOMID': '9731486', 'FROMHYDSEQ': '250110569', 'TOHYDSEQ': '250065338', 'DIRECTION': '709', 'ReachCode': '03050103000766', 'SLOPE': '0.00242174', 'AreaSqKM': '26.7417', 'StreamLeve': '4', 'StreamOrde': '2', 'ReachCode1': '03050103000766', 'LengthKM': '12.14', 'MeanAnnFlowM3PS': '0.490759275357', 'MeanAnnVelMPS': '0.294869616', 'COMMENTS': '', 'FROMCOMIDS': '9731252,9731254', 'TOCOMIDS': '9731486', 'COMID_SEQ': '12'}, '9731288': {'COMID': '9731288', 'FROMCOMID': '9731484', 'TOCOMID': '9731288', 'FROMHYDSEQ': '250065339', 'TOHYDSEQ': '250056344', 'DIRECTION': '709', 'ReachCode': '03050103000250', 'SLOPE': '0.00001', 'AreaSqKM': '0.2835', 'StreamLeve': '4', 'StreamOrde': '3', 'ReachCode1': '03050103000250', 'LengthKM': '0.186', 'MeanAnnFlowM3PS': '1.476950105826', 'MeanAnnVelMPS': '0.198223632', 'COMMENTS': '', 'FROMCOMIDS': '9731484,9731486', 'TOCOMIDS': '9731288', 'COMID_SEQ': '13'}, '9731492': {'COMID': '9731492', 'FROMCOMID': '9731288', 'TOCOMID': '9731492', 'FROMHYDSEQ': '250056344', 'TOHYDSEQ': '250050270', 'DIRECTION': '709', 'ReachCode': '03050103000249', 'SLOPE': '0.00383542', 'AreaSqKM': '0.414', 'StreamLeve': '4', 'StreamOrde': '3', 'ReachCode1': '03050103000249', 'LengthKM': '0.717', 'MeanAnnFlowM3PS': '1.638356133726', 'MeanAnnVelMPS': '0.368094768', 'COMMENTS': '', 'FROMCOMIDS': '9731288,9731488', 'TOCOMIDS': '9731492', 'COMID_SEQ': '14'}, '9731296': {'COMID': '9731296', 'FROMCOMID': '9731490', 'TOCOMID': '9731296', 'FROMHYDSEQ': '250110533', 'TOHYDSEQ': '250045890', 'DIRECTION': '709', 'ReachCode': '03050103000248', 'SLOPE': '0.00234899', 'AreaSqKM': '4.1598', 'StreamLeve': '4', 'StreamOrde': '3', 'ReachCode1': '03050103000248', 'LengthKM': '1.639', 'MeanAnnFlowM3PS': '2.408687639514', 'MeanAnnVelMPS': '0.357746808', 'COMMENTS': '', 'FROMCOMIDS': '9731490,9731492', 'TOCOMIDS': '9731296', 'COMID_SEQ': '15'}, '9731340': {'COMID': '9731340', 'FROMCOMID': '9731296', 'TOCOMID': '9731340', 'FROMHYDSEQ': '250045890', 'TOHYDSEQ': '250042483', 'DIRECTION': '709', 'ReachCode': '03050103000247', 'SLOPE': '0.00076783', 'AreaSqKM': '15.8814', 'StreamLeve': '4', 'StreamOrde': '3', 'ReachCode1': '03050103000247', 'LengthKM': '9.39', 'MeanAnnFlowM3PS': '2.6112663629519997', 'MeanAnnVelMPS': '0.32117690400000004', 'COMMENTS': '', 'FROMCOMIDS': '9731296,9731496', 'TOCOMIDS': '9731340', 'COMID_SEQ': '16'}, '9731344': {'COMID': '9731344', 'FROMCOMID': '9731340', 'TOCOMID': '9731344', 'FROMHYDSEQ': '250042483', 'TOHYDSEQ': '250039748', 'DIRECTION': '709', 'ReachCode': '03050103000246', 'SLOPE': '0.00001', 'AreaSqKM': '0.0072', 'StreamLeve': '4', 'StreamOrde': '3', 'ReachCode1': '03050103000246', 'LengthKM': '0.102', 'MeanAnnFlowM3PS': '2.6113513134929995', 'MeanAnnVelMPS': '0.207922368', 'COMMENTS': '', 'FROMCOMIDS': '9731340', 'TOCOMIDS': '9731344,9731348', 'COMID_SEQ': '17'}, '9731348': {'COMID': '9731348', 'FROMCOMID': '9731340', 'TOCOMID': '9731348', 'FROMHYDSEQ': '250042483', 'TOHYDSEQ': '250039747', 'DIRECTION': '709', 'ReachCode': '03050103000772', 'SLOPE': '0.00001', 'AreaSqKM': '0.0396', 'StreamLeve': '5', 'StreamOrde': '3', 'ReachCode1': '03050103000772', 'LengthKM': '0.318', 'MeanAnnFlowM3PS': '0.00045306955199999997', 'MeanAnnVelMPS': '0.110935008', 'COMMENTS': '', 'FROMCOMIDS': '9731340', 'TOCOMIDS': '9731344,9731348', 'COMID_SEQ': '18'}, '9731358': {'COMID': '9731358', 'FROMCOMID': '9731344', 'TOCOMID': '9731358', 'FROMHYDSEQ': '250039748', 'TOHYDSEQ': '250037493', 'DIRECTION': '709', 'ReachCode': '03050103000245', 'SLOPE': '0.00184906', 'AreaSqKM': '1.8207', 'StreamLeve': '4', 'StreamOrde': '3', 'ReachCode1': '03050103000245', 'LengthKM': '3.856', 'MeanAnnFlowM3PS': '2.6330986519889996', 'MeanAnnVelMPS': '0.355978968', 'COMMENTS': ' Pour point', 'FROMCOMIDS': '9731344,9731348', 'TOCOMIDS': '9731358', 'COMID_SEQ': '19'}}}\n"
     ]
    }
   ],
   "source": [
    "print(response.json())\n",
    "output1 = response.json()"
   ]
  },
  {
   "cell_type": "code",
   "execution_count": 11,
   "id": "6429e4ba",
   "metadata": {},
   "outputs": [
    {
     "data": {
      "text/plain": [
       "dict"
      ]
     },
     "execution_count": 11,
     "metadata": {},
     "output_type": "execute_result"
    }
   ],
   "source": [
    "type(output1)"
   ]
  },
  {
   "cell_type": "code",
   "execution_count": 12,
   "id": "60429c28",
   "metadata": {},
   "outputs": [
    {
     "data": {
      "text/plain": [
       "dict_keys(['dataset', 'dataSource', 'metadata', 'data', 'table'])"
      ]
     },
     "execution_count": 12,
     "metadata": {},
     "output_type": "execute_result"
    }
   ],
   "source": [
    "output1.keys()"
   ]
  },
  {
   "cell_type": "code",
   "execution_count": 13,
   "id": "fae2f82e",
   "metadata": {},
   "outputs": [
    {
     "data": {
      "text/plain": [
       "'Precipitation, SurfaceRunoff, SubsurfaceRunoff, StreamHydrology'"
      ]
     },
     "execution_count": 13,
     "metadata": {},
     "output_type": "execute_result"
    }
   ],
   "source": [
    "output1['dataset']"
   ]
  },
  {
   "cell_type": "code",
   "execution_count": 14,
   "id": "f61613dc",
   "metadata": {},
   "outputs": [
    {
     "data": {
      "text/plain": [
       "dict_items([('dataset', 'Precipitation, SurfaceRunoff, SubsurfaceRunoff, StreamHydrology'), ('dataSource', 'nldas, nldas, nldas, constant'), ('metadata', {'request_url': 'api/workflow/watershed', 'start_date': '07/01/2014 01:00:00', 'end_date': '08/08/2014 00:00:00', 'timestep': 'daily', 'errors': '', 'catchments': '9731358,9731344,9731340,9731296,9731492,9731288,9731484,9731260,9731474,9731478,9731256,9731486,9731252,9731254,9731240,9731488,9731490,9731496,9731348', 'connectivity_table_source': 'PlusFlowlineVAA', 'NHDPlus_url': 'http://www.horizon-systems.com/nhdplus/NHDPlusV2_data.php', 'Time_elapsed': '0.48941666666666667'}), ('data', {'9731358': {'Precipitation': {'dataset': 'Precipitation', 'dataSource': 'nldas', 'metadata': {'request_time': '06/17/2022 13:30:28', 'column_1': 'Date (GMT) (GMT)', 'column_2': 'Precipitation', 'units': 'mm', 'Precipitation_sum': '155.78900000000002', 'Precipitation_mean': '5.025', 'Precipitation_max': '48.3', 'Precipitation_standard_deviation': '11.642', 'Precipitation_variance': '135.527', 'Precipitation_median': '0.187', 'Precipitation_entropy': '3.566', 'Precipitation_geometric_mean': '0', 'Precipitation_skewness': '3.081', 'Precipitation_root_mean_square': '12.506', 'Precipitation_99_percentile': '48.3', 'Precipitation_99_percentile_count': '1', 'Precipitation_95_percentile': '43.575', 'Precipitation_95_percentile_count': '1', 'Precipitation_75_percentile': '3.598', 'Precipitation_75_percentile_count': '8', 'Precipitation_zero_count': '12', 'timeseries_timezone': 'GMT'}, 'data': {'07/01/2014': ['0.051'], '07/02/2014': ['0'], '07/03/2014': ['1.328'], '07/04/2014': ['11.12'], '07/05/2014': ['0'], '07/06/2014': ['0'], '07/07/2014': ['0'], '07/08/2014': ['0'], '07/09/2014': ['5.53'], '07/10/2014': ['0.187'], '07/11/2014': ['0.127'], '07/12/2014': ['0'], '07/13/2014': ['0'], '07/14/2014': ['0'], '07/15/2014': ['11'], '07/16/2014': ['18.3'], '07/17/2014': ['0'], '07/18/2014': ['0.001'], '07/19/2014': ['2.971'], '07/20/2014': ['1.466'], '07/21/2014': ['43.05'], '07/22/2014': ['1.046'], '07/23/2014': ['0.479'], '07/24/2014': ['48.3'], '07/25/2014': ['3.724'], '07/26/2014': ['0'], '07/27/2014': ['4.125'], '07/28/2014': ['2.705'], '07/29/2014': ['0'], '07/30/2014': ['0'], '07/31/2014': ['0.279']}}, 'SurfaceRunoff': {'dataset': 'Runoff', 'dataSource': 'nldas', 'metadata': {'request_time': '06/17/2022 13:30:28', 'column_1': 'Date (GMT) (GMT)', 'column_2': 'Runoff', 'units': 'mm', 'Runoff_sum': '19.435', 'Runoff_mean': '0.627', 'Runoff_max': '9.093', 'Runoff_standard_deviation': '1.932', 'Runoff_variance': '3.733', 'Runoff_median': '0', 'Runoff_entropy': '2.351', 'Runoff_geometric_mean': '0', 'Runoff_skewness': '3.744', 'Runoff_root_mean_square': '2.001', 'Runoff_99_percentile': '9.093', 'Runoff_99_percentile_count': '1', 'Runoff_95_percentile': '6.313', 'Runoff_95_percentile_count': '1', 'Runoff_75_percentile': '0.029', 'Runoff_75_percentile_count': '8', 'Runoff_zero_count': '19', 'timeseries_timezone': 'GMT'}, 'data': {'07/01/2014': ['0'], '07/02/2014': ['0'], '07/03/2014': ['0.002'], '07/04/2014': ['0.856'], '07/05/2014': ['0'], '07/06/2014': ['0'], '07/07/2014': ['0'], '07/08/2014': ['0'], '07/09/2014': ['0.145'], '07/10/2014': ['0'], '07/11/2014': ['0'], '07/12/2014': ['0'], '07/13/2014': ['0'], '07/14/2014': ['0'], '07/15/2014': ['1.352'], '07/16/2014': ['1.665'], '07/17/2014': ['0'], '07/18/2014': ['0'], '07/19/2014': ['0.004'], '07/20/2014': ['0.007'], '07/21/2014': ['6.004'], '07/22/2014': ['0.001'], '07/23/2014': ['0'], '07/24/2014': ['9.093'], '07/25/2014': ['0'], '07/26/2014': ['0'], '07/27/2014': ['0.273'], '07/28/2014': ['0.033'], '07/29/2014': ['0'], '07/30/2014': ['0'], '07/31/2014': ['0']}}, 'SubsurfaceRunoff': {'dataset': 'Baseflow', 'dataSource': 'nldas', 'metadata': {'request_time': '06/17/2022 13:30:28', 'column_1': 'Date (GMT) (GMT)', 'column_2': 'Baseflow', 'units': 'mm', 'Baseflow_sum': '1.8050000000000006', 'Baseflow_mean': '0.058', 'Baseflow_max': '0.109', 'Baseflow_standard_deviation': '0.029', 'Baseflow_variance': '0.001', 'Baseflow_median': '0.054', 'Baseflow_entropy': '4.454', 'Baseflow_geometric_mean': '0.051', 'Baseflow_skewness': '0.292', 'Baseflow_root_mean_square': '0.065', 'Baseflow_99_percentile': '0.109', 'Baseflow_99_percentile_count': '1', 'Baseflow_95_percentile': '0.108', 'Baseflow_95_percentile_count': '2', 'Baseflow_75_percentile': '0.087', 'Baseflow_75_percentile_count': '8', 'Baseflow_zero_count': '0', 'timeseries_timezone': 'GMT'}, 'data': {'07/01/2014': ['0.109'], '07/02/2014': ['0.108'], '07/03/2014': ['0.102'], '07/04/2014': ['0.096'], '07/05/2014': ['0.088'], '07/06/2014': ['0.08'], '07/07/2014': ['0.073'], '07/08/2014': ['0.066'], '07/09/2014': ['0.061'], '07/10/2014': ['0.058'], '07/11/2014': ['0.054'], '07/12/2014': ['0.049'], '07/13/2014': ['0.043'], '07/14/2014': ['0.04'], '07/15/2014': ['0.035'], '07/16/2014': ['0.033'], '07/17/2014': ['0.028'], '07/18/2014': ['0.026'], '07/19/2014': ['0.024'], '07/20/2014': ['0.024'], '07/21/2014': ['0.022'], '07/22/2014': ['0.024'], '07/23/2014': ['0.026'], '07/24/2014': ['0.028'], '07/25/2014': ['0.036'], '07/26/2014': ['0.054'], '07/27/2014': ['0.07'], '07/28/2014': ['0.082'], '07/29/2014': ['0.088'], '07/30/2014': ['0.09'], '07/31/2014': ['0.088']}}, 'StreamHydrology': {'dataset': 'Streamflow', 'dataSource': 'constant', 'metadata': {'request_time': '06/17/2022 13:30:28', 'column_1': 'Date (GMT)', 'column_2': 'Streamflow', 'units': 'm^3/sec'}, 'data': {'07/01/2014': ['1.66'], '07/02/2014': ['1.724'], '07/03/2014': ['5.796'], '07/04/2014': ['13.147'], '07/05/2014': ['1.743'], '07/06/2014': ['1.79'], '07/07/2014': ['1.837'], '07/08/2014': ['1.878'], '07/09/2014': ['4.186'], '07/10/2014': ['1.936'], '07/11/2014': ['1.952'], '07/12/2014': ['1.957'], '07/13/2014': ['1.955'], '07/14/2014': ['1.947'], '07/15/2014': ['4.689'], '07/16/2014': ['7.767'], '07/17/2014': ['1.901'], '07/18/2014': ['1.886'], '07/19/2014': ['1.896'], '07/20/2014': ['1.858'], '07/21/2014': ['11.021'], '07/22/2014': ['3.229'], '07/23/2014': ['1.826'], '07/24/2014': ['2.92'], '07/25/2014': ['2.165'], '07/26/2014': ['1.944'], '07/27/2014': ['2.21'], '07/28/2014': ['2.096'], '07/29/2014': ['2.072'], '07/30/2014': ['2.09'], '07/31/2014': ['2.098']}}}, '9731344': {'Precipitation': {'dataset': 'Precipitation', 'dataSource': 'nldas', 'metadata': {'request_time': '06/17/2022 13:30:28', 'column_1': 'Date (GMT) (GMT)', 'column_2': 'Precipitation', 'units': 'mm', 'Precipitation_sum': '155.78900000000002', 'Precipitation_mean': '5.025', 'Precipitation_max': '48.3', 'Precipitation_standard_deviation': '11.642', 'Precipitation_variance': '135.527', 'Precipitation_median': '0.187', 'Precipitation_entropy': '3.566', 'Precipitation_geometric_mean': '0', 'Precipitation_skewness': '3.081', 'Precipitation_root_mean_square': '12.506', 'Precipitation_99_percentile': '48.3', 'Precipitation_99_percentile_count': '1', 'Precipitation_95_percentile': '43.575', 'Precipitation_95_percentile_count': '1', 'Precipitation_75_percentile': '3.598', 'Precipitation_75_percentile_count': '8', 'Precipitation_zero_count': '12', 'timeseries_timezone': 'GMT'}, 'data': {'07/01/2014': ['0.051'], '07/02/2014': ['0'], '07/03/2014': ['1.328'], '07/04/2014': ['11.12'], '07/05/2014': ['0'], '07/06/2014': ['0'], '07/07/2014': ['0'], '07/08/2014': ['0'], '07/09/2014': ['5.53'], '07/10/2014': ['0.187'], '07/11/2014': ['0.127'], '07/12/2014': ['0'], '07/13/2014': ['0'], '07/14/2014': ['0'], '07/15/2014': ['11'], '07/16/2014': ['18.3'], '07/17/2014': ['0'], '07/18/2014': ['0.001'], '07/19/2014': ['2.971'], '07/20/2014': ['1.466'], '07/21/2014': ['43.05'], '07/22/2014': ['1.046'], '07/23/2014': ['0.479'], '07/24/2014': ['48.3'], '07/25/2014': ['3.724'], '07/26/2014': ['0'], '07/27/2014': ['4.125'], '07/28/2014': ['2.705'], '07/29/2014': ['0'], '07/30/2014': ['0'], '07/31/2014': ['0.279']}}, 'SurfaceRunoff': {'dataset': 'Runoff', 'dataSource': 'nldas', 'metadata': {'request_time': '06/17/2022 13:30:28', 'column_1': 'Date (GMT) (GMT)', 'column_2': 'Runoff', 'units': 'mm', 'Runoff_sum': '19.435', 'Runoff_mean': '0.627', 'Runoff_max': '9.093', 'Runoff_standard_deviation': '1.932', 'Runoff_variance': '3.733', 'Runoff_median': '0', 'Runoff_entropy': '2.351', 'Runoff_geometric_mean': '0', 'Runoff_skewness': '3.744', 'Runoff_root_mean_square': '2.001', 'Runoff_99_percentile': '9.093', 'Runoff_99_percentile_count': '1', 'Runoff_95_percentile': '6.313', 'Runoff_95_percentile_count': '1', 'Runoff_75_percentile': '0.029', 'Runoff_75_percentile_count': '8', 'Runoff_zero_count': '19', 'timeseries_timezone': 'GMT'}, 'data': {'07/01/2014': ['0'], '07/02/2014': ['0'], '07/03/2014': ['0.002'], '07/04/2014': ['0.856'], '07/05/2014': ['0'], '07/06/2014': ['0'], '07/07/2014': ['0'], '07/08/2014': ['0'], '07/09/2014': ['0.145'], '07/10/2014': ['0'], '07/11/2014': ['0'], '07/12/2014': ['0'], '07/13/2014': ['0'], '07/14/2014': ['0'], '07/15/2014': ['1.352'], '07/16/2014': ['1.665'], '07/17/2014': ['0'], '07/18/2014': ['0'], '07/19/2014': ['0.004'], '07/20/2014': ['0.007'], '07/21/2014': ['6.004'], '07/22/2014': ['0.001'], '07/23/2014': ['0'], '07/24/2014': ['9.093'], '07/25/2014': ['0'], '07/26/2014': ['0'], '07/27/2014': ['0.273'], '07/28/2014': ['0.033'], '07/29/2014': ['0'], '07/30/2014': ['0'], '07/31/2014': ['0']}}, 'SubsurfaceRunoff': {'dataset': 'Baseflow', 'dataSource': 'nldas', 'metadata': {'request_time': '06/17/2022 13:30:28', 'column_1': 'Date (GMT) (GMT)', 'column_2': 'Baseflow', 'units': 'mm', 'Baseflow_sum': '1.8050000000000006', 'Baseflow_mean': '0.058', 'Baseflow_max': '0.109', 'Baseflow_standard_deviation': '0.029', 'Baseflow_variance': '0.001', 'Baseflow_median': '0.054', 'Baseflow_entropy': '4.454', 'Baseflow_geometric_mean': '0.051', 'Baseflow_skewness': '0.292', 'Baseflow_root_mean_square': '0.065', 'Baseflow_99_percentile': '0.109', 'Baseflow_99_percentile_count': '1', 'Baseflow_95_percentile': '0.108', 'Baseflow_95_percentile_count': '2', 'Baseflow_75_percentile': '0.087', 'Baseflow_75_percentile_count': '8', 'Baseflow_zero_count': '0', 'timeseries_timezone': 'GMT'}, 'data': {'07/01/2014': ['0.109'], '07/02/2014': ['0.108'], '07/03/2014': ['0.102'], '07/04/2014': ['0.096'], '07/05/2014': ['0.088'], '07/06/2014': ['0.08'], '07/07/2014': ['0.073'], '07/08/2014': ['0.066'], '07/09/2014': ['0.061'], '07/10/2014': ['0.058'], '07/11/2014': ['0.054'], '07/12/2014': ['0.049'], '07/13/2014': ['0.043'], '07/14/2014': ['0.04'], '07/15/2014': ['0.035'], '07/16/2014': ['0.033'], '07/17/2014': ['0.028'], '07/18/2014': ['0.026'], '07/19/2014': ['0.024'], '07/20/2014': ['0.024'], '07/21/2014': ['0.022'], '07/22/2014': ['0.024'], '07/23/2014': ['0.026'], '07/24/2014': ['0.028'], '07/25/2014': ['0.036'], '07/26/2014': ['0.054'], '07/27/2014': ['0.07'], '07/28/2014': ['0.082'], '07/29/2014': ['0.088'], '07/30/2014': ['0.09'], '07/31/2014': ['0.088']}}, 'StreamHydrology': {'dataset': 'Streamflow', 'dataSource': 'constant', 'metadata': {'request_time': '06/17/2022 13:30:28', 'column_1': 'Date (GMT)', 'column_2': 'Streamflow', 'units': 'm^3/sec'}, 'data': {'07/01/2014': ['0.829'], '07/02/2014': ['0.861'], '07/03/2014': ['2.897'], '07/04/2014': ['6.563'], '07/05/2014': ['0.87'], '07/06/2014': ['0.894'], '07/07/2014': ['0.918'], '07/08/2014': ['0.938'], '07/09/2014': ['2.091'], '07/10/2014': ['0.967'], '07/11/2014': ['0.975'], '07/12/2014': ['0.978'], '07/13/2014': ['0.977'], '07/14/2014': ['0.973'], '07/15/2014': ['2.329'], '07/16/2014': ['3.865'], '07/17/2014': ['0.95'], '07/18/2014': ['0.943'], '07/19/2014': ['0.948'], '07/20/2014': ['0.929'], '07/21/2014': ['5.446'], '07/22/2014': ['1.614'], '07/23/2014': ['0.913'], '07/24/2014': ['1.362'], '07/25/2014': ['1.082'], '07/26/2014': ['0.971'], '07/27/2014': ['1.101'], '07/28/2014': ['1.047'], '07/29/2014': ['1.035'], '07/30/2014': ['1.044'], '07/31/2014': ['1.048']}}}, '9731340': {'Precipitation': {'dataset': 'Precipitation', 'dataSource': 'nldas', 'metadata': {'request_time': '06/17/2022 13:30:28', 'column_1': 'Date (GMT) (GMT)', 'column_2': 'Precipitation', 'units': 'mm', 'Precipitation_sum': '157.54900000000004', 'Precipitation_mean': '5.082', 'Precipitation_max': '33.78', 'Precipitation_standard_deviation': '9.265', 'Precipitation_variance': '85.847', 'Precipitation_median': '0.085', 'Precipitation_entropy': '3.566', 'Precipitation_geometric_mean': '0', 'Precipitation_skewness': '1.868', 'Precipitation_root_mean_square': '10.436', 'Precipitation_99_percentile': '33.78', 'Precipitation_99_percentile_count': '1', 'Precipitation_95_percentile': '25.689', 'Precipitation_95_percentile_count': '1', 'Precipitation_75_percentile': '3.254', 'Precipitation_75_percentile_count': '8', 'Precipitation_zero_count': '12', 'timeseries_timezone': 'GMT'}, 'data': {'07/01/2014': ['0.625'], '07/02/2014': ['0'], '07/03/2014': ['3.803'], '07/04/2014': ['20.8'], '07/05/2014': ['0'], '07/06/2014': ['0'], '07/07/2014': ['0.017'], '07/08/2014': ['0'], '07/09/2014': ['18.82'], '07/10/2014': ['0.085'], '07/11/2014': ['0.061'], '07/12/2014': ['0'], '07/13/2014': ['0'], '07/14/2014': ['0'], '07/15/2014': ['20.56'], '07/16/2014': ['24.79'], '07/17/2014': ['0'], '07/18/2014': ['0'], '07/19/2014': ['2.9'], '07/20/2014': ['1.512'], '07/21/2014': ['33.78'], '07/22/2014': ['1.827'], '07/23/2014': ['0.437'], '07/24/2014': ['18.88'], '07/25/2014': ['3.274'], '07/26/2014': ['0'], '07/27/2014': ['3.153'], '07/28/2014': ['2.175'], '07/29/2014': ['0'], '07/30/2014': ['0'], '07/31/2014': ['0.05']}}, 'SurfaceRunoff': {'dataset': 'Runoff', 'dataSource': 'nldas', 'metadata': {'request_time': '06/17/2022 13:30:28', 'column_1': 'Date (GMT) (GMT)', 'column_2': 'Runoff', 'units': 'mm', 'Runoff_sum': '19.211', 'Runoff_mean': '0.62', 'Runoff_max': '4.466', 'Runoff_standard_deviation': '1.343', 'Runoff_variance': '1.805', 'Runoff_median': '0', 'Runoff_entropy': '2.89', 'Runoff_geometric_mean': '0', 'Runoff_skewness': '2.057', 'Runoff_root_mean_square': '1.46', 'Runoff_99_percentile': '4.466', 'Runoff_99_percentile_count': '1', 'Runoff_95_percentile': '4.07', 'Runoff_95_percentile_count': '1', 'Runoff_75_percentile': '0.09', 'Runoff_75_percentile_count': '8', 'Runoff_zero_count': '16', 'timeseries_timezone': 'GMT'}, 'data': {'07/01/2014': ['0.009'], '07/02/2014': ['0'], '07/03/2014': ['0.078'], '07/04/2014': ['4.466'], '07/05/2014': ['0'], '07/06/2014': ['0'], '07/07/2014': ['0'], '07/08/2014': ['0'], '07/09/2014': ['1.675'], '07/10/2014': ['0'], '07/11/2014': ['0'], '07/12/2014': ['0'], '07/13/2014': ['0'], '07/14/2014': ['0'], '07/15/2014': ['3.623'], '07/16/2014': ['3.311'], '07/17/2014': ['0'], '07/18/2014': ['0'], '07/19/2014': ['0.005'], '07/20/2014': ['0.01'], '07/21/2014': ['4.026'], '07/22/2014': ['0.008'], '07/23/2014': ['0.004'], '07/24/2014': ['1.72'], '07/25/2014': ['0.093'], '07/26/2014': ['0'], '07/27/2014': ['0.159'], '07/28/2014': ['0.024'], '07/29/2014': ['0'], '07/30/2014': ['0'], '07/31/2014': ['0']}}, 'SubsurfaceRunoff': {'dataset': 'Baseflow', 'dataSource': 'nldas', 'metadata': {'request_time': '06/17/2022 13:30:28', 'column_1': 'Date (GMT) (GMT)', 'column_2': 'Baseflow', 'units': 'mm', 'Baseflow_sum': '3.371', 'Baseflow_mean': '0.109', 'Baseflow_max': '0.201', 'Baseflow_standard_deviation': '0.044', 'Baseflow_variance': '0.002', 'Baseflow_median': '0.094', 'Baseflow_entropy': '4.825', 'Baseflow_geometric_mean': '0.101', 'Baseflow_skewness': '1.093', 'Baseflow_root_mean_square': '0.117', 'Baseflow_99_percentile': '0.201', 'Baseflow_99_percentile_count': '1', 'Baseflow_95_percentile': '0.198', 'Baseflow_95_percentile_count': '2', 'Baseflow_75_percentile': '0.119', 'Baseflow_75_percentile_count': '8', 'Baseflow_zero_count': '0', 'timeseries_timezone': 'GMT'}, 'data': {'07/01/2014': ['0.118'], '07/02/2014': ['0.116'], '07/03/2014': ['0.111'], '07/04/2014': ['0.107'], '07/05/2014': ['0.102'], '07/06/2014': ['0.098'], '07/07/2014': ['0.094'], '07/08/2014': ['0.09'], '07/09/2014': ['0.086'], '07/10/2014': ['0.085'], '07/11/2014': ['0.083'], '07/12/2014': ['0.078'], '07/13/2014': ['0.073'], '07/14/2014': ['0.07'], '07/15/2014': ['0.066'], '07/16/2014': ['0.064'], '07/17/2014': ['0.064'], '07/18/2014': ['0.066'], '07/19/2014': ['0.069'], '07/20/2014': ['0.074'], '07/21/2014': ['0.077'], '07/22/2014': ['0.087'], '07/23/2014': ['0.103'], '07/24/2014': ['0.119'], '07/25/2014': ['0.139'], '07/26/2014': ['0.163'], '07/27/2014': ['0.182'], '07/28/2014': ['0.196'], '07/29/2014': ['0.201'], '07/30/2014': ['0.198'], '07/31/2014': ['0.192']}}, 'StreamHydrology': {'dataset': 'Streamflow', 'dataSource': 'constant', 'metadata': {'request_time': '06/17/2022 13:30:28', 'column_1': 'Date (GMT)', 'column_2': 'Streamflow', 'units': 'm^3/sec'}, 'data': {'07/01/2014': ['0.829'], '07/02/2014': ['0.861'], '07/03/2014': ['2.897'], '07/04/2014': ['6.563'], '07/05/2014': ['0.87'], '07/06/2014': ['0.894'], '07/07/2014': ['0.918'], '07/08/2014': ['0.938'], '07/09/2014': ['2.091'], '07/10/2014': ['0.967'], '07/11/2014': ['0.975'], '07/12/2014': ['0.978'], '07/13/2014': ['0.977'], '07/14/2014': ['0.973'], '07/15/2014': ['2.329'], '07/16/2014': ['3.865'], '07/17/2014': ['0.95'], '07/18/2014': ['0.943'], '07/19/2014': ['0.948'], '07/20/2014': ['0.929'], '07/21/2014': ['5.445'], '07/22/2014': ['1.614'], '07/23/2014': ['0.913'], '07/24/2014': ['1.361'], '07/25/2014': ['1.082'], '07/26/2014': ['0.971'], '07/27/2014': ['1.101'], '07/28/2014': ['1.047'], '07/29/2014': ['1.035'], '07/30/2014': ['1.044'], '07/31/2014': ['1.048']}}}, '9731296': {'Precipitation': {'dataset': 'Precipitation', 'dataSource': 'nldas', 'metadata': {'request_time': '06/17/2022 13:30:28', 'column_1': 'Date (GMT) (GMT)', 'column_2': 'Precipitation', 'units': 'mm', 'Precipitation_sum': '111.13300000000001', 'Precipitation_mean': '3.585', 'Precipitation_max': '22.85', 'Precipitation_standard_deviation': '6.235', 'Precipitation_variance': '38.874', 'Precipitation_median': '0.067', 'Precipitation_entropy': '3.566', 'Precipitation_geometric_mean': '0', 'Precipitation_skewness': '1.96', 'Precipitation_root_mean_square': '7.104', 'Precipitation_99_percentile': '22.85', 'Precipitation_99_percentile_count': '1', 'Precipitation_95_percentile': '20.564', 'Precipitation_95_percentile_count': '1', 'Precipitation_75_percentile': '4.171', 'Precipitation_75_percentile_count': '8', 'Precipitation_zero_count': '12', 'timeseries_timezone': 'GMT'}, 'data': {'07/01/2014': ['0.215'], '07/02/2014': ['0'], '07/03/2014': ['11.85'], '07/04/2014': ['20.31'], '07/05/2014': ['0'], '07/06/2014': ['0'], '07/07/2014': ['0'], '07/08/2014': ['0.003'], '07/09/2014': ['10.64'], '07/10/2014': ['0.067'], '07/11/2014': ['0.032'], '07/12/2014': ['0'], '07/13/2014': ['0'], '07/14/2014': ['0'], '07/15/2014': ['5.968'], '07/16/2014': ['14.19'], '07/17/2014': ['0'], '07/18/2014': ['0'], '07/19/2014': ['3.328'], '07/20/2014': ['0.354'], '07/21/2014': ['22.85'], '07/22/2014': ['9.652'], '07/23/2014': ['0.412'], '07/24/2014': ['4.34'], '07/25/2014': ['2.546'], '07/26/2014': ['0'], '07/27/2014': ['2.282'], '07/28/2014': ['2.072'], '07/29/2014': ['0'], '07/30/2014': ['0'], '07/31/2014': ['0.022']}}, 'SurfaceRunoff': {'dataset': 'Runoff', 'dataSource': 'nldas', 'metadata': {'request_time': '06/17/2022 13:30:28', 'column_1': 'Date (GMT) (GMT)', 'column_2': 'Runoff', 'units': 'mm', 'Runoff_sum': '11.332000000000003', 'Runoff_mean': '0.366', 'Runoff_max': '3.432', 'Runoff_standard_deviation': '0.849', 'Runoff_variance': '0.721', 'Runoff_median': '0', 'Runoff_entropy': '2.351', 'Runoff_geometric_mean': '0', 'Runoff_skewness': '2.655', 'Runoff_root_mean_square': '0.912', 'Runoff_99_percentile': '3.432', 'Runoff_99_percentile_count': '1', 'Runoff_95_percentile': '2.822', 'Runoff_95_percentile_count': '1', 'Runoff_75_percentile': '0.098', 'Runoff_75_percentile_count': '8', 'Runoff_zero_count': '19', 'timeseries_timezone': 'GMT'}, 'data': {'07/01/2014': ['0'], '07/02/2014': ['0'], '07/03/2014': ['1.714'], '07/04/2014': ['3.432'], '07/05/2014': ['0'], '07/06/2014': ['0'], '07/07/2014': ['0'], '07/08/2014': ['0'], '07/09/2014': ['0.733'], '07/10/2014': ['0'], '07/11/2014': ['0'], '07/12/2014': ['0'], '07/13/2014': ['0'], '07/14/2014': ['0'], '07/15/2014': ['0.208'], '07/16/2014': ['1.554'], '07/17/2014': ['0'], '07/18/2014': ['0'], '07/19/2014': ['0.008'], '07/20/2014': ['0'], '07/21/2014': ['2.754'], '07/22/2014': ['0.665'], '07/23/2014': ['0'], '07/24/2014': ['0.086'], '07/25/2014': ['0.1'], '07/26/2014': ['0'], '07/27/2014': ['0.063'], '07/28/2014': ['0.015'], '07/29/2014': ['0'], '07/30/2014': ['0'], '07/31/2014': ['0']}}, 'SubsurfaceRunoff': {'dataset': 'Baseflow', 'dataSource': 'nldas', 'metadata': {'request_time': '06/17/2022 13:30:28', 'column_1': 'Date (GMT) (GMT)', 'column_2': 'Baseflow', 'units': 'mm', 'Baseflow_sum': '27.365', 'Baseflow_mean': '0.883', 'Baseflow_max': '0.971', 'Baseflow_standard_deviation': '0.052', 'Baseflow_variance': '0.003', 'Baseflow_median': '0.891', 'Baseflow_entropy': '4.761', 'Baseflow_geometric_mean': '0.881', 'Baseflow_skewness': '-0.512', 'Baseflow_root_mean_square': '0.884', 'Baseflow_99_percentile': '0.971', 'Baseflow_99_percentile_count': '1', 'Baseflow_95_percentile': '0.966', 'Baseflow_95_percentile_count': '1', 'Baseflow_75_percentile': '0.919', 'Baseflow_75_percentile_count': '8', 'Baseflow_zero_count': '0', 'timeseries_timezone': 'GMT'}, 'data': {'07/01/2014': ['0.764'], '07/02/2014': ['0.797'], '07/03/2014': ['0.796'], '07/04/2014': ['0.796'], '07/05/2014': ['0.811'], '07/06/2014': ['0.834'], '07/07/2014': ['0.858'], '07/08/2014': ['0.88'], '07/09/2014': ['0.896'], '07/10/2014': ['0.909'], '07/11/2014': ['0.917'], '07/12/2014': ['0.921'], '07/13/2014': ['0.922'], '07/14/2014': ['0.919'], '07/15/2014': ['0.914'], '07/16/2014': ['0.906'], '07/17/2014': ['0.899'], '07/18/2014': ['0.891'], '07/19/2014': ['0.883'], '07/20/2014': ['0.875'], '07/21/2014': ['0.865'], '07/22/2014': ['0.857'], '07/23/2014': ['0.855'], '07/24/2014': ['0.864'], '07/25/2014': ['0.88'], '07/26/2014': ['0.901'], '07/27/2014': ['0.922'], '07/28/2014': ['0.941'], '07/29/2014': ['0.956'], '07/30/2014': ['0.965'], '07/31/2014': ['0.971']}}, 'StreamHydrology': {'dataset': 'Streamflow', 'dataSource': 'constant', 'metadata': {'request_time': '06/17/2022 13:30:28', 'column_1': 'Date (GMT)', 'column_2': 'Streamflow', 'units': 'm^3/sec'}, 'data': {'07/01/2014': ['0.788'], '07/02/2014': ['0.821'], '07/03/2014': ['2.804'], '07/04/2014': ['5.624'], '07/05/2014': ['0.833'], '07/06/2014': ['0.856'], '07/07/2014': ['0.881'], '07/08/2014': ['0.901'], '07/09/2014': ['1.729'], '07/10/2014': ['0.931'], '07/11/2014': ['0.939'], '07/12/2014': ['0.942'], '07/13/2014': ['0.942'], '07/14/2014': ['0.939'], '07/15/2014': ['1.625'], '07/16/2014': ['3.187'], '07/17/2014': ['0.918'], '07/18/2014': ['0.91'], '07/19/2014': ['0.913'], '07/20/2014': ['0.893'], '07/21/2014': ['4.607'], '07/22/2014': ['1.562'], '07/23/2014': ['0.873'], '07/24/2014': ['1.001'], '07/25/2014': ['1.016'], '07/26/2014': ['0.92'], '07/27/2014': ['1.015'], '07/28/2014': ['0.984'], '07/29/2014': ['0.976'], '07/30/2014': ['0.985'], '07/31/2014': ['0.99']}}}, '9731492': {'Precipitation': {'dataset': 'Precipitation', 'dataSource': 'nldas', 'metadata': {'request_time': '06/17/2022 13:30:28', 'column_1': 'Date (GMT) (GMT)', 'column_2': 'Precipitation', 'units': 'mm', 'Precipitation_sum': '111.13300000000001', 'Precipitation_mean': '3.585', 'Precipitation_max': '22.85', 'Precipitation_standard_deviation': '6.235', 'Precipitation_variance': '38.874', 'Precipitation_median': '0.067', 'Precipitation_entropy': '3.566', 'Precipitation_geometric_mean': '0', 'Precipitation_skewness': '1.96', 'Precipitation_root_mean_square': '7.104', 'Precipitation_99_percentile': '22.85', 'Precipitation_99_percentile_count': '1', 'Precipitation_95_percentile': '20.564', 'Precipitation_95_percentile_count': '1', 'Precipitation_75_percentile': '4.171', 'Precipitation_75_percentile_count': '8', 'Precipitation_zero_count': '12', 'timeseries_timezone': 'GMT'}, 'data': {'07/01/2014': ['0.215'], '07/02/2014': ['0'], '07/03/2014': ['11.85'], '07/04/2014': ['20.31'], '07/05/2014': ['0'], '07/06/2014': ['0'], '07/07/2014': ['0'], '07/08/2014': ['0.003'], '07/09/2014': ['10.64'], '07/10/2014': ['0.067'], '07/11/2014': ['0.032'], '07/12/2014': ['0'], '07/13/2014': ['0'], '07/14/2014': ['0'], '07/15/2014': ['5.968'], '07/16/2014': ['14.19'], '07/17/2014': ['0'], '07/18/2014': ['0'], '07/19/2014': ['3.328'], '07/20/2014': ['0.354'], '07/21/2014': ['22.85'], '07/22/2014': ['9.652'], '07/23/2014': ['0.412'], '07/24/2014': ['4.34'], '07/25/2014': ['2.546'], '07/26/2014': ['0'], '07/27/2014': ['2.282'], '07/28/2014': ['2.072'], '07/29/2014': ['0'], '07/30/2014': ['0'], '07/31/2014': ['0.022']}}, 'SurfaceRunoff': {'dataset': 'Runoff', 'dataSource': 'nldas', 'metadata': {'request_time': '06/17/2022 13:30:28', 'column_1': 'Date (GMT) (GMT)', 'column_2': 'Runoff', 'units': 'mm', 'Runoff_sum': '11.332000000000003', 'Runoff_mean': '0.366', 'Runoff_max': '3.432', 'Runoff_standard_deviation': '0.849', 'Runoff_variance': '0.721', 'Runoff_median': '0', 'Runoff_entropy': '2.351', 'Runoff_geometric_mean': '0', 'Runoff_skewness': '2.655', 'Runoff_root_mean_square': '0.912', 'Runoff_99_percentile': '3.432', 'Runoff_99_percentile_count': '1', 'Runoff_95_percentile': '2.822', 'Runoff_95_percentile_count': '1', 'Runoff_75_percentile': '0.098', 'Runoff_75_percentile_count': '8', 'Runoff_zero_count': '19', 'timeseries_timezone': 'GMT'}, 'data': {'07/01/2014': ['0'], '07/02/2014': ['0'], '07/03/2014': ['1.714'], '07/04/2014': ['3.432'], '07/05/2014': ['0'], '07/06/2014': ['0'], '07/07/2014': ['0'], '07/08/2014': ['0'], '07/09/2014': ['0.733'], '07/10/2014': ['0'], '07/11/2014': ['0'], '07/12/2014': ['0'], '07/13/2014': ['0'], '07/14/2014': ['0'], '07/15/2014': ['0.208'], '07/16/2014': ['1.554'], '07/17/2014': ['0'], '07/18/2014': ['0'], '07/19/2014': ['0.008'], '07/20/2014': ['0'], '07/21/2014': ['2.754'], '07/22/2014': ['0.665'], '07/23/2014': ['0'], '07/24/2014': ['0.086'], '07/25/2014': ['0.1'], '07/26/2014': ['0'], '07/27/2014': ['0.063'], '07/28/2014': ['0.015'], '07/29/2014': ['0'], '07/30/2014': ['0'], '07/31/2014': ['0']}}, 'SubsurfaceRunoff': {'dataset': 'Baseflow', 'dataSource': 'nldas', 'metadata': {'request_time': '06/17/2022 13:30:28', 'column_1': 'Date (GMT) (GMT)', 'column_2': 'Baseflow', 'units': 'mm', 'Baseflow_sum': '27.365', 'Baseflow_mean': '0.883', 'Baseflow_max': '0.971', 'Baseflow_standard_deviation': '0.052', 'Baseflow_variance': '0.003', 'Baseflow_median': '0.891', 'Baseflow_entropy': '4.761', 'Baseflow_geometric_mean': '0.881', 'Baseflow_skewness': '-0.512', 'Baseflow_root_mean_square': '0.884', 'Baseflow_99_percentile': '0.971', 'Baseflow_99_percentile_count': '1', 'Baseflow_95_percentile': '0.966', 'Baseflow_95_percentile_count': '1', 'Baseflow_75_percentile': '0.919', 'Baseflow_75_percentile_count': '8', 'Baseflow_zero_count': '0', 'timeseries_timezone': 'GMT'}, 'data': {'07/01/2014': ['0.764'], '07/02/2014': ['0.797'], '07/03/2014': ['0.796'], '07/04/2014': ['0.796'], '07/05/2014': ['0.811'], '07/06/2014': ['0.834'], '07/07/2014': ['0.858'], '07/08/2014': ['0.88'], '07/09/2014': ['0.896'], '07/10/2014': ['0.909'], '07/11/2014': ['0.917'], '07/12/2014': ['0.921'], '07/13/2014': ['0.922'], '07/14/2014': ['0.919'], '07/15/2014': ['0.914'], '07/16/2014': ['0.906'], '07/17/2014': ['0.899'], '07/18/2014': ['0.891'], '07/19/2014': ['0.883'], '07/20/2014': ['0.875'], '07/21/2014': ['0.865'], '07/22/2014': ['0.857'], '07/23/2014': ['0.855'], '07/24/2014': ['0.864'], '07/25/2014': ['0.88'], '07/26/2014': ['0.901'], '07/27/2014': ['0.922'], '07/28/2014': ['0.941'], '07/29/2014': ['0.956'], '07/30/2014': ['0.965'], '07/31/2014': ['0.971']}}, 'StreamHydrology': {'dataset': 'Streamflow', 'dataSource': 'constant', 'metadata': {'request_time': '06/17/2022 13:30:28', 'column_1': 'Date (GMT)', 'column_2': 'Streamflow', 'units': 'm^3/sec'}, 'data': {'07/01/2014': ['0.734'], '07/02/2014': ['0.765'], '07/03/2014': ['2.627'], '07/04/2014': ['5.327'], '07/05/2014': ['0.776'], '07/06/2014': ['0.798'], '07/07/2014': ['0.82'], '07/08/2014': ['0.84'], '07/09/2014': ['1.615'], '07/10/2014': ['0.867'], '07/11/2014': ['0.874'], '07/12/2014': ['0.878'], '07/13/2014': ['0.878'], '07/14/2014': ['0.874'], '07/15/2014': ['1.546'], '07/16/2014': ['3.015'], '07/17/2014': ['0.855'], '07/18/2014': ['0.847'], '07/19/2014': ['0.851'], '07/20/2014': ['0.831'], '07/21/2014': ['4.353'], '07/22/2014': ['1.455'], '07/23/2014': ['0.813'], '07/24/2014': ['0.935'], '07/25/2014': ['0.948'], '07/26/2014': ['0.857'], '07/27/2014': ['0.946'], '07/28/2014': ['0.917'], '07/29/2014': ['0.909'], '07/30/2014': ['0.918'], '07/31/2014': ['0.922']}}}, '9731288': {'Precipitation': {'dataset': 'Precipitation', 'dataSource': 'nldas', 'metadata': {'request_time': '06/17/2022 13:30:28', 'column_1': 'Date (GMT) (GMT)', 'column_2': 'Precipitation', 'units': 'mm', 'Precipitation_sum': '111.13300000000001', 'Precipitation_mean': '3.585', 'Precipitation_max': '22.85', 'Precipitation_standard_deviation': '6.235', 'Precipitation_variance': '38.874', 'Precipitation_median': '0.067', 'Precipitation_entropy': '3.566', 'Precipitation_geometric_mean': '0', 'Precipitation_skewness': '1.96', 'Precipitation_root_mean_square': '7.104', 'Precipitation_99_percentile': '22.85', 'Precipitation_99_percentile_count': '1', 'Precipitation_95_percentile': '20.564', 'Precipitation_95_percentile_count': '1', 'Precipitation_75_percentile': '4.171', 'Precipitation_75_percentile_count': '8', 'Precipitation_zero_count': '12', 'timeseries_timezone': 'GMT'}, 'data': {'07/01/2014': ['0.215'], '07/02/2014': ['0'], '07/03/2014': ['11.85'], '07/04/2014': ['20.31'], '07/05/2014': ['0'], '07/06/2014': ['0'], '07/07/2014': ['0'], '07/08/2014': ['0.003'], '07/09/2014': ['10.64'], '07/10/2014': ['0.067'], '07/11/2014': ['0.032'], '07/12/2014': ['0'], '07/13/2014': ['0'], '07/14/2014': ['0'], '07/15/2014': ['5.968'], '07/16/2014': ['14.19'], '07/17/2014': ['0'], '07/18/2014': ['0'], '07/19/2014': ['3.328'], '07/20/2014': ['0.354'], '07/21/2014': ['22.85'], '07/22/2014': ['9.652'], '07/23/2014': ['0.412'], '07/24/2014': ['4.34'], '07/25/2014': ['2.546'], '07/26/2014': ['0'], '07/27/2014': ['2.282'], '07/28/2014': ['2.072'], '07/29/2014': ['0'], '07/30/2014': ['0'], '07/31/2014': ['0.022']}}, 'SurfaceRunoff': {'dataset': 'Runoff', 'dataSource': 'nldas', 'metadata': {'request_time': '06/17/2022 13:30:28', 'column_1': 'Date (GMT) (GMT)', 'column_2': 'Runoff', 'units': 'mm', 'Runoff_sum': '11.332000000000003', 'Runoff_mean': '0.366', 'Runoff_max': '3.432', 'Runoff_standard_deviation': '0.849', 'Runoff_variance': '0.721', 'Runoff_median': '0', 'Runoff_entropy': '2.351', 'Runoff_geometric_mean': '0', 'Runoff_skewness': '2.655', 'Runoff_root_mean_square': '0.912', 'Runoff_99_percentile': '3.432', 'Runoff_99_percentile_count': '1', 'Runoff_95_percentile': '2.822', 'Runoff_95_percentile_count': '1', 'Runoff_75_percentile': '0.098', 'Runoff_75_percentile_count': '8', 'Runoff_zero_count': '19', 'timeseries_timezone': 'GMT'}, 'data': {'07/01/2014': ['0'], '07/02/2014': ['0'], '07/03/2014': ['1.714'], '07/04/2014': ['3.432'], '07/05/2014': ['0'], '07/06/2014': ['0'], '07/07/2014': ['0'], '07/08/2014': ['0'], '07/09/2014': ['0.733'], '07/10/2014': ['0'], '07/11/2014': ['0'], '07/12/2014': ['0'], '07/13/2014': ['0'], '07/14/2014': ['0'], '07/15/2014': ['0.208'], '07/16/2014': ['1.554'], '07/17/2014': ['0'], '07/18/2014': ['0'], '07/19/2014': ['0.008'], '07/20/2014': ['0'], '07/21/2014': ['2.754'], '07/22/2014': ['0.665'], '07/23/2014': ['0'], '07/24/2014': ['0.086'], '07/25/2014': ['0.1'], '07/26/2014': ['0'], '07/27/2014': ['0.063'], '07/28/2014': ['0.015'], '07/29/2014': ['0'], '07/30/2014': ['0'], '07/31/2014': ['0']}}, 'SubsurfaceRunoff': {'dataset': 'Baseflow', 'dataSource': 'nldas', 'metadata': {'request_time': '06/17/2022 13:30:28', 'column_1': 'Date (GMT) (GMT)', 'column_2': 'Baseflow', 'units': 'mm', 'Baseflow_sum': '27.365', 'Baseflow_mean': '0.883', 'Baseflow_max': '0.971', 'Baseflow_standard_deviation': '0.052', 'Baseflow_variance': '0.003', 'Baseflow_median': '0.891', 'Baseflow_entropy': '4.761', 'Baseflow_geometric_mean': '0.881', 'Baseflow_skewness': '-0.512', 'Baseflow_root_mean_square': '0.884', 'Baseflow_99_percentile': '0.971', 'Baseflow_99_percentile_count': '1', 'Baseflow_95_percentile': '0.966', 'Baseflow_95_percentile_count': '1', 'Baseflow_75_percentile': '0.919', 'Baseflow_75_percentile_count': '8', 'Baseflow_zero_count': '0', 'timeseries_timezone': 'GMT'}, 'data': {'07/01/2014': ['0.764'], '07/02/2014': ['0.797'], '07/03/2014': ['0.796'], '07/04/2014': ['0.796'], '07/05/2014': ['0.811'], '07/06/2014': ['0.834'], '07/07/2014': ['0.858'], '07/08/2014': ['0.88'], '07/09/2014': ['0.896'], '07/10/2014': ['0.909'], '07/11/2014': ['0.917'], '07/12/2014': ['0.921'], '07/13/2014': ['0.922'], '07/14/2014': ['0.919'], '07/15/2014': ['0.914'], '07/16/2014': ['0.906'], '07/17/2014': ['0.899'], '07/18/2014': ['0.891'], '07/19/2014': ['0.883'], '07/20/2014': ['0.875'], '07/21/2014': ['0.865'], '07/22/2014': ['0.857'], '07/23/2014': ['0.855'], '07/24/2014': ['0.864'], '07/25/2014': ['0.88'], '07/26/2014': ['0.901'], '07/27/2014': ['0.922'], '07/28/2014': ['0.941'], '07/29/2014': ['0.956'], '07/30/2014': ['0.965'], '07/31/2014': ['0.971']}}, 'StreamHydrology': {'dataset': 'Streamflow', 'dataSource': 'constant', 'metadata': {'request_time': '06/17/2022 13:30:28', 'column_1': 'Date (GMT)', 'column_2': 'Streamflow', 'units': 'm^3/sec'}, 'data': {'07/01/2014': ['0.658'], '07/02/2014': ['0.686'], '07/03/2014': ['2.378'], '07/04/2014': ['4.907'], '07/05/2014': ['0.695'], '07/06/2014': ['0.715'], '07/07/2014': ['0.735'], '07/08/2014': ['0.752'], '07/09/2014': ['1.453'], '07/10/2014': ['0.776'], '07/11/2014': ['0.783'], '07/12/2014': ['0.786'], '07/13/2014': ['0.786'], '07/14/2014': ['0.783'], '07/15/2014': ['1.435'], '07/16/2014': ['2.77'], '07/17/2014': ['0.765'], '07/18/2014': ['0.759'], '07/19/2014': ['0.762'], '07/20/2014': ['0.744'], '07/21/2014': ['3.993'], '07/22/2014': ['1.303'], '07/23/2014': ['0.728'], '07/24/2014': ['0.84'], '07/25/2014': ['0.85'], '07/26/2014': ['0.767'], '07/27/2014': ['0.848'], '07/28/2014': ['0.822'], '07/29/2014': ['0.813'], '07/30/2014': ['0.822'], '07/31/2014': ['0.826']}}}, '9731484': {'Precipitation': {'dataset': 'Precipitation', 'dataSource': 'nldas', 'metadata': {'request_time': '06/17/2022 13:30:28', 'column_1': 'Date (GMT) (GMT)', 'column_2': 'Precipitation', 'units': 'mm', 'Precipitation_sum': '111.13300000000001', 'Precipitation_mean': '3.585', 'Precipitation_max': '22.85', 'Precipitation_standard_deviation': '6.235', 'Precipitation_variance': '38.874', 'Precipitation_median': '0.067', 'Precipitation_entropy': '3.566', 'Precipitation_geometric_mean': '0', 'Precipitation_skewness': '1.96', 'Precipitation_root_mean_square': '7.104', 'Precipitation_99_percentile': '22.85', 'Precipitation_99_percentile_count': '1', 'Precipitation_95_percentile': '20.564', 'Precipitation_95_percentile_count': '1', 'Precipitation_75_percentile': '4.171', 'Precipitation_75_percentile_count': '8', 'Precipitation_zero_count': '12', 'timeseries_timezone': 'GMT'}, 'data': {'07/01/2014': ['0.215'], '07/02/2014': ['0'], '07/03/2014': ['11.85'], '07/04/2014': ['20.31'], '07/05/2014': ['0'], '07/06/2014': ['0'], '07/07/2014': ['0'], '07/08/2014': ['0.003'], '07/09/2014': ['10.64'], '07/10/2014': ['0.067'], '07/11/2014': ['0.032'], '07/12/2014': ['0'], '07/13/2014': ['0'], '07/14/2014': ['0'], '07/15/2014': ['5.968'], '07/16/2014': ['14.19'], '07/17/2014': ['0'], '07/18/2014': ['0'], '07/19/2014': ['3.328'], '07/20/2014': ['0.354'], '07/21/2014': ['22.85'], '07/22/2014': ['9.652'], '07/23/2014': ['0.412'], '07/24/2014': ['4.34'], '07/25/2014': ['2.546'], '07/26/2014': ['0'], '07/27/2014': ['2.282'], '07/28/2014': ['2.072'], '07/29/2014': ['0'], '07/30/2014': ['0'], '07/31/2014': ['0.022']}}, 'SurfaceRunoff': {'dataset': 'Runoff', 'dataSource': 'nldas', 'metadata': {'request_time': '06/17/2022 13:30:28', 'column_1': 'Date (GMT) (GMT)', 'column_2': 'Runoff', 'units': 'mm', 'Runoff_sum': '11.332000000000003', 'Runoff_mean': '0.366', 'Runoff_max': '3.432', 'Runoff_standard_deviation': '0.849', 'Runoff_variance': '0.721', 'Runoff_median': '0', 'Runoff_entropy': '2.351', 'Runoff_geometric_mean': '0', 'Runoff_skewness': '2.655', 'Runoff_root_mean_square': '0.912', 'Runoff_99_percentile': '3.432', 'Runoff_99_percentile_count': '1', 'Runoff_95_percentile': '2.822', 'Runoff_95_percentile_count': '1', 'Runoff_75_percentile': '0.098', 'Runoff_75_percentile_count': '8', 'Runoff_zero_count': '19', 'timeseries_timezone': 'GMT'}, 'data': {'07/01/2014': ['0'], '07/02/2014': ['0'], '07/03/2014': ['1.714'], '07/04/2014': ['3.432'], '07/05/2014': ['0'], '07/06/2014': ['0'], '07/07/2014': ['0'], '07/08/2014': ['0'], '07/09/2014': ['0.733'], '07/10/2014': ['0'], '07/11/2014': ['0'], '07/12/2014': ['0'], '07/13/2014': ['0'], '07/14/2014': ['0'], '07/15/2014': ['0.208'], '07/16/2014': ['1.554'], '07/17/2014': ['0'], '07/18/2014': ['0'], '07/19/2014': ['0.008'], '07/20/2014': ['0'], '07/21/2014': ['2.754'], '07/22/2014': ['0.665'], '07/23/2014': ['0'], '07/24/2014': ['0.086'], '07/25/2014': ['0.1'], '07/26/2014': ['0'], '07/27/2014': ['0.063'], '07/28/2014': ['0.015'], '07/29/2014': ['0'], '07/30/2014': ['0'], '07/31/2014': ['0']}}, 'SubsurfaceRunoff': {'dataset': 'Baseflow', 'dataSource': 'nldas', 'metadata': {'request_time': '06/17/2022 13:30:28', 'column_1': 'Date (GMT) (GMT)', 'column_2': 'Baseflow', 'units': 'mm', 'Baseflow_sum': '27.365', 'Baseflow_mean': '0.883', 'Baseflow_max': '0.971', 'Baseflow_standard_deviation': '0.052', 'Baseflow_variance': '0.003', 'Baseflow_median': '0.891', 'Baseflow_entropy': '4.761', 'Baseflow_geometric_mean': '0.881', 'Baseflow_skewness': '-0.512', 'Baseflow_root_mean_square': '0.884', 'Baseflow_99_percentile': '0.971', 'Baseflow_99_percentile_count': '1', 'Baseflow_95_percentile': '0.966', 'Baseflow_95_percentile_count': '1', 'Baseflow_75_percentile': '0.919', 'Baseflow_75_percentile_count': '8', 'Baseflow_zero_count': '0', 'timeseries_timezone': 'GMT'}, 'data': {'07/01/2014': ['0.764'], '07/02/2014': ['0.797'], '07/03/2014': ['0.796'], '07/04/2014': ['0.796'], '07/05/2014': ['0.811'], '07/06/2014': ['0.834'], '07/07/2014': ['0.858'], '07/08/2014': ['0.88'], '07/09/2014': ['0.896'], '07/10/2014': ['0.909'], '07/11/2014': ['0.917'], '07/12/2014': ['0.921'], '07/13/2014': ['0.922'], '07/14/2014': ['0.919'], '07/15/2014': ['0.914'], '07/16/2014': ['0.906'], '07/17/2014': ['0.899'], '07/18/2014': ['0.891'], '07/19/2014': ['0.883'], '07/20/2014': ['0.875'], '07/21/2014': ['0.865'], '07/22/2014': ['0.857'], '07/23/2014': ['0.855'], '07/24/2014': ['0.864'], '07/25/2014': ['0.88'], '07/26/2014': ['0.901'], '07/27/2014': ['0.922'], '07/28/2014': ['0.941'], '07/29/2014': ['0.956'], '07/30/2014': ['0.965'], '07/31/2014': ['0.971']}}, 'StreamHydrology': {'dataset': 'Streamflow', 'dataSource': 'constant', 'metadata': {'request_time': '06/17/2022 13:30:28', 'column_1': 'Date (GMT)', 'column_2': 'Streamflow', 'units': 'm^3/sec'}, 'data': {'07/01/2014': ['0.413'], '07/02/2014': ['0.431'], '07/03/2014': ['1.411'], '07/04/2014': ['2.657'], '07/05/2014': ['0.438'], '07/06/2014': ['0.45'], '07/07/2014': ['0.463'], '07/08/2014': ['0.474'], '07/09/2014': ['0.896'], '07/10/2014': ['0.489'], '07/11/2014': ['0.493'], '07/12/2014': ['0.495'], '07/13/2014': ['0.495'], '07/14/2014': ['0.494'], '07/15/2014': ['1.081'], '07/16/2014': ['1.579'], '07/17/2014': ['0.482'], '07/18/2014': ['0.478'], '07/19/2014': ['0.48'], '07/20/2014': ['0.47'], '07/21/2014': ['2.3'], '07/22/2014': ['0.821'], '07/23/2014': ['0.459'], '07/24/2014': ['0.518'], '07/25/2014': ['0.532'], '07/26/2014': ['0.484'], '07/27/2014': ['0.536'], '07/28/2014': ['0.516'], '07/29/2014': ['0.513'], '07/30/2014': ['0.518'], '07/31/2014': ['0.521']}}}, '9731260': {'Precipitation': {'dataset': 'Precipitation', 'dataSource': 'nldas', 'metadata': {'request_time': '06/17/2022 13:30:28', 'column_1': 'Date (GMT) (GMT)', 'column_2': 'Precipitation', 'units': 'mm', 'Precipitation_sum': '111.13300000000001', 'Precipitation_mean': '3.585', 'Precipitation_max': '22.85', 'Precipitation_standard_deviation': '6.235', 'Precipitation_variance': '38.874', 'Precipitation_median': '0.067', 'Precipitation_entropy': '3.566', 'Precipitation_geometric_mean': '0', 'Precipitation_skewness': '1.96', 'Precipitation_root_mean_square': '7.104', 'Precipitation_99_percentile': '22.85', 'Precipitation_99_percentile_count': '1', 'Precipitation_95_percentile': '20.564', 'Precipitation_95_percentile_count': '1', 'Precipitation_75_percentile': '4.171', 'Precipitation_75_percentile_count': '8', 'Precipitation_zero_count': '12', 'timeseries_timezone': 'GMT'}, 'data': {'07/01/2014': ['0.215'], '07/02/2014': ['0'], '07/03/2014': ['11.85'], '07/04/2014': ['20.31'], '07/05/2014': ['0'], '07/06/2014': ['0'], '07/07/2014': ['0'], '07/08/2014': ['0.003'], '07/09/2014': ['10.64'], '07/10/2014': ['0.067'], '07/11/2014': ['0.032'], '07/12/2014': ['0'], '07/13/2014': ['0'], '07/14/2014': ['0'], '07/15/2014': ['5.968'], '07/16/2014': ['14.19'], '07/17/2014': ['0'], '07/18/2014': ['0'], '07/19/2014': ['3.328'], '07/20/2014': ['0.354'], '07/21/2014': ['22.85'], '07/22/2014': ['9.652'], '07/23/2014': ['0.412'], '07/24/2014': ['4.34'], '07/25/2014': ['2.546'], '07/26/2014': ['0'], '07/27/2014': ['2.282'], '07/28/2014': ['2.072'], '07/29/2014': ['0'], '07/30/2014': ['0'], '07/31/2014': ['0.022']}}, 'SurfaceRunoff': {'dataset': 'Runoff', 'dataSource': 'nldas', 'metadata': {'request_time': '06/17/2022 13:30:28', 'column_1': 'Date (GMT) (GMT)', 'column_2': 'Runoff', 'units': 'mm', 'Runoff_sum': '11.332000000000003', 'Runoff_mean': '0.366', 'Runoff_max': '3.432', 'Runoff_standard_deviation': '0.849', 'Runoff_variance': '0.721', 'Runoff_median': '0', 'Runoff_entropy': '2.351', 'Runoff_geometric_mean': '0', 'Runoff_skewness': '2.655', 'Runoff_root_mean_square': '0.912', 'Runoff_99_percentile': '3.432', 'Runoff_99_percentile_count': '1', 'Runoff_95_percentile': '2.822', 'Runoff_95_percentile_count': '1', 'Runoff_75_percentile': '0.098', 'Runoff_75_percentile_count': '8', 'Runoff_zero_count': '19', 'timeseries_timezone': 'GMT'}, 'data': {'07/01/2014': ['0'], '07/02/2014': ['0'], '07/03/2014': ['1.714'], '07/04/2014': ['3.432'], '07/05/2014': ['0'], '07/06/2014': ['0'], '07/07/2014': ['0'], '07/08/2014': ['0'], '07/09/2014': ['0.733'], '07/10/2014': ['0'], '07/11/2014': ['0'], '07/12/2014': ['0'], '07/13/2014': ['0'], '07/14/2014': ['0'], '07/15/2014': ['0.208'], '07/16/2014': ['1.554'], '07/17/2014': ['0'], '07/18/2014': ['0'], '07/19/2014': ['0.008'], '07/20/2014': ['0'], '07/21/2014': ['2.754'], '07/22/2014': ['0.665'], '07/23/2014': ['0'], '07/24/2014': ['0.086'], '07/25/2014': ['0.1'], '07/26/2014': ['0'], '07/27/2014': ['0.063'], '07/28/2014': ['0.015'], '07/29/2014': ['0'], '07/30/2014': ['0'], '07/31/2014': ['0']}}, 'SubsurfaceRunoff': {'dataset': 'Baseflow', 'dataSource': 'nldas', 'metadata': {'request_time': '06/17/2022 13:30:28', 'column_1': 'Date (GMT) (GMT)', 'column_2': 'Baseflow', 'units': 'mm', 'Baseflow_sum': '27.365', 'Baseflow_mean': '0.883', 'Baseflow_max': '0.971', 'Baseflow_standard_deviation': '0.052', 'Baseflow_variance': '0.003', 'Baseflow_median': '0.891', 'Baseflow_entropy': '4.761', 'Baseflow_geometric_mean': '0.881', 'Baseflow_skewness': '-0.512', 'Baseflow_root_mean_square': '0.884', 'Baseflow_99_percentile': '0.971', 'Baseflow_99_percentile_count': '1', 'Baseflow_95_percentile': '0.966', 'Baseflow_95_percentile_count': '1', 'Baseflow_75_percentile': '0.919', 'Baseflow_75_percentile_count': '8', 'Baseflow_zero_count': '0', 'timeseries_timezone': 'GMT'}, 'data': {'07/01/2014': ['0.764'], '07/02/2014': ['0.797'], '07/03/2014': ['0.796'], '07/04/2014': ['0.796'], '07/05/2014': ['0.811'], '07/06/2014': ['0.834'], '07/07/2014': ['0.858'], '07/08/2014': ['0.88'], '07/09/2014': ['0.896'], '07/10/2014': ['0.909'], '07/11/2014': ['0.917'], '07/12/2014': ['0.921'], '07/13/2014': ['0.922'], '07/14/2014': ['0.919'], '07/15/2014': ['0.914'], '07/16/2014': ['0.906'], '07/17/2014': ['0.899'], '07/18/2014': ['0.891'], '07/19/2014': ['0.883'], '07/20/2014': ['0.875'], '07/21/2014': ['0.865'], '07/22/2014': ['0.857'], '07/23/2014': ['0.855'], '07/24/2014': ['0.864'], '07/25/2014': ['0.88'], '07/26/2014': ['0.901'], '07/27/2014': ['0.922'], '07/28/2014': ['0.941'], '07/29/2014': ['0.956'], '07/30/2014': ['0.965'], '07/31/2014': ['0.971']}}, 'StreamHydrology': {'dataset': 'Streamflow', 'dataSource': 'constant', 'metadata': {'request_time': '06/17/2022 13:30:28', 'column_1': 'Date (GMT)', 'column_2': 'Streamflow', 'units': 'm^3/sec'}, 'data': {'07/01/2014': ['0.056'], '07/02/2014': ['0.059'], '07/03/2014': ['0.238'], '07/04/2014': ['0.681'], '07/05/2014': ['0.059'], '07/06/2014': ['0.06'], '07/07/2014': ['0.061'], '07/08/2014': ['0.063'], '07/09/2014': ['0.134'], '07/10/2014': ['0.064'], '07/11/2014': ['0.065'], '07/12/2014': ['0.065'], '07/13/2014': ['0.064'], '07/14/2014': ['0.064'], '07/15/2014': ['0.556'], '07/16/2014': ['0.429'], '07/17/2014': ['0.062'], '07/18/2014': ['0.062'], '07/19/2014': ['0.063'], '07/20/2014': ['0.061'], '07/21/2014': ['0.608'], '07/22/2014': ['0.11'], '07/23/2014': ['0.06'], '07/24/2014': ['0.074'], '07/25/2014': ['0.074'], '07/26/2014': ['0.063'], '07/27/2014': ['0.076'], '07/28/2014': ['0.069'], '07/29/2014': ['0.067'], '07/30/2014': ['0.067'], '07/31/2014': ['0.067']}}}, '9731474': {'Precipitation': {'dataset': 'Precipitation', 'dataSource': 'nldas', 'metadata': {'request_time': '06/17/2022 13:30:28', 'column_1': 'Date (GMT) (GMT)', 'column_2': 'Precipitation', 'units': 'mm', 'Precipitation_sum': '114.91699999999999', 'Precipitation_mean': '3.707', 'Precipitation_max': '28.09', 'Precipitation_standard_deviation': '7.521', 'Precipitation_variance': '56.564', 'Precipitation_median': '0.11', 'Precipitation_entropy': '3.566', 'Precipitation_geometric_mean': '0', 'Precipitation_skewness': '2.569', 'Precipitation_root_mean_square': '8.275', 'Precipitation_99_percentile': '28.09', 'Precipitation_99_percentile_count': '1', 'Precipitation_95_percentile': '27.451', 'Precipitation_95_percentile_count': '1', 'Precipitation_75_percentile': '3.309', 'Precipitation_75_percentile_count': '8', 'Precipitation_zero_count': '12', 'timeseries_timezone': 'GMT'}, 'data': {'07/01/2014': ['0.501'], '07/02/2014': ['0'], '07/03/2014': ['9.362'], '07/04/2014': ['27.38'], '07/05/2014': ['0'], '07/06/2014': ['0'], '07/07/2014': ['0'], '07/08/2014': ['0'], '07/09/2014': ['6.598'], '07/10/2014': ['0.11'], '07/11/2014': ['0.014'], '07/12/2014': ['0'], '07/13/2014': ['0'], '07/14/2014': ['0.079'], '07/15/2014': ['2.951'], '07/16/2014': ['19.09'], '07/17/2014': ['0'], '07/18/2014': ['0'], '07/19/2014': ['5.027'], '07/20/2014': ['0.187'], '07/21/2014': ['28.09'], '07/22/2014': ['5.146'], '07/23/2014': ['0.09'], '07/24/2014': ['3.347'], '07/25/2014': ['2'], '07/26/2014': ['0'], '07/27/2014': ['1.692'], '07/28/2014': ['3.119'], '07/29/2014': ['0'], '07/30/2014': ['0'], '07/31/2014': ['0.134']}}, 'SurfaceRunoff': {'dataset': 'Runoff', 'dataSource': 'nldas', 'metadata': {'request_time': '06/17/2022 13:30:28', 'column_1': 'Date (GMT) (GMT)', 'column_2': 'Runoff', 'units': 'mm', 'Runoff_sum': '12.776', 'Runoff_mean': '0.412', 'Runoff_max': '5.425', 'Runoff_standard_deviation': '1.187', 'Runoff_variance': '1.408', 'Runoff_median': '0', 'Runoff_entropy': '2.468', 'Runoff_geometric_mean': '0', 'Runoff_skewness': '3.348', 'Runoff_root_mean_square': '1.238', 'Runoff_99_percentile': '5.425', 'Runoff_99_percentile_count': '1', 'Runoff_95_percentile': '3.503', 'Runoff_95_percentile_count': '1', 'Runoff_75_percentile': '0.03', 'Runoff_75_percentile_count': '8', 'Runoff_zero_count': '18', 'timeseries_timezone': 'GMT'}, 'data': {'07/01/2014': ['0.001'], '07/02/2014': ['0'], '07/03/2014': ['1.042'], '07/04/2014': ['5.425'], '07/05/2014': ['0'], '07/06/2014': ['0'], '07/07/2014': ['0'], '07/08/2014': ['0'], '07/09/2014': ['0.262'], '07/10/2014': ['0'], '07/11/2014': ['0'], '07/12/2014': ['0'], '07/13/2014': ['0'], '07/14/2014': ['0'], '07/15/2014': ['0.006'], '07/16/2014': ['2.466'], '07/17/2014': ['0'], '07/18/2014': ['0'], '07/19/2014': ['0.016'], '07/20/2014': ['0'], '07/21/2014': ['3.289'], '07/22/2014': ['0.027'], '07/23/2014': ['0'], '07/24/2014': ['0.136'], '07/25/2014': ['0.059'], '07/26/2014': ['0'], '07/27/2014': ['0.016'], '07/28/2014': ['0.031'], '07/29/2014': ['0'], '07/30/2014': ['0'], '07/31/2014': ['0']}}, 'SubsurfaceRunoff': {'dataset': 'Baseflow', 'dataSource': 'nldas', 'metadata': {'request_time': '06/17/2022 13:30:28', 'column_1': 'Date (GMT) (GMT)', 'column_2': 'Baseflow', 'units': 'mm', 'Baseflow_sum': '0.4370000000000001', 'Baseflow_mean': '0.014', 'Baseflow_max': '0.034', 'Baseflow_standard_deviation': '0.008', 'Baseflow_variance': '0', 'Baseflow_median': '0.011', 'Baseflow_entropy': '3.728', 'Baseflow_geometric_mean': '0.012', 'Baseflow_skewness': '1.015', 'Baseflow_root_mean_square': '0.016', 'Baseflow_99_percentile': '0.034', 'Baseflow_99_percentile_count': '1', 'Baseflow_95_percentile': '0.032', 'Baseflow_95_percentile_count': '2', 'Baseflow_75_percentile': '0.019', 'Baseflow_75_percentile_count': '9', 'Baseflow_zero_count': '0', 'timeseries_timezone': 'GMT'}, 'data': {'07/01/2014': ['0.034'], '07/02/2014': ['0.032'], '07/03/2014': ['0.028'], '07/04/2014': ['0.026'], '07/05/2014': ['0.024'], '07/06/2014': ['0.023'], '07/07/2014': ['0.021'], '07/08/2014': ['0.019'], '07/09/2014': ['0.019'], '07/10/2014': ['0.017'], '07/11/2014': ['0.017'], '07/12/2014': ['0.015'], '07/13/2014': ['0.014'], '07/14/2014': ['0.012'], '07/15/2014': ['0.012'], '07/16/2014': ['0.011'], '07/17/2014': ['0.01'], '07/18/2014': ['0.009'], '07/19/2014': ['0.007'], '07/20/2014': ['0.007'], '07/21/2014': ['0.007'], '07/22/2014': ['0.007'], '07/23/2014': ['0.008'], '07/24/2014': ['0.008'], '07/25/2014': ['0.008'], '07/26/2014': ['0.008'], '07/27/2014': ['0.007'], '07/28/2014': ['0.007'], '07/29/2014': ['0.007'], '07/30/2014': ['0.007'], '07/31/2014': ['0.006']}}, 'StreamHydrology': {'dataset': 'Streamflow', 'dataSource': 'constant', 'metadata': {'request_time': '06/17/2022 13:30:28', 'column_1': 'Date (GMT)', 'column_2': 'Streamflow', 'units': 'm^3/sec'}, 'data': {'07/01/2014': ['0.002'], '07/02/2014': ['0.002'], '07/03/2014': ['0.059'], '07/04/2014': ['0.301'], '07/05/2014': ['0.001'], '07/06/2014': ['0.001'], '07/07/2014': ['0.001'], '07/08/2014': ['0.001'], '07/09/2014': ['0.015'], '07/10/2014': ['0.001'], '07/11/2014': ['0.001'], '07/12/2014': ['0.001'], '07/13/2014': ['0.001'], '07/14/2014': ['0.001'], '07/15/2014': ['0.001'], '07/16/2014': ['0.137'], '07/17/2014': ['0.001'], '07/18/2014': ['0'], '07/19/2014': ['0.001'], '07/20/2014': ['0'], '07/21/2014': ['0.182'], '07/22/2014': ['0.002'], '07/23/2014': ['0'], '07/24/2014': ['0.008'], '07/25/2014': ['0.004'], '07/26/2014': ['0'], '07/27/2014': ['0.001'], '07/28/2014': ['0.002'], '07/29/2014': ['0'], '07/30/2014': ['0'], '07/31/2014': ['0']}}}, '9731478': {'Precipitation': {'dataset': 'Precipitation', 'dataSource': 'nldas', 'metadata': {'request_time': '06/17/2022 13:30:28', 'column_1': 'Date (GMT) (GMT)', 'column_2': 'Precipitation', 'units': 'mm', 'Precipitation_sum': '111.13300000000001', 'Precipitation_mean': '3.585', 'Precipitation_max': '22.85', 'Precipitation_standard_deviation': '6.235', 'Precipitation_variance': '38.874', 'Precipitation_median': '0.067', 'Precipitation_entropy': '3.566', 'Precipitation_geometric_mean': '0', 'Precipitation_skewness': '1.96', 'Precipitation_root_mean_square': '7.104', 'Precipitation_99_percentile': '22.85', 'Precipitation_99_percentile_count': '1', 'Precipitation_95_percentile': '20.564', 'Precipitation_95_percentile_count': '1', 'Precipitation_75_percentile': '4.171', 'Precipitation_75_percentile_count': '8', 'Precipitation_zero_count': '12', 'timeseries_timezone': 'GMT'}, 'data': {'07/01/2014': ['0.215'], '07/02/2014': ['0'], '07/03/2014': ['11.85'], '07/04/2014': ['20.31'], '07/05/2014': ['0'], '07/06/2014': ['0'], '07/07/2014': ['0'], '07/08/2014': ['0.003'], '07/09/2014': ['10.64'], '07/10/2014': ['0.067'], '07/11/2014': ['0.032'], '07/12/2014': ['0'], '07/13/2014': ['0'], '07/14/2014': ['0'], '07/15/2014': ['5.968'], '07/16/2014': ['14.19'], '07/17/2014': ['0'], '07/18/2014': ['0'], '07/19/2014': ['3.328'], '07/20/2014': ['0.354'], '07/21/2014': ['22.85'], '07/22/2014': ['9.652'], '07/23/2014': ['0.412'], '07/24/2014': ['4.34'], '07/25/2014': ['2.546'], '07/26/2014': ['0'], '07/27/2014': ['2.282'], '07/28/2014': ['2.072'], '07/29/2014': ['0'], '07/30/2014': ['0'], '07/31/2014': ['0.022']}}, 'SurfaceRunoff': {'dataset': 'Runoff', 'dataSource': 'nldas', 'metadata': {'request_time': '06/17/2022 13:30:28', 'column_1': 'Date (GMT) (GMT)', 'column_2': 'Runoff', 'units': 'mm', 'Runoff_sum': '11.332000000000003', 'Runoff_mean': '0.366', 'Runoff_max': '3.432', 'Runoff_standard_deviation': '0.849', 'Runoff_variance': '0.721', 'Runoff_median': '0', 'Runoff_entropy': '2.351', 'Runoff_geometric_mean': '0', 'Runoff_skewness': '2.655', 'Runoff_root_mean_square': '0.912', 'Runoff_99_percentile': '3.432', 'Runoff_99_percentile_count': '1', 'Runoff_95_percentile': '2.822', 'Runoff_95_percentile_count': '1', 'Runoff_75_percentile': '0.098', 'Runoff_75_percentile_count': '8', 'Runoff_zero_count': '19', 'timeseries_timezone': 'GMT'}, 'data': {'07/01/2014': ['0'], '07/02/2014': ['0'], '07/03/2014': ['1.714'], '07/04/2014': ['3.432'], '07/05/2014': ['0'], '07/06/2014': ['0'], '07/07/2014': ['0'], '07/08/2014': ['0'], '07/09/2014': ['0.733'], '07/10/2014': ['0'], '07/11/2014': ['0'], '07/12/2014': ['0'], '07/13/2014': ['0'], '07/14/2014': ['0'], '07/15/2014': ['0.208'], '07/16/2014': ['1.554'], '07/17/2014': ['0'], '07/18/2014': ['0'], '07/19/2014': ['0.008'], '07/20/2014': ['0'], '07/21/2014': ['2.754'], '07/22/2014': ['0.665'], '07/23/2014': ['0'], '07/24/2014': ['0.086'], '07/25/2014': ['0.1'], '07/26/2014': ['0'], '07/27/2014': ['0.063'], '07/28/2014': ['0.015'], '07/29/2014': ['0'], '07/30/2014': ['0'], '07/31/2014': ['0']}}, 'SubsurfaceRunoff': {'dataset': 'Baseflow', 'dataSource': 'nldas', 'metadata': {'request_time': '06/17/2022 13:30:28', 'column_1': 'Date (GMT) (GMT)', 'column_2': 'Baseflow', 'units': 'mm', 'Baseflow_sum': '27.365', 'Baseflow_mean': '0.883', 'Baseflow_max': '0.971', 'Baseflow_standard_deviation': '0.052', 'Baseflow_variance': '0.003', 'Baseflow_median': '0.891', 'Baseflow_entropy': '4.761', 'Baseflow_geometric_mean': '0.881', 'Baseflow_skewness': '-0.512', 'Baseflow_root_mean_square': '0.884', 'Baseflow_99_percentile': '0.971', 'Baseflow_99_percentile_count': '1', 'Baseflow_95_percentile': '0.966', 'Baseflow_95_percentile_count': '1', 'Baseflow_75_percentile': '0.919', 'Baseflow_75_percentile_count': '8', 'Baseflow_zero_count': '0', 'timeseries_timezone': 'GMT'}, 'data': {'07/01/2014': ['0.764'], '07/02/2014': ['0.797'], '07/03/2014': ['0.796'], '07/04/2014': ['0.796'], '07/05/2014': ['0.811'], '07/06/2014': ['0.834'], '07/07/2014': ['0.858'], '07/08/2014': ['0.88'], '07/09/2014': ['0.896'], '07/10/2014': ['0.909'], '07/11/2014': ['0.917'], '07/12/2014': ['0.921'], '07/13/2014': ['0.922'], '07/14/2014': ['0.919'], '07/15/2014': ['0.914'], '07/16/2014': ['0.906'], '07/17/2014': ['0.899'], '07/18/2014': ['0.891'], '07/19/2014': ['0.883'], '07/20/2014': ['0.875'], '07/21/2014': ['0.865'], '07/22/2014': ['0.857'], '07/23/2014': ['0.855'], '07/24/2014': ['0.864'], '07/25/2014': ['0.88'], '07/26/2014': ['0.901'], '07/27/2014': ['0.922'], '07/28/2014': ['0.941'], '07/29/2014': ['0.956'], '07/30/2014': ['0.965'], '07/31/2014': ['0.971']}}, 'StreamHydrology': {'dataset': 'Streamflow', 'dataSource': 'constant', 'metadata': {'request_time': '06/17/2022 13:30:28', 'column_1': 'Date (GMT)', 'column_2': 'Streamflow', 'units': 'm^3/sec'}, 'data': {'07/01/2014': ['0.02'], '07/02/2014': ['0.02'], '07/03/2014': ['0.064'], '07/04/2014': ['0.108'], '07/05/2014': ['0.021'], '07/06/2014': ['0.021'], '07/07/2014': ['0.022'], '07/08/2014': ['0.022'], '07/09/2014': ['0.042'], '07/10/2014': ['0.023'], '07/11/2014': ['0.023'], '07/12/2014': ['0.024'], '07/13/2014': ['0.024'], '07/14/2014': ['0.023'], '07/15/2014': ['0.029'], '07/16/2014': ['0.063'], '07/17/2014': ['0.023'], '07/18/2014': ['0.023'], '07/19/2014': ['0.023'], '07/20/2014': ['0.022'], '07/21/2014': ['0.092'], '07/22/2014': ['0.039'], '07/23/2014': ['0.022'], '07/24/2014': ['0.024'], '07/25/2014': ['0.025'], '07/26/2014': ['0.023'], '07/27/2014': ['0.025'], '07/28/2014': ['0.024'], '07/29/2014': ['0.024'], '07/30/2014': ['0.025'], '07/31/2014': ['0.025']}}}, '9731256': {'Precipitation': {'dataset': 'Precipitation', 'dataSource': 'nldas', 'metadata': {'request_time': '06/17/2022 13:30:28', 'column_1': 'Date (GMT) (GMT)', 'column_2': 'Precipitation', 'units': 'mm', 'Precipitation_sum': '125.64399999999999', 'Precipitation_mean': '4.053', 'Precipitation_max': '38.27', 'Precipitation_standard_deviation': '8.983', 'Precipitation_variance': '80.701', 'Precipitation_median': '0.188', 'Precipitation_entropy': '3.566', 'Precipitation_geometric_mean': '0', 'Precipitation_skewness': '2.8', 'Precipitation_root_mean_square': '9.722', 'Precipitation_99_percentile': '38.27', 'Precipitation_99_percentile_count': '1', 'Precipitation_95_percentile': '28.658', 'Precipitation_95_percentile_count': '1', 'Precipitation_75_percentile': '2.826', 'Precipitation_75_percentile_count': '8', 'Precipitation_zero_count': '12', 'timeseries_timezone': 'GMT'}, 'data': {'07/01/2014': ['0.21'], '07/02/2014': ['0'], '07/03/2014': ['3.576'], '07/04/2014': ['15.49'], '07/05/2014': ['0'], '07/06/2014': ['0'], '07/07/2014': ['0.02'], '07/08/2014': ['0.014'], '07/09/2014': ['5.704'], '07/10/2014': ['0.188'], '07/11/2014': ['0.143'], '07/12/2014': ['0'], '07/13/2014': ['0'], '07/14/2014': ['0'], '07/15/2014': ['38.27'], '07/16/2014': ['19.44'], '07/17/2014': ['0'], '07/18/2014': ['0'], '07/19/2014': ['2.831'], '07/20/2014': ['0.291'], '07/21/2014': ['27.59'], '07/22/2014': ['4.213'], '07/23/2014': ['0.261'], '07/24/2014': ['1.086'], '07/25/2014': ['1.553'], '07/26/2014': ['0'], '07/27/2014': ['2.8'], '07/28/2014': ['1.964'], '07/29/2014': ['0'], '07/30/2014': ['0'], '07/31/2014': ['0']}}, 'SurfaceRunoff': {'dataset': 'Runoff', 'dataSource': 'nldas', 'metadata': {'request_time': '06/17/2022 13:30:28', 'column_1': 'Date (GMT) (GMT)', 'column_2': 'Runoff', 'units': 'mm', 'Runoff_sum': '15.825', 'Runoff_mean': '0.51', 'Runoff_max': '8.374', 'Runoff_standard_deviation': '1.628', 'Runoff_variance': '2.652', 'Runoff_median': '0', 'Runoff_entropy': '2.286', 'Runoff_geometric_mean': '0', 'Runoff_skewness': '4.191', 'Runoff_root_mean_square': '1.681', 'Runoff_99_percentile': '8.374', 'Runoff_99_percentile_count': '1', 'Runoff_95_percentile': '3.692', 'Runoff_95_percentile_count': '1', 'Runoff_75_percentile': '0.068', 'Runoff_75_percentile_count': '8', 'Runoff_zero_count': '19', 'timeseries_timezone': 'GMT'}, 'data': {'07/01/2014': ['0'], '07/02/2014': ['0'], '07/03/2014': ['0.117'], '07/04/2014': ['1.614'], '07/05/2014': ['0'], '07/06/2014': ['0'], '07/07/2014': ['0'], '07/08/2014': ['0'], '07/09/2014': ['0.117'], '07/10/2014': ['0'], '07/11/2014': ['0'], '07/12/2014': ['0'], '07/13/2014': ['0'], '07/14/2014': ['0'], '07/15/2014': ['8.374'], '07/16/2014': ['2.19'], '07/17/2014': ['0'], '07/18/2014': ['0'], '07/19/2014': ['0.008'], '07/20/2014': ['0'], '07/21/2014': ['3.172'], '07/22/2014': ['0.074'], '07/23/2014': ['0'], '07/24/2014': ['0.001'], '07/25/2014': ['0.036'], '07/26/2014': ['0'], '07/27/2014': ['0.109'], '07/28/2014': ['0.013'], '07/29/2014': ['0'], '07/30/2014': ['0'], '07/31/2014': ['0']}}, 'SubsurfaceRunoff': {'dataset': 'Baseflow', 'dataSource': 'nldas', 'metadata': {'request_time': '06/17/2022 13:30:28', 'column_1': 'Date (GMT) (GMT)', 'column_2': 'Baseflow', 'units': 'mm', 'Baseflow_sum': '1.0560000000000003', 'Baseflow_mean': '0.034', 'Baseflow_max': '0.054', 'Baseflow_standard_deviation': '0.01', 'Baseflow_variance': '0', 'Baseflow_median': '0.033', 'Baseflow_entropy': '4.196', 'Baseflow_geometric_mean': '0.033', 'Baseflow_skewness': '0.623', 'Baseflow_root_mean_square': '0.036', 'Baseflow_99_percentile': '0.054', 'Baseflow_99_percentile_count': '2', 'Baseflow_95_percentile': '0.054', 'Baseflow_95_percentile_count': '2', 'Baseflow_75_percentile': '0.039', 'Baseflow_75_percentile_count': '8', 'Baseflow_zero_count': '0', 'timeseries_timezone': 'GMT'}, 'data': {'07/01/2014': ['0.054'], '07/02/2014': ['0.054'], '07/03/2014': ['0.053'], '07/04/2014': ['0.051'], '07/05/2014': ['0.048'], '07/06/2014': ['0.045'], '07/07/2014': ['0.043'], '07/08/2014': ['0.04'], '07/09/2014': ['0.037'], '07/10/2014': ['0.036'], '07/11/2014': ['0.034'], '07/12/2014': ['0.031'], '07/13/2014': ['0.028'], '07/14/2014': ['0.026'], '07/15/2014': ['0.023'], '07/16/2014': ['0.022'], '07/17/2014': ['0.021'], '07/18/2014': ['0.021'], '07/19/2014': ['0.022'], '07/20/2014': ['0.023'], '07/21/2014': ['0.023'], '07/22/2014': ['0.026'], '07/23/2014': ['0.029'], '07/24/2014': ['0.032'], '07/25/2014': ['0.035'], '07/26/2014': ['0.036'], '07/27/2014': ['0.036'], '07/28/2014': ['0.035'], '07/29/2014': ['0.033'], '07/30/2014': ['0.031'], '07/31/2014': ['0.028']}}, 'StreamHydrology': {'dataset': 'Streamflow', 'dataSource': 'constant', 'metadata': {'request_time': '06/17/2022 13:30:28', 'column_1': 'Date (GMT)', 'column_2': 'Streamflow', 'units': 'm^3/sec'}, 'data': {'07/01/2014': ['0.003'], '07/02/2014': ['0.003'], '07/03/2014': ['0.01'], '07/04/2014': ['0.095'], '07/05/2014': ['0.003'], '07/06/2014': ['0.003'], '07/07/2014': ['0.002'], '07/08/2014': ['0.002'], '07/09/2014': ['0.009'], '07/10/2014': ['0.002'], '07/11/2014': ['0.002'], '07/12/2014': ['0.002'], '07/13/2014': ['0.002'], '07/14/2014': ['0.001'], '07/15/2014': ['0.48'], '07/16/2014': ['0.126'], '07/17/2014': ['0.001'], '07/18/2014': ['0.001'], '07/19/2014': ['0.002'], '07/20/2014': ['0.001'], '07/21/2014': ['0.183'], '07/22/2014': ['0.006'], '07/23/2014': ['0.002'], '07/24/2014': ['0.002'], '07/25/2014': ['0.004'], '07/26/2014': ['0.002'], '07/27/2014': ['0.008'], '07/28/2014': ['0.003'], '07/29/2014': ['0.002'], '07/30/2014': ['0.002'], '07/31/2014': ['0.002']}}}, '9731486': {'Precipitation': {'dataset': 'Precipitation', 'dataSource': 'nldas', 'metadata': {'request_time': '06/17/2022 13:30:28', 'column_1': 'Date (GMT) (GMT)', 'column_2': 'Precipitation', 'units': 'mm', 'Precipitation_sum': '111.13300000000001', 'Precipitation_mean': '3.585', 'Precipitation_max': '22.85', 'Precipitation_standard_deviation': '6.235', 'Precipitation_variance': '38.874', 'Precipitation_median': '0.067', 'Precipitation_entropy': '3.566', 'Precipitation_geometric_mean': '0', 'Precipitation_skewness': '1.96', 'Precipitation_root_mean_square': '7.104', 'Precipitation_99_percentile': '22.85', 'Precipitation_99_percentile_count': '1', 'Precipitation_95_percentile': '20.564', 'Precipitation_95_percentile_count': '1', 'Precipitation_75_percentile': '4.171', 'Precipitation_75_percentile_count': '8', 'Precipitation_zero_count': '12', 'timeseries_timezone': 'GMT'}, 'data': {'07/01/2014': ['0.215'], '07/02/2014': ['0'], '07/03/2014': ['11.85'], '07/04/2014': ['20.31'], '07/05/2014': ['0'], '07/06/2014': ['0'], '07/07/2014': ['0'], '07/08/2014': ['0.003'], '07/09/2014': ['10.64'], '07/10/2014': ['0.067'], '07/11/2014': ['0.032'], '07/12/2014': ['0'], '07/13/2014': ['0'], '07/14/2014': ['0'], '07/15/2014': ['5.968'], '07/16/2014': ['14.19'], '07/17/2014': ['0'], '07/18/2014': ['0'], '07/19/2014': ['3.328'], '07/20/2014': ['0.354'], '07/21/2014': ['22.85'], '07/22/2014': ['9.652'], '07/23/2014': ['0.412'], '07/24/2014': ['4.34'], '07/25/2014': ['2.546'], '07/26/2014': ['0'], '07/27/2014': ['2.282'], '07/28/2014': ['2.072'], '07/29/2014': ['0'], '07/30/2014': ['0'], '07/31/2014': ['0.022']}}, 'SurfaceRunoff': {'dataset': 'Runoff', 'dataSource': 'nldas', 'metadata': {'request_time': '06/17/2022 13:30:28', 'column_1': 'Date (GMT) (GMT)', 'column_2': 'Runoff', 'units': 'mm', 'Runoff_sum': '11.332000000000003', 'Runoff_mean': '0.366', 'Runoff_max': '3.432', 'Runoff_standard_deviation': '0.849', 'Runoff_variance': '0.721', 'Runoff_median': '0', 'Runoff_entropy': '2.351', 'Runoff_geometric_mean': '0', 'Runoff_skewness': '2.655', 'Runoff_root_mean_square': '0.912', 'Runoff_99_percentile': '3.432', 'Runoff_99_percentile_count': '1', 'Runoff_95_percentile': '2.822', 'Runoff_95_percentile_count': '1', 'Runoff_75_percentile': '0.098', 'Runoff_75_percentile_count': '8', 'Runoff_zero_count': '19', 'timeseries_timezone': 'GMT'}, 'data': {'07/01/2014': ['0'], '07/02/2014': ['0'], '07/03/2014': ['1.714'], '07/04/2014': ['3.432'], '07/05/2014': ['0'], '07/06/2014': ['0'], '07/07/2014': ['0'], '07/08/2014': ['0'], '07/09/2014': ['0.733'], '07/10/2014': ['0'], '07/11/2014': ['0'], '07/12/2014': ['0'], '07/13/2014': ['0'], '07/14/2014': ['0'], '07/15/2014': ['0.208'], '07/16/2014': ['1.554'], '07/17/2014': ['0'], '07/18/2014': ['0'], '07/19/2014': ['0.008'], '07/20/2014': ['0'], '07/21/2014': ['2.754'], '07/22/2014': ['0.665'], '07/23/2014': ['0'], '07/24/2014': ['0.086'], '07/25/2014': ['0.1'], '07/26/2014': ['0'], '07/27/2014': ['0.063'], '07/28/2014': ['0.015'], '07/29/2014': ['0'], '07/30/2014': ['0'], '07/31/2014': ['0']}}, 'SubsurfaceRunoff': {'dataset': 'Baseflow', 'dataSource': 'nldas', 'metadata': {'request_time': '06/17/2022 13:30:28', 'column_1': 'Date (GMT) (GMT)', 'column_2': 'Baseflow', 'units': 'mm', 'Baseflow_sum': '27.365', 'Baseflow_mean': '0.883', 'Baseflow_max': '0.971', 'Baseflow_standard_deviation': '0.052', 'Baseflow_variance': '0.003', 'Baseflow_median': '0.891', 'Baseflow_entropy': '4.761', 'Baseflow_geometric_mean': '0.881', 'Baseflow_skewness': '-0.512', 'Baseflow_root_mean_square': '0.884', 'Baseflow_99_percentile': '0.971', 'Baseflow_99_percentile_count': '1', 'Baseflow_95_percentile': '0.966', 'Baseflow_95_percentile_count': '1', 'Baseflow_75_percentile': '0.919', 'Baseflow_75_percentile_count': '8', 'Baseflow_zero_count': '0', 'timeseries_timezone': 'GMT'}, 'data': {'07/01/2014': ['0.764'], '07/02/2014': ['0.797'], '07/03/2014': ['0.796'], '07/04/2014': ['0.796'], '07/05/2014': ['0.811'], '07/06/2014': ['0.834'], '07/07/2014': ['0.858'], '07/08/2014': ['0.88'], '07/09/2014': ['0.896'], '07/10/2014': ['0.909'], '07/11/2014': ['0.917'], '07/12/2014': ['0.921'], '07/13/2014': ['0.922'], '07/14/2014': ['0.919'], '07/15/2014': ['0.914'], '07/16/2014': ['0.906'], '07/17/2014': ['0.899'], '07/18/2014': ['0.891'], '07/19/2014': ['0.883'], '07/20/2014': ['0.875'], '07/21/2014': ['0.865'], '07/22/2014': ['0.857'], '07/23/2014': ['0.855'], '07/24/2014': ['0.864'], '07/25/2014': ['0.88'], '07/26/2014': ['0.901'], '07/27/2014': ['0.922'], '07/28/2014': ['0.941'], '07/29/2014': ['0.956'], '07/30/2014': ['0.965'], '07/31/2014': ['0.971']}}, 'StreamHydrology': {'dataset': 'Streamflow', 'dataSource': 'constant', 'metadata': {'request_time': '06/17/2022 13:30:28', 'column_1': 'Date (GMT)', 'column_2': 'Streamflow', 'units': 'm^3/sec'}, 'data': {'07/01/2014': ['0.242'], '07/02/2014': ['0.252'], '07/03/2014': ['0.959'], '07/04/2014': ['2.236'], '07/05/2014': ['0.255'], '07/06/2014': ['0.262'], '07/07/2014': ['0.269'], '07/08/2014': ['0.276'], '07/09/2014': ['0.552'], '07/10/2014': ['0.284'], '07/11/2014': ['0.287'], '07/12/2014': ['0.288'], '07/13/2014': ['0.288'], '07/14/2014': ['0.286'], '07/15/2014': ['0.35'], '07/16/2014': ['1.183'], '07/17/2014': ['0.28'], '07/18/2014': ['0.277'], '07/19/2014': ['0.28'], '07/20/2014': ['0.272'], '07/21/2014': ['1.681'], '07/22/2014': ['0.477'], '07/23/2014': ['0.266'], '07/24/2014': ['0.319'], '07/25/2014': ['0.315'], '07/26/2014': ['0.28'], '07/27/2014': ['0.309'], '07/28/2014': ['0.302'], '07/29/2014': ['0.297'], '07/30/2014': ['0.3'], '07/31/2014': ['0.301']}}}, '9731252': {'Precipitation': {'dataset': 'Precipitation', 'dataSource': 'nldas', 'metadata': {'request_time': '06/17/2022 13:30:28', 'column_1': 'Date (GMT) (GMT)', 'column_2': 'Precipitation', 'units': 'mm', 'Precipitation_sum': '114.91699999999999', 'Precipitation_mean': '3.707', 'Precipitation_max': '28.09', 'Precipitation_standard_deviation': '7.521', 'Precipitation_variance': '56.564', 'Precipitation_median': '0.11', 'Precipitation_entropy': '3.566', 'Precipitation_geometric_mean': '0', 'Precipitation_skewness': '2.569', 'Precipitation_root_mean_square': '8.275', 'Precipitation_99_percentile': '28.09', 'Precipitation_99_percentile_count': '1', 'Precipitation_95_percentile': '27.451', 'Precipitation_95_percentile_count': '1', 'Precipitation_75_percentile': '3.309', 'Precipitation_75_percentile_count': '8', 'Precipitation_zero_count': '12', 'timeseries_timezone': 'GMT'}, 'data': {'07/01/2014': ['0.501'], '07/02/2014': ['0'], '07/03/2014': ['9.362'], '07/04/2014': ['27.38'], '07/05/2014': ['0'], '07/06/2014': ['0'], '07/07/2014': ['0'], '07/08/2014': ['0'], '07/09/2014': ['6.598'], '07/10/2014': ['0.11'], '07/11/2014': ['0.014'], '07/12/2014': ['0'], '07/13/2014': ['0'], '07/14/2014': ['0.079'], '07/15/2014': ['2.951'], '07/16/2014': ['19.09'], '07/17/2014': ['0'], '07/18/2014': ['0'], '07/19/2014': ['5.027'], '07/20/2014': ['0.187'], '07/21/2014': ['28.09'], '07/22/2014': ['5.146'], '07/23/2014': ['0.09'], '07/24/2014': ['3.347'], '07/25/2014': ['2'], '07/26/2014': ['0'], '07/27/2014': ['1.692'], '07/28/2014': ['3.119'], '07/29/2014': ['0'], '07/30/2014': ['0'], '07/31/2014': ['0.134']}}, 'SurfaceRunoff': {'dataset': 'Runoff', 'dataSource': 'nldas', 'metadata': {'request_time': '06/17/2022 13:30:28', 'column_1': 'Date (GMT) (GMT)', 'column_2': 'Runoff', 'units': 'mm', 'Runoff_sum': '12.776', 'Runoff_mean': '0.412', 'Runoff_max': '5.425', 'Runoff_standard_deviation': '1.187', 'Runoff_variance': '1.408', 'Runoff_median': '0', 'Runoff_entropy': '2.468', 'Runoff_geometric_mean': '0', 'Runoff_skewness': '3.348', 'Runoff_root_mean_square': '1.238', 'Runoff_99_percentile': '5.425', 'Runoff_99_percentile_count': '1', 'Runoff_95_percentile': '3.503', 'Runoff_95_percentile_count': '1', 'Runoff_75_percentile': '0.03', 'Runoff_75_percentile_count': '8', 'Runoff_zero_count': '18', 'timeseries_timezone': 'GMT'}, 'data': {'07/01/2014': ['0.001'], '07/02/2014': ['0'], '07/03/2014': ['1.042'], '07/04/2014': ['5.425'], '07/05/2014': ['0'], '07/06/2014': ['0'], '07/07/2014': ['0'], '07/08/2014': ['0'], '07/09/2014': ['0.262'], '07/10/2014': ['0'], '07/11/2014': ['0'], '07/12/2014': ['0'], '07/13/2014': ['0'], '07/14/2014': ['0'], '07/15/2014': ['0.006'], '07/16/2014': ['2.466'], '07/17/2014': ['0'], '07/18/2014': ['0'], '07/19/2014': ['0.016'], '07/20/2014': ['0'], '07/21/2014': ['3.289'], '07/22/2014': ['0.027'], '07/23/2014': ['0'], '07/24/2014': ['0.136'], '07/25/2014': ['0.059'], '07/26/2014': ['0'], '07/27/2014': ['0.016'], '07/28/2014': ['0.031'], '07/29/2014': ['0'], '07/30/2014': ['0'], '07/31/2014': ['0']}}, 'SubsurfaceRunoff': {'dataset': 'Baseflow', 'dataSource': 'nldas', 'metadata': {'request_time': '06/17/2022 13:30:28', 'column_1': 'Date (GMT) (GMT)', 'column_2': 'Baseflow', 'units': 'mm', 'Baseflow_sum': '0.4370000000000001', 'Baseflow_mean': '0.014', 'Baseflow_max': '0.034', 'Baseflow_standard_deviation': '0.008', 'Baseflow_variance': '0', 'Baseflow_median': '0.011', 'Baseflow_entropy': '3.728', 'Baseflow_geometric_mean': '0.012', 'Baseflow_skewness': '1.015', 'Baseflow_root_mean_square': '0.016', 'Baseflow_99_percentile': '0.034', 'Baseflow_99_percentile_count': '1', 'Baseflow_95_percentile': '0.032', 'Baseflow_95_percentile_count': '2', 'Baseflow_75_percentile': '0.019', 'Baseflow_75_percentile_count': '9', 'Baseflow_zero_count': '0', 'timeseries_timezone': 'GMT'}, 'data': {'07/01/2014': ['0.034'], '07/02/2014': ['0.032'], '07/03/2014': ['0.028'], '07/04/2014': ['0.026'], '07/05/2014': ['0.024'], '07/06/2014': ['0.023'], '07/07/2014': ['0.021'], '07/08/2014': ['0.019'], '07/09/2014': ['0.019'], '07/10/2014': ['0.017'], '07/11/2014': ['0.017'], '07/12/2014': ['0.015'], '07/13/2014': ['0.014'], '07/14/2014': ['0.012'], '07/15/2014': ['0.012'], '07/16/2014': ['0.011'], '07/17/2014': ['0.01'], '07/18/2014': ['0.009'], '07/19/2014': ['0.007'], '07/20/2014': ['0.007'], '07/21/2014': ['0.007'], '07/22/2014': ['0.007'], '07/23/2014': ['0.008'], '07/24/2014': ['0.008'], '07/25/2014': ['0.008'], '07/26/2014': ['0.008'], '07/27/2014': ['0.007'], '07/28/2014': ['0.007'], '07/29/2014': ['0.007'], '07/30/2014': ['0.007'], '07/31/2014': ['0.006']}}, 'StreamHydrology': {'dataset': 'Streamflow', 'dataSource': 'constant', 'metadata': {'request_time': '06/17/2022 13:30:28', 'column_1': 'Date (GMT)', 'column_2': 'Streamflow', 'units': 'm^3/sec'}, 'data': {'07/01/2014': ['0.004'], '07/02/2014': ['0.003'], '07/03/2014': ['0.11'], '07/04/2014': ['0.559'], '07/05/2014': ['0.002'], '07/06/2014': ['0.002'], '07/07/2014': ['0.002'], '07/08/2014': ['0.002'], '07/09/2014': ['0.029'], '07/10/2014': ['0.002'], '07/11/2014': ['0.002'], '07/12/2014': ['0.002'], '07/13/2014': ['0.001'], '07/14/2014': ['0.001'], '07/15/2014': ['0.002'], '07/16/2014': ['0.254'], '07/17/2014': ['0.001'], '07/18/2014': ['0.001'], '07/19/2014': ['0.002'], '07/20/2014': ['0.001'], '07/21/2014': ['0.338'], '07/22/2014': ['0.003'], '07/23/2014': ['0.001'], '07/24/2014': ['0.015'], '07/25/2014': ['0.007'], '07/26/2014': ['0.001'], '07/27/2014': ['0.002'], '07/28/2014': ['0.004'], '07/29/2014': ['0.001'], '07/30/2014': ['0.001'], '07/31/2014': ['0.001']}}}, '9731254': {'Precipitation': {'dataset': 'Precipitation', 'dataSource': 'nldas', 'metadata': {'request_time': '06/17/2022 13:30:28', 'column_1': 'Date (GMT) (GMT)', 'column_2': 'Precipitation', 'units': 'mm', 'Precipitation_sum': '114.91699999999999', 'Precipitation_mean': '3.707', 'Precipitation_max': '28.09', 'Precipitation_standard_deviation': '7.521', 'Precipitation_variance': '56.564', 'Precipitation_median': '0.11', 'Precipitation_entropy': '3.566', 'Precipitation_geometric_mean': '0', 'Precipitation_skewness': '2.569', 'Precipitation_root_mean_square': '8.275', 'Precipitation_99_percentile': '28.09', 'Precipitation_99_percentile_count': '1', 'Precipitation_95_percentile': '27.451', 'Precipitation_95_percentile_count': '1', 'Precipitation_75_percentile': '3.309', 'Precipitation_75_percentile_count': '8', 'Precipitation_zero_count': '12', 'timeseries_timezone': 'GMT'}, 'data': {'07/01/2014': ['0.501'], '07/02/2014': ['0'], '07/03/2014': ['9.362'], '07/04/2014': ['27.38'], '07/05/2014': ['0'], '07/06/2014': ['0'], '07/07/2014': ['0'], '07/08/2014': ['0'], '07/09/2014': ['6.598'], '07/10/2014': ['0.11'], '07/11/2014': ['0.014'], '07/12/2014': ['0'], '07/13/2014': ['0'], '07/14/2014': ['0.079'], '07/15/2014': ['2.951'], '07/16/2014': ['19.09'], '07/17/2014': ['0'], '07/18/2014': ['0'], '07/19/2014': ['5.027'], '07/20/2014': ['0.187'], '07/21/2014': ['28.09'], '07/22/2014': ['5.146'], '07/23/2014': ['0.09'], '07/24/2014': ['3.347'], '07/25/2014': ['2'], '07/26/2014': ['0'], '07/27/2014': ['1.692'], '07/28/2014': ['3.119'], '07/29/2014': ['0'], '07/30/2014': ['0'], '07/31/2014': ['0.134']}}, 'SurfaceRunoff': {'dataset': 'Runoff', 'dataSource': 'nldas', 'metadata': {'request_time': '06/17/2022 13:30:28', 'column_1': 'Date (GMT) (GMT)', 'column_2': 'Runoff', 'units': 'mm', 'Runoff_sum': '12.776', 'Runoff_mean': '0.412', 'Runoff_max': '5.425', 'Runoff_standard_deviation': '1.187', 'Runoff_variance': '1.408', 'Runoff_median': '0', 'Runoff_entropy': '2.468', 'Runoff_geometric_mean': '0', 'Runoff_skewness': '3.348', 'Runoff_root_mean_square': '1.238', 'Runoff_99_percentile': '5.425', 'Runoff_99_percentile_count': '1', 'Runoff_95_percentile': '3.503', 'Runoff_95_percentile_count': '1', 'Runoff_75_percentile': '0.03', 'Runoff_75_percentile_count': '8', 'Runoff_zero_count': '18', 'timeseries_timezone': 'GMT'}, 'data': {'07/01/2014': ['0.001'], '07/02/2014': ['0'], '07/03/2014': ['1.042'], '07/04/2014': ['5.425'], '07/05/2014': ['0'], '07/06/2014': ['0'], '07/07/2014': ['0'], '07/08/2014': ['0'], '07/09/2014': ['0.262'], '07/10/2014': ['0'], '07/11/2014': ['0'], '07/12/2014': ['0'], '07/13/2014': ['0'], '07/14/2014': ['0'], '07/15/2014': ['0.006'], '07/16/2014': ['2.466'], '07/17/2014': ['0'], '07/18/2014': ['0'], '07/19/2014': ['0.016'], '07/20/2014': ['0'], '07/21/2014': ['3.289'], '07/22/2014': ['0.027'], '07/23/2014': ['0'], '07/24/2014': ['0.136'], '07/25/2014': ['0.059'], '07/26/2014': ['0'], '07/27/2014': ['0.016'], '07/28/2014': ['0.031'], '07/29/2014': ['0'], '07/30/2014': ['0'], '07/31/2014': ['0']}}, 'SubsurfaceRunoff': {'dataset': 'Baseflow', 'dataSource': 'nldas', 'metadata': {'request_time': '06/17/2022 13:30:28', 'column_1': 'Date (GMT) (GMT)', 'column_2': 'Baseflow', 'units': 'mm', 'Baseflow_sum': '0.4370000000000001', 'Baseflow_mean': '0.014', 'Baseflow_max': '0.034', 'Baseflow_standard_deviation': '0.008', 'Baseflow_variance': '0', 'Baseflow_median': '0.011', 'Baseflow_entropy': '3.728', 'Baseflow_geometric_mean': '0.012', 'Baseflow_skewness': '1.015', 'Baseflow_root_mean_square': '0.016', 'Baseflow_99_percentile': '0.034', 'Baseflow_99_percentile_count': '1', 'Baseflow_95_percentile': '0.032', 'Baseflow_95_percentile_count': '2', 'Baseflow_75_percentile': '0.019', 'Baseflow_75_percentile_count': '9', 'Baseflow_zero_count': '0', 'timeseries_timezone': 'GMT'}, 'data': {'07/01/2014': ['0.034'], '07/02/2014': ['0.032'], '07/03/2014': ['0.028'], '07/04/2014': ['0.026'], '07/05/2014': ['0.024'], '07/06/2014': ['0.023'], '07/07/2014': ['0.021'], '07/08/2014': ['0.019'], '07/09/2014': ['0.019'], '07/10/2014': ['0.017'], '07/11/2014': ['0.017'], '07/12/2014': ['0.015'], '07/13/2014': ['0.014'], '07/14/2014': ['0.012'], '07/15/2014': ['0.012'], '07/16/2014': ['0.011'], '07/17/2014': ['0.01'], '07/18/2014': ['0.009'], '07/19/2014': ['0.007'], '07/20/2014': ['0.007'], '07/21/2014': ['0.007'], '07/22/2014': ['0.007'], '07/23/2014': ['0.008'], '07/24/2014': ['0.008'], '07/25/2014': ['0.008'], '07/26/2014': ['0.008'], '07/27/2014': ['0.007'], '07/28/2014': ['0.007'], '07/29/2014': ['0.007'], '07/30/2014': ['0.007'], '07/31/2014': ['0.006']}}, 'StreamHydrology': {'dataset': 'Streamflow', 'dataSource': 'constant', 'metadata': {'request_time': '06/17/2022 13:30:28', 'column_1': 'Date (GMT)', 'column_2': 'Streamflow', 'units': 'm^3/sec'}, 'data': {'07/01/2014': ['0.002'], '07/02/2014': ['0.002'], '07/03/2014': ['0.072'], '07/04/2014': ['0.368'], '07/05/2014': ['0.002'], '07/06/2014': ['0.002'], '07/07/2014': ['0.001'], '07/08/2014': ['0.001'], '07/09/2014': ['0.019'], '07/10/2014': ['0.001'], '07/11/2014': ['0.001'], '07/12/2014': ['0.001'], '07/13/2014': ['0.001'], '07/14/2014': ['0.001'], '07/15/2014': ['0.001'], '07/16/2014': ['0.167'], '07/17/2014': ['0.001'], '07/18/2014': ['0.001'], '07/19/2014': ['0.002'], '07/20/2014': ['0'], '07/21/2014': ['0.223'], '07/22/2014': ['0.002'], '07/23/2014': ['0.001'], '07/24/2014': ['0.01'], '07/25/2014': ['0.005'], '07/26/2014': ['0.001'], '07/27/2014': ['0.002'], '07/28/2014': ['0.003'], '07/29/2014': ['0'], '07/30/2014': ['0'], '07/31/2014': ['0']}}}, '9731240': {'Precipitation': {'dataset': 'Precipitation', 'dataSource': 'nldas', 'metadata': {'request_time': '06/17/2022 13:30:28', 'column_1': 'Date (GMT) (GMT)', 'column_2': 'Precipitation', 'units': 'mm', 'Precipitation_sum': '114.91699999999999', 'Precipitation_mean': '3.707', 'Precipitation_max': '28.09', 'Precipitation_standard_deviation': '7.521', 'Precipitation_variance': '56.564', 'Precipitation_median': '0.11', 'Precipitation_entropy': '3.566', 'Precipitation_geometric_mean': '0', 'Precipitation_skewness': '2.569', 'Precipitation_root_mean_square': '8.275', 'Precipitation_99_percentile': '28.09', 'Precipitation_99_percentile_count': '1', 'Precipitation_95_percentile': '27.451', 'Precipitation_95_percentile_count': '1', 'Precipitation_75_percentile': '3.309', 'Precipitation_75_percentile_count': '8', 'Precipitation_zero_count': '12', 'timeseries_timezone': 'GMT'}, 'data': {'07/01/2014': ['0.501'], '07/02/2014': ['0'], '07/03/2014': ['9.362'], '07/04/2014': ['27.38'], '07/05/2014': ['0'], '07/06/2014': ['0'], '07/07/2014': ['0'], '07/08/2014': ['0'], '07/09/2014': ['6.598'], '07/10/2014': ['0.11'], '07/11/2014': ['0.014'], '07/12/2014': ['0'], '07/13/2014': ['0'], '07/14/2014': ['0.079'], '07/15/2014': ['2.951'], '07/16/2014': ['19.09'], '07/17/2014': ['0'], '07/18/2014': ['0'], '07/19/2014': ['5.027'], '07/20/2014': ['0.187'], '07/21/2014': ['28.09'], '07/22/2014': ['5.146'], '07/23/2014': ['0.09'], '07/24/2014': ['3.347'], '07/25/2014': ['2'], '07/26/2014': ['0'], '07/27/2014': ['1.692'], '07/28/2014': ['3.119'], '07/29/2014': ['0'], '07/30/2014': ['0'], '07/31/2014': ['0.134']}}, 'SurfaceRunoff': {'dataset': 'Runoff', 'dataSource': 'nldas', 'metadata': {'request_time': '06/17/2022 13:30:28', 'column_1': 'Date (GMT) (GMT)', 'column_2': 'Runoff', 'units': 'mm', 'Runoff_sum': '12.776', 'Runoff_mean': '0.412', 'Runoff_max': '5.425', 'Runoff_standard_deviation': '1.187', 'Runoff_variance': '1.408', 'Runoff_median': '0', 'Runoff_entropy': '2.468', 'Runoff_geometric_mean': '0', 'Runoff_skewness': '3.348', 'Runoff_root_mean_square': '1.238', 'Runoff_99_percentile': '5.425', 'Runoff_99_percentile_count': '1', 'Runoff_95_percentile': '3.503', 'Runoff_95_percentile_count': '1', 'Runoff_75_percentile': '0.03', 'Runoff_75_percentile_count': '8', 'Runoff_zero_count': '18', 'timeseries_timezone': 'GMT'}, 'data': {'07/01/2014': ['0.001'], '07/02/2014': ['0'], '07/03/2014': ['1.042'], '07/04/2014': ['5.425'], '07/05/2014': ['0'], '07/06/2014': ['0'], '07/07/2014': ['0'], '07/08/2014': ['0'], '07/09/2014': ['0.262'], '07/10/2014': ['0'], '07/11/2014': ['0'], '07/12/2014': ['0'], '07/13/2014': ['0'], '07/14/2014': ['0'], '07/15/2014': ['0.006'], '07/16/2014': ['2.466'], '07/17/2014': ['0'], '07/18/2014': ['0'], '07/19/2014': ['0.016'], '07/20/2014': ['0'], '07/21/2014': ['3.289'], '07/22/2014': ['0.027'], '07/23/2014': ['0'], '07/24/2014': ['0.136'], '07/25/2014': ['0.059'], '07/26/2014': ['0'], '07/27/2014': ['0.016'], '07/28/2014': ['0.031'], '07/29/2014': ['0'], '07/30/2014': ['0'], '07/31/2014': ['0']}}, 'SubsurfaceRunoff': {'dataset': 'Baseflow', 'dataSource': 'nldas', 'metadata': {'request_time': '06/17/2022 13:30:28', 'column_1': 'Date (GMT) (GMT)', 'column_2': 'Baseflow', 'units': 'mm', 'Baseflow_sum': '0.4370000000000001', 'Baseflow_mean': '0.014', 'Baseflow_max': '0.034', 'Baseflow_standard_deviation': '0.008', 'Baseflow_variance': '0', 'Baseflow_median': '0.011', 'Baseflow_entropy': '3.728', 'Baseflow_geometric_mean': '0.012', 'Baseflow_skewness': '1.015', 'Baseflow_root_mean_square': '0.016', 'Baseflow_99_percentile': '0.034', 'Baseflow_99_percentile_count': '1', 'Baseflow_95_percentile': '0.032', 'Baseflow_95_percentile_count': '2', 'Baseflow_75_percentile': '0.019', 'Baseflow_75_percentile_count': '9', 'Baseflow_zero_count': '0', 'timeseries_timezone': 'GMT'}, 'data': {'07/01/2014': ['0.034'], '07/02/2014': ['0.032'], '07/03/2014': ['0.028'], '07/04/2014': ['0.026'], '07/05/2014': ['0.024'], '07/06/2014': ['0.023'], '07/07/2014': ['0.021'], '07/08/2014': ['0.019'], '07/09/2014': ['0.019'], '07/10/2014': ['0.017'], '07/11/2014': ['0.017'], '07/12/2014': ['0.015'], '07/13/2014': ['0.014'], '07/14/2014': ['0.012'], '07/15/2014': ['0.012'], '07/16/2014': ['0.011'], '07/17/2014': ['0.01'], '07/18/2014': ['0.009'], '07/19/2014': ['0.007'], '07/20/2014': ['0.007'], '07/21/2014': ['0.007'], '07/22/2014': ['0.007'], '07/23/2014': ['0.008'], '07/24/2014': ['0.008'], '07/25/2014': ['0.008'], '07/26/2014': ['0.008'], '07/27/2014': ['0.007'], '07/28/2014': ['0.007'], '07/29/2014': ['0.007'], '07/30/2014': ['0.007'], '07/31/2014': ['0.006']}}, 'StreamHydrology': {'dataset': 'Streamflow', 'dataSource': 'constant', 'metadata': {'request_time': '06/17/2022 13:30:28', 'column_1': 'Date (GMT)', 'column_2': 'Streamflow', 'units': 'm^3/sec'}, 'data': {'07/01/2014': ['0'], '07/02/2014': ['0'], '07/03/2014': ['0.012'], '07/04/2014': ['0.061'], '07/05/2014': ['0'], '07/06/2014': ['0'], '07/07/2014': ['0'], '07/08/2014': ['0'], '07/09/2014': ['0.003'], '07/10/2014': ['0'], '07/11/2014': ['0'], '07/12/2014': ['0'], '07/13/2014': ['0'], '07/14/2014': ['0'], '07/15/2014': ['0'], '07/16/2014': ['0.028'], '07/17/2014': ['0'], '07/18/2014': ['0'], '07/19/2014': ['0'], '07/20/2014': ['0'], '07/21/2014': ['0.037'], '07/22/2014': ['0'], '07/23/2014': ['0'], '07/24/2014': ['0.002'], '07/25/2014': ['0.001'], '07/26/2014': ['0'], '07/27/2014': ['0'], '07/28/2014': ['0'], '07/29/2014': ['0'], '07/30/2014': ['0'], '07/31/2014': ['0']}}}, '9731488': {'Precipitation': {'dataset': 'Precipitation', 'dataSource': 'nldas', 'metadata': {'request_time': '06/17/2022 13:30:28', 'column_1': 'Date (GMT) (GMT)', 'column_2': 'Precipitation', 'units': 'mm', 'Precipitation_sum': '111.13300000000001', 'Precipitation_mean': '3.585', 'Precipitation_max': '22.85', 'Precipitation_standard_deviation': '6.235', 'Precipitation_variance': '38.874', 'Precipitation_median': '0.067', 'Precipitation_entropy': '3.566', 'Precipitation_geometric_mean': '0', 'Precipitation_skewness': '1.96', 'Precipitation_root_mean_square': '7.104', 'Precipitation_99_percentile': '22.85', 'Precipitation_99_percentile_count': '1', 'Precipitation_95_percentile': '20.564', 'Precipitation_95_percentile_count': '1', 'Precipitation_75_percentile': '4.171', 'Precipitation_75_percentile_count': '8', 'Precipitation_zero_count': '12', 'timeseries_timezone': 'GMT'}, 'data': {'07/01/2014': ['0.215'], '07/02/2014': ['0'], '07/03/2014': ['11.85'], '07/04/2014': ['20.31'], '07/05/2014': ['0'], '07/06/2014': ['0'], '07/07/2014': ['0'], '07/08/2014': ['0.003'], '07/09/2014': ['10.64'], '07/10/2014': ['0.067'], '07/11/2014': ['0.032'], '07/12/2014': ['0'], '07/13/2014': ['0'], '07/14/2014': ['0'], '07/15/2014': ['5.968'], '07/16/2014': ['14.19'], '07/17/2014': ['0'], '07/18/2014': ['0'], '07/19/2014': ['3.328'], '07/20/2014': ['0.354'], '07/21/2014': ['22.85'], '07/22/2014': ['9.652'], '07/23/2014': ['0.412'], '07/24/2014': ['4.34'], '07/25/2014': ['2.546'], '07/26/2014': ['0'], '07/27/2014': ['2.282'], '07/28/2014': ['2.072'], '07/29/2014': ['0'], '07/30/2014': ['0'], '07/31/2014': ['0.022']}}, 'SurfaceRunoff': {'dataset': 'Runoff', 'dataSource': 'nldas', 'metadata': {'request_time': '06/17/2022 13:30:28', 'column_1': 'Date (GMT) (GMT)', 'column_2': 'Runoff', 'units': 'mm', 'Runoff_sum': '11.332000000000003', 'Runoff_mean': '0.366', 'Runoff_max': '3.432', 'Runoff_standard_deviation': '0.849', 'Runoff_variance': '0.721', 'Runoff_median': '0', 'Runoff_entropy': '2.351', 'Runoff_geometric_mean': '0', 'Runoff_skewness': '2.655', 'Runoff_root_mean_square': '0.912', 'Runoff_99_percentile': '3.432', 'Runoff_99_percentile_count': '1', 'Runoff_95_percentile': '2.822', 'Runoff_95_percentile_count': '1', 'Runoff_75_percentile': '0.098', 'Runoff_75_percentile_count': '8', 'Runoff_zero_count': '19', 'timeseries_timezone': 'GMT'}, 'data': {'07/01/2014': ['0'], '07/02/2014': ['0'], '07/03/2014': ['1.714'], '07/04/2014': ['3.432'], '07/05/2014': ['0'], '07/06/2014': ['0'], '07/07/2014': ['0'], '07/08/2014': ['0'], '07/09/2014': ['0.733'], '07/10/2014': ['0'], '07/11/2014': ['0'], '07/12/2014': ['0'], '07/13/2014': ['0'], '07/14/2014': ['0'], '07/15/2014': ['0.208'], '07/16/2014': ['1.554'], '07/17/2014': ['0'], '07/18/2014': ['0'], '07/19/2014': ['0.008'], '07/20/2014': ['0'], '07/21/2014': ['2.754'], '07/22/2014': ['0.665'], '07/23/2014': ['0'], '07/24/2014': ['0.086'], '07/25/2014': ['0.1'], '07/26/2014': ['0'], '07/27/2014': ['0.063'], '07/28/2014': ['0.015'], '07/29/2014': ['0'], '07/30/2014': ['0'], '07/31/2014': ['0']}}, 'SubsurfaceRunoff': {'dataset': 'Baseflow', 'dataSource': 'nldas', 'metadata': {'request_time': '06/17/2022 13:30:28', 'column_1': 'Date (GMT) (GMT)', 'column_2': 'Baseflow', 'units': 'mm', 'Baseflow_sum': '27.365', 'Baseflow_mean': '0.883', 'Baseflow_max': '0.971', 'Baseflow_standard_deviation': '0.052', 'Baseflow_variance': '0.003', 'Baseflow_median': '0.891', 'Baseflow_entropy': '4.761', 'Baseflow_geometric_mean': '0.881', 'Baseflow_skewness': '-0.512', 'Baseflow_root_mean_square': '0.884', 'Baseflow_99_percentile': '0.971', 'Baseflow_99_percentile_count': '1', 'Baseflow_95_percentile': '0.966', 'Baseflow_95_percentile_count': '1', 'Baseflow_75_percentile': '0.919', 'Baseflow_75_percentile_count': '8', 'Baseflow_zero_count': '0', 'timeseries_timezone': 'GMT'}, 'data': {'07/01/2014': ['0.764'], '07/02/2014': ['0.797'], '07/03/2014': ['0.796'], '07/04/2014': ['0.796'], '07/05/2014': ['0.811'], '07/06/2014': ['0.834'], '07/07/2014': ['0.858'], '07/08/2014': ['0.88'], '07/09/2014': ['0.896'], '07/10/2014': ['0.909'], '07/11/2014': ['0.917'], '07/12/2014': ['0.921'], '07/13/2014': ['0.922'], '07/14/2014': ['0.919'], '07/15/2014': ['0.914'], '07/16/2014': ['0.906'], '07/17/2014': ['0.899'], '07/18/2014': ['0.891'], '07/19/2014': ['0.883'], '07/20/2014': ['0.875'], '07/21/2014': ['0.865'], '07/22/2014': ['0.857'], '07/23/2014': ['0.855'], '07/24/2014': ['0.864'], '07/25/2014': ['0.88'], '07/26/2014': ['0.901'], '07/27/2014': ['0.922'], '07/28/2014': ['0.941'], '07/29/2014': ['0.956'], '07/30/2014': ['0.965'], '07/31/2014': ['0.971']}}, 'StreamHydrology': {'dataset': 'Streamflow', 'dataSource': 'constant', 'metadata': {'request_time': '06/17/2022 13:30:28', 'column_1': 'Date (GMT)', 'column_2': 'Streamflow', 'units': 'm^3/sec'}, 'data': {'07/01/2014': ['0.072'], '07/02/2014': ['0.075'], '07/03/2014': ['0.238'], '07/04/2014': ['0.4'], '07/05/2014': ['0.077'], '07/06/2014': ['0.079'], '07/07/2014': ['0.081'], '07/08/2014': ['0.083'], '07/09/2014': ['0.154'], '07/10/2014': ['0.086'], '07/11/2014': ['0.087'], '07/12/2014': ['0.087'], '07/13/2014': ['0.087'], '07/14/2014': ['0.087'], '07/15/2014': ['0.106'], '07/16/2014': ['0.233'], '07/17/2014': ['0.085'], '07/18/2014': ['0.084'], '07/19/2014': ['0.084'], '07/20/2014': ['0.083'], '07/21/2014': ['0.343'], '07/22/2014': ['0.144'], '07/23/2014': ['0.081'], '07/24/2014': ['0.09'], '07/25/2014': ['0.093'], '07/26/2014': ['0.085'], '07/27/2014': ['0.093'], '07/28/2014': ['0.091'], '07/29/2014': ['0.09'], '07/30/2014': ['0.091'], '07/31/2014': ['0.092']}}}, '9731490': {'Precipitation': {'dataset': 'Precipitation', 'dataSource': 'nldas', 'metadata': {'request_time': '06/17/2022 13:30:28', 'column_1': 'Date (GMT) (GMT)', 'column_2': 'Precipitation', 'units': 'mm', 'Precipitation_sum': '111.13300000000001', 'Precipitation_mean': '3.585', 'Precipitation_max': '22.85', 'Precipitation_standard_deviation': '6.235', 'Precipitation_variance': '38.874', 'Precipitation_median': '0.067', 'Precipitation_entropy': '3.566', 'Precipitation_geometric_mean': '0', 'Precipitation_skewness': '1.96', 'Precipitation_root_mean_square': '7.104', 'Precipitation_99_percentile': '22.85', 'Precipitation_99_percentile_count': '1', 'Precipitation_95_percentile': '20.564', 'Precipitation_95_percentile_count': '1', 'Precipitation_75_percentile': '4.171', 'Precipitation_75_percentile_count': '8', 'Precipitation_zero_count': '12', 'timeseries_timezone': 'GMT'}, 'data': {'07/01/2014': ['0.215'], '07/02/2014': ['0'], '07/03/2014': ['11.85'], '07/04/2014': ['20.31'], '07/05/2014': ['0'], '07/06/2014': ['0'], '07/07/2014': ['0'], '07/08/2014': ['0.003'], '07/09/2014': ['10.64'], '07/10/2014': ['0.067'], '07/11/2014': ['0.032'], '07/12/2014': ['0'], '07/13/2014': ['0'], '07/14/2014': ['0'], '07/15/2014': ['5.968'], '07/16/2014': ['14.19'], '07/17/2014': ['0'], '07/18/2014': ['0'], '07/19/2014': ['3.328'], '07/20/2014': ['0.354'], '07/21/2014': ['22.85'], '07/22/2014': ['9.652'], '07/23/2014': ['0.412'], '07/24/2014': ['4.34'], '07/25/2014': ['2.546'], '07/26/2014': ['0'], '07/27/2014': ['2.282'], '07/28/2014': ['2.072'], '07/29/2014': ['0'], '07/30/2014': ['0'], '07/31/2014': ['0.022']}}, 'SurfaceRunoff': {'dataset': 'Runoff', 'dataSource': 'nldas', 'metadata': {'request_time': '06/17/2022 13:30:28', 'column_1': 'Date (GMT) (GMT)', 'column_2': 'Runoff', 'units': 'mm', 'Runoff_sum': '11.332000000000003', 'Runoff_mean': '0.366', 'Runoff_max': '3.432', 'Runoff_standard_deviation': '0.849', 'Runoff_variance': '0.721', 'Runoff_median': '0', 'Runoff_entropy': '2.351', 'Runoff_geometric_mean': '0', 'Runoff_skewness': '2.655', 'Runoff_root_mean_square': '0.912', 'Runoff_99_percentile': '3.432', 'Runoff_99_percentile_count': '1', 'Runoff_95_percentile': '2.822', 'Runoff_95_percentile_count': '1', 'Runoff_75_percentile': '0.098', 'Runoff_75_percentile_count': '8', 'Runoff_zero_count': '19', 'timeseries_timezone': 'GMT'}, 'data': {'07/01/2014': ['0'], '07/02/2014': ['0'], '07/03/2014': ['1.714'], '07/04/2014': ['3.432'], '07/05/2014': ['0'], '07/06/2014': ['0'], '07/07/2014': ['0'], '07/08/2014': ['0'], '07/09/2014': ['0.733'], '07/10/2014': ['0'], '07/11/2014': ['0'], '07/12/2014': ['0'], '07/13/2014': ['0'], '07/14/2014': ['0'], '07/15/2014': ['0.208'], '07/16/2014': ['1.554'], '07/17/2014': ['0'], '07/18/2014': ['0'], '07/19/2014': ['0.008'], '07/20/2014': ['0'], '07/21/2014': ['2.754'], '07/22/2014': ['0.665'], '07/23/2014': ['0'], '07/24/2014': ['0.086'], '07/25/2014': ['0.1'], '07/26/2014': ['0'], '07/27/2014': ['0.063'], '07/28/2014': ['0.015'], '07/29/2014': ['0'], '07/30/2014': ['0'], '07/31/2014': ['0']}}, 'SubsurfaceRunoff': {'dataset': 'Baseflow', 'dataSource': 'nldas', 'metadata': {'request_time': '06/17/2022 13:30:28', 'column_1': 'Date (GMT) (GMT)', 'column_2': 'Baseflow', 'units': 'mm', 'Baseflow_sum': '27.365', 'Baseflow_mean': '0.883', 'Baseflow_max': '0.971', 'Baseflow_standard_deviation': '0.052', 'Baseflow_variance': '0.003', 'Baseflow_median': '0.891', 'Baseflow_entropy': '4.761', 'Baseflow_geometric_mean': '0.881', 'Baseflow_skewness': '-0.512', 'Baseflow_root_mean_square': '0.884', 'Baseflow_99_percentile': '0.971', 'Baseflow_99_percentile_count': '1', 'Baseflow_95_percentile': '0.966', 'Baseflow_95_percentile_count': '1', 'Baseflow_75_percentile': '0.919', 'Baseflow_75_percentile_count': '8', 'Baseflow_zero_count': '0', 'timeseries_timezone': 'GMT'}, 'data': {'07/01/2014': ['0.764'], '07/02/2014': ['0.797'], '07/03/2014': ['0.796'], '07/04/2014': ['0.796'], '07/05/2014': ['0.811'], '07/06/2014': ['0.834'], '07/07/2014': ['0.858'], '07/08/2014': ['0.88'], '07/09/2014': ['0.896'], '07/10/2014': ['0.909'], '07/11/2014': ['0.917'], '07/12/2014': ['0.921'], '07/13/2014': ['0.922'], '07/14/2014': ['0.919'], '07/15/2014': ['0.914'], '07/16/2014': ['0.906'], '07/17/2014': ['0.899'], '07/18/2014': ['0.891'], '07/19/2014': ['0.883'], '07/20/2014': ['0.875'], '07/21/2014': ['0.865'], '07/22/2014': ['0.857'], '07/23/2014': ['0.855'], '07/24/2014': ['0.864'], '07/25/2014': ['0.88'], '07/26/2014': ['0.901'], '07/27/2014': ['0.922'], '07/28/2014': ['0.941'], '07/29/2014': ['0.956'], '07/30/2014': ['0.965'], '07/31/2014': ['0.971']}}, 'StreamHydrology': {'dataset': 'Streamflow', 'dataSource': 'constant', 'metadata': {'request_time': '06/17/2022 13:30:28', 'column_1': 'Date (GMT)', 'column_2': 'Streamflow', 'units': 'm^3/sec'}, 'data': {'07/01/2014': ['0.017'], '07/02/2014': ['0.018'], '07/03/2014': ['0.055'], '07/04/2014': ['0.093'], '07/05/2014': ['0.018'], '07/06/2014': ['0.018'], '07/07/2014': ['0.019'], '07/08/2014': ['0.019'], '07/09/2014': ['0.036'], '07/10/2014': ['0.02'], '07/11/2014': ['0.02'], '07/12/2014': ['0.02'], '07/13/2014': ['0.02'], '07/14/2014': ['0.02'], '07/15/2014': ['0.025'], '07/16/2014': ['0.054'], '07/17/2014': ['0.02'], '07/18/2014': ['0.02'], '07/19/2014': ['0.02'], '07/20/2014': ['0.019'], '07/21/2014': ['0.08'], '07/22/2014': ['0.034'], '07/23/2014': ['0.019'], '07/24/2014': ['0.021'], '07/25/2014': ['0.022'], '07/26/2014': ['0.02'], '07/27/2014': ['0.022'], '07/28/2014': ['0.021'], '07/29/2014': ['0.021'], '07/30/2014': ['0.021'], '07/31/2014': ['0.021']}}}, '9731496': {'Precipitation': {'dataset': 'Precipitation', 'dataSource': 'nldas', 'metadata': {'request_time': '06/17/2022 13:30:28', 'column_1': 'Date (GMT) (GMT)', 'column_2': 'Precipitation', 'units': 'mm', 'Precipitation_sum': '111.13300000000001', 'Precipitation_mean': '3.585', 'Precipitation_max': '22.85', 'Precipitation_standard_deviation': '6.235', 'Precipitation_variance': '38.874', 'Precipitation_median': '0.067', 'Precipitation_entropy': '3.566', 'Precipitation_geometric_mean': '0', 'Precipitation_skewness': '1.96', 'Precipitation_root_mean_square': '7.104', 'Precipitation_99_percentile': '22.85', 'Precipitation_99_percentile_count': '1', 'Precipitation_95_percentile': '20.564', 'Precipitation_95_percentile_count': '1', 'Precipitation_75_percentile': '4.171', 'Precipitation_75_percentile_count': '8', 'Precipitation_zero_count': '12', 'timeseries_timezone': 'GMT'}, 'data': {'07/01/2014': ['0.215'], '07/02/2014': ['0'], '07/03/2014': ['11.85'], '07/04/2014': ['20.31'], '07/05/2014': ['0'], '07/06/2014': ['0'], '07/07/2014': ['0'], '07/08/2014': ['0.003'], '07/09/2014': ['10.64'], '07/10/2014': ['0.067'], '07/11/2014': ['0.032'], '07/12/2014': ['0'], '07/13/2014': ['0'], '07/14/2014': ['0'], '07/15/2014': ['5.968'], '07/16/2014': ['14.19'], '07/17/2014': ['0'], '07/18/2014': ['0'], '07/19/2014': ['3.328'], '07/20/2014': ['0.354'], '07/21/2014': ['22.85'], '07/22/2014': ['9.652'], '07/23/2014': ['0.412'], '07/24/2014': ['4.34'], '07/25/2014': ['2.546'], '07/26/2014': ['0'], '07/27/2014': ['2.282'], '07/28/2014': ['2.072'], '07/29/2014': ['0'], '07/30/2014': ['0'], '07/31/2014': ['0.022']}}, 'SurfaceRunoff': {'dataset': 'Runoff', 'dataSource': 'nldas', 'metadata': {'request_time': '06/17/2022 13:30:28', 'column_1': 'Date (GMT) (GMT)', 'column_2': 'Runoff', 'units': 'mm', 'Runoff_sum': '11.332000000000003', 'Runoff_mean': '0.366', 'Runoff_max': '3.432', 'Runoff_standard_deviation': '0.849', 'Runoff_variance': '0.721', 'Runoff_median': '0', 'Runoff_entropy': '2.351', 'Runoff_geometric_mean': '0', 'Runoff_skewness': '2.655', 'Runoff_root_mean_square': '0.912', 'Runoff_99_percentile': '3.432', 'Runoff_99_percentile_count': '1', 'Runoff_95_percentile': '2.822', 'Runoff_95_percentile_count': '1', 'Runoff_75_percentile': '0.098', 'Runoff_75_percentile_count': '8', 'Runoff_zero_count': '19', 'timeseries_timezone': 'GMT'}, 'data': {'07/01/2014': ['0'], '07/02/2014': ['0'], '07/03/2014': ['1.714'], '07/04/2014': ['3.432'], '07/05/2014': ['0'], '07/06/2014': ['0'], '07/07/2014': ['0'], '07/08/2014': ['0'], '07/09/2014': ['0.733'], '07/10/2014': ['0'], '07/11/2014': ['0'], '07/12/2014': ['0'], '07/13/2014': ['0'], '07/14/2014': ['0'], '07/15/2014': ['0.208'], '07/16/2014': ['1.554'], '07/17/2014': ['0'], '07/18/2014': ['0'], '07/19/2014': ['0.008'], '07/20/2014': ['0'], '07/21/2014': ['2.754'], '07/22/2014': ['0.665'], '07/23/2014': ['0'], '07/24/2014': ['0.086'], '07/25/2014': ['0.1'], '07/26/2014': ['0'], '07/27/2014': ['0.063'], '07/28/2014': ['0.015'], '07/29/2014': ['0'], '07/30/2014': ['0'], '07/31/2014': ['0']}}, 'SubsurfaceRunoff': {'dataset': 'Baseflow', 'dataSource': 'nldas', 'metadata': {'request_time': '06/17/2022 13:30:28', 'column_1': 'Date (GMT) (GMT)', 'column_2': 'Baseflow', 'units': 'mm', 'Baseflow_sum': '27.365', 'Baseflow_mean': '0.883', 'Baseflow_max': '0.971', 'Baseflow_standard_deviation': '0.052', 'Baseflow_variance': '0.003', 'Baseflow_median': '0.891', 'Baseflow_entropy': '4.761', 'Baseflow_geometric_mean': '0.881', 'Baseflow_skewness': '-0.512', 'Baseflow_root_mean_square': '0.884', 'Baseflow_99_percentile': '0.971', 'Baseflow_99_percentile_count': '1', 'Baseflow_95_percentile': '0.966', 'Baseflow_95_percentile_count': '1', 'Baseflow_75_percentile': '0.919', 'Baseflow_75_percentile_count': '8', 'Baseflow_zero_count': '0', 'timeseries_timezone': 'GMT'}, 'data': {'07/01/2014': ['0.764'], '07/02/2014': ['0.797'], '07/03/2014': ['0.796'], '07/04/2014': ['0.796'], '07/05/2014': ['0.811'], '07/06/2014': ['0.834'], '07/07/2014': ['0.858'], '07/08/2014': ['0.88'], '07/09/2014': ['0.896'], '07/10/2014': ['0.909'], '07/11/2014': ['0.917'], '07/12/2014': ['0.921'], '07/13/2014': ['0.922'], '07/14/2014': ['0.919'], '07/15/2014': ['0.914'], '07/16/2014': ['0.906'], '07/17/2014': ['0.899'], '07/18/2014': ['0.891'], '07/19/2014': ['0.883'], '07/20/2014': ['0.875'], '07/21/2014': ['0.865'], '07/22/2014': ['0.857'], '07/23/2014': ['0.855'], '07/24/2014': ['0.864'], '07/25/2014': ['0.88'], '07/26/2014': ['0.901'], '07/27/2014': ['0.922'], '07/28/2014': ['0.941'], '07/29/2014': ['0.956'], '07/30/2014': ['0.965'], '07/31/2014': ['0.971']}}, 'StreamHydrology': {'dataset': 'Streamflow', 'dataSource': 'constant', 'metadata': {'request_time': '06/17/2022 13:30:28', 'column_1': 'Date (GMT)', 'column_2': 'Streamflow', 'units': 'm^3/sec'}, 'data': {'07/01/2014': ['0.018'], '07/02/2014': ['0.019'], '07/03/2014': ['0.058'], '07/04/2014': ['0.098'], '07/05/2014': ['0.019'], '07/06/2014': ['0.019'], '07/07/2014': ['0.02'], '07/08/2014': ['0.02'], '07/09/2014': ['0.038'], '07/10/2014': ['0.021'], '07/11/2014': ['0.021'], '07/12/2014': ['0.021'], '07/13/2014': ['0.021'], '07/14/2014': ['0.021'], '07/15/2014': ['0.026'], '07/16/2014': ['0.057'], '07/17/2014': ['0.021'], '07/18/2014': ['0.021'], '07/19/2014': ['0.021'], '07/20/2014': ['0.02'], '07/21/2014': ['0.084'], '07/22/2014': ['0.035'], '07/23/2014': ['0.02'], '07/24/2014': ['0.022'], '07/25/2014': ['0.023'], '07/26/2014': ['0.021'], '07/27/2014': ['0.023'], '07/28/2014': ['0.022'], '07/29/2014': ['0.022'], '07/30/2014': ['0.022'], '07/31/2014': ['0.023']}}}, '9731348': {'Precipitation': {'dataset': 'Precipitation', 'dataSource': 'nldas', 'metadata': {'request_time': '06/17/2022 13:30:28', 'column_1': 'Date (GMT) (GMT)', 'column_2': 'Precipitation', 'units': 'mm', 'Precipitation_sum': '155.78900000000002', 'Precipitation_mean': '5.025', 'Precipitation_max': '48.3', 'Precipitation_standard_deviation': '11.642', 'Precipitation_variance': '135.527', 'Precipitation_median': '0.187', 'Precipitation_entropy': '3.566', 'Precipitation_geometric_mean': '0', 'Precipitation_skewness': '3.081', 'Precipitation_root_mean_square': '12.506', 'Precipitation_99_percentile': '48.3', 'Precipitation_99_percentile_count': '1', 'Precipitation_95_percentile': '43.575', 'Precipitation_95_percentile_count': '1', 'Precipitation_75_percentile': '3.598', 'Precipitation_75_percentile_count': '8', 'Precipitation_zero_count': '12', 'timeseries_timezone': 'GMT'}, 'data': {'07/01/2014': ['0.051'], '07/02/2014': ['0'], '07/03/2014': ['1.328'], '07/04/2014': ['11.12'], '07/05/2014': ['0'], '07/06/2014': ['0'], '07/07/2014': ['0'], '07/08/2014': ['0'], '07/09/2014': ['5.53'], '07/10/2014': ['0.187'], '07/11/2014': ['0.127'], '07/12/2014': ['0'], '07/13/2014': ['0'], '07/14/2014': ['0'], '07/15/2014': ['11'], '07/16/2014': ['18.3'], '07/17/2014': ['0'], '07/18/2014': ['0.001'], '07/19/2014': ['2.971'], '07/20/2014': ['1.466'], '07/21/2014': ['43.05'], '07/22/2014': ['1.046'], '07/23/2014': ['0.479'], '07/24/2014': ['48.3'], '07/25/2014': ['3.724'], '07/26/2014': ['0'], '07/27/2014': ['4.125'], '07/28/2014': ['2.705'], '07/29/2014': ['0'], '07/30/2014': ['0'], '07/31/2014': ['0.279']}}, 'SurfaceRunoff': {'dataset': 'Runoff', 'dataSource': 'nldas', 'metadata': {'request_time': '06/17/2022 13:30:28', 'column_1': 'Date (GMT) (GMT)', 'column_2': 'Runoff', 'units': 'mm', 'Runoff_sum': '19.435', 'Runoff_mean': '0.627', 'Runoff_max': '9.093', 'Runoff_standard_deviation': '1.932', 'Runoff_variance': '3.733', 'Runoff_median': '0', 'Runoff_entropy': '2.351', 'Runoff_geometric_mean': '0', 'Runoff_skewness': '3.744', 'Runoff_root_mean_square': '2.001', 'Runoff_99_percentile': '9.093', 'Runoff_99_percentile_count': '1', 'Runoff_95_percentile': '6.313', 'Runoff_95_percentile_count': '1', 'Runoff_75_percentile': '0.029', 'Runoff_75_percentile_count': '8', 'Runoff_zero_count': '19', 'timeseries_timezone': 'GMT'}, 'data': {'07/01/2014': ['0'], '07/02/2014': ['0'], '07/03/2014': ['0.002'], '07/04/2014': ['0.856'], '07/05/2014': ['0'], '07/06/2014': ['0'], '07/07/2014': ['0'], '07/08/2014': ['0'], '07/09/2014': ['0.145'], '07/10/2014': ['0'], '07/11/2014': ['0'], '07/12/2014': ['0'], '07/13/2014': ['0'], '07/14/2014': ['0'], '07/15/2014': ['1.352'], '07/16/2014': ['1.665'], '07/17/2014': ['0'], '07/18/2014': ['0'], '07/19/2014': ['0.004'], '07/20/2014': ['0.007'], '07/21/2014': ['6.004'], '07/22/2014': ['0.001'], '07/23/2014': ['0'], '07/24/2014': ['9.093'], '07/25/2014': ['0'], '07/26/2014': ['0'], '07/27/2014': ['0.273'], '07/28/2014': ['0.033'], '07/29/2014': ['0'], '07/30/2014': ['0'], '07/31/2014': ['0']}}, 'SubsurfaceRunoff': {'dataset': 'Baseflow', 'dataSource': 'nldas', 'metadata': {'request_time': '06/17/2022 13:30:28', 'column_1': 'Date (GMT) (GMT)', 'column_2': 'Baseflow', 'units': 'mm', 'Baseflow_sum': '1.8050000000000006', 'Baseflow_mean': '0.058', 'Baseflow_max': '0.109', 'Baseflow_standard_deviation': '0.029', 'Baseflow_variance': '0.001', 'Baseflow_median': '0.054', 'Baseflow_entropy': '4.454', 'Baseflow_geometric_mean': '0.051', 'Baseflow_skewness': '0.292', 'Baseflow_root_mean_square': '0.065', 'Baseflow_99_percentile': '0.109', 'Baseflow_99_percentile_count': '1', 'Baseflow_95_percentile': '0.108', 'Baseflow_95_percentile_count': '2', 'Baseflow_75_percentile': '0.087', 'Baseflow_75_percentile_count': '8', 'Baseflow_zero_count': '0', 'timeseries_timezone': 'GMT'}, 'data': {'07/01/2014': ['0.109'], '07/02/2014': ['0.108'], '07/03/2014': ['0.102'], '07/04/2014': ['0.096'], '07/05/2014': ['0.088'], '07/06/2014': ['0.08'], '07/07/2014': ['0.073'], '07/08/2014': ['0.066'], '07/09/2014': ['0.061'], '07/10/2014': ['0.058'], '07/11/2014': ['0.054'], '07/12/2014': ['0.049'], '07/13/2014': ['0.043'], '07/14/2014': ['0.04'], '07/15/2014': ['0.035'], '07/16/2014': ['0.033'], '07/17/2014': ['0.028'], '07/18/2014': ['0.026'], '07/19/2014': ['0.024'], '07/20/2014': ['0.024'], '07/21/2014': ['0.022'], '07/22/2014': ['0.024'], '07/23/2014': ['0.026'], '07/24/2014': ['0.028'], '07/25/2014': ['0.036'], '07/26/2014': ['0.054'], '07/27/2014': ['0.07'], '07/28/2014': ['0.082'], '07/29/2014': ['0.088'], '07/30/2014': ['0.09'], '07/31/2014': ['0.088']}}, 'StreamHydrology': {'dataset': 'Streamflow', 'dataSource': 'constant', 'metadata': {'request_time': '06/17/2022 13:30:28', 'column_1': 'Date (GMT)', 'column_2': 'Streamflow', 'units': 'm^3/sec'}, 'data': {'07/01/2014': ['0.829'], '07/02/2014': ['0.861'], '07/03/2014': ['2.897'], '07/04/2014': ['6.564'], '07/05/2014': ['0.87'], '07/06/2014': ['0.894'], '07/07/2014': ['0.918'], '07/08/2014': ['0.938'], '07/09/2014': ['2.091'], '07/10/2014': ['0.967'], '07/11/2014': ['0.975'], '07/12/2014': ['0.978'], '07/13/2014': ['0.977'], '07/14/2014': ['0.973'], '07/15/2014': ['2.33'], '07/16/2014': ['3.866'], '07/17/2014': ['0.95'], '07/18/2014': ['0.943'], '07/19/2014': ['0.948'], '07/20/2014': ['0.929'], '07/21/2014': ['5.448'], '07/22/2014': ['1.614'], '07/23/2014': ['0.913'], '07/24/2014': ['1.366'], '07/25/2014': ['1.082'], '07/26/2014': ['0.971'], '07/27/2014': ['1.101'], '07/28/2014': ['1.047'], '07/29/2014': ['1.035'], '07/30/2014': ['1.044'], '07/31/2014': ['1.048']}}}}), ('table', {'9731240': {'COMID': '9731240', 'FROMCOMID': '0', 'TOCOMID': '9731240', 'FROMHYDSEQ': '0', 'TOHYDSEQ': '250110573', 'DIRECTION': '712', 'ReachCode': '03050103000768', 'SLOPE': '0.01054198', 'AreaSqKM': '0.9612', 'StreamLeve': '4', 'StreamOrde': '1', 'ReachCode1': '03050103000768', 'LengthKM': '1.459', 'MeanAnnFlowM3PS': '0.010732085013', 'MeanAnnVelMPS': '0.200381616', 'COMMENTS': 'Headwater', 'FROMCOMIDS': '0', 'TOCOMIDS': '9731240', 'COMID_SEQ': '1'}, '9731252': {'COMID': '9731252', 'FROMCOMID': '0', 'TOCOMID': '9731252', 'FROMHYDSEQ': '0', 'TOHYDSEQ': '250110569', 'DIRECTION': '712', 'ReachCode': '03050103000767', 'SLOPE': '0.00336848', 'AreaSqKM': '8.856', 'StreamLeve': '5', 'StreamOrde': '1', 'ReachCode1': '03050103000767', 'LengthKM': '1.856', 'MeanAnnFlowM3PS': '0.09865589494799999', 'MeanAnnVelMPS': '0.24176736000000001', 'COMMENTS': 'Headwater', 'FROMCOMIDS': '0', 'TOCOMIDS': '9731252', 'COMID_SEQ': '2'}, '9731256': {'COMID': '9731256', 'FROMCOMID': '0', 'TOCOMID': '9731256', 'FROMHYDSEQ': '0', 'TOHYDSEQ': '250110568', 'DIRECTION': '712', 'ReachCode': '03050103000765', 'SLOPE': '0.00462522', 'AreaSqKM': '4.9392', 'StreamLeve': '6', 'StreamOrde': '1', 'ReachCode1': '03050103000765', 'LengthKM': '1.791', 'MeanAnnFlowM3PS': '0.056067357059999996', 'MeanAnnVelMPS': '0.23010571200000002', 'COMMENTS': 'Headwater', 'FROMCOMIDS': '0', 'TOCOMIDS': '9731256', 'COMID_SEQ': '3'}, '9731474': {'COMID': '9731474', 'FROMCOMID': '0', 'TOCOMID': '9731474', 'FROMHYDSEQ': '0', 'TOHYDSEQ': '250110536', 'DIRECTION': '712', 'ReachCode': '03050103000253', 'SLOPE': '0.00834335', 'AreaSqKM': '4.7727', 'StreamLeve': '5', 'StreamOrde': '1', 'ReachCode1': '03050103000253', 'LengthKM': '3.476', 'MeanAnnFlowM3PS': '0.053717058759', 'MeanAnnVelMPS': '0.24221541600000002', 'COMMENTS': 'Headwater', 'FROMCOMIDS': '0', 'TOCOMIDS': '9731474', 'COMID_SEQ': '4'}, '9731478': {'COMID': '9731478', 'FROMCOMID': '0', 'TOCOMID': '9731478', 'FROMHYDSEQ': '0', 'TOHYDSEQ': '250110535', 'DIRECTION': '712', 'ReachCode': '03050103000764', 'SLOPE': '0.00782783', 'AreaSqKM': '2.2068', 'StreamLeve': '6', 'StreamOrde': '1', 'ReachCode1': '03050103000764', 'LengthKM': '2.393', 'MeanAnnFlowM3PS': '0.024975459054', 'MeanAnnVelMPS': '0.21694749600000002', 'COMMENTS': 'Headwater', 'FROMCOMIDS': '0', 'TOCOMIDS': '9731478', 'COMID_SEQ': '5'}, '9731488': {'COMID': '9731488', 'FROMCOMID': '0', 'TOCOMID': '9731488', 'FROMHYDSEQ': '0', 'TOHYDSEQ': '250110534', 'DIRECTION': '712', 'ReachCode': '03050103000769', 'SLOPE': '0.00611449', 'AreaSqKM': '8.181', 'StreamLeve': '5', 'StreamOrde': '1', 'ReachCode1': '03050103000769', 'LengthKM': '3.765', 'MeanAnnFlowM3PS': '0.125698483833', 'MeanAnnVelMPS': '0.25773888', 'COMMENTS': 'Headwater', 'FROMCOMIDS': '0', 'TOCOMIDS': '9731488', 'COMID_SEQ': '6'}, '9731490': {'COMID': '9731490', 'FROMCOMID': '0', 'TOCOMID': '9731490', 'FROMHYDSEQ': '0', 'TOHYDSEQ': '250110533', 'DIRECTION': '712', 'ReachCode': '03050103000770', 'SLOPE': '0.01336065', 'AreaSqKM': '1.9053', 'StreamLeve': '5', 'StreamOrde': '1', 'ReachCode1': '03050103000770', 'LengthKM': '2.223', 'MeanAnnFlowM3PS': '0.02067129831', 'MeanAnnVelMPS': '0.22297034400000001', 'COMMENTS': 'Headwater', 'FROMCOMIDS': '0', 'TOCOMIDS': '9731490', 'COMID_SEQ': '7'}, '9731496': {'COMID': '9731496', 'FROMCOMID': '0', 'TOCOMID': '9731496', 'FROMHYDSEQ': '0', 'TOHYDSEQ': '250110532', 'DIRECTION': '712', 'ReachCode': '03050103000771', 'SLOPE': '0.01436588', 'AreaSqKM': '2.0124', 'StreamLeve': '5', 'StreamOrde': '1', 'ReachCode1': '03050103000771', 'LengthKM': '2.413', 'MeanAnnFlowM3PS': '0.022002190119', 'MeanAnnVelMPS': '0.226198176', 'COMMENTS': 'Headwater', 'FROMCOMIDS': '0', 'TOCOMIDS': '9731496', 'COMID_SEQ': '8'}, '9731254': {'COMID': '9731254', 'FROMCOMID': '9731240', 'TOCOMID': '9731254', 'FROMHYDSEQ': '250110573', 'TOHYDSEQ': '250080605', 'DIRECTION': '709', 'ReachCode': '03050103000768', 'SLOPE': '0.00556844', 'AreaSqKM': '4.8744', 'StreamLeve': '4', 'StreamOrde': '1', 'ReachCode1': '03050103000768', 'LengthKM': '3.448', 'MeanAnnFlowM3PS': '0.06444914377199999', 'MeanAnnVelMPS': '0.23933505600000002', 'COMMENTS': '', 'FROMCOMIDS': '9731240', 'TOCOMIDS': '9731254', 'COMID_SEQ': '9'}, '9731260': {'COMID': '9731260', 'FROMCOMID': '9731256', 'TOCOMID': '9731260', 'FROMHYDSEQ': '250110568', 'TOHYDSEQ': '250080604', 'DIRECTION': '709', 'ReachCode': '03050103000252', 'SLOPE': '0.00270819', 'AreaSqKM': '5.8131', 'StreamLeve': '5', 'StreamOrde': '2', 'ReachCode1': '03050103000252', 'LengthKM': '1.477', 'MeanAnnFlowM3PS': '0.197566641519', 'MeanAnnVelMPS': '0.258138168', 'COMMENTS': '', 'FROMCOMIDS': '9731256,9731474', 'TOCOMIDS': '9731260', 'COMID_SEQ': '10'}, '9731484': {'COMID': '9731484', 'FROMCOMID': '9731260', 'TOCOMID': '9731484', 'FROMHYDSEQ': '250080604', 'TOHYDSEQ': '250065339', 'DIRECTION': '709', 'ReachCode': '03050103000251', 'SLOPE': '0.00223621', 'AreaSqKM': '38.1861', 'StreamLeve': '5', 'StreamOrde': '2', 'ReachCode1': '03050103000251', 'LengthKM': '12.387', 'MeanAnnFlowM3PS': '0.668645708211', 'MeanAnnVelMPS': '0.306647088', 'COMMENTS': '', 'FROMCOMIDS': '9731260,9731478', 'TOCOMIDS': '9731484', 'COMID_SEQ': '11'}, '9731486': {'COMID': '9731486', 'FROMCOMID': '9731252', 'TOCOMID': '9731486', 'FROMHYDSEQ': '250110569', 'TOHYDSEQ': '250065338', 'DIRECTION': '709', 'ReachCode': '03050103000766', 'SLOPE': '0.00242174', 'AreaSqKM': '26.7417', 'StreamLeve': '4', 'StreamOrde': '2', 'ReachCode1': '03050103000766', 'LengthKM': '12.14', 'MeanAnnFlowM3PS': '0.490759275357', 'MeanAnnVelMPS': '0.294869616', 'COMMENTS': '', 'FROMCOMIDS': '9731252,9731254', 'TOCOMIDS': '9731486', 'COMID_SEQ': '12'}, '9731288': {'COMID': '9731288', 'FROMCOMID': '9731484', 'TOCOMID': '9731288', 'FROMHYDSEQ': '250065339', 'TOHYDSEQ': '250056344', 'DIRECTION': '709', 'ReachCode': '03050103000250', 'SLOPE': '0.00001', 'AreaSqKM': '0.2835', 'StreamLeve': '4', 'StreamOrde': '3', 'ReachCode1': '03050103000250', 'LengthKM': '0.186', 'MeanAnnFlowM3PS': '1.476950105826', 'MeanAnnVelMPS': '0.198223632', 'COMMENTS': '', 'FROMCOMIDS': '9731484,9731486', 'TOCOMIDS': '9731288', 'COMID_SEQ': '13'}, '9731492': {'COMID': '9731492', 'FROMCOMID': '9731288', 'TOCOMID': '9731492', 'FROMHYDSEQ': '250056344', 'TOHYDSEQ': '250050270', 'DIRECTION': '709', 'ReachCode': '03050103000249', 'SLOPE': '0.00383542', 'AreaSqKM': '0.414', 'StreamLeve': '4', 'StreamOrde': '3', 'ReachCode1': '03050103000249', 'LengthKM': '0.717', 'MeanAnnFlowM3PS': '1.638356133726', 'MeanAnnVelMPS': '0.368094768', 'COMMENTS': '', 'FROMCOMIDS': '9731288,9731488', 'TOCOMIDS': '9731492', 'COMID_SEQ': '14'}, '9731296': {'COMID': '9731296', 'FROMCOMID': '9731490', 'TOCOMID': '9731296', 'FROMHYDSEQ': '250110533', 'TOHYDSEQ': '250045890', 'DIRECTION': '709', 'ReachCode': '03050103000248', 'SLOPE': '0.00234899', 'AreaSqKM': '4.1598', 'StreamLeve': '4', 'StreamOrde': '3', 'ReachCode1': '03050103000248', 'LengthKM': '1.639', 'MeanAnnFlowM3PS': '2.408687639514', 'MeanAnnVelMPS': '0.357746808', 'COMMENTS': '', 'FROMCOMIDS': '9731490,9731492', 'TOCOMIDS': '9731296', 'COMID_SEQ': '15'}, '9731340': {'COMID': '9731340', 'FROMCOMID': '9731296', 'TOCOMID': '9731340', 'FROMHYDSEQ': '250045890', 'TOHYDSEQ': '250042483', 'DIRECTION': '709', 'ReachCode': '03050103000247', 'SLOPE': '0.00076783', 'AreaSqKM': '15.8814', 'StreamLeve': '4', 'StreamOrde': '3', 'ReachCode1': '03050103000247', 'LengthKM': '9.39', 'MeanAnnFlowM3PS': '2.6112663629519997', 'MeanAnnVelMPS': '0.32117690400000004', 'COMMENTS': '', 'FROMCOMIDS': '9731296,9731496', 'TOCOMIDS': '9731340', 'COMID_SEQ': '16'}, '9731344': {'COMID': '9731344', 'FROMCOMID': '9731340', 'TOCOMID': '9731344', 'FROMHYDSEQ': '250042483', 'TOHYDSEQ': '250039748', 'DIRECTION': '709', 'ReachCode': '03050103000246', 'SLOPE': '0.00001', 'AreaSqKM': '0.0072', 'StreamLeve': '4', 'StreamOrde': '3', 'ReachCode1': '03050103000246', 'LengthKM': '0.102', 'MeanAnnFlowM3PS': '2.6113513134929995', 'MeanAnnVelMPS': '0.207922368', 'COMMENTS': '', 'FROMCOMIDS': '9731340', 'TOCOMIDS': '9731344,9731348', 'COMID_SEQ': '17'}, '9731348': {'COMID': '9731348', 'FROMCOMID': '9731340', 'TOCOMID': '9731348', 'FROMHYDSEQ': '250042483', 'TOHYDSEQ': '250039747', 'DIRECTION': '709', 'ReachCode': '03050103000772', 'SLOPE': '0.00001', 'AreaSqKM': '0.0396', 'StreamLeve': '5', 'StreamOrde': '3', 'ReachCode1': '03050103000772', 'LengthKM': '0.318', 'MeanAnnFlowM3PS': '0.00045306955199999997', 'MeanAnnVelMPS': '0.110935008', 'COMMENTS': '', 'FROMCOMIDS': '9731340', 'TOCOMIDS': '9731344,9731348', 'COMID_SEQ': '18'}, '9731358': {'COMID': '9731358', 'FROMCOMID': '9731344', 'TOCOMID': '9731358', 'FROMHYDSEQ': '250039748', 'TOHYDSEQ': '250037493', 'DIRECTION': '709', 'ReachCode': '03050103000245', 'SLOPE': '0.00184906', 'AreaSqKM': '1.8207', 'StreamLeve': '4', 'StreamOrde': '3', 'ReachCode1': '03050103000245', 'LengthKM': '3.856', 'MeanAnnFlowM3PS': '2.6330986519889996', 'MeanAnnVelMPS': '0.355978968', 'COMMENTS': ' Pour point', 'FROMCOMIDS': '9731344,9731348', 'TOCOMIDS': '9731358', 'COMID_SEQ': '19'}})])"
      ]
     },
     "execution_count": 14,
     "metadata": {},
     "output_type": "execute_result"
    }
   ],
   "source": [
    "output1.items()"
   ]
  },
  {
   "cell_type": "code",
   "execution_count": 15,
   "id": "6eda1c02",
   "metadata": {},
   "outputs": [
    {
     "data": {
      "text/plain": [
       "'nldas, nldas, nldas, constant'"
      ]
     },
     "execution_count": 15,
     "metadata": {},
     "output_type": "execute_result"
    }
   ],
   "source": [
    "output1['dataSource']"
   ]
  },
  {
   "cell_type": "code",
   "execution_count": 16,
   "id": "e0a5cd65",
   "metadata": {},
   "outputs": [
    {
     "data": {
      "text/plain": [
       "{'request_url': 'api/workflow/watershed',\n",
       " 'start_date': '07/01/2014 01:00:00',\n",
       " 'end_date': '08/08/2014 00:00:00',\n",
       " 'timestep': 'daily',\n",
       " 'errors': '',\n",
       " 'catchments': '9731358,9731344,9731340,9731296,9731492,9731288,9731484,9731260,9731474,9731478,9731256,9731486,9731252,9731254,9731240,9731488,9731490,9731496,9731348',\n",
       " 'connectivity_table_source': 'PlusFlowlineVAA',\n",
       " 'NHDPlus_url': 'http://www.horizon-systems.com/nhdplus/NHDPlusV2_data.php',\n",
       " 'Time_elapsed': '0.48941666666666667'}"
      ]
     },
     "execution_count": 16,
     "metadata": {},
     "output_type": "execute_result"
    }
   ],
   "source": [
    "output1['metadata']"
   ]
  },
  {
   "cell_type": "code",
   "execution_count": 17,
   "id": "7a9191f0",
   "metadata": {},
   "outputs": [
    {
     "data": {
      "text/plain": [
       "'9731358,9731344,9731340,9731296,9731492,9731288,9731484,9731260,9731474,9731478,9731256,9731486,9731252,9731254,9731240,9731488,9731490,9731496,9731348'"
      ]
     },
     "execution_count": 17,
     "metadata": {},
     "output_type": "execute_result"
    }
   ],
   "source": [
    "output1['metadata']['catchments']"
   ]
  },
  {
   "cell_type": "code",
   "execution_count": 18,
   "id": "5cb82d6e",
   "metadata": {},
   "outputs": [
    {
     "name": "stdout",
     "output_type": "stream",
     "text": [
      "Help on method_descriptor:\n",
      "\n",
      "split(self, /, sep=None, maxsplit=-1)\n",
      "    Return a list of the words in the string, using sep as the delimiter string.\n",
      "    \n",
      "    sep\n",
      "      The delimiter according which to split the string.\n",
      "      None (the default value) means split according to any whitespace,\n",
      "      and discard empty strings from the result.\n",
      "    maxsplit\n",
      "      Maximum number of splits to do.\n",
      "      -1 (the default value) means no limit.\n",
      "\n"
     ]
    }
   ],
   "source": [
    "output1['metadata']['catchments']\n",
    "help(str.split)"
   ]
  },
  {
   "cell_type": "code",
   "execution_count": 19,
   "id": "384d4fde",
   "metadata": {},
   "outputs": [
    {
     "name": "stdout",
     "output_type": "stream",
     "text": [
      "[['9731358', '9731344', '9731340', '9731296', '9731492', '9731288', '9731484', '9731260', '9731474', '9731478', '9731256', '9731486', '9731252', '9731254', '9731240', '9731488', '9731490', '9731496', '9731348']]\n",
      "19\n"
     ]
    }
   ],
   "source": [
    "comid_list =[]\n",
    "comid_list.append(output1['metadata']['catchments'].split(sep=','))\n",
    "print(comid_list)\n",
    "length = len(comid_list[0])\n",
    "print(length)\n",
    "#comid_list[0][-1]"
   ]
  },
  {
   "cell_type": "code",
   "execution_count": 20,
   "id": "08aef593",
   "metadata": {},
   "outputs": [
    {
     "name": "stdout",
     "output_type": "stream",
     "text": [
      "Hello World\n"
     ]
    }
   ],
   "source": [
    "print('Hello' + ' ' +'World')"
   ]
  },
  {
   "cell_type": "code",
   "execution_count": 21,
   "id": "0a1ad697",
   "metadata": {},
   "outputs": [
    {
     "name": "stdout",
     "output_type": "stream",
     "text": [
      "https://ceamdev.ceeopdev.net/hms/rest/api/info/catchment?comid=9731358\n",
      "200\n",
      "{'metadata': {'FROMCOMID': '9731358', 'FROMHYDSEQ': '250037493', 'FROMLVLPAT': '250037493', 'TOCOMID': '9731400', 'TOHYDSEQ': '250031139', 'TOLVLPAT': '250019853', 'NODENUMBER': '250058889', 'DELTALEVEL': '1', 'DIRECTION': '709', 'GAPDISTKM': '0', 'HasGeo': 'Y', 'TotDASqKM': '132.0561', 'DivDASqKM': '132.0561', 'Region': '03N', 'ComID': '9731358', 'Fdate': '7/3/2012', 'StreamLeve': '4', 'StreamOrde': '3', 'StreamCalc': '3', 'FromNode': '250058873', 'ToNode': '250058889', 'Hydroseq': '250037493', 'LevelPathI': '250037493', 'Pathlength': '441.881', 'TerminalPa': '250002604', 'Divergence': '0', 'StartFlag': '0', 'TerminalFl': '0', 'DnLevel': '3', 'ThinnerCod': '0', 'UpLevelPat': '250037493', 'UpHydroseq': '250039748', 'DnLevelPat': '250019853', 'DnMinorHyd': '0', 'DnDrainCou': '1', 'DnHydroseq': '250031139', 'FromMeas': '0', 'ToMeas': '100', 'ReachCode': '03050103000245', 'LengthKM': '3.856', 'Fcode': '46006', 'RtnDiv': '1', 'OutDiv': '0', 'DivEffect': '0', 'VPUIn': '0', 'VPUOut': '0', 'AreaSqKM': '1.8207', 'Tidal': '0', 'TOTMA': '0.12537153723', 'WBAreaType': '', 'CentroidLatitude': '35.06675819', 'CentroidLongitude': '-80.89269097', 'WBAREACOMI': 'NA', 'MAXELEVRAW': '-9998', 'MINELEVRAW': '15690', 'MAXELEVSMO': '16403', 'MINELEVSMO': '15690', 'SLOPE': '0.00184906', 'ELEVFIXED': '0', 'HWTYPE': '', 'STATUSFLAG': 'A', 'SLOPELENKM': '3.856', 'COMID': '9731358', 'REACHCODE': '03050103000245', 'HUC12': '030501030102', 'TOHUC': '030501030103', 'Length': '0.0', 'BANKFULL_WIDTH': '23.67', 'BANKFULL_DEPTH': '1.06', 'BANKFULL_XSEC_AREA': '25.51'}}\n",
      "<class 'dict'>\n"
     ]
    },
    {
     "data": {
      "text/plain": [
       "('1.06', '25.51', '1.8207')"
      ]
     },
     "execution_count": 21,
     "metadata": {},
     "output_type": "execute_result"
    }
   ],
   "source": [
    "#https://ceamdev.ceeopdev.net/hms/rest/api/info/catchment?comid=9731484\n",
    "catch_char_url = ('https://ceamdev.ceeopdev.net/hms/rest/api/info/catchment?comid=' + str(comid_list[0][0]))\n",
    "print(catch_char_url)\n",
    "import requests\n",
    "#catch_char_url = ('https://ceamdev.ceeopdev.net/hms/rest/api/info/catchment?comid=' + str(comid[i]))\n",
    "response1 = requests.get(catch_char_url)\n",
    "print(response1.status_code)\n",
    "print(response1.json())\n",
    "catch_char = response1.json()\n",
    "#catch_char_dic = json.loads(catch_char.json())\n",
    "print(type(catch_char))\n",
    "catch_char['metadata']['BANKFULL_DEPTH'],catch_char['metadata']['BANKFULL_XSEC_AREA'], catch_char['metadata']['AreaSqKM']\n",
    "#catch_char_url1 = ('https://ceamdev.ceeopdev.net/hms/rest/api/info/catchment?comid=' + str(comid[i]))\n",
    "#response2 = requests.get(catch_char_url1)"
   ]
  },
  {
   "cell_type": "code",
   "execution_count": 22,
   "id": "564c18ee",
   "metadata": {},
   "outputs": [],
   "source": [
    "from dbfread import DBF\n",
    "\n",
    "d50 = DBF('NHDPlus_MediumResolution_D50.dbf')\n"
   ]
  },
  {
   "cell_type": "code",
   "execution_count": 23,
   "id": "83b299df",
   "metadata": {},
   "outputs": [
    {
     "data": {
      "text/plain": [
       "2691339"
      ]
     },
     "execution_count": 23,
     "metadata": {},
     "output_type": "execute_result"
    }
   ],
   "source": [
    "len(d50)"
   ]
  },
  {
   "cell_type": "code",
   "execution_count": 24,
   "id": "25682feb",
   "metadata": {},
   "outputs": [
    {
     "name": "stdout",
     "output_type": "stream",
     "text": [
      "COMID,StreamOrde,TotDASqKM,D50[mm]\n"
     ]
    },
    {
     "data": {
      "text/plain": [
       "36"
      ]
     },
     "execution_count": 24,
     "metadata": {},
     "output_type": "execute_result"
    }
   ],
   "source": [
    "import sys; import csv\n",
    "\n",
    "writer = csv.writer(sys.stdout)\n",
    "\n",
    "writer.writerow(d50.field_names)\n",
    "\n"
   ]
  },
  {
   "cell_type": "code",
   "execution_count": 25,
   "id": "39309cc1",
   "metadata": {},
   "outputs": [],
   "source": [
    "from pandas import DataFrame\n",
    "\n",
    "frame = DataFrame(iter(d50))\n"
   ]
  },
  {
   "cell_type": "code",
   "execution_count": 26,
   "id": "f004709d",
   "metadata": {},
   "outputs": [
    {
     "data": {
      "text/html": [
       "<div>\n",
       "<style scoped>\n",
       "    .dataframe tbody tr th:only-of-type {\n",
       "        vertical-align: middle;\n",
       "    }\n",
       "\n",
       "    .dataframe tbody tr th {\n",
       "        vertical-align: top;\n",
       "    }\n",
       "\n",
       "    .dataframe thead th {\n",
       "        text-align: right;\n",
       "    }\n",
       "</style>\n",
       "<table border=\"1\" class=\"dataframe\">\n",
       "  <thead>\n",
       "    <tr style=\"text-align: right;\">\n",
       "      <th></th>\n",
       "      <th>COMID</th>\n",
       "      <th>StreamOrde</th>\n",
       "      <th>TotDASqKM</th>\n",
       "      <th>D50[mm]</th>\n",
       "    </tr>\n",
       "  </thead>\n",
       "  <tbody>\n",
       "    <tr>\n",
       "      <th>286973</th>\n",
       "      <td>9731484</td>\n",
       "      <td>2.0</td>\n",
       "      <td>55.9179</td>\n",
       "      <td>0.252818</td>\n",
       "    </tr>\n",
       "  </tbody>\n",
       "</table>\n",
       "</div>"
      ],
      "text/plain": [
       "          COMID  StreamOrde  TotDASqKM   D50[mm]\n",
       "286973  9731484         2.0    55.9179  0.252818"
      ]
     },
     "execution_count": 26,
     "metadata": {},
     "output_type": "execute_result"
    }
   ],
   "source": [
    "frame.loc[frame['COMID']==9731484]"
   ]
  },
  {
   "cell_type": "code",
   "execution_count": 27,
   "id": "4eb6f63d",
   "metadata": {},
   "outputs": [
    {
     "data": {
      "text/plain": [
       "286973    0.252818\n",
       "Name: D50[mm], dtype: float64"
      ]
     },
     "execution_count": 27,
     "metadata": {},
     "output_type": "execute_result"
    }
   ],
   "source": [
    "frame['D50[mm]'].loc[frame['COMID']==9731484] #median grain size"
   ]
  },
  {
   "cell_type": "code",
   "execution_count": null,
   "id": "59656fd7",
   "metadata": {},
   "outputs": [],
   "source": []
  },
  {
   "cell_type": "code",
   "execution_count": 28,
   "id": "651aa231",
   "metadata": {},
   "outputs": [],
   "source": [
    "def calc_vel(q, a):\n",
    "    \"to evaluate the stream velocity from the Streamflow and bankfull cross-sectional area expressed in m/s)\"\n",
    "    v = q/a\n",
    "    return v\n",
    "#calc_vel(1.66, float(catch_char['metadata']['BANKFULL_XSEC_AREA']))\n",
    "#import os  \n",
    "#os.makedirs('folder/subfolder', exist_ok=True)  \n",
    "#df.to_csv('folder/subfolder/out.csv')  \n"
   ]
  },
  {
   "cell_type": "code",
   "execution_count": 31,
   "id": "15ef3b99",
   "metadata": {},
   "outputs": [
    {
     "name": "stdout",
     "output_type": "stream",
     "text": [
      "9731358\n",
      "https://ceamdev.ceeopdev.net/hms/rest/api/info/catchment?comid=9731358\n",
      "      COMID  StrLen       d50  StrDepth       Q    StrVel StrXArea        Date\n",
      "0   9731358  3856.0  0.000372      1.06    1.66  0.065073    25.51  07/01/2014\n",
      "1   9731358  3856.0  0.000372      1.06   1.724  0.067581    25.51  07/02/2014\n",
      "2   9731358  3856.0  0.000372      1.06   5.796  0.227205    25.51  07/03/2014\n",
      "3   9731358  3856.0  0.000372      1.06  13.147  0.515367    25.51  07/04/2014\n",
      "4   9731358  3856.0  0.000372      1.06   1.743  0.068326    25.51  07/05/2014\n",
      "5   9731358  3856.0  0.000372      1.06    1.79  0.070169    25.51  07/06/2014\n",
      "6   9731358  3856.0  0.000372      1.06   1.837  0.072011    25.51  07/07/2014\n",
      "7   9731358  3856.0  0.000372      1.06   1.878  0.073618    25.51  07/08/2014\n",
      "8   9731358  3856.0  0.000372      1.06   4.186  0.164093    25.51  07/09/2014\n",
      "9   9731358  3856.0  0.000372      1.06   1.936  0.075892    25.51  07/10/2014\n",
      "10  9731358  3856.0  0.000372      1.06   1.952  0.076519    25.51  07/11/2014\n",
      "11  9731358  3856.0  0.000372      1.06   1.957  0.076715    25.51  07/12/2014\n",
      "12  9731358  3856.0  0.000372      1.06   1.955  0.076637    25.51  07/13/2014\n",
      "13  9731358  3856.0  0.000372      1.06   1.947  0.076323    25.51  07/14/2014\n",
      "14  9731358  3856.0  0.000372      1.06   4.689  0.183810    25.51  07/15/2014\n",
      "15  9731358  3856.0  0.000372      1.06   7.767  0.304469    25.51  07/16/2014\n",
      "16  9731358  3856.0  0.000372      1.06   1.901  0.074520    25.51  07/17/2014\n",
      "17  9731358  3856.0  0.000372      1.06   1.886  0.073932    25.51  07/18/2014\n",
      "18  9731358  3856.0  0.000372      1.06   1.896  0.074324    25.51  07/19/2014\n",
      "19  9731358  3856.0  0.000372      1.06   1.858  0.072834    25.51  07/20/2014\n",
      "20  9731358  3856.0  0.000372      1.06  11.021  0.432027    25.51  07/21/2014\n",
      "21  9731358  3856.0  0.000372      1.06   3.229  0.126578    25.51  07/22/2014\n",
      "22  9731358  3856.0  0.000372      1.06   1.826  0.071580    25.51  07/23/2014\n",
      "23  9731358  3856.0  0.000372      1.06    2.92  0.114465    25.51  07/24/2014\n",
      "24  9731358  3856.0  0.000372      1.06   2.165  0.084869    25.51  07/25/2014\n",
      "25  9731358  3856.0  0.000372      1.06   1.944  0.076205    25.51  07/26/2014\n",
      "26  9731358  3856.0  0.000372      1.06    2.21  0.086633    25.51  07/27/2014\n",
      "27  9731358  3856.0  0.000372      1.06   2.096  0.082164    25.51  07/28/2014\n",
      "28  9731358  3856.0  0.000372      1.06   2.072  0.081223    25.51  07/29/2014\n",
      "29  9731358  3856.0  0.000372      1.06    2.09  0.081929    25.51  07/30/2014\n",
      "30  9731358  3856.0  0.000372      1.06   2.098  0.082242    25.51  07/31/2014\n",
      "9731344\n",
      "https://ceamdev.ceeopdev.net/hms/rest/api/info/catchment?comid=9731344\n",
      "      COMID  StrLen       d50  StrDepth      Q    StrVel StrXArea        Date\n",
      "0   9731344   102.0  0.000309      1.05  0.829  0.032819    25.26  07/01/2014\n",
      "1   9731344   102.0  0.000309      1.05  0.861  0.034086    25.26  07/02/2014\n",
      "2   9731344   102.0  0.000309      1.05  2.897  0.114687    25.26  07/03/2014\n",
      "3   9731344   102.0  0.000309      1.05  6.563  0.259818    25.26  07/04/2014\n",
      "4   9731344   102.0  0.000309      1.05   0.87  0.034442    25.26  07/05/2014\n",
      "5   9731344   102.0  0.000309      1.05  0.894  0.035392    25.26  07/06/2014\n",
      "6   9731344   102.0  0.000309      1.05  0.918  0.036342    25.26  07/07/2014\n",
      "7   9731344   102.0  0.000309      1.05  0.938  0.037134    25.26  07/08/2014\n",
      "8   9731344   102.0  0.000309      1.05  2.091  0.082779    25.26  07/09/2014\n",
      "9   9731344   102.0  0.000309      1.05  0.967  0.038282    25.26  07/10/2014\n",
      "10  9731344   102.0  0.000309      1.05  0.975  0.038599    25.26  07/11/2014\n",
      "11  9731344   102.0  0.000309      1.05  0.978  0.038717    25.26  07/12/2014\n",
      "12  9731344   102.0  0.000309      1.05  0.977  0.038678    25.26  07/13/2014\n",
      "13  9731344   102.0  0.000309      1.05  0.973  0.038519    25.26  07/14/2014\n",
      "14  9731344   102.0  0.000309      1.05  2.329  0.092201    25.26  07/15/2014\n",
      "15  9731344   102.0  0.000309      1.05  3.865  0.153009    25.26  07/16/2014\n",
      "16  9731344   102.0  0.000309      1.05   0.95  0.037609    25.26  07/17/2014\n",
      "17  9731344   102.0  0.000309      1.05  0.943  0.037332    25.26  07/18/2014\n",
      "18  9731344   102.0  0.000309      1.05  0.948  0.037530    25.26  07/19/2014\n",
      "19  9731344   102.0  0.000309      1.05  0.929  0.036778    25.26  07/20/2014\n",
      "20  9731344   102.0  0.000309      1.05  5.446  0.215598    25.26  07/21/2014\n",
      "21  9731344   102.0  0.000309      1.05  1.614  0.063895    25.26  07/22/2014\n",
      "22  9731344   102.0  0.000309      1.05  0.913  0.036144    25.26  07/23/2014\n",
      "23  9731344   102.0  0.000309      1.05  1.362  0.053919    25.26  07/24/2014\n",
      "24  9731344   102.0  0.000309      1.05  1.082  0.042835    25.26  07/25/2014\n",
      "25  9731344   102.0  0.000309      1.05  0.971  0.038440    25.26  07/26/2014\n",
      "26  9731344   102.0  0.000309      1.05  1.101  0.043587    25.26  07/27/2014\n",
      "27  9731344   102.0  0.000309      1.05  1.047  0.041449    25.26  07/28/2014\n",
      "28  9731344   102.0  0.000309      1.05  1.035  0.040974    25.26  07/29/2014\n",
      "29  9731344   102.0  0.000309      1.05  1.044  0.041330    25.26  07/30/2014\n",
      "30  9731344   102.0  0.000309      1.05  1.048  0.041489    25.26  07/31/2014\n",
      "9731340\n",
      "https://ceamdev.ceeopdev.net/hms/rest/api/info/catchment?comid=9731340\n",
      "      COMID  StrLen       d50  StrDepth      Q    StrVel StrXArea        Date\n",
      "0   9731340  9390.0  0.000383      1.05  0.829  0.032819    25.26  07/01/2014\n",
      "1   9731340  9390.0  0.000383      1.05  0.861  0.034086    25.26  07/02/2014\n",
      "2   9731340  9390.0  0.000383      1.05  2.897  0.114687    25.26  07/03/2014\n",
      "3   9731340  9390.0  0.000383      1.05  6.563  0.259818    25.26  07/04/2014\n",
      "4   9731340  9390.0  0.000383      1.05   0.87  0.034442    25.26  07/05/2014\n",
      "5   9731340  9390.0  0.000383      1.05  0.894  0.035392    25.26  07/06/2014\n",
      "6   9731340  9390.0  0.000383      1.05  0.918  0.036342    25.26  07/07/2014\n",
      "7   9731340  9390.0  0.000383      1.05  0.938  0.037134    25.26  07/08/2014\n",
      "8   9731340  9390.0  0.000383      1.05  2.091  0.082779    25.26  07/09/2014\n",
      "9   9731340  9390.0  0.000383      1.05  0.967  0.038282    25.26  07/10/2014\n",
      "10  9731340  9390.0  0.000383      1.05  0.975  0.038599    25.26  07/11/2014\n",
      "11  9731340  9390.0  0.000383      1.05  0.978  0.038717    25.26  07/12/2014\n",
      "12  9731340  9390.0  0.000383      1.05  0.977  0.038678    25.26  07/13/2014\n",
      "13  9731340  9390.0  0.000383      1.05  0.973  0.038519    25.26  07/14/2014\n",
      "14  9731340  9390.0  0.000383      1.05  2.329  0.092201    25.26  07/15/2014\n",
      "15  9731340  9390.0  0.000383      1.05  3.865  0.153009    25.26  07/16/2014\n",
      "16  9731340  9390.0  0.000383      1.05   0.95  0.037609    25.26  07/17/2014\n",
      "17  9731340  9390.0  0.000383      1.05  0.943  0.037332    25.26  07/18/2014\n",
      "18  9731340  9390.0  0.000383      1.05  0.948  0.037530    25.26  07/19/2014\n",
      "19  9731340  9390.0  0.000383      1.05  0.929  0.036778    25.26  07/20/2014\n",
      "20  9731340  9390.0  0.000383      1.05  5.445  0.215558    25.26  07/21/2014\n",
      "21  9731340  9390.0  0.000383      1.05  1.614  0.063895    25.26  07/22/2014\n",
      "22  9731340  9390.0  0.000383      1.05  0.913  0.036144    25.26  07/23/2014\n",
      "23  9731340  9390.0  0.000383      1.05  1.361  0.053880    25.26  07/24/2014\n",
      "24  9731340  9390.0  0.000383      1.05  1.082  0.042835    25.26  07/25/2014\n",
      "25  9731340  9390.0  0.000383      1.05  0.971  0.038440    25.26  07/26/2014\n",
      "26  9731340  9390.0  0.000383      1.05  1.101  0.043587    25.26  07/27/2014\n",
      "27  9731340  9390.0  0.000383      1.05  1.047  0.041449    25.26  07/28/2014\n",
      "28  9731340  9390.0  0.000383      1.05  1.035  0.040974    25.26  07/29/2014\n",
      "29  9731340  9390.0  0.000383      1.05  1.044  0.041330    25.26  07/30/2014\n",
      "30  9731340  9390.0  0.000383      1.05  1.048  0.041489    25.26  07/31/2014\n",
      "9731296\n",
      "https://ceamdev.ceeopdev.net/hms/rest/api/info/catchment?comid=9731296\n",
      "      COMID  StrLen       d50  StrDepth      Q    StrVel StrXArea        Date\n",
      "0   9731296  1639.0  0.000264      1.01  0.788  0.034622    22.76  07/01/2014\n",
      "1   9731296  1639.0  0.000264      1.01  0.821  0.036072    22.76  07/02/2014\n",
      "2   9731296  1639.0  0.000264      1.01  2.804  0.123199    22.76  07/03/2014\n",
      "3   9731296  1639.0  0.000264      1.01  5.624  0.247100    22.76  07/04/2014\n",
      "4   9731296  1639.0  0.000264      1.01  0.833  0.036599    22.76  07/05/2014\n",
      "5   9731296  1639.0  0.000264      1.01  0.856  0.037610    22.76  07/06/2014\n",
      "6   9731296  1639.0  0.000264      1.01  0.881  0.038708    22.76  07/07/2014\n",
      "7   9731296  1639.0  0.000264      1.01  0.901  0.039587    22.76  07/08/2014\n",
      "8   9731296  1639.0  0.000264      1.01  1.729  0.075967    22.76  07/09/2014\n",
      "9   9731296  1639.0  0.000264      1.01  0.931  0.040905    22.76  07/10/2014\n",
      "10  9731296  1639.0  0.000264      1.01  0.939  0.041257    22.76  07/11/2014\n",
      "11  9731296  1639.0  0.000264      1.01  0.942  0.041388    22.76  07/12/2014\n",
      "12  9731296  1639.0  0.000264      1.01  0.942  0.041388    22.76  07/13/2014\n",
      "13  9731296  1639.0  0.000264      1.01  0.939  0.041257    22.76  07/14/2014\n",
      "14  9731296  1639.0  0.000264      1.01  1.625  0.071397    22.76  07/15/2014\n",
      "15  9731296  1639.0  0.000264      1.01  3.187  0.140026    22.76  07/16/2014\n",
      "16  9731296  1639.0  0.000264      1.01  0.918  0.040334    22.76  07/17/2014\n",
      "17  9731296  1639.0  0.000264      1.01   0.91  0.039982    22.76  07/18/2014\n",
      "18  9731296  1639.0  0.000264      1.01  0.913  0.040114    22.76  07/19/2014\n",
      "19  9731296  1639.0  0.000264      1.01  0.893  0.039236    22.76  07/20/2014\n",
      "20  9731296  1639.0  0.000264      1.01  4.607  0.202417    22.76  07/21/2014\n",
      "21  9731296  1639.0  0.000264      1.01  1.562  0.068629    22.76  07/22/2014\n",
      "22  9731296  1639.0  0.000264      1.01  0.873  0.038357    22.76  07/23/2014\n",
      "23  9731296  1639.0  0.000264      1.01  1.001  0.043981    22.76  07/24/2014\n",
      "24  9731296  1639.0  0.000264      1.01  1.016  0.044640    22.76  07/25/2014\n",
      "25  9731296  1639.0  0.000264      1.01   0.92  0.040422    22.76  07/26/2014\n",
      "26  9731296  1639.0  0.000264      1.01  1.015  0.044596    22.76  07/27/2014\n",
      "27  9731296  1639.0  0.000264      1.01  0.984  0.043234    22.76  07/28/2014\n",
      "28  9731296  1639.0  0.000264      1.01  0.976  0.042882    22.76  07/29/2014\n",
      "29  9731296  1639.0  0.000264      1.01  0.985  0.043278    22.76  07/30/2014\n",
      "30  9731296  1639.0  0.000264      1.01   0.99  0.043497    22.76  07/31/2014\n",
      "9731492\n",
      "https://ceamdev.ceeopdev.net/hms/rest/api/info/catchment?comid=9731492\n",
      "      COMID  StrLen      d50  StrDepth      Q    StrVel StrXArea        Date\n",
      "0   9731492   717.0  0.00017      0.99  0.734  0.033531    21.89  07/01/2014\n",
      "1   9731492   717.0  0.00017      0.99  0.765  0.034947    21.89  07/02/2014\n",
      "2   9731492   717.0  0.00017      0.99  2.627  0.120009    21.89  07/03/2014\n",
      "3   9731492   717.0  0.00017      0.99  5.327  0.243353    21.89  07/04/2014\n",
      "4   9731492   717.0  0.00017      0.99  0.776  0.035450    21.89  07/05/2014\n",
      "5   9731492   717.0  0.00017      0.99  0.798  0.036455    21.89  07/06/2014\n",
      "6   9731492   717.0  0.00017      0.99   0.82  0.037460    21.89  07/07/2014\n",
      "7   9731492   717.0  0.00017      0.99   0.84  0.038374    21.89  07/08/2014\n",
      "8   9731492   717.0  0.00017      0.99  1.615  0.073778    21.89  07/09/2014\n",
      "9   9731492   717.0  0.00017      0.99  0.867  0.039607    21.89  07/10/2014\n",
      "10  9731492   717.0  0.00017      0.99  0.874  0.039927    21.89  07/11/2014\n",
      "11  9731492   717.0  0.00017      0.99  0.878  0.040110    21.89  07/12/2014\n",
      "12  9731492   717.0  0.00017      0.99  0.878  0.040110    21.89  07/13/2014\n",
      "13  9731492   717.0  0.00017      0.99  0.874  0.039927    21.89  07/14/2014\n",
      "14  9731492   717.0  0.00017      0.99  1.546  0.070626    21.89  07/15/2014\n",
      "15  9731492   717.0  0.00017      0.99  3.015  0.137734    21.89  07/16/2014\n",
      "16  9731492   717.0  0.00017      0.99  0.855  0.039059    21.89  07/17/2014\n",
      "17  9731492   717.0  0.00017      0.99  0.847  0.038693    21.89  07/18/2014\n",
      "18  9731492   717.0  0.00017      0.99  0.851  0.038876    21.89  07/19/2014\n",
      "19  9731492   717.0  0.00017      0.99  0.831  0.037963    21.89  07/20/2014\n",
      "20  9731492   717.0  0.00017      0.99  4.353  0.198858    21.89  07/21/2014\n",
      "21  9731492   717.0  0.00017      0.99  1.455  0.066469    21.89  07/22/2014\n",
      "22  9731492   717.0  0.00017      0.99  0.813  0.037140    21.89  07/23/2014\n",
      "23  9731492   717.0  0.00017      0.99  0.935  0.042714    21.89  07/24/2014\n",
      "24  9731492   717.0  0.00017      0.99  0.948  0.043307    21.89  07/25/2014\n",
      "25  9731492   717.0  0.00017      0.99  0.857  0.039150    21.89  07/26/2014\n",
      "26  9731492   717.0  0.00017      0.99  0.946  0.043216    21.89  07/27/2014\n",
      "27  9731492   717.0  0.00017      0.99  0.917  0.041891    21.89  07/28/2014\n",
      "28  9731492   717.0  0.00017      0.99  0.909  0.041526    21.89  07/29/2014\n",
      "29  9731492   717.0  0.00017      0.99  0.918  0.041937    21.89  07/30/2014\n",
      "30  9731492   717.0  0.00017      0.99  0.922  0.042120    21.89  07/31/2014\n",
      "9731288\n",
      "https://ceamdev.ceeopdev.net/hms/rest/api/info/catchment?comid=9731288\n",
      "      COMID  StrLen       d50  StrDepth      Q    StrVel StrXArea        Date\n",
      "0   9731288   186.0  0.000216      0.97  0.658  0.031895    20.63  07/01/2014\n",
      "1   9731288   186.0  0.000216      0.97  0.686  0.033253    20.63  07/02/2014\n",
      "2   9731288   186.0  0.000216      0.97  2.378  0.115269    20.63  07/03/2014\n",
      "3   9731288   186.0  0.000216      0.97  4.907  0.237857    20.63  07/04/2014\n",
      "4   9731288   186.0  0.000216      0.97  0.695  0.033689    20.63  07/05/2014\n",
      "5   9731288   186.0  0.000216      0.97  0.715  0.034658    20.63  07/06/2014\n",
      "6   9731288   186.0  0.000216      0.97  0.735  0.035628    20.63  07/07/2014\n",
      "7   9731288   186.0  0.000216      0.97  0.752  0.036452    20.63  07/08/2014\n",
      "8   9731288   186.0  0.000216      0.97  1.453  0.070431    20.63  07/09/2014\n",
      "9   9731288   186.0  0.000216      0.97  0.776  0.037615    20.63  07/10/2014\n",
      "10  9731288   186.0  0.000216      0.97  0.783  0.037954    20.63  07/11/2014\n",
      "11  9731288   186.0  0.000216      0.97  0.786  0.038100    20.63  07/12/2014\n",
      "12  9731288   186.0  0.000216      0.97  0.786  0.038100    20.63  07/13/2014\n",
      "13  9731288   186.0  0.000216      0.97  0.783  0.037954    20.63  07/14/2014\n",
      "14  9731288   186.0  0.000216      0.97  1.435  0.069559    20.63  07/15/2014\n",
      "15  9731288   186.0  0.000216      0.97   2.77  0.134270    20.63  07/16/2014\n",
      "16  9731288   186.0  0.000216      0.97  0.765  0.037082    20.63  07/17/2014\n",
      "17  9731288   186.0  0.000216      0.97  0.759  0.036791    20.63  07/18/2014\n",
      "18  9731288   186.0  0.000216      0.97  0.762  0.036937    20.63  07/19/2014\n",
      "19  9731288   186.0  0.000216      0.97  0.744  0.036064    20.63  07/20/2014\n",
      "20  9731288   186.0  0.000216      0.97  3.993  0.193553    20.63  07/21/2014\n",
      "21  9731288   186.0  0.000216      0.97  1.303  0.063160    20.63  07/22/2014\n",
      "22  9731288   186.0  0.000216      0.97  0.728  0.035288    20.63  07/23/2014\n",
      "23  9731288   186.0  0.000216      0.97   0.84  0.040717    20.63  07/24/2014\n",
      "24  9731288   186.0  0.000216      0.97   0.85  0.041202    20.63  07/25/2014\n",
      "25  9731288   186.0  0.000216      0.97  0.767  0.037179    20.63  07/26/2014\n",
      "26  9731288   186.0  0.000216      0.97  0.848  0.041105    20.63  07/27/2014\n",
      "27  9731288   186.0  0.000216      0.97  0.822  0.039845    20.63  07/28/2014\n",
      "28  9731288   186.0  0.000216      0.97  0.813  0.039409    20.63  07/29/2014\n",
      "29  9731288   186.0  0.000216      0.97  0.822  0.039845    20.63  07/30/2014\n",
      "30  9731288   186.0  0.000216      0.97  0.826  0.040039    20.63  07/31/2014\n",
      "9731484\n",
      "https://ceamdev.ceeopdev.net/hms/rest/api/info/catchment?comid=9731484\n",
      "      COMID   StrLen       d50  StrDepth      Q    StrVel StrXArea        Date\n",
      "0   9731484  12387.0  0.000253      0.83  0.413  0.029648    13.93  07/01/2014\n",
      "1   9731484  12387.0  0.000253      0.83  0.431  0.030940    13.93  07/02/2014\n",
      "2   9731484  12387.0  0.000253      0.83  1.411  0.101292    13.93  07/03/2014\n",
      "3   9731484  12387.0  0.000253      0.83  2.657  0.190739    13.93  07/04/2014\n",
      "4   9731484  12387.0  0.000253      0.83  0.438  0.031443    13.93  07/05/2014\n",
      "5   9731484  12387.0  0.000253      0.83   0.45  0.032304    13.93  07/06/2014\n",
      "6   9731484  12387.0  0.000253      0.83  0.463  0.033238    13.93  07/07/2014\n",
      "7   9731484  12387.0  0.000253      0.83  0.474  0.034027    13.93  07/08/2014\n",
      "8   9731484  12387.0  0.000253      0.83  0.896  0.064322    13.93  07/09/2014\n",
      "9   9731484  12387.0  0.000253      0.83  0.489  0.035104    13.93  07/10/2014\n",
      "10  9731484  12387.0  0.000253      0.83  0.493  0.035391    13.93  07/11/2014\n",
      "11  9731484  12387.0  0.000253      0.83  0.495  0.035535    13.93  07/12/2014\n",
      "12  9731484  12387.0  0.000253      0.83  0.495  0.035535    13.93  07/13/2014\n",
      "13  9731484  12387.0  0.000253      0.83  0.494  0.035463    13.93  07/14/2014\n",
      "14  9731484  12387.0  0.000253      0.83  1.081  0.077602    13.93  07/15/2014\n",
      "15  9731484  12387.0  0.000253      0.83  1.579  0.113352    13.93  07/16/2014\n",
      "16  9731484  12387.0  0.000253      0.83  0.482  0.034602    13.93  07/17/2014\n",
      "17  9731484  12387.0  0.000253      0.83  0.478  0.034314    13.93  07/18/2014\n",
      "18  9731484  12387.0  0.000253      0.83   0.48  0.034458    13.93  07/19/2014\n",
      "19  9731484  12387.0  0.000253      0.83   0.47  0.033740    13.93  07/20/2014\n",
      "20  9731484  12387.0  0.000253      0.83    2.3  0.165111    13.93  07/21/2014\n",
      "21  9731484  12387.0  0.000253      0.83  0.821  0.058938    13.93  07/22/2014\n",
      "22  9731484  12387.0  0.000253      0.83  0.459  0.032950    13.93  07/23/2014\n",
      "23  9731484  12387.0  0.000253      0.83  0.518  0.037186    13.93  07/24/2014\n",
      "24  9731484  12387.0  0.000253      0.83  0.532  0.038191    13.93  07/25/2014\n",
      "25  9731484  12387.0  0.000253      0.83  0.484  0.034745    13.93  07/26/2014\n",
      "26  9731484  12387.0  0.000253      0.83  0.536  0.038478    13.93  07/27/2014\n",
      "27  9731484  12387.0  0.000253      0.83  0.516  0.037042    13.93  07/28/2014\n",
      "28  9731484  12387.0  0.000253      0.83  0.513  0.036827    13.93  07/29/2014\n",
      "29  9731484  12387.0  0.000253      0.83  0.518  0.037186    13.93  07/30/2014\n",
      "30  9731484  12387.0  0.000253      0.83  0.521  0.037401    13.93  07/31/2014\n",
      "9731260\n",
      "https://ceamdev.ceeopdev.net/hms/rest/api/info/catchment?comid=9731260\n",
      "      COMID  StrLen       d50  StrDepth      Q    StrVel StrXArea        Date\n",
      "0   9731260  1477.0  0.000323      0.57  0.056  0.009912     5.65  07/01/2014\n",
      "1   9731260  1477.0  0.000323      0.57  0.059  0.010442     5.65  07/02/2014\n",
      "2   9731260  1477.0  0.000323      0.57  0.238  0.042124     5.65  07/03/2014\n",
      "3   9731260  1477.0  0.000323      0.57  0.681  0.120531     5.65  07/04/2014\n",
      "4   9731260  1477.0  0.000323      0.57  0.059  0.010442     5.65  07/05/2014\n",
      "5   9731260  1477.0  0.000323      0.57   0.06  0.010619     5.65  07/06/2014\n",
      "6   9731260  1477.0  0.000323      0.57  0.061  0.010796     5.65  07/07/2014\n",
      "7   9731260  1477.0  0.000323      0.57  0.063  0.011150     5.65  07/08/2014\n",
      "8   9731260  1477.0  0.000323      0.57  0.134  0.023717     5.65  07/09/2014\n",
      "9   9731260  1477.0  0.000323      0.57  0.064  0.011327     5.65  07/10/2014\n",
      "10  9731260  1477.0  0.000323      0.57  0.065  0.011504     5.65  07/11/2014\n",
      "11  9731260  1477.0  0.000323      0.57  0.065  0.011504     5.65  07/12/2014\n",
      "12  9731260  1477.0  0.000323      0.57  0.064  0.011327     5.65  07/13/2014\n",
      "13  9731260  1477.0  0.000323      0.57  0.064  0.011327     5.65  07/14/2014\n",
      "14  9731260  1477.0  0.000323      0.57  0.556  0.098407     5.65  07/15/2014\n",
      "15  9731260  1477.0  0.000323      0.57  0.429  0.075929     5.65  07/16/2014\n",
      "16  9731260  1477.0  0.000323      0.57  0.062  0.010973     5.65  07/17/2014\n",
      "17  9731260  1477.0  0.000323      0.57  0.062  0.010973     5.65  07/18/2014\n",
      "18  9731260  1477.0  0.000323      0.57  0.063  0.011150     5.65  07/19/2014\n",
      "19  9731260  1477.0  0.000323      0.57  0.061  0.010796     5.65  07/20/2014\n",
      "20  9731260  1477.0  0.000323      0.57  0.608  0.107611     5.65  07/21/2014\n",
      "21  9731260  1477.0  0.000323      0.57   0.11  0.019469     5.65  07/22/2014\n",
      "22  9731260  1477.0  0.000323      0.57   0.06  0.010619     5.65  07/23/2014\n",
      "23  9731260  1477.0  0.000323      0.57  0.074  0.013097     5.65  07/24/2014\n",
      "24  9731260  1477.0  0.000323      0.57  0.074  0.013097     5.65  07/25/2014\n",
      "25  9731260  1477.0  0.000323      0.57  0.063  0.011150     5.65  07/26/2014\n",
      "26  9731260  1477.0  0.000323      0.57  0.076  0.013451     5.65  07/27/2014\n",
      "27  9731260  1477.0  0.000323      0.57  0.069  0.012212     5.65  07/28/2014\n",
      "28  9731260  1477.0  0.000323      0.57  0.067  0.011858     5.65  07/29/2014\n",
      "29  9731260  1477.0  0.000323      0.57  0.067  0.011858     5.65  07/30/2014\n",
      "30  9731260  1477.0  0.000323      0.57  0.067  0.011858     5.65  07/31/2014\n",
      "9731474\n",
      "https://ceamdev.ceeopdev.net/hms/rest/api/info/catchment?comid=9731474\n",
      "      COMID  StrLen       d50  StrDepth      Q    StrVel StrXArea        Date\n",
      "0   9731474  3476.0  0.000783      0.41  0.002  0.000813     2.46  07/01/2014\n",
      "1   9731474  3476.0  0.000783      0.41  0.002  0.000813     2.46  07/02/2014\n",
      "2   9731474  3476.0  0.000783      0.41  0.059  0.023984     2.46  07/03/2014\n",
      "3   9731474  3476.0  0.000783      0.41  0.301  0.122358     2.46  07/04/2014\n",
      "4   9731474  3476.0  0.000783      0.41  0.001  0.000407     2.46  07/05/2014\n",
      "5   9731474  3476.0  0.000783      0.41  0.001  0.000407     2.46  07/06/2014\n",
      "6   9731474  3476.0  0.000783      0.41  0.001  0.000407     2.46  07/07/2014\n",
      "7   9731474  3476.0  0.000783      0.41  0.001  0.000407     2.46  07/08/2014\n",
      "8   9731474  3476.0  0.000783      0.41  0.015  0.006098     2.46  07/09/2014\n",
      "9   9731474  3476.0  0.000783      0.41  0.001  0.000407     2.46  07/10/2014\n",
      "10  9731474  3476.0  0.000783      0.41  0.001  0.000407     2.46  07/11/2014\n",
      "11  9731474  3476.0  0.000783      0.41  0.001  0.000407     2.46  07/12/2014\n",
      "12  9731474  3476.0  0.000783      0.41  0.001  0.000407     2.46  07/13/2014\n",
      "13  9731474  3476.0  0.000783      0.41  0.001  0.000407     2.46  07/14/2014\n",
      "14  9731474  3476.0  0.000783      0.41  0.001  0.000407     2.46  07/15/2014\n",
      "15  9731474  3476.0  0.000783      0.41  0.137  0.055691     2.46  07/16/2014\n",
      "16  9731474  3476.0  0.000783      0.41  0.001  0.000407     2.46  07/17/2014\n",
      "17  9731474  3476.0  0.000783      0.41      0  0.000000     2.46  07/18/2014\n",
      "18  9731474  3476.0  0.000783      0.41  0.001  0.000407     2.46  07/19/2014\n",
      "19  9731474  3476.0  0.000783      0.41      0  0.000000     2.46  07/20/2014\n",
      "20  9731474  3476.0  0.000783      0.41  0.182  0.073984     2.46  07/21/2014\n",
      "21  9731474  3476.0  0.000783      0.41  0.002  0.000813     2.46  07/22/2014\n",
      "22  9731474  3476.0  0.000783      0.41      0  0.000000     2.46  07/23/2014\n",
      "23  9731474  3476.0  0.000783      0.41  0.008  0.003252     2.46  07/24/2014\n",
      "24  9731474  3476.0  0.000783      0.41  0.004  0.001626     2.46  07/25/2014\n",
      "25  9731474  3476.0  0.000783      0.41      0  0.000000     2.46  07/26/2014\n",
      "26  9731474  3476.0  0.000783      0.41  0.001  0.000407     2.46  07/27/2014\n",
      "27  9731474  3476.0  0.000783      0.41  0.002  0.000813     2.46  07/28/2014\n",
      "28  9731474  3476.0  0.000783      0.41      0  0.000000     2.46  07/29/2014\n",
      "29  9731474  3476.0  0.000783      0.41      0  0.000000     2.46  07/30/2014\n",
      "30  9731474  3476.0  0.000783      0.41      0  0.000000     2.46  07/31/2014\n",
      "9731478\n",
      "https://ceamdev.ceeopdev.net/hms/rest/api/info/catchment?comid=9731478\n",
      "      COMID  StrLen       d50  StrDepth      Q    StrVel StrXArea        Date\n",
      "0   9731478  2393.0  0.000559      0.33   0.02  0.013986     1.43  07/01/2014\n",
      "1   9731478  2393.0  0.000559      0.33   0.02  0.013986     1.43  07/02/2014\n",
      "2   9731478  2393.0  0.000559      0.33  0.064  0.044755     1.43  07/03/2014\n",
      "3   9731478  2393.0  0.000559      0.33  0.108  0.075524     1.43  07/04/2014\n",
      "4   9731478  2393.0  0.000559      0.33  0.021  0.014685     1.43  07/05/2014\n",
      "5   9731478  2393.0  0.000559      0.33  0.021  0.014685     1.43  07/06/2014\n",
      "6   9731478  2393.0  0.000559      0.33  0.022  0.015385     1.43  07/07/2014\n",
      "7   9731478  2393.0  0.000559      0.33  0.022  0.015385     1.43  07/08/2014\n",
      "8   9731478  2393.0  0.000559      0.33  0.042  0.029371     1.43  07/09/2014\n",
      "9   9731478  2393.0  0.000559      0.33  0.023  0.016084     1.43  07/10/2014\n",
      "10  9731478  2393.0  0.000559      0.33  0.023  0.016084     1.43  07/11/2014\n",
      "11  9731478  2393.0  0.000559      0.33  0.024  0.016783     1.43  07/12/2014\n",
      "12  9731478  2393.0  0.000559      0.33  0.024  0.016783     1.43  07/13/2014\n",
      "13  9731478  2393.0  0.000559      0.33  0.023  0.016084     1.43  07/14/2014\n",
      "14  9731478  2393.0  0.000559      0.33  0.029  0.020280     1.43  07/15/2014\n",
      "15  9731478  2393.0  0.000559      0.33  0.063  0.044056     1.43  07/16/2014\n",
      "16  9731478  2393.0  0.000559      0.33  0.023  0.016084     1.43  07/17/2014\n",
      "17  9731478  2393.0  0.000559      0.33  0.023  0.016084     1.43  07/18/2014\n",
      "18  9731478  2393.0  0.000559      0.33  0.023  0.016084     1.43  07/19/2014\n",
      "19  9731478  2393.0  0.000559      0.33  0.022  0.015385     1.43  07/20/2014\n",
      "20  9731478  2393.0  0.000559      0.33  0.092  0.064336     1.43  07/21/2014\n",
      "21  9731478  2393.0  0.000559      0.33  0.039  0.027273     1.43  07/22/2014\n",
      "22  9731478  2393.0  0.000559      0.33  0.022  0.015385     1.43  07/23/2014\n",
      "23  9731478  2393.0  0.000559      0.33  0.024  0.016783     1.43  07/24/2014\n",
      "24  9731478  2393.0  0.000559      0.33  0.025  0.017483     1.43  07/25/2014\n",
      "25  9731478  2393.0  0.000559      0.33  0.023  0.016084     1.43  07/26/2014\n",
      "26  9731478  2393.0  0.000559      0.33  0.025  0.017483     1.43  07/27/2014\n",
      "27  9731478  2393.0  0.000559      0.33  0.024  0.016783     1.43  07/28/2014\n",
      "28  9731478  2393.0  0.000559      0.33  0.024  0.016783     1.43  07/29/2014\n",
      "29  9731478  2393.0  0.000559      0.33  0.025  0.017483     1.43  07/30/2014\n",
      "30  9731478  2393.0  0.000559      0.33  0.025  0.017483     1.43  07/31/2014\n",
      "9731256\n",
      "https://ceamdev.ceeopdev.net/hms/rest/api/info/catchment?comid=9731256\n",
      "      COMID  StrLen       d50  StrDepth      Q    StrVel StrXArea        Date\n",
      "0   9731256  1791.0  0.000466      0.41  0.003  0.001190     2.52  07/01/2014\n",
      "1   9731256  1791.0  0.000466      0.41  0.003  0.001190     2.52  07/02/2014\n",
      "2   9731256  1791.0  0.000466      0.41   0.01  0.003968     2.52  07/03/2014\n",
      "3   9731256  1791.0  0.000466      0.41  0.095  0.037698     2.52  07/04/2014\n",
      "4   9731256  1791.0  0.000466      0.41  0.003  0.001190     2.52  07/05/2014\n",
      "5   9731256  1791.0  0.000466      0.41  0.003  0.001190     2.52  07/06/2014\n",
      "6   9731256  1791.0  0.000466      0.41  0.002  0.000794     2.52  07/07/2014\n",
      "7   9731256  1791.0  0.000466      0.41  0.002  0.000794     2.52  07/08/2014\n",
      "8   9731256  1791.0  0.000466      0.41  0.009  0.003571     2.52  07/09/2014\n",
      "9   9731256  1791.0  0.000466      0.41  0.002  0.000794     2.52  07/10/2014\n",
      "10  9731256  1791.0  0.000466      0.41  0.002  0.000794     2.52  07/11/2014\n",
      "11  9731256  1791.0  0.000466      0.41  0.002  0.000794     2.52  07/12/2014\n",
      "12  9731256  1791.0  0.000466      0.41  0.002  0.000794     2.52  07/13/2014\n",
      "13  9731256  1791.0  0.000466      0.41  0.001  0.000397     2.52  07/14/2014\n",
      "14  9731256  1791.0  0.000466      0.41   0.48  0.190476     2.52  07/15/2014\n",
      "15  9731256  1791.0  0.000466      0.41  0.126  0.050000     2.52  07/16/2014\n",
      "16  9731256  1791.0  0.000466      0.41  0.001  0.000397     2.52  07/17/2014\n",
      "17  9731256  1791.0  0.000466      0.41  0.001  0.000397     2.52  07/18/2014\n",
      "18  9731256  1791.0  0.000466      0.41  0.002  0.000794     2.52  07/19/2014\n",
      "19  9731256  1791.0  0.000466      0.41  0.001  0.000397     2.52  07/20/2014\n",
      "20  9731256  1791.0  0.000466      0.41  0.183  0.072619     2.52  07/21/2014\n",
      "21  9731256  1791.0  0.000466      0.41  0.006  0.002381     2.52  07/22/2014\n",
      "22  9731256  1791.0  0.000466      0.41  0.002  0.000794     2.52  07/23/2014\n",
      "23  9731256  1791.0  0.000466      0.41  0.002  0.000794     2.52  07/24/2014\n",
      "24  9731256  1791.0  0.000466      0.41  0.004  0.001587     2.52  07/25/2014\n",
      "25  9731256  1791.0  0.000466      0.41  0.002  0.000794     2.52  07/26/2014\n",
      "26  9731256  1791.0  0.000466      0.41  0.008  0.003175     2.52  07/27/2014\n",
      "27  9731256  1791.0  0.000466      0.41  0.003  0.001190     2.52  07/28/2014\n",
      "28  9731256  1791.0  0.000466      0.41  0.002  0.000794     2.52  07/29/2014\n",
      "29  9731256  1791.0  0.000466      0.41  0.002  0.000794     2.52  07/30/2014\n",
      "30  9731256  1791.0  0.000466      0.41  0.002  0.000794     2.52  07/31/2014\n",
      "9731486\n",
      "https://ceamdev.ceeopdev.net/hms/rest/api/info/catchment?comid=9731486\n",
      "      COMID   StrLen       d50  StrDepth      Q    StrVel StrXArea        Date\n",
      "0   9731486  12140.0  0.000279      0.76  0.242  0.021454    11.28  07/01/2014\n",
      "1   9731486  12140.0  0.000279      0.76  0.252  0.022340    11.28  07/02/2014\n",
      "2   9731486  12140.0  0.000279      0.76  0.959  0.085018    11.28  07/03/2014\n",
      "3   9731486  12140.0  0.000279      0.76  2.236  0.198227    11.28  07/04/2014\n",
      "4   9731486  12140.0  0.000279      0.76  0.255  0.022606    11.28  07/05/2014\n",
      "5   9731486  12140.0  0.000279      0.76  0.262  0.023227    11.28  07/06/2014\n",
      "6   9731486  12140.0  0.000279      0.76  0.269  0.023848    11.28  07/07/2014\n",
      "7   9731486  12140.0  0.000279      0.76  0.276  0.024468    11.28  07/08/2014\n",
      "8   9731486  12140.0  0.000279      0.76  0.552  0.048936    11.28  07/09/2014\n",
      "9   9731486  12140.0  0.000279      0.76  0.284  0.025177    11.28  07/10/2014\n",
      "10  9731486  12140.0  0.000279      0.76  0.287  0.025443    11.28  07/11/2014\n",
      "11  9731486  12140.0  0.000279      0.76  0.288  0.025532    11.28  07/12/2014\n",
      "12  9731486  12140.0  0.000279      0.76  0.288  0.025532    11.28  07/13/2014\n",
      "13  9731486  12140.0  0.000279      0.76  0.286  0.025355    11.28  07/14/2014\n",
      "14  9731486  12140.0  0.000279      0.76   0.35  0.031028    11.28  07/15/2014\n",
      "15  9731486  12140.0  0.000279      0.76  1.183  0.104876    11.28  07/16/2014\n",
      "16  9731486  12140.0  0.000279      0.76   0.28  0.024823    11.28  07/17/2014\n",
      "17  9731486  12140.0  0.000279      0.76  0.277  0.024557    11.28  07/18/2014\n",
      "18  9731486  12140.0  0.000279      0.76   0.28  0.024823    11.28  07/19/2014\n",
      "19  9731486  12140.0  0.000279      0.76  0.272  0.024113    11.28  07/20/2014\n",
      "20  9731486  12140.0  0.000279      0.76  1.681  0.149025    11.28  07/21/2014\n",
      "21  9731486  12140.0  0.000279      0.76  0.477  0.042287    11.28  07/22/2014\n",
      "22  9731486  12140.0  0.000279      0.76  0.266  0.023582    11.28  07/23/2014\n",
      "23  9731486  12140.0  0.000279      0.76  0.319  0.028280    11.28  07/24/2014\n",
      "24  9731486  12140.0  0.000279      0.76  0.315  0.027926    11.28  07/25/2014\n",
      "25  9731486  12140.0  0.000279      0.76   0.28  0.024823    11.28  07/26/2014\n",
      "26  9731486  12140.0  0.000279      0.76  0.309  0.027394    11.28  07/27/2014\n",
      "27  9731486  12140.0  0.000279      0.76  0.302  0.026773    11.28  07/28/2014\n",
      "28  9731486  12140.0  0.000279      0.76  0.297  0.026330    11.28  07/29/2014\n",
      "29  9731486  12140.0  0.000279      0.76    0.3  0.026596    11.28  07/30/2014\n",
      "30  9731486  12140.0  0.000279      0.76  0.301  0.026684    11.28  07/31/2014\n",
      "9731252\n",
      "https://ceamdev.ceeopdev.net/hms/rest/api/info/catchment?comid=9731252\n",
      "      COMID  StrLen       d50  StrDepth      Q    StrVel StrXArea        Date\n",
      "0   9731252  1856.0  0.000185      0.49  0.004  0.001050     3.81  07/01/2014\n",
      "1   9731252  1856.0  0.000185      0.49  0.003  0.000787     3.81  07/02/2014\n",
      "2   9731252  1856.0  0.000185      0.49   0.11  0.028871     3.81  07/03/2014\n",
      "3   9731252  1856.0  0.000185      0.49  0.559  0.146719     3.81  07/04/2014\n",
      "4   9731252  1856.0  0.000185      0.49  0.002  0.000525     3.81  07/05/2014\n",
      "5   9731252  1856.0  0.000185      0.49  0.002  0.000525     3.81  07/06/2014\n",
      "6   9731252  1856.0  0.000185      0.49  0.002  0.000525     3.81  07/07/2014\n",
      "7   9731252  1856.0  0.000185      0.49  0.002  0.000525     3.81  07/08/2014\n",
      "8   9731252  1856.0  0.000185      0.49  0.029  0.007612     3.81  07/09/2014\n",
      "9   9731252  1856.0  0.000185      0.49  0.002  0.000525     3.81  07/10/2014\n",
      "10  9731252  1856.0  0.000185      0.49  0.002  0.000525     3.81  07/11/2014\n",
      "11  9731252  1856.0  0.000185      0.49  0.002  0.000525     3.81  07/12/2014\n",
      "12  9731252  1856.0  0.000185      0.49  0.001  0.000262     3.81  07/13/2014\n",
      "13  9731252  1856.0  0.000185      0.49  0.001  0.000262     3.81  07/14/2014\n",
      "14  9731252  1856.0  0.000185      0.49  0.002  0.000525     3.81  07/15/2014\n",
      "15  9731252  1856.0  0.000185      0.49  0.254  0.066667     3.81  07/16/2014\n",
      "16  9731252  1856.0  0.000185      0.49  0.001  0.000262     3.81  07/17/2014\n",
      "17  9731252  1856.0  0.000185      0.49  0.001  0.000262     3.81  07/18/2014\n",
      "18  9731252  1856.0  0.000185      0.49  0.002  0.000525     3.81  07/19/2014\n",
      "19  9731252  1856.0  0.000185      0.49  0.001  0.000262     3.81  07/20/2014\n",
      "20  9731252  1856.0  0.000185      0.49  0.338  0.088714     3.81  07/21/2014\n",
      "21  9731252  1856.0  0.000185      0.49  0.003  0.000787     3.81  07/22/2014\n",
      "22  9731252  1856.0  0.000185      0.49  0.001  0.000262     3.81  07/23/2014\n",
      "23  9731252  1856.0  0.000185      0.49  0.015  0.003937     3.81  07/24/2014\n",
      "24  9731252  1856.0  0.000185      0.49  0.007  0.001837     3.81  07/25/2014\n",
      "25  9731252  1856.0  0.000185      0.49  0.001  0.000262     3.81  07/26/2014\n",
      "26  9731252  1856.0  0.000185      0.49  0.002  0.000525     3.81  07/27/2014\n",
      "27  9731252  1856.0  0.000185      0.49  0.004  0.001050     3.81  07/28/2014\n",
      "28  9731252  1856.0  0.000185      0.49  0.001  0.000262     3.81  07/29/2014\n",
      "29  9731252  1856.0  0.000185      0.49  0.001  0.000262     3.81  07/30/2014\n",
      "30  9731252  1856.0  0.000185      0.49  0.001  0.000262     3.81  07/31/2014\n",
      "9731254\n",
      "https://ceamdev.ceeopdev.net/hms/rest/api/info/catchment?comid=9731254\n",
      "      COMID  StrLen       d50  StrDepth      Q    StrVel StrXArea        Date\n",
      "0   9731254  3448.0  0.000277      0.43  0.002  0.000704     2.84  07/01/2014\n",
      "1   9731254  3448.0  0.000277      0.43  0.002  0.000704     2.84  07/02/2014\n",
      "2   9731254  3448.0  0.000277      0.43  0.072  0.025352     2.84  07/03/2014\n",
      "3   9731254  3448.0  0.000277      0.43  0.368  0.129577     2.84  07/04/2014\n",
      "4   9731254  3448.0  0.000277      0.43  0.002  0.000704     2.84  07/05/2014\n",
      "5   9731254  3448.0  0.000277      0.43  0.002  0.000704     2.84  07/06/2014\n",
      "6   9731254  3448.0  0.000277      0.43  0.001  0.000352     2.84  07/07/2014\n",
      "7   9731254  3448.0  0.000277      0.43  0.001  0.000352     2.84  07/08/2014\n",
      "8   9731254  3448.0  0.000277      0.43  0.019  0.006690     2.84  07/09/2014\n",
      "9   9731254  3448.0  0.000277      0.43  0.001  0.000352     2.84  07/10/2014\n",
      "10  9731254  3448.0  0.000277      0.43  0.001  0.000352     2.84  07/11/2014\n",
      "11  9731254  3448.0  0.000277      0.43  0.001  0.000352     2.84  07/12/2014\n",
      "12  9731254  3448.0  0.000277      0.43  0.001  0.000352     2.84  07/13/2014\n",
      "13  9731254  3448.0  0.000277      0.43  0.001  0.000352     2.84  07/14/2014\n",
      "14  9731254  3448.0  0.000277      0.43  0.001  0.000352     2.84  07/15/2014\n",
      "15  9731254  3448.0  0.000277      0.43  0.167  0.058803     2.84  07/16/2014\n",
      "16  9731254  3448.0  0.000277      0.43  0.001  0.000352     2.84  07/17/2014\n",
      "17  9731254  3448.0  0.000277      0.43  0.001  0.000352     2.84  07/18/2014\n",
      "18  9731254  3448.0  0.000277      0.43  0.002  0.000704     2.84  07/19/2014\n",
      "19  9731254  3448.0  0.000277      0.43      0  0.000000     2.84  07/20/2014\n",
      "20  9731254  3448.0  0.000277      0.43  0.223  0.078521     2.84  07/21/2014\n",
      "21  9731254  3448.0  0.000277      0.43  0.002  0.000704     2.84  07/22/2014\n",
      "22  9731254  3448.0  0.000277      0.43  0.001  0.000352     2.84  07/23/2014\n",
      "23  9731254  3448.0  0.000277      0.43   0.01  0.003521     2.84  07/24/2014\n",
      "24  9731254  3448.0  0.000277      0.43  0.005  0.001761     2.84  07/25/2014\n",
      "25  9731254  3448.0  0.000277      0.43  0.001  0.000352     2.84  07/26/2014\n",
      "26  9731254  3448.0  0.000277      0.43  0.002  0.000704     2.84  07/27/2014\n",
      "27  9731254  3448.0  0.000277      0.43  0.003  0.001056     2.84  07/28/2014\n",
      "28  9731254  3448.0  0.000277      0.43      0  0.000000     2.84  07/29/2014\n",
      "29  9731254  3448.0  0.000277      0.43      0  0.000000     2.84  07/30/2014\n",
      "30  9731254  3448.0  0.000277      0.43      0  0.000000     2.84  07/31/2014\n",
      "9731240\n",
      "https://ceamdev.ceeopdev.net/hms/rest/api/info/catchment?comid=9731240\n",
      "      COMID  StrLen      d50  StrDepth      Q   StrVel StrXArea        Date\n",
      "0   9731240  1459.0  0.00037      0.26      0  0.00000     0.80  07/01/2014\n",
      "1   9731240  1459.0  0.00037      0.26      0  0.00000     0.80  07/02/2014\n",
      "2   9731240  1459.0  0.00037      0.26  0.012  0.01500     0.80  07/03/2014\n",
      "3   9731240  1459.0  0.00037      0.26  0.061  0.07625     0.80  07/04/2014\n",
      "4   9731240  1459.0  0.00037      0.26      0  0.00000     0.80  07/05/2014\n",
      "5   9731240  1459.0  0.00037      0.26      0  0.00000     0.80  07/06/2014\n",
      "6   9731240  1459.0  0.00037      0.26      0  0.00000     0.80  07/07/2014\n",
      "7   9731240  1459.0  0.00037      0.26      0  0.00000     0.80  07/08/2014\n",
      "8   9731240  1459.0  0.00037      0.26  0.003  0.00375     0.80  07/09/2014\n",
      "9   9731240  1459.0  0.00037      0.26      0  0.00000     0.80  07/10/2014\n",
      "10  9731240  1459.0  0.00037      0.26      0  0.00000     0.80  07/11/2014\n",
      "11  9731240  1459.0  0.00037      0.26      0  0.00000     0.80  07/12/2014\n",
      "12  9731240  1459.0  0.00037      0.26      0  0.00000     0.80  07/13/2014\n",
      "13  9731240  1459.0  0.00037      0.26      0  0.00000     0.80  07/14/2014\n",
      "14  9731240  1459.0  0.00037      0.26      0  0.00000     0.80  07/15/2014\n",
      "15  9731240  1459.0  0.00037      0.26  0.028  0.03500     0.80  07/16/2014\n",
      "16  9731240  1459.0  0.00037      0.26      0  0.00000     0.80  07/17/2014\n",
      "17  9731240  1459.0  0.00037      0.26      0  0.00000     0.80  07/18/2014\n",
      "18  9731240  1459.0  0.00037      0.26      0  0.00000     0.80  07/19/2014\n",
      "19  9731240  1459.0  0.00037      0.26      0  0.00000     0.80  07/20/2014\n",
      "20  9731240  1459.0  0.00037      0.26  0.037  0.04625     0.80  07/21/2014\n",
      "21  9731240  1459.0  0.00037      0.26      0  0.00000     0.80  07/22/2014\n",
      "22  9731240  1459.0  0.00037      0.26      0  0.00000     0.80  07/23/2014\n",
      "23  9731240  1459.0  0.00037      0.26  0.002  0.00250     0.80  07/24/2014\n",
      "24  9731240  1459.0  0.00037      0.26  0.001  0.00125     0.80  07/25/2014\n",
      "25  9731240  1459.0  0.00037      0.26      0  0.00000     0.80  07/26/2014\n",
      "26  9731240  1459.0  0.00037      0.26      0  0.00000     0.80  07/27/2014\n",
      "27  9731240  1459.0  0.00037      0.26      0  0.00000     0.80  07/28/2014\n",
      "28  9731240  1459.0  0.00037      0.26      0  0.00000     0.80  07/29/2014\n",
      "29  9731240  1459.0  0.00037      0.26      0  0.00000     0.80  07/30/2014\n",
      "30  9731240  1459.0  0.00037      0.26      0  0.00000     0.80  07/31/2014\n",
      "9731488\n",
      "https://ceamdev.ceeopdev.net/hms/rest/api/info/catchment?comid=9731488\n",
      "      COMID  StrLen       d50  StrDepth      Q    StrVel StrXArea        Date\n",
      "0   9731488  3765.0  0.000402      0.48  0.072  0.020000     3.60  07/01/2014\n",
      "1   9731488  3765.0  0.000402      0.48  0.075  0.020833     3.60  07/02/2014\n",
      "2   9731488  3765.0  0.000402      0.48  0.238  0.066111     3.60  07/03/2014\n",
      "3   9731488  3765.0  0.000402      0.48    0.4  0.111111     3.60  07/04/2014\n",
      "4   9731488  3765.0  0.000402      0.48  0.077  0.021389     3.60  07/05/2014\n",
      "5   9731488  3765.0  0.000402      0.48  0.079  0.021944     3.60  07/06/2014\n",
      "6   9731488  3765.0  0.000402      0.48  0.081  0.022500     3.60  07/07/2014\n",
      "7   9731488  3765.0  0.000402      0.48  0.083  0.023056     3.60  07/08/2014\n",
      "8   9731488  3765.0  0.000402      0.48  0.154  0.042778     3.60  07/09/2014\n",
      "9   9731488  3765.0  0.000402      0.48  0.086  0.023889     3.60  07/10/2014\n",
      "10  9731488  3765.0  0.000402      0.48  0.087  0.024167     3.60  07/11/2014\n",
      "11  9731488  3765.0  0.000402      0.48  0.087  0.024167     3.60  07/12/2014\n",
      "12  9731488  3765.0  0.000402      0.48  0.087  0.024167     3.60  07/13/2014\n",
      "13  9731488  3765.0  0.000402      0.48  0.087  0.024167     3.60  07/14/2014\n",
      "14  9731488  3765.0  0.000402      0.48  0.106  0.029444     3.60  07/15/2014\n",
      "15  9731488  3765.0  0.000402      0.48  0.233  0.064722     3.60  07/16/2014\n",
      "16  9731488  3765.0  0.000402      0.48  0.085  0.023611     3.60  07/17/2014\n",
      "17  9731488  3765.0  0.000402      0.48  0.084  0.023333     3.60  07/18/2014\n",
      "18  9731488  3765.0  0.000402      0.48  0.084  0.023333     3.60  07/19/2014\n",
      "19  9731488  3765.0  0.000402      0.48  0.083  0.023056     3.60  07/20/2014\n",
      "20  9731488  3765.0  0.000402      0.48  0.343  0.095278     3.60  07/21/2014\n",
      "21  9731488  3765.0  0.000402      0.48  0.144  0.040000     3.60  07/22/2014\n",
      "22  9731488  3765.0  0.000402      0.48  0.081  0.022500     3.60  07/23/2014\n",
      "23  9731488  3765.0  0.000402      0.48   0.09  0.025000     3.60  07/24/2014\n",
      "24  9731488  3765.0  0.000402      0.48  0.093  0.025833     3.60  07/25/2014\n",
      "25  9731488  3765.0  0.000402      0.48  0.085  0.023611     3.60  07/26/2014\n",
      "26  9731488  3765.0  0.000402      0.48  0.093  0.025833     3.60  07/27/2014\n",
      "27  9731488  3765.0  0.000402      0.48  0.091  0.025278     3.60  07/28/2014\n",
      "28  9731488  3765.0  0.000402      0.48   0.09  0.025000     3.60  07/29/2014\n",
      "29  9731488  3765.0  0.000402      0.48  0.091  0.025278     3.60  07/30/2014\n",
      "30  9731488  3765.0  0.000402      0.48  0.092  0.025556     3.60  07/31/2014\n",
      "9731490\n",
      "https://ceamdev.ceeopdev.net/hms/rest/api/info/catchment?comid=9731490\n",
      "      COMID  StrLen       d50  StrDepth      Q    StrVel StrXArea        Date\n",
      "0   9731490  2223.0  0.000328      0.31  0.017  0.013178     1.29  07/01/2014\n",
      "1   9731490  2223.0  0.000328      0.31  0.018  0.013953     1.29  07/02/2014\n",
      "2   9731490  2223.0  0.000328      0.31  0.055  0.042636     1.29  07/03/2014\n",
      "3   9731490  2223.0  0.000328      0.31  0.093  0.072093     1.29  07/04/2014\n",
      "4   9731490  2223.0  0.000328      0.31  0.018  0.013953     1.29  07/05/2014\n",
      "5   9731490  2223.0  0.000328      0.31  0.018  0.013953     1.29  07/06/2014\n",
      "6   9731490  2223.0  0.000328      0.31  0.019  0.014729     1.29  07/07/2014\n",
      "7   9731490  2223.0  0.000328      0.31  0.019  0.014729     1.29  07/08/2014\n",
      "8   9731490  2223.0  0.000328      0.31  0.036  0.027907     1.29  07/09/2014\n",
      "9   9731490  2223.0  0.000328      0.31   0.02  0.015504     1.29  07/10/2014\n",
      "10  9731490  2223.0  0.000328      0.31   0.02  0.015504     1.29  07/11/2014\n",
      "11  9731490  2223.0  0.000328      0.31   0.02  0.015504     1.29  07/12/2014\n",
      "12  9731490  2223.0  0.000328      0.31   0.02  0.015504     1.29  07/13/2014\n",
      "13  9731490  2223.0  0.000328      0.31   0.02  0.015504     1.29  07/14/2014\n",
      "14  9731490  2223.0  0.000328      0.31  0.025  0.019380     1.29  07/15/2014\n",
      "15  9731490  2223.0  0.000328      0.31  0.054  0.041860     1.29  07/16/2014\n",
      "16  9731490  2223.0  0.000328      0.31   0.02  0.015504     1.29  07/17/2014\n",
      "17  9731490  2223.0  0.000328      0.31   0.02  0.015504     1.29  07/18/2014\n",
      "18  9731490  2223.0  0.000328      0.31   0.02  0.015504     1.29  07/19/2014\n",
      "19  9731490  2223.0  0.000328      0.31  0.019  0.014729     1.29  07/20/2014\n",
      "20  9731490  2223.0  0.000328      0.31   0.08  0.062016     1.29  07/21/2014\n",
      "21  9731490  2223.0  0.000328      0.31  0.034  0.026357     1.29  07/22/2014\n",
      "22  9731490  2223.0  0.000328      0.31  0.019  0.014729     1.29  07/23/2014\n",
      "23  9731490  2223.0  0.000328      0.31  0.021  0.016279     1.29  07/24/2014\n",
      "24  9731490  2223.0  0.000328      0.31  0.022  0.017054     1.29  07/25/2014\n",
      "25  9731490  2223.0  0.000328      0.31   0.02  0.015504     1.29  07/26/2014\n",
      "26  9731490  2223.0  0.000328      0.31  0.022  0.017054     1.29  07/27/2014\n",
      "27  9731490  2223.0  0.000328      0.31  0.021  0.016279     1.29  07/28/2014\n",
      "28  9731490  2223.0  0.000328      0.31  0.021  0.016279     1.29  07/29/2014\n",
      "29  9731490  2223.0  0.000328      0.31  0.021  0.016279     1.29  07/30/2014\n",
      "30  9731490  2223.0  0.000328      0.31  0.021  0.016279     1.29  07/31/2014\n",
      "9731496\n",
      "https://ceamdev.ceeopdev.net/hms/rest/api/info/catchment?comid=9731496\n",
      "      COMID  StrLen       d50  StrDepth      Q    StrVel StrXArea        Date\n",
      "0   9731496  2413.0  0.000497      0.32  0.018  0.013433     1.34  07/01/2014\n",
      "1   9731496  2413.0  0.000497      0.32  0.019  0.014179     1.34  07/02/2014\n",
      "2   9731496  2413.0  0.000497      0.32  0.058  0.043284     1.34  07/03/2014\n",
      "3   9731496  2413.0  0.000497      0.32  0.098  0.073134     1.34  07/04/2014\n",
      "4   9731496  2413.0  0.000497      0.32  0.019  0.014179     1.34  07/05/2014\n",
      "5   9731496  2413.0  0.000497      0.32  0.019  0.014179     1.34  07/06/2014\n",
      "6   9731496  2413.0  0.000497      0.32   0.02  0.014925     1.34  07/07/2014\n",
      "7   9731496  2413.0  0.000497      0.32   0.02  0.014925     1.34  07/08/2014\n",
      "8   9731496  2413.0  0.000497      0.32  0.038  0.028358     1.34  07/09/2014\n",
      "9   9731496  2413.0  0.000497      0.32  0.021  0.015672     1.34  07/10/2014\n",
      "10  9731496  2413.0  0.000497      0.32  0.021  0.015672     1.34  07/11/2014\n",
      "11  9731496  2413.0  0.000497      0.32  0.021  0.015672     1.34  07/12/2014\n",
      "12  9731496  2413.0  0.000497      0.32  0.021  0.015672     1.34  07/13/2014\n",
      "13  9731496  2413.0  0.000497      0.32  0.021  0.015672     1.34  07/14/2014\n",
      "14  9731496  2413.0  0.000497      0.32  0.026  0.019403     1.34  07/15/2014\n",
      "15  9731496  2413.0  0.000497      0.32  0.057  0.042537     1.34  07/16/2014\n",
      "16  9731496  2413.0  0.000497      0.32  0.021  0.015672     1.34  07/17/2014\n",
      "17  9731496  2413.0  0.000497      0.32  0.021  0.015672     1.34  07/18/2014\n",
      "18  9731496  2413.0  0.000497      0.32  0.021  0.015672     1.34  07/19/2014\n",
      "19  9731496  2413.0  0.000497      0.32   0.02  0.014925     1.34  07/20/2014\n",
      "20  9731496  2413.0  0.000497      0.32  0.084  0.062687     1.34  07/21/2014\n",
      "21  9731496  2413.0  0.000497      0.32  0.035  0.026119     1.34  07/22/2014\n",
      "22  9731496  2413.0  0.000497      0.32   0.02  0.014925     1.34  07/23/2014\n",
      "23  9731496  2413.0  0.000497      0.32  0.022  0.016418     1.34  07/24/2014\n",
      "24  9731496  2413.0  0.000497      0.32  0.023  0.017164     1.34  07/25/2014\n",
      "25  9731496  2413.0  0.000497      0.32  0.021  0.015672     1.34  07/26/2014\n",
      "26  9731496  2413.0  0.000497      0.32  0.023  0.017164     1.34  07/27/2014\n",
      "27  9731496  2413.0  0.000497      0.32  0.022  0.016418     1.34  07/28/2014\n",
      "28  9731496  2413.0  0.000497      0.32  0.022  0.016418     1.34  07/29/2014\n",
      "29  9731496  2413.0  0.000497      0.32  0.022  0.016418     1.34  07/30/2014\n",
      "30  9731496  2413.0  0.000497      0.32  0.023  0.017164     1.34  07/31/2014\n",
      "9731348\n",
      "https://ceamdev.ceeopdev.net/hms/rest/api/info/catchment?comid=9731348\n",
      "      COMID  StrLen       d50  StrDepth      Q    StrVel StrXArea        Date\n",
      "0   9731348   318.0  0.000309      1.05  0.829  0.032806    25.27  07/01/2014\n",
      "1   9731348   318.0  0.000309      1.05  0.861  0.034072    25.27  07/02/2014\n",
      "2   9731348   318.0  0.000309      1.05  2.897  0.114642    25.27  07/03/2014\n",
      "3   9731348   318.0  0.000309      1.05  6.564  0.259755    25.27  07/04/2014\n",
      "4   9731348   318.0  0.000309      1.05   0.87  0.034428    25.27  07/05/2014\n",
      "5   9731348   318.0  0.000309      1.05  0.894  0.035378    25.27  07/06/2014\n",
      "6   9731348   318.0  0.000309      1.05  0.918  0.036328    25.27  07/07/2014\n",
      "7   9731348   318.0  0.000309      1.05  0.938  0.037119    25.27  07/08/2014\n",
      "8   9731348   318.0  0.000309      1.05  2.091  0.082746    25.27  07/09/2014\n",
      "9   9731348   318.0  0.000309      1.05  0.967  0.038267    25.27  07/10/2014\n",
      "10  9731348   318.0  0.000309      1.05  0.975  0.038583    25.27  07/11/2014\n",
      "11  9731348   318.0  0.000309      1.05  0.978  0.038702    25.27  07/12/2014\n",
      "12  9731348   318.0  0.000309      1.05  0.977  0.038662    25.27  07/13/2014\n",
      "13  9731348   318.0  0.000309      1.05  0.973  0.038504    25.27  07/14/2014\n",
      "14  9731348   318.0  0.000309      1.05   2.33  0.092204    25.27  07/15/2014\n",
      "15  9731348   318.0  0.000309      1.05  3.866  0.152988    25.27  07/16/2014\n",
      "16  9731348   318.0  0.000309      1.05   0.95  0.037594    25.27  07/17/2014\n",
      "17  9731348   318.0  0.000309      1.05  0.943  0.037317    25.27  07/18/2014\n",
      "18  9731348   318.0  0.000309      1.05  0.948  0.037515    25.27  07/19/2014\n",
      "19  9731348   318.0  0.000309      1.05  0.929  0.036763    25.27  07/20/2014\n",
      "20  9731348   318.0  0.000309      1.05  5.448  0.215592    25.27  07/21/2014\n",
      "21  9731348   318.0  0.000309      1.05  1.614  0.063870    25.27  07/22/2014\n",
      "22  9731348   318.0  0.000309      1.05  0.913  0.036130    25.27  07/23/2014\n",
      "23  9731348   318.0  0.000309      1.05  1.366  0.054056    25.27  07/24/2014\n",
      "24  9731348   318.0  0.000309      1.05  1.082  0.042818    25.27  07/25/2014\n",
      "25  9731348   318.0  0.000309      1.05  0.971  0.038425    25.27  07/26/2014\n",
      "26  9731348   318.0  0.000309      1.05  1.101  0.043569    25.27  07/27/2014\n",
      "27  9731348   318.0  0.000309      1.05  1.047  0.041433    25.27  07/28/2014\n",
      "28  9731348   318.0  0.000309      1.05  1.035  0.040958    25.27  07/29/2014\n",
      "29  9731348   318.0  0.000309      1.05  1.044  0.041314    25.27  07/30/2014\n",
      "30  9731348   318.0  0.000309      1.05  1.048  0.041472    25.27  07/31/2014\n"
     ]
    }
   ],
   "source": [
    "for comid in comid_list:\n",
    "    for i in range(length):\n",
    "        #print([i])\n",
    "        print(comid[i])\n",
    "        #if comid[i] == (frame.loc[frame['COMID']])\n",
    "        #print([frame['COMID']==comid[i]])\n",
    "        #print(comid[i], output1['table'][comid[i]]['LengthKM'])\n",
    "        #print(output1['data'][comid[i]]['StreamHydrology']['data'])\n",
    "        catch_char_url1 = ('https://ceamdev.ceeopdev.net/hms/rest/api/info/catchment?comid=' + str(comid[i]))\n",
    "        print(catch_char_url1)\n",
    "        response2 = requests.get(catch_char_url1)\n",
    "        catch_char1 = response2.json()\n",
    "        #print(catch_char1)\n",
    "        df_test = pd.DataFrame(output1['data'][comid[i]]['StreamHydrology']['data'].items(), columns=['Date', 'Strflw'])\n",
    "        #df_test['Strflw'].replace('[', '').replace(']', '')\n",
    "        df_test['COMID'] = comid[i]\n",
    "        df_test['StrLen'] = float(output1['table'][comid[i]]['LengthKM'])*1000 #conversion for stream length\n",
    "        df_test['StrDepth'] = float(catch_char1['metadata']['BANKFULL_DEPTH'])\n",
    "        df_test['StrXArea'] = catch_char1['metadata']['BANKFULL_XSEC_AREA']\n",
    "        #flow_q =[]\n",
    "        df_test['Q'] = df_test['Strflw'].astype(str).str[2:-2]\n",
    "        #df_test['Q'] = str(df_test['Strflw'])[2:-2]\n",
    "        velocity_lst = []\n",
    "        #df_test['dtic'] = 0\n",
    "        df_test['d50'] = float(frame['D50[mm]'].loc[frame['COMID']==float(comid[i])])*0.001 #median grain size\n",
    "        output_1 = ('water_char_' + str(comid[i]) + '_3.csv')\n",
    "        #df_test['Q'][i] = str(df_test['Strflw'][i])[2:-2]\n",
    "        #for i in df_test.index: print((float(str(df_test['Strflw'][i])[2:-2]))/ float(df_test['StrXArea'][i]))\n",
    "        for i in df_test.index: velocity_lst.append((float(str(df_test['Strflw'][i])[2:-2]))/ float(df_test['StrXArea'][i]))\n",
    "        #for i in df_test.index: velocity_lst.append((float(df_test['Strflw'][i]))/ float(df_test['StrXArea'][i]))\n",
    "        df_test['StrVel'] = velocity_lst\n",
    "        \n",
    "        #df_test[q]df_test['Strflw']\n",
    "        #df_test['dtic'] = df_test['StrLen'][i]/df_test['StrVel'][i]\n",
    "        #velocity_lst.append((float(str(df_test['Strflw'][i])[2:-2]))/ float(df_test['StrXArea'][i])) #We need to make sure units are correct\n",
    "        #print(velocity_lst)\n",
    "            #df_test['StrVel'] = velocity_lst\n",
    "        #for i in df_test.index: tic.append(float((df_test['StrLen'][i])/float((df_test['StrVel'][i])))) \n",
    "        #df_test['dtic'] = (df_test['StrLen'][i])/float(df_test['StrVel'][i])\n",
    "        #df_test.apply(calc_vel())\n",
    "        #df_test['StrVel'] = calc_vel(df_test['Strflw'], df_test['StrXArea'])\n",
    "        #    for row in df_test\n",
    "        #df_test.iloc[0,:]\n",
    "# Daily time in stream  df_test['dtic'] = df_test['StrLen'][i]/ df_test['StrVel'][i] \n",
    "        #strvel = []\n",
    "        #df_test['StrVel'] = df_test['Strflw']/df_test['StrXArea']\n",
    "        #Q(m3/s)/A(m2) = v(u)\n",
    "        #print(strvel)\n",
    "        #['COMID', 'Length', 'MedDia', 'Depth', 'Strflw', 'StrVel', 'Area' ])\n",
    "        #df_test_2 = df_test[['COMID', 'StrLen', 'd50', 'StrDepth', 'Strflw', 'StrVel', 'StrXArea']]\n",
    "        df_test = df_test[['COMID', 'StrLen', 'd50', 'StrDepth', 'Q', 'StrVel', 'StrXArea', 'Date']]\n",
    "        #df_test = df_test[['COMID', 'StrLen', 'd50', 'StrDepth', 'Q', 'StrVel', 'StrXArea']] \n",
    "\n",
    "        #df_test['Strflw'][i] = str(df_test['Strflw'][i])[2:-2]\n",
    "        #str(df_test['Strflw']).replace('[',' ')\n",
    "        #df_test.to_csv(output_1, index=False, header=False)\n",
    "        print(df_test) #df_test.drop(columns={'Strflw'})\n",
    "        #print(calc_vel)\n",
    "        # if i>2  then df_test.append(df_test)\n",
    "        #print(df_test)"
   ]
  },
  {
   "cell_type": "code",
   "execution_count": null,
   "id": "af171dee",
   "metadata": {},
   "outputs": [],
   "source": []
  },
  {
   "cell_type": "code",
   "execution_count": 30,
   "id": "d812dfb7",
   "metadata": {},
   "outputs": [
    {
     "ename": "KeyError",
     "evalue": "'Strflw'",
     "output_type": "error",
     "traceback": [
      "\u001b[1;31m---------------------------------------------------------------------------\u001b[0m",
      "\u001b[1;31mKeyError\u001b[0m                                  Traceback (most recent call last)",
      "\u001b[1;32m~\\Anaconda3\\lib\\site-packages\\pandas\\core\\indexes\\base.py\u001b[0m in \u001b[0;36mget_loc\u001b[1;34m(self, key, method, tolerance)\u001b[0m\n\u001b[0;32m   3360\u001b[0m             \u001b[1;32mtry\u001b[0m\u001b[1;33m:\u001b[0m\u001b[1;33m\u001b[0m\u001b[1;33m\u001b[0m\u001b[0m\n\u001b[1;32m-> 3361\u001b[1;33m                 \u001b[1;32mreturn\u001b[0m \u001b[0mself\u001b[0m\u001b[1;33m.\u001b[0m\u001b[0m_engine\u001b[0m\u001b[1;33m.\u001b[0m\u001b[0mget_loc\u001b[0m\u001b[1;33m(\u001b[0m\u001b[0mcasted_key\u001b[0m\u001b[1;33m)\u001b[0m\u001b[1;33m\u001b[0m\u001b[1;33m\u001b[0m\u001b[0m\n\u001b[0m\u001b[0;32m   3362\u001b[0m             \u001b[1;32mexcept\u001b[0m \u001b[0mKeyError\u001b[0m \u001b[1;32mas\u001b[0m \u001b[0merr\u001b[0m\u001b[1;33m:\u001b[0m\u001b[1;33m\u001b[0m\u001b[1;33m\u001b[0m\u001b[0m\n",
      "\u001b[1;32m~\\Anaconda3\\lib\\site-packages\\pandas\\_libs\\index.pyx\u001b[0m in \u001b[0;36mpandas._libs.index.IndexEngine.get_loc\u001b[1;34m()\u001b[0m\n",
      "\u001b[1;32m~\\Anaconda3\\lib\\site-packages\\pandas\\_libs\\index.pyx\u001b[0m in \u001b[0;36mpandas._libs.index.IndexEngine.get_loc\u001b[1;34m()\u001b[0m\n",
      "\u001b[1;32mpandas\\_libs\\hashtable_class_helper.pxi\u001b[0m in \u001b[0;36mpandas._libs.hashtable.PyObjectHashTable.get_item\u001b[1;34m()\u001b[0m\n",
      "\u001b[1;32mpandas\\_libs\\hashtable_class_helper.pxi\u001b[0m in \u001b[0;36mpandas._libs.hashtable.PyObjectHashTable.get_item\u001b[1;34m()\u001b[0m\n",
      "\u001b[1;31mKeyError\u001b[0m: 'Strflw'",
      "\nThe above exception was the direct cause of the following exception:\n",
      "\u001b[1;31mKeyError\u001b[0m                                  Traceback (most recent call last)",
      "\u001b[1;32m~\\AppData\\Local\\Temp/ipykernel_22568/3935268113.py\u001b[0m in \u001b[0;36m<module>\u001b[1;34m\u001b[0m\n\u001b[0;32m      1\u001b[0m \u001b[1;31m#q = float(str(df_test['Strflw'][i])[2:-2])\u001b[0m\u001b[1;33m\u001b[0m\u001b[1;33m\u001b[0m\u001b[1;33m\u001b[0m\u001b[0m\n\u001b[0;32m      2\u001b[0m \u001b[0mvelocity_lst\u001b[0m \u001b[1;33m=\u001b[0m \u001b[1;33m[\u001b[0m\u001b[1;33m]\u001b[0m\u001b[1;33m\u001b[0m\u001b[1;33m\u001b[0m\u001b[0m\n\u001b[1;32m----> 3\u001b[1;33m \u001b[1;32mfor\u001b[0m \u001b[0mi\u001b[0m \u001b[1;32min\u001b[0m \u001b[0mdf_test\u001b[0m\u001b[1;33m.\u001b[0m\u001b[0mindex\u001b[0m\u001b[1;33m:\u001b[0m \u001b[0mprint\u001b[0m\u001b[1;33m(\u001b[0m\u001b[1;33m(\u001b[0m\u001b[0mfloat\u001b[0m\u001b[1;33m(\u001b[0m\u001b[0mstr\u001b[0m\u001b[1;33m(\u001b[0m\u001b[0mdf_test\u001b[0m\u001b[1;33m[\u001b[0m\u001b[1;34m'Strflw'\u001b[0m\u001b[1;33m]\u001b[0m\u001b[1;33m[\u001b[0m\u001b[0mi\u001b[0m\u001b[1;33m]\u001b[0m\u001b[1;33m)\u001b[0m\u001b[1;33m[\u001b[0m\u001b[1;36m2\u001b[0m\u001b[1;33m:\u001b[0m\u001b[1;33m-\u001b[0m\u001b[1;36m2\u001b[0m\u001b[1;33m]\u001b[0m\u001b[1;33m)\u001b[0m\u001b[1;33m)\u001b[0m\u001b[1;33m/\u001b[0m \u001b[0mfloat\u001b[0m\u001b[1;33m(\u001b[0m\u001b[0mdf_test\u001b[0m\u001b[1;33m[\u001b[0m\u001b[1;34m'StrXArea'\u001b[0m\u001b[1;33m]\u001b[0m\u001b[1;33m[\u001b[0m\u001b[0mi\u001b[0m\u001b[1;33m]\u001b[0m\u001b[1;33m)\u001b[0m\u001b[1;33m)\u001b[0m\u001b[1;33m\u001b[0m\u001b[1;33m\u001b[0m\u001b[0m\n\u001b[0m\u001b[0;32m      4\u001b[0m \u001b[1;32mfor\u001b[0m \u001b[0mi\u001b[0m \u001b[1;32min\u001b[0m \u001b[0mdf_test\u001b[0m\u001b[1;33m.\u001b[0m\u001b[0mindex\u001b[0m\u001b[1;33m:\u001b[0m \u001b[0mvelocity_lst\u001b[0m\u001b[1;33m.\u001b[0m\u001b[0mappend\u001b[0m\u001b[1;33m(\u001b[0m\u001b[1;33m(\u001b[0m\u001b[0mfloat\u001b[0m\u001b[1;33m(\u001b[0m\u001b[0mstr\u001b[0m\u001b[1;33m(\u001b[0m\u001b[0mdf_test\u001b[0m\u001b[1;33m[\u001b[0m\u001b[1;34m'Strflw'\u001b[0m\u001b[1;33m]\u001b[0m\u001b[1;33m[\u001b[0m\u001b[0mi\u001b[0m\u001b[1;33m]\u001b[0m\u001b[1;33m)\u001b[0m\u001b[1;33m[\u001b[0m\u001b[1;36m2\u001b[0m\u001b[1;33m:\u001b[0m\u001b[1;33m-\u001b[0m\u001b[1;36m2\u001b[0m\u001b[1;33m]\u001b[0m\u001b[1;33m)\u001b[0m\u001b[1;33m)\u001b[0m\u001b[1;33m/\u001b[0m \u001b[0mfloat\u001b[0m\u001b[1;33m(\u001b[0m\u001b[0mdf_test\u001b[0m\u001b[1;33m[\u001b[0m\u001b[1;34m'StrXArea'\u001b[0m\u001b[1;33m]\u001b[0m\u001b[1;33m[\u001b[0m\u001b[0mi\u001b[0m\u001b[1;33m]\u001b[0m\u001b[1;33m)\u001b[0m\u001b[1;33m)\u001b[0m\u001b[1;33m\u001b[0m\u001b[1;33m\u001b[0m\u001b[0m\n\u001b[0;32m      5\u001b[0m \u001b[1;31m#velocity_lst.append((float(str(df_test['Strflw'][i])[2:-2]))/ float(df_test['StrXArea'][i]))\u001b[0m\u001b[1;33m\u001b[0m\u001b[1;33m\u001b[0m\u001b[1;33m\u001b[0m\u001b[0m\n",
      "\u001b[1;32m~\\Anaconda3\\lib\\site-packages\\pandas\\core\\frame.py\u001b[0m in \u001b[0;36m__getitem__\u001b[1;34m(self, key)\u001b[0m\n\u001b[0;32m   3456\u001b[0m             \u001b[1;32mif\u001b[0m \u001b[0mself\u001b[0m\u001b[1;33m.\u001b[0m\u001b[0mcolumns\u001b[0m\u001b[1;33m.\u001b[0m\u001b[0mnlevels\u001b[0m \u001b[1;33m>\u001b[0m \u001b[1;36m1\u001b[0m\u001b[1;33m:\u001b[0m\u001b[1;33m\u001b[0m\u001b[1;33m\u001b[0m\u001b[0m\n\u001b[0;32m   3457\u001b[0m                 \u001b[1;32mreturn\u001b[0m \u001b[0mself\u001b[0m\u001b[1;33m.\u001b[0m\u001b[0m_getitem_multilevel\u001b[0m\u001b[1;33m(\u001b[0m\u001b[0mkey\u001b[0m\u001b[1;33m)\u001b[0m\u001b[1;33m\u001b[0m\u001b[1;33m\u001b[0m\u001b[0m\n\u001b[1;32m-> 3458\u001b[1;33m             \u001b[0mindexer\u001b[0m \u001b[1;33m=\u001b[0m \u001b[0mself\u001b[0m\u001b[1;33m.\u001b[0m\u001b[0mcolumns\u001b[0m\u001b[1;33m.\u001b[0m\u001b[0mget_loc\u001b[0m\u001b[1;33m(\u001b[0m\u001b[0mkey\u001b[0m\u001b[1;33m)\u001b[0m\u001b[1;33m\u001b[0m\u001b[1;33m\u001b[0m\u001b[0m\n\u001b[0m\u001b[0;32m   3459\u001b[0m             \u001b[1;32mif\u001b[0m \u001b[0mis_integer\u001b[0m\u001b[1;33m(\u001b[0m\u001b[0mindexer\u001b[0m\u001b[1;33m)\u001b[0m\u001b[1;33m:\u001b[0m\u001b[1;33m\u001b[0m\u001b[1;33m\u001b[0m\u001b[0m\n\u001b[0;32m   3460\u001b[0m                 \u001b[0mindexer\u001b[0m \u001b[1;33m=\u001b[0m \u001b[1;33m[\u001b[0m\u001b[0mindexer\u001b[0m\u001b[1;33m]\u001b[0m\u001b[1;33m\u001b[0m\u001b[1;33m\u001b[0m\u001b[0m\n",
      "\u001b[1;32m~\\Anaconda3\\lib\\site-packages\\pandas\\core\\indexes\\base.py\u001b[0m in \u001b[0;36mget_loc\u001b[1;34m(self, key, method, tolerance)\u001b[0m\n\u001b[0;32m   3361\u001b[0m                 \u001b[1;32mreturn\u001b[0m \u001b[0mself\u001b[0m\u001b[1;33m.\u001b[0m\u001b[0m_engine\u001b[0m\u001b[1;33m.\u001b[0m\u001b[0mget_loc\u001b[0m\u001b[1;33m(\u001b[0m\u001b[0mcasted_key\u001b[0m\u001b[1;33m)\u001b[0m\u001b[1;33m\u001b[0m\u001b[1;33m\u001b[0m\u001b[0m\n\u001b[0;32m   3362\u001b[0m             \u001b[1;32mexcept\u001b[0m \u001b[0mKeyError\u001b[0m \u001b[1;32mas\u001b[0m \u001b[0merr\u001b[0m\u001b[1;33m:\u001b[0m\u001b[1;33m\u001b[0m\u001b[1;33m\u001b[0m\u001b[0m\n\u001b[1;32m-> 3363\u001b[1;33m                 \u001b[1;32mraise\u001b[0m \u001b[0mKeyError\u001b[0m\u001b[1;33m(\u001b[0m\u001b[0mkey\u001b[0m\u001b[1;33m)\u001b[0m \u001b[1;32mfrom\u001b[0m \u001b[0merr\u001b[0m\u001b[1;33m\u001b[0m\u001b[1;33m\u001b[0m\u001b[0m\n\u001b[0m\u001b[0;32m   3364\u001b[0m \u001b[1;33m\u001b[0m\u001b[0m\n\u001b[0;32m   3365\u001b[0m         \u001b[1;32mif\u001b[0m \u001b[0mis_scalar\u001b[0m\u001b[1;33m(\u001b[0m\u001b[0mkey\u001b[0m\u001b[1;33m)\u001b[0m \u001b[1;32mand\u001b[0m \u001b[0misna\u001b[0m\u001b[1;33m(\u001b[0m\u001b[0mkey\u001b[0m\u001b[1;33m)\u001b[0m \u001b[1;32mand\u001b[0m \u001b[1;32mnot\u001b[0m \u001b[0mself\u001b[0m\u001b[1;33m.\u001b[0m\u001b[0mhasnans\u001b[0m\u001b[1;33m:\u001b[0m\u001b[1;33m\u001b[0m\u001b[1;33m\u001b[0m\u001b[0m\n",
      "\u001b[1;31mKeyError\u001b[0m: 'Strflw'"
     ]
    }
   ],
   "source": [
    "#q = float(str(df_test['Strflw'][i])[2:-2])\n",
    "velocity_lst = []\n",
    "for i in df_test.index: print((float(str(df_test['Strflw'][i])[2:-2]))/ float(df_test['StrXArea'][i]))\n",
    "for i in df_test.index: velocity_lst.append((float(str(df_test['Strflw'][i])[2:-2]))/ float(df_test['StrXArea'][i]))\n",
    "#velocity_lst.append((float(str(df_test['Strflw'][i])[2:-2]))/ float(df_test['StrXArea'][i]))\n",
    "print(velocity_lst)\n",
    "df_test['StrVel'] = velocity_lst\n",
    "df_test\n"
   ]
  },
  {
   "cell_type": "code",
   "execution_count": null,
   "id": "ff678de9",
   "metadata": {},
   "outputs": [],
   "source": [
    "print(df_test['Strflw'].items)\n",
    "len(df_test['Strflw'])\n",
    "velocity = []\n",
    "for value in df_test['Strflw']:\n",
    "   print(value)"
   ]
  },
  {
   "cell_type": "code",
   "execution_count": null,
   "id": "ff7b0ad8",
   "metadata": {},
   "outputs": [],
   "source": [
    "velocity = []\n",
    "for row in df_test: \n",
    "  vel =   calc_vel(df_test['Strflw'], df_test['StrXArea'])\n",
    "  velocity.append(vel)\n",
    "  print(velocity)"
   ]
  },
  {
   "cell_type": "code",
   "execution_count": null,
   "id": "7717df05",
   "metadata": {},
   "outputs": [],
   "source": [
    "row = next(df_test.iterrows())[1]\n",
    "row"
   ]
  },
  {
   "cell_type": "code",
   "execution_count": null,
   "id": "73e987c8",
   "metadata": {},
   "outputs": [],
   "source": [
    "\"\"\"these are corrected columns needed for pH calculation....\"\"\"\n",
    "row=df_test.iloc[0,:]\n",
    "[row['Strflw'], row['StrXArea']]\n",
    "row"
   ]
  },
  {
   "cell_type": "code",
   "execution_count": null,
   "id": "253c1fec",
   "metadata": {},
   "outputs": [],
   "source": [
    "flow = df_test['Strflw']\n",
    "area = df_test['StrXArea']\n",
    "flow.dtype"
   ]
  },
  {
   "cell_type": "code",
   "execution_count": null,
   "id": "24b250f6",
   "metadata": {},
   "outputs": [],
   "source": [
    "\"\"\"This works, but the next is better if you need the calculation back in the dataframe\"\"\"\n",
    "id_list =[]; row_list =[];\n",
    "for row_id,row in df_test.iterrows():\n",
    "    row_list.append(calc_vel(row['Strflw'], row['StrXArea']))\n",
    "    id_list.append(row_id)\n",
    "\n",
    "#df_test['Strflw'].values"
   ]
  },
  {
   "cell_type": "code",
   "execution_count": null,
   "id": "eaa38968",
   "metadata": {},
   "outputs": [],
   "source": [
    "for comid in comid_list:\n",
    "    for i in range(length):\n",
    "        print(comid[i], output1['table'][comid[i]]['LengthKM'])\n",
    "        print(output1['data'][comid[i]]['StreamHydrology']['data'])\n",
    "        #date = []\n",
    "        #date.append(output1['data'][comid[i]]['StreamHydrology']['data'].keys())\n",
    "        if i == 0:\n",
    "            try: df_test = pd.DataFrame(output1['data'][comid[i]]['StreamHydrology']['data'].items(), columns=['Date', 'Strflw'])\n",
    "                 \n",
    "            else: \n",
    "                df_test_2 = df_test.append(output1['data'][comid[i]]['StreamHydrology']['data'].items())\n",
    "            df_test['COMID'] = comid[i]\n",
    "            df_test['StrLen'] = output1['data'][comid[i]]['StreamHydrology']['data']"
   ]
  },
  {
   "cell_type": "code",
   "execution_count": null,
   "id": "44409848",
   "metadata": {},
   "outputs": [],
   "source": [
    "#help(df_test['Strflw'])\n",
    "#velocity = []\n",
    "x = lambda q, a : q/a\n",
    "df_test.apply(lambda calc_vel(['Strflw'], ['StrXArea']))\n",
    "print(df_test)\n",
    "    #for q in df_test['Strflw'].__array__():\n",
    "    #for a in df_test['StrXArea'].__array__():\n",
    "        #for i in range(len(df_test['Strflw'])):\n",
    "#calc_vel(df_test['Strflw'], df_test['StrXArea'])\n",
    "#velocity.append(calc_vel)\n",
    "#print(velocity)"
   ]
  },
  {
   "cell_type": "code",
   "execution_count": null,
   "id": "91b3499f",
   "metadata": {},
   "outputs": [],
   "source": [
    "help(comid)"
   ]
  },
  {
   "cell_type": "code",
   "execution_count": null,
   "id": "d51405fe",
   "metadata": {},
   "outputs": [],
   "source": [
    "print(comid[6])"
   ]
  },
  {
   "cell_type": "code",
   "execution_count": null,
   "id": "e4821a6b",
   "metadata": {},
   "outputs": [],
   "source": [
    "output1['data']['9731484']"
   ]
  },
  {
   "cell_type": "code",
   "execution_count": null,
   "id": "da163260",
   "metadata": {},
   "outputs": [],
   "source": [
    "output1['table']['9731484']['LengthKM']"
   ]
  },
  {
   "cell_type": "code",
   "execution_count": null,
   "id": "ec0c773f",
   "metadata": {},
   "outputs": [],
   "source": [
    "output1['data']['9731484']['StreamHydrology']"
   ]
  },
  {
   "cell_type": "code",
   "execution_count": null,
   "id": "d51e2e3e",
   "metadata": {},
   "outputs": [],
   "source": [
    "output1['data']['9731484']['StreamHydrology']['data'].keys()"
   ]
  },
  {
   "cell_type": "code",
   "execution_count": null,
   "id": "6d50ed14",
   "metadata": {},
   "outputs": [],
   "source": [
    "output1['data']['9731484']['StreamHydrology']['data'] #'m^3/sec' Q"
   ]
  },
  {
   "cell_type": "code",
   "execution_count": null,
   "id": "eebf1c09",
   "metadata": {},
   "outputs": [],
   "source": [
    "q_out = output1['data']['9731484']['StreamHydrology']['data']\n",
    "df_q_out = pd.DataFrame.from_dict(q_out, orient='index')\n",
    "\n",
    "df_q_out.info()"
   ]
  },
  {
   "cell_type": "code",
   "execution_count": null,
   "id": "a36de415",
   "metadata": {},
   "outputs": [],
   "source": [
    "df_q_out.head()"
   ]
  },
  {
   "cell_type": "code",
   "execution_count": null,
   "id": "3f6e7f2a",
   "metadata": {},
   "outputs": [],
   "source": []
  },
  {
   "cell_type": "code",
   "execution_count": null,
   "id": "5fda7cff",
   "metadata": {},
   "outputs": [],
   "source": [
    "output1['data']['9731484']['SurfaceRunoff']"
   ]
  },
  {
   "cell_type": "code",
   "execution_count": null,
   "id": "415d374a",
   "metadata": {},
   "outputs": [],
   "source": [
    "output1['data']['9731484']['SurfaceRunoff']['data'] #.keys() or .values() for value pair can import date time"
   ]
  },
  {
   "cell_type": "code",
   "execution_count": null,
   "id": "4dc66480",
   "metadata": {},
   "outputs": [],
   "source": [
    "import pandas as pd\n",
    "sfc_runoff_out1 = output1['data']['9731484']['SurfaceRunoff']['data']\n",
    "df_sfc_runoff = pd.DataFrame.from_dict(sfc_runoff_out1, orient='index')\n",
    "\n",
    "df_sfc_runoff.info()"
   ]
  },
  {
   "cell_type": "code",
   "execution_count": null,
   "id": "d66597c3",
   "metadata": {},
   "outputs": [],
   "source": [
    "df_sfc_runoff.head()"
   ]
  },
  {
   "cell_type": "code",
   "execution_count": null,
   "id": "310707aa",
   "metadata": {},
   "outputs": [],
   "source": [
    "df_sfc_runoff.index = pd.to_datetime(df_sfc_runoff.index)\n",
    "df_sfc_runoff.info()"
   ]
  },
  {
   "cell_type": "code",
   "execution_count": null,
   "id": "941c2972",
   "metadata": {},
   "outputs": [],
   "source": [
    "df_sfc_runoff.head()"
   ]
  },
  {
   "cell_type": "code",
   "execution_count": null,
   "id": "60be5a37",
   "metadata": {},
   "outputs": [],
   "source": [
    "#df_sfc_runoff.to_csv('BrTest1.csv')"
   ]
  },
  {
   "cell_type": "code",
   "execution_count": null,
   "id": "8fc03b56",
   "metadata": {},
   "outputs": [],
   "source": [
    "   output1['data']['9731484']['Precipitation']['data']  "
   ]
  },
  {
   "cell_type": "code",
   "execution_count": null,
   "id": "16c7a60d",
   "metadata": {},
   "outputs": [],
   "source": [
    "   output1['data']['9731484']['StreamHydrology']['data']"
   ]
  },
  {
   "cell_type": "code",
   "execution_count": null,
   "id": "2af15c34",
   "metadata": {},
   "outputs": [],
   "source": [
    "df_watchar = pd.DataFrame(columns = ['COMID', 'Length', 'MedDia', 'Depth', 'Strflw', 'StrVel', 'Area' ])"
   ]
  },
  {
   "cell_type": "code",
   "execution_count": null,
   "id": "95b1c1aa",
   "metadata": {},
   "outputs": [],
   "source": [
    "df_watchar.keys()"
   ]
  },
  {
   "cell_type": "code",
   "execution_count": null,
   "id": "95983367",
   "metadata": {},
   "outputs": [],
   "source": [
    "df_watchar['COMID'] = str('9731484')"
   ]
  },
  {
   "cell_type": "code",
   "execution_count": null,
   "id": "7cf3b121",
   "metadata": {},
   "outputs": [],
   "source": [
    "df_watchar['Length'] = output1['table']['9731484']['LengthKM']"
   ]
  },
  {
   "cell_type": "code",
   "execution_count": null,
   "id": "4118d611",
   "metadata": {},
   "outputs": [],
   "source": [
    "df_watchar['Strflw'] = output1['data']['9731484']['StreamHydrology']['data'].values()"
   ]
  },
  {
   "cell_type": "code",
   "execution_count": null,
   "id": "d8637547",
   "metadata": {},
   "outputs": [],
   "source": [
    "df_watchar.head()"
   ]
  },
  {
   "cell_type": "code",
   "execution_count": null,
   "id": "498b98d4",
   "metadata": {},
   "outputs": [],
   "source": []
  },
  {
   "cell_type": "code",
   "execution_count": null,
   "id": "680f01f2",
   "metadata": {},
   "outputs": [],
   "source": []
  }
 ],
 "metadata": {
  "kernelspec": {
   "display_name": "Python 3",
   "language": "python",
   "name": "python3"
  },
  "language_info": {
   "codemirror_mode": {
    "name": "ipython",
    "version": 3
   },
   "file_extension": ".py",
   "mimetype": "text/x-python",
   "name": "python",
   "nbconvert_exporter": "python",
   "pygments_lexer": "ipython3",
   "version": "3.8.8"
  },
  "varInspector": {
   "cols": {
    "lenName": 16,
    "lenType": 16,
    "lenVar": 40
   },
   "kernels_config": {
    "python": {
     "delete_cmd_postfix": "",
     "delete_cmd_prefix": "del ",
     "library": "var_list.py",
     "varRefreshCmd": "print(var_dic_list())"
    },
    "r": {
     "delete_cmd_postfix": ") ",
     "delete_cmd_prefix": "rm(",
     "library": "var_list.r",
     "varRefreshCmd": "cat(var_dic_list()) "
    }
   },
   "types_to_exclude": [
    "module",
    "function",
    "builtin_function_or_method",
    "instance",
    "_Feature"
   ],
   "window_display": false
  }
 },
 "nbformat": 4,
 "nbformat_minor": 5
}
