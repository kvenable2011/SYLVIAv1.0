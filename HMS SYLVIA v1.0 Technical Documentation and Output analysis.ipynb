{
 "cells": [
  {
   "cell_type": "markdown",
   "metadata": {},
   "source": [
    "# Sediment Layered Vertically in Advection (SYLVIA v 1.0) Algorithm Development & Testbed for Output"
   ]
  },
  {
   "cell_type": "markdown",
   "metadata": {},
   "source": [
    " ## Technical Documentation "
   ]
  },
  {
   "cell_type": "markdown",
   "metadata": {},
   "source": [
    "**Impact Statement**\n",
    "1.\tWith limited data available for total suspended solids (TSS) within aquatic ecosystems, driven by land use changes and climate variability, the need for predictive sedimentation modeling in aquatic ecosystems is critical. SYLVIA v1.0, is a sedimentation model within the US EPA Hydrologic Micro Services (HMS), used to build user-defined workflows for decision support systems and comprehensive surface water modeling within the United States. The sedimentation model is a predictive tool which provides estimates for TSS  using hydrodynamic characteristics of stream reaches using user-defined sediment parametrization to reflect the settling, resuspension and deposition processes in the water column. With HMS, users are enabled with an abundance of environmental datasets and models to develop idealistic boundary conditions for predictive modeling of stream networks for assessing water quality and water quantity.  \n",
    "\n",
    "2.\tMeeting Info (name and url if there is one)\n",
    "American Water Resource Association, 2020 Annual Water Resources Conference\n",
    "\n",
    "https://www.awra.org/Members/Events_and_Education/Events/2020_Annual_Conference_Call_for_Abstracts.aspx\n",
    "\n",
    "3.\tKeywords\n",
    "Water quality, water quantity, sediment model, NHDPlus V2, HMS, COMID, settling, resuspension, deposition\n",
    "\n"
   ]
  },
  {
   "cell_type": "markdown",
   "metadata": {},
   "source": [
    "## **Abstract**\n",
    "\n",
    "Hydrologic Micro Services (HMS) sediment module using the Sediment Yield’s Layered Vertically in Advection (SYLVIA v1.0) algorithm\n",
    "Kar’retta Venable $^a$, Chris Knightes $^b$, John M. Johnston $^c$, Rajbir Parmar $^c$, Kurt Wolfe $^c$\n",
    "\n",
    "$^a$ Oak Ridge Institute for Science Education (ORISE), U.S. Environmental Protection Agency (USEPA), Office of Research and Development, Center for Environmental Measurement and Modeling, Environmental Processes Division, Landscape and Aquatic Systems Modeling Branch, 960 College Station Road, Athens, GA 30605, USA, E-mail:  venable.karretta@epa.gov\n",
    "\n",
    "$^b$ USEPA Center for Environmental Measurement and Modeling, 27 Tarzwell Drive, Narragansett, RI 02882, USA, email: knightes.chris@epa.gov\n",
    "\n",
    "$^c$ USEPA Center for Environmental Measurement and Modeling, 960 College Station Road, Athens, GA 30605, USA, email: johnston.johnm@epa.gov\n",
    "\n",
    "\t \n",
    "   Towards the goal of creating a comprehensive water quality/quantity system of reusable and inter-operable modeling components, the USEPA developed Hydrologic Micro Services (HMS - https://qed.epacdx.net/hms/). HMS is a series of microservice data provisioning and hydrologic processes used to build workflows for  decision support systems and provide comprehensive surface water modeling within the United States.  When conducting a modeling exercise, users identify which modules will be utilized to form a workflow specific to their prediction/forecast needs. HMS outputs include flow and water quality variables associated with nutrient and sediment dynamics of aquatic ecosystems at enhanced spatial and temporal resolution of predictions/forecasts. With limited available data for total suspended sediment (TSS), modeling particle advection and settling dynamics is essential for developing total maximum daily loads (TMDLs) and biotic solids production which serve as eutrophication agents in aquatic ecosystems.   \n",
    "\t\n",
    "   The SYLVIA v1.0  module within HMS provides the location, concentration, and mass loadings for TSS introduced into a NHDPlus V2 stream segment (COMID) network. NHDPlus V2 is a national, medium resolution stream and river data product maintained by the EPA Office of Water (https://www.epa.gov/waterdata/nhdplus-national-hydrography-dataset-plus). Model initialization is performed through data acquisition from the HMS workflow beginning with importing hourly  streamflow, stream velocity, and average depth for the COMIDs selected within the network domain. Additionally, users provide conditional descriptive and processed based particle characteristics capturing settling, resuspension, and depositional processes.  These regimes are implemented with an iterative mass balance advective transport approach. SYLVIA is a vertically-stratified, three-layer water column model, where the bottom layer represents the surface benthic layer. Here, we present a technical demonstration of the underlying algorithms, the user defined state variables, and a representative case study analysis. \n"
   ]
  },
  {
   "cell_type": "markdown",
   "metadata": {},
   "source": [
    "## State Variables\n",
    "\n",
    "https://usepa-my.sharepoint.com/personal/venable_karretta_epa_gov/_layouts/OneNote.aspx?id=%2Fpersonal%2Fvenable_karretta_epa_gov%2FDocuments%2FKarretta%20%40%20Environmental%20Protection%20Agency%20%28EPA%29&wd=target%28Research%20Activities.one%7C63728977-CD6F-42EF-AC8B-1DF233E68C7F%2FNaming%20acronyms%20and%20Abbreviations%7CD37C873E-68A2-45C8-9ACD-42A2CFF93D31%2F%29\n",
    "onenote:https://usepa-my.sharepoint.com/personal/venable_karretta_epa_gov/Documents/Karretta%20@%20Environmental%20Protection%20Agency%20(EPA)/Research%20Activities.one#Naming%20acronyms%20and%20Abbreviations&section-id={63728977-CD6F-42EF-AC8B-1DF233E68C7F}&page-id={D37C873E-68A2-45C8-9ACD-42A2CFF93D31}&end"
   ]
  },
  {
   "cell_type": "markdown",
   "metadata": {},
   "source": [
    "## Model Initiation of State Variables\n",
    "The water characteristics derived from known user inputs and reach level COMID information where hourly discharge and streamflow velocity are obtained from NHDPlus V.2 data to calculate the cross-sectiononal area and displacement per second and hour and calcualted for the TSS. (This will be turned into an API to delvier an array with a name derived from the COMIDs collected with and automatic calculation for water characteristics and time of travel )  \n",
    "\n",
    "**From upswaterchar.f95**\n",
    "\n",
    "Print *, \"Enter water depth ($m$), median diameter size ($m$) and length ($m$)\"\n",
    "   \n",
    "   read(5, *) h, da, lc\n",
    "\n",
    "Print *, \"Enter your water discharge ($\\frac{m ^ 3}{s}$) and water velocity ($ \\frac {m}{s}$)\"\n",
    "   \n",
    "   read(5, *) q, u  \n",
    "\n",
    "Where the cross-sectional area, $a$, is:\n",
    "\n",
    "$$a = \\frac{q}{u}$$\n",
    "\n",
    "where q is the hourly discharge ($\\frac{m ^3}{s}$), and u is the stream velocity ($ \\frac {m}{s}$)\n",
    "\n",
    "With the assumption that the displacement in 1 sec ($m$):\n",
    "\n",
    "$$ dx = u * 1 sec $$\n",
    "\n",
    "and the displacement in 1 day (86400s) ($m$) \n",
    "\n",
    "$$dx_1= u * 86400 sec $$\n",
    "      \n",
    "\n",
    "User defines the type of TSS which is deposited through choosing the particle type and a density ($g/cm^3$) and its diameter size ($m$) will be entered through a series from an iterative loop based on the number of solids entered.(from upsgransize.f95 and subroutine grainsz)\n",
    "\n",
    "* Organic Matter (om=1.270)   \n",
    "* Siliceous Minerals (sm=2.650)\n",
    "* Garnett Sands (gs=4.000)\n",
    "* Enter density  \n",
    "where, \n",
    "$$rhos = density (g/cm^3)$$\n",
    "\n",
    "$$and$$ \n",
    "\n",
    "$$ds = grain size (m)$$\n",
    "\n",
    "and designates which layer is the particle is within where the settling velocities are calculated based upon (from upslocation.f95) - fig(1): \n",
    "\n",
    "* Top of Water Column (1) \n",
    "* Bottom of Water Column (2) \n",
    "* Surface Benthic Layer (3) \n",
    "\n"
   ]
  },
  {
   "attachments": {
    "image.png": {
     "image/png": "[encoded data removed]"
    }
   },
   "cell_type": "markdown",
   "metadata": {},
   "source": [
    "![image.png](attachment:image.png)"
   ]
  },
  {
   "cell_type": "markdown",
   "metadata": {},
   "source": [
    "Fig (1) Model design for Sylvia v 1.0. This initation has used a garnet sand in the top layer and organic matter in the bottom water column layer and the surface benthic layer starting at the top of the layer depth."
   ]
  },
  {
   "cell_type": "markdown",
   "metadata": {},
   "source": [
    "From the depth ($h$) in ($m$) entered of the channel, maximum layer depths ($dlayer$) are calculated for each layer and the maximum benthic layer depth ($maxlyrd_b$) where:\n",
    "\n",
    "$$dlayer = \\frac {h}{ns-1}$$\n",
    "where $ns = number of layers$ (3, parameter declaration) ,\n",
    "used for an inequality swithc to check vertical displacement ($pdy$) depth of active layers) and\n",
    "\n",
    "$$maxlyrd_b=h+ 0.1 $$, to provide the maximum depth of pressurized burial prior to accumulation growth in the benthic layer (~10 cm = .1m based on WASP8 documentation)\n",
    "\n",
    "For normalization of the streamflowm, $q$, in each layer for equal partioning of the discharge for total initial amount of TSS for each layer the, volume of water in each segment is designated as, $svol$, where: \n",
    "\n",
    "$$svol = \\frac {q}{dlayer}$$\n",
    "\n",
    "\n",
    "\n",
    "Maximum Time of Travel (tmx)\n",
    "$$tmx = \\frac {lc}{u}$$\n",
    "\n",
    "Maximum Time of Travel in 1 hour for current COMID (tmxc)\n",
    "$$tmxc = \\frac {tmx}{3600}$$\n",
    "\n",
    "\n",
    "\n",
    "The user is then provided with \n",
    "pdx=0\n",
    "dy=0\n",
    "pdy=0\n",
    "int_con(1:3) = (/tmx, dx, dx_1/) \n",
    "write(10,*)\"Your initial\", comid,  \"and max time of travel and displacement(per day and per sec) is=\", int_con\n",
    "\n",
    "\n",
    "\"Would you like to choose (1) User Defined Legacy (2) Descriptive, (3) Van Rijn\"\n",
    "read (5,*) so\n"
   ]
  },
  {
   "cell_type": "markdown",
   "metadata": {},
   "source": [
    "## Output Results"
   ]
  }
 ],
 "metadata": {
  "kernelspec": {
   "display_name": "Python 3",
   "language": "python",
   "name": "python3"
  },
  "language_info": {
   "codemirror_mode": {
    "name": "ipython",
    "version": 3
   },
   "file_extension": ".py",
   "mimetype": "text/x-python",
   "name": "python",
   "nbconvert_exporter": "python",
   "pygments_lexer": "ipython3",
   "version": "3.7.4"
  }
 },
 "nbformat": 4,
 "nbformat_minor": 4
}
