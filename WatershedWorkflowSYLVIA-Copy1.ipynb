{
 "cells": [
  {
   "cell_type": "code",
   "execution_count": 1,
   "id": "877d8e84",
   "metadata": {},
   "outputs": [],
   "source": [
    "import helpers"
   ]
  },
  {
   "cell_type": "code",
   "execution_count": 2,
   "id": "ad2f6a82",
   "metadata": {},
   "outputs": [],
   "source": [
    "import api_request\n",
    "import pandas as pd"
   ]
  },
  {
   "cell_type": "code",
   "execution_count": 3,
   "id": "463f8ba9",
   "metadata": {},
   "outputs": [
    {
     "name": "stdout",
     "output_type": "stream",
     "text": [
      "Help on module helpers:\n",
      "\n",
      "NAME\n",
      "    helpers\n",
      "\n",
      "CLASSES\n",
      "    builtins.object\n",
      "        Helper\n",
      "    \n",
      "    class Helper(builtins.object)\n",
      "     |  Methods defined here:\n",
      "     |  \n",
      "     |  __init__(self)\n",
      "     |      Initialize self.  See help(type(self)) for accurate signature.\n",
      "     |  \n",
      "     |  do_dict_override(self, old_dict, new_dict, verbose=None, recursive=None, inplace=None)\n",
      "     |      key:values in old_dict replaced by any matching keys in new_dict, otherwise old_dict is left the same and returned.\n",
      "     |      Original version with more complex options found in kernelkernel/pisces kernelcompare.py\n",
      "     |      This option supports substitution of dictionaries from new_dict to old_dict when\n",
      "     |          old_dict does not have a dict as its original value\n",
      "     |  \n",
      "     |  getname(self, filename)\n",
      "     |  \n",
      "     |  ----------------------------------------------------------------------\n",
      "     |  Data descriptors defined here:\n",
      "     |  \n",
      "     |  __dict__\n",
      "     |      dictionary for instance variables (if defined)\n",
      "     |  \n",
      "     |  __weakref__\n",
      "     |      list of weak references to the object (if defined)\n",
      "\n",
      "FILE\n",
      "    c:\\users\\kvenable\\onedrive - environmental protection agency (epa)\\oldlaptopfiles\\python scripts\\helpers.py\n",
      "\n",
      "\n"
     ]
    }
   ],
   "source": [
    "help(helpers)"
   ]
  },
  {
   "cell_type": "code",
   "execution_count": 4,
   "id": "5617669e",
   "metadata": {},
   "outputs": [
    {
     "ename": "AttributeError",
     "evalue": "module 'helpers' has no attribute '_do_dict_override'",
     "output_type": "error",
     "traceback": [
      "\u001b[1;31m---------------------------------------------------------------------------\u001b[0m",
      "\u001b[1;31mAttributeError\u001b[0m                            Traceback (most recent call last)",
      "\u001b[1;32m~\\AppData\\Local\\Temp/ipykernel_34360/1764876143.py\u001b[0m in \u001b[0;36m<module>\u001b[1;34m\u001b[0m\n\u001b[1;32m----> 1\u001b[1;33m \u001b[0mhelp\u001b[0m\u001b[1;33m(\u001b[0m\u001b[0mhelpers\u001b[0m\u001b[1;33m.\u001b[0m\u001b[0m_do_dict_override\u001b[0m\u001b[1;33m)\u001b[0m\u001b[1;33m\u001b[0m\u001b[1;33m\u001b[0m\u001b[0m\n\u001b[0m",
      "\u001b[1;31mAttributeError\u001b[0m: module 'helpers' has no attribute '_do_dict_override'"
     ]
    }
   ],
   "source": [
    "help(helpers._do_dict_override)"
   ]
  },
  {
   "cell_type": "code",
   "execution_count": 5,
   "id": "4dca2d32",
   "metadata": {},
   "outputs": [
    {
     "ename": "SyntaxError",
     "evalue": "unexpected EOF while parsing (Temp/ipykernel_34360/3340694036.py, line 1)",
     "output_type": "error",
     "traceback": [
      "\u001b[1;36m  File \u001b[1;32m\"C:\\Users\\kvenable\\AppData\\Local\\Temp/ipykernel_34360/3340694036.py\"\u001b[1;36m, line \u001b[1;32m1\u001b[0m\n\u001b[1;33m    help((helpers.__setattr__)\u001b[0m\n\u001b[1;37m                              ^\u001b[0m\n\u001b[1;31mSyntaxError\u001b[0m\u001b[1;31m:\u001b[0m unexpected EOF while parsing\n"
     ]
    }
   ],
   "source": [
    "help((helpers.__setattr__)"
   ]
  },
  {
   "cell_type": "code",
   "execution_count": 6,
   "id": "517fe185",
   "metadata": {},
   "outputs": [
    {
     "name": "stdout",
     "output_type": "stream",
     "text": [
      "Help on class module in module builtins:\n",
      "\n",
      "class module(object)\n",
      " |  module(name, doc=None)\n",
      " |  \n",
      " |  Create a module object.\n",
      " |  \n",
      " |  The name must be a string; the optional doc argument can have any type.\n",
      " |  \n",
      " |  Methods defined here:\n",
      " |  \n",
      " |  __delattr__(self, name, /)\n",
      " |      Implement delattr(self, name).\n",
      " |  \n",
      " |  __dir__(...)\n",
      " |      __dir__() -> list\n",
      " |      specialized dir() implementation\n",
      " |  \n",
      " |  __getattribute__(self, name, /)\n",
      " |      Return getattr(self, name).\n",
      " |  \n",
      " |  __init__(self, /, *args, **kwargs)\n",
      " |      Initialize self.  See help(type(self)) for accurate signature.\n",
      " |  \n",
      " |  __repr__(self, /)\n",
      " |      Return repr(self).\n",
      " |  \n",
      " |  __setattr__(self, name, value, /)\n",
      " |      Implement setattr(self, name, value).\n",
      " |  \n",
      " |  ----------------------------------------------------------------------\n",
      " |  Static methods defined here:\n",
      " |  \n",
      " |  __new__(*args, **kwargs) from builtins.type\n",
      " |      Create and return a new object.  See help(type) for accurate signature.\n",
      " |  \n",
      " |  ----------------------------------------------------------------------\n",
      " |  Data descriptors defined here:\n",
      " |  \n",
      " |  __dict__\n",
      "\n"
     ]
    }
   ],
   "source": [
    "help(type(helpers))"
   ]
  },
  {
   "cell_type": "code",
   "execution_count": 7,
   "id": "abc247a0",
   "metadata": {},
   "outputs": [],
   "source": [
    "test_parse = {\n",
    "  \"component\": \"workflow\",\n",
    "  \"dataset\": {\"runoffSource\": \"nldas\",\n",
    "  \"streamHydrology\": \"constant\",\n",
    "  \"aggregation\": \"false\",\n",
    "  \"source\": \"streamflow\"\n",
    "  },\n",
    "  \"dateTimeSpan\": {\n",
    "    \"startDate\": \"2014-07-01T00:00:00\",\n",
    "    \"endDate\": \"2014-07-31T00:00:00\",\n",
    "    \"dateTimeFormat\": \"yyyy-MM-dd HH\"\n",
    "  },\n",
    "  \"geometry\": {\n",
    "    \"description\": \"null\",\n",
    "    \"comID\": \"0\",\n",
    "    \"hucID\": \"030501030102\",\n",
    "    \"stationID\": \"null\",\n",
    "    \"point\": \"null\",\n",
    "    \"geometryMetadata\": {\n",
    "      \"precipSource\": \"nldas\"\n",
    "    },\n",
    "    \"timezone\": \"null\"\n",
    "  },\n",
    "  \"dataValueFormat\": \"E3\",\n",
    "  \"temporalResolution\": \"default\",\n",
    "  \"timeLocalized\": \"true\",\n",
    "  \"units\": \"default\",\n",
    "  \"outputFormat\": \"json\",\n",
    "  \"baseURL\": \"null\",\n",
    "  \"inputTimeSeries\": \"null\", \n",
    "  #\"output_name\": \"workflow\"\n",
    "}"
   ]
  },
  {
   "cell_type": "code",
   "execution_count": 8,
   "id": "1e5116c6",
   "metadata": {},
   "outputs": [
    {
     "data": {
      "text/plain": [
       "dict"
      ]
     },
     "execution_count": 8,
     "metadata": {},
     "output_type": "execute_result"
    }
   ],
   "source": [
    "type(test_parse)"
   ]
  },
  {
   "cell_type": "code",
   "execution_count": 9,
   "id": "c1c49fb7",
   "metadata": {},
   "outputs": [
    {
     "data": {
      "text/plain": [
       "dict_keys(['component', 'dataset', 'dateTimeSpan', 'geometry', 'dataValueFormat', 'temporalResolution', 'timeLocalized', 'units', 'outputFormat', 'baseURL', 'inputTimeSeries'])"
      ]
     },
     "execution_count": 9,
     "metadata": {},
     "output_type": "execute_result"
    }
   ],
   "source": [
    "test_parse.keys()"
   ]
  },
  {
   "cell_type": "code",
   "execution_count": 10,
   "id": "4141844d",
   "metadata": {},
   "outputs": [
    {
     "data": {
      "text/plain": [
       "{'startDate': '2014-07-01T00:00:00',\n",
       " 'endDate': '2014-07-31T00:00:00',\n",
       " 'dateTimeFormat': 'yyyy-MM-dd HH'}"
      ]
     },
     "execution_count": 10,
     "metadata": {},
     "output_type": "execute_result"
    }
   ],
   "source": [
    "test_parse['dateTimeSpan']"
   ]
  },
  {
   "cell_type": "code",
   "execution_count": 11,
   "id": "3ff06d87",
   "metadata": {},
   "outputs": [
    {
     "data": {
      "text/plain": [
       "dict"
      ]
     },
     "execution_count": 11,
     "metadata": {},
     "output_type": "execute_result"
    }
   ],
   "source": [
    "time_dict = test_parse['dateTimeSpan']\n",
    "type(time_dict)"
   ]
  },
  {
   "cell_type": "code",
   "execution_count": 12,
   "id": "1aa97d3e",
   "metadata": {},
   "outputs": [
    {
     "data": {
      "text/plain": [
       "dict_keys(['startDate', 'endDate', 'dateTimeFormat'])"
      ]
     },
     "execution_count": 12,
     "metadata": {},
     "output_type": "execute_result"
    }
   ],
   "source": [
    "time_dict.keys()"
   ]
  },
  {
   "cell_type": "code",
   "execution_count": 13,
   "id": "f6ad1b7b",
   "metadata": {},
   "outputs": [
    {
     "ename": "TypeError",
     "evalue": "wrapper __eq__() takes no keyword arguments",
     "output_type": "error",
     "traceback": [
      "\u001b[1;31m---------------------------------------------------------------------------\u001b[0m",
      "\u001b[1;31mTypeError\u001b[0m                                 Traceback (most recent call last)",
      "\u001b[1;32m~\\AppData\\Local\\Temp/ipykernel_34360/3667063886.py\u001b[0m in \u001b[0;36m<module>\u001b[1;34m\u001b[0m\n\u001b[1;32m----> 1\u001b[1;33m \u001b[0mhelpers\u001b[0m\u001b[1;33m.\u001b[0m\u001b[0m__setattr__\u001b[0m\u001b[1;33m.\u001b[0m\u001b[0m__eq__\u001b[0m\u001b[1;33m(\u001b[0m\u001b[0mtest_parse\u001b[0m\u001b[1;33m,\u001b[0m \u001b[0mstartDate\u001b[0m \u001b[1;33m=\u001b[0m \u001b[1;34m'2015-07-01T00:00:00'\u001b[0m\u001b[1;33m)\u001b[0m\u001b[1;33m\u001b[0m\u001b[1;33m\u001b[0m\u001b[0m\n\u001b[0m",
      "\u001b[1;31mTypeError\u001b[0m: wrapper __eq__() takes no keyword arguments"
     ]
    }
   ],
   "source": [
    "helpers.__setattr__.__eq__(test_parse, startDate = '2015-07-01T00:00:00')"
   ]
  },
  {
   "cell_type": "code",
   "execution_count": 14,
   "id": "76bb4ffb",
   "metadata": {},
   "outputs": [
    {
     "data": {
      "text/plain": [
       "{'component': 'workflow',\n",
       " 'dataset': {'runoffSource': 'nldas',\n",
       "  'streamHydrology': 'constant',\n",
       "  'aggregation': 'false',\n",
       "  'source': 'streamflow'},\n",
       " 'dateTimeSpan': {'startDate': '2014-07-01T00:00:00',\n",
       "  'endDate': '2014-07-31T00:00:00',\n",
       "  'dateTimeFormat': 'yyyy-MM-dd HH'},\n",
       " 'geometry': {'description': 'null',\n",
       "  'comID': '0',\n",
       "  'hucID': '030501030102',\n",
       "  'stationID': 'null',\n",
       "  'point': 'null',\n",
       "  'geometryMetadata': {'precipSource': 'nldas'},\n",
       "  'timezone': 'null'},\n",
       " 'dataValueFormat': 'E3',\n",
       " 'temporalResolution': 'default',\n",
       " 'timeLocalized': 'true',\n",
       " 'units': 'default',\n",
       " 'outputFormat': 'json',\n",
       " 'baseURL': 'null',\n",
       " 'inputTimeSeries': 'null',\n",
       " 'startDate': '2016-07-01T00:00:00',\n",
       " 'endDate': '2016-07-31T00:00:00'}"
      ]
     },
     "execution_count": 14,
     "metadata": {},
     "output_type": "execute_result"
    }
   ],
   "source": [
    "test_parse.update(startDate= '2016-07-01T00:00:00', endDate= '2016-07-31T00:00:00')\n",
    "test_parse"
   ]
  },
  {
   "cell_type": "code",
   "execution_count": null,
   "id": "ac630764",
   "metadata": {},
   "outputs": [],
   "source": []
  },
  {
   "cell_type": "code",
   "execution_count": 15,
   "id": "fd03dd61",
   "metadata": {},
   "outputs": [
    {
     "ename": "SyntaxError",
     "evalue": "illegal target for annotation (Temp/ipykernel_34360/3040889702.py, line 2)",
     "output_type": "error",
     "traceback": [
      "\u001b[1;36m  File \u001b[1;32m\"C:\\Users\\kvenable\\AppData\\Local\\Temp/ipykernel_34360/3040889702.py\"\u001b[1;36m, line \u001b[1;32m2\u001b[0m\n\u001b[1;33m    'startDate': '2015-07-01T00:00:00'\u001b[0m\n\u001b[1;37m    ^\u001b[0m\n\u001b[1;31mSyntaxError\u001b[0m\u001b[1;31m:\u001b[0m illegal target for annotation\n"
     ]
    }
   ],
   "source": [
    "for start, end in time_dict:\n",
    "    'startDate': '2015-07-01T00:00:00'\n",
    "    'endDate': '2015-07-31T00:00:00'\n",
    "    print(time_dict)"
   ]
  },
  {
   "cell_type": "code",
   "execution_count": 16,
   "id": "8eb349d8",
   "metadata": {},
   "outputs": [
    {
     "ename": "TypeError",
     "evalue": " expected 2 arguments, got 1",
     "output_type": "error",
     "traceback": [
      "\u001b[1;31m---------------------------------------------------------------------------\u001b[0m",
      "\u001b[1;31mTypeError\u001b[0m                                 Traceback (most recent call last)",
      "\u001b[1;32m~\\AppData\\Local\\Temp/ipykernel_34360/4054604585.py\u001b[0m in \u001b[0;36m<module>\u001b[1;34m\u001b[0m\n\u001b[1;32m----> 1\u001b[1;33m \u001b[0mhelpers\u001b[0m\u001b[1;33m.\u001b[0m\u001b[0m__setattr__\u001b[0m\u001b[1;33m(\u001b[0m\u001b[1;33m(\u001b[0m\u001b[1;34m'startDate'\u001b[0m\u001b[1;33m,\u001b[0m\u001b[1;34m'2015-07-01T00:00:00'\u001b[0m\u001b[1;33m)\u001b[0m\u001b[1;33m)\u001b[0m\u001b[1;33m\u001b[0m\u001b[1;33m\u001b[0m\u001b[0m\n\u001b[0m",
      "\u001b[1;31mTypeError\u001b[0m:  expected 2 arguments, got 1"
     ]
    }
   ],
   "source": [
    "helpers.__setattr__(('startDate','2015-07-01T00:00:00'))\n"
   ]
  },
  {
   "cell_type": "code",
   "execution_count": 17,
   "id": "a9b8e2f3",
   "metadata": {},
   "outputs": [
    {
     "name": "stdout",
     "output_type": "stream",
     "text": [
      "Help on class HMS in module api_request:\n",
      "\n",
      "class HMS(builtins.object)\n",
      " |  HMS(requestdict={})\n",
      " |  \n",
      " |  Python sample code for accessing the HMS web API. Functions as a CLI tool.\n",
      " |  If download is successful, data will be written to a json file.\n",
      " |  \n",
      " |  Methods defined here:\n",
      " |  \n",
      " |  __init__(self, requestdict={})\n",
      " |      Initialization of the HMS request class object.\n",
      " |      :param component: HMS data component, valid values are 'hydrology', 'meteorology', and 'workflow'\n",
      " |      :param dataset: HMS component dataset, each component contains multiple datasets that can be found on the\n",
      " |      website or from the swagger api.\n",
      " |      :param source: Component dataset data source.\n",
      " |      :param start_date: Time series start date.\n",
      " |      :param end_date: Time series end date.\n",
      " |      :param geometry: Time series location, type and format depend on dataset source.\n",
      " |      :param timestep: Time series timestep, valid values are 'default', 'daily', 'weekly', 'monthly', 'yearly'\n",
      " |  \n",
      " |  get_data(self, recheck=1)\n",
      " |      Queries the HMS data endpoint for the tasks current status.\n",
      " |  \n",
      " |  login(self)\n",
      " |  \n",
      " |  save_data(self, file_name=None)\n",
      " |      Writes the downloaded data to json file.\n",
      " |      :param file_name: Optional file name for the data output.\n",
      " |      :return: None\n",
      " |  \n",
      " |  savejson(self, obj, path)\n",
      " |  \n",
      " |  set_request_body(self)\n",
      " |      Sets the input parameters to the request json object obtained from the hms swagger api documentation.\n",
      " |  \n",
      " |  submit_request(self)\n",
      " |      Sends the request for data to the HMS API which triggers a new task.\n",
      " |      Request response returns a task ID and task status.\n",
      " |  \n",
      " |  unpackresult(self, r1text)\n",
      " |  \n",
      " |  ----------------------------------------------------------------------\n",
      " |  Data descriptors defined here:\n",
      " |  \n",
      " |  __dict__\n",
      " |      dictionary for instance variables (if defined)\n",
      " |  \n",
      " |  __weakref__\n",
      " |      list of weak references to the object (if defined)\n",
      " |  \n",
      " |  ----------------------------------------------------------------------\n",
      " |  Data and other attributes defined here:\n",
      " |  \n",
      " |  data_url = 'https://ceamdev.ceeopdev.net/hms/rest/api/v2/hms/data?job_...\n",
      " |  \n",
      " |  login_url = 'https://ceamdev.ceeopdev.net/login/?next=/hms/'\n",
      " |  \n",
      " |  password = 'hmsAdmin2020!'\n",
      " |  \n",
      " |  request_body = {}\n",
      " |  \n",
      " |  request_url = 'https://ceamdev.ceeopdev.net/hms/rest/api/v3/'\n",
      " |  \n",
      " |  result = None\n",
      " |  \n",
      " |  server = 'https://ceamdev.ceeopdev.net'\n",
      " |  \n",
      " |  swagger_url = 'https://ceamdev.ceeopdev.net/hms/api_doc/swagger/'\n",
      " |  \n",
      " |  task = None\n",
      " |  \n",
      " |  task_id = None\n",
      " |  \n",
      " |  user = 'hmsadmin'\n",
      "\n"
     ]
    }
   ],
   "source": [
    "help(api_request.HMS)"
   ]
  },
  {
   "cell_type": "code",
   "execution_count": 18,
   "id": "6ca5715c",
   "metadata": {},
   "outputs": [],
   "source": [
    "query1 = {\n",
    "  \"runoffSource\": \"nwm\",\n",
    "  \"streamHydrology\": \"constant\",\n",
    "  \"aggregation\": \"false\",\n",
    "  \"source\": \"streamflow\",\n",
    "  \"dateTimeSpan\": {\n",
    "    \"startDate\": \"2014-07-01T00:00:00\",\n",
    "    \"endDate\": \"2014-07-31T00:00:00\",\n",
    "    \"dateTimeFormat\": \"yyyy-MM-dd HH\"\n",
    "  },\n",
    "  \"geometry\": {\n",
    "    \"description\": \"null\",\n",
    "    \"comID\": \"0\",\n",
    "    \"hucID\": \"101900020407\",\n",
    "    \"stationID\": \"null\",\n",
    "    \"point\": \"null\",\n",
    "    \"geometryMetadata\": {\n",
    "      \"precipSource\": \"nwm\"\n",
    "    },\n",
    "    \"timezone\": \"null\"\n",
    "  },\n",
    "  \"dataValueFormat\": \"E3\",\n",
    "  \"temporalResolution\": \"default\",\n",
    "  \"timeLocalized\": \"true\",\n",
    "  \"units\": \"default\",\n",
    "  \"outputFormat\": \"json\",\n",
    "  \"baseURL\": \"null\",\n",
    "  \"inputTimeSeries\": \"null\"\n",
    "}"
   ]
  },
  {
   "cell_type": "code",
   "execution_count": 19,
   "id": "fb75b1df",
   "metadata": {},
   "outputs": [],
   "source": [
    "import requests\n",
    "\n",
    "headers = {\n",
    "    'accept': '*/*',\n",
    "    'Content-Type': 'application/json-patch+json',\n",
    "}\n",
    "\n",
    "data = '{\"runoffSource\":\"NWM\",\"streamHydrology\":\"constant\",\"aggregation\":false,\"source\":\"streamflow\",\"dateTimeSpan\":{\"startDate\":\"2014-07-01T00:00:00\",\"endDate\":\"2014-07-31T00:00:00\",\"dateTimeFormat\":\"yyyy-MM-dd HH\"},\"geometry\":{\"description\":null,\"comID\":0,\"hucID\":\"101900020407\",\"stationID\":null,\"point\":null,\"geometryMetadata\":{\"precipSource\":\"NWM\"},\"timezone\":null},\"dataValueFormat\":\"E3\",\"temporalResolution\":\"default\",\"timeLocalized\":true,\"units\":\"default\",\"outputFormat\":\"json\",\"baseURL\":null,\"inputTimeSeries\":null}'\n",
    "\n",
    "response = requests.post('https://ceamdev.ceeopdev.net/hms/rest/api/workflow/watershed', headers=headers, data=data)"
   ]
  },
  {
   "cell_type": "code",
   "execution_count": 20,
   "id": "b6d3aaed",
   "metadata": {},
   "outputs": [
    {
     "data": {
      "text/plain": [
       "DatetimeIndex(['1992-12-31', '1993-12-31', '1994-12-31', '1995-12-31',\n",
       "               '1996-12-31', '1997-12-31', '1998-12-31', '1999-12-31',\n",
       "               '2000-12-31', '2001-12-31', '2002-12-31', '2003-12-31',\n",
       "               '2004-12-31', '2005-12-31', '2006-12-31', '2007-12-31',\n",
       "               '2008-12-31', '2009-12-31', '2010-12-31', '2011-12-31',\n",
       "               '2012-12-31', '2013-12-31', '2014-12-31', '2015-12-31',\n",
       "               '2016-12-31', '2017-12-31', '2018-12-31', '2019-12-31'],\n",
       "              dtype='datetime64[ns]', freq='A-DEC')"
      ]
     },
     "execution_count": 20,
     "metadata": {},
     "output_type": "execute_result"
    }
   ],
   "source": [
    "end_datetime_series = pd.date_range('1992-01-01', periods=28, freq='Y')\n",
    "end_datetime_series\n",
    "#datetime_series[0]"
   ]
  },
  {
   "cell_type": "code",
   "execution_count": 21,
   "id": "0384b1f5",
   "metadata": {},
   "outputs": [],
   "source": [
    "import datetime as dt"
   ]
  },
  {
   "cell_type": "code",
   "execution_count": 22,
   "id": "6ba54600",
   "metadata": {},
   "outputs": [
    {
     "data": {
      "text/plain": [
       "28"
      ]
     },
     "execution_count": 22,
     "metadata": {},
     "output_type": "execute_result"
    }
   ],
   "source": [
    "(2019 -1992)+1"
   ]
  },
  {
   "cell_type": "code",
   "execution_count": null,
   "id": "e1fb726f",
   "metadata": {},
   "outputs": [],
   "source": []
  },
  {
   "cell_type": "code",
   "execution_count": 46,
   "id": "eb55f6ad",
   "metadata": {},
   "outputs": [
    {
     "data": {
      "text/plain": [
       "1992"
      ]
     },
     "execution_count": 46,
     "metadata": {},
     "output_type": "execute_result"
    }
   ],
   "source": [
    "import numpy as np\n",
    "import requests\n",
    "np_year = np.linspace(1992, 2019, num=28) #number is (year_last-year_1) + 1\n",
    "int(np_year[0])"
   ]
  },
  {
   "cell_type": "code",
   "execution_count": 47,
   "id": "ecba6667",
   "metadata": {},
   "outputs": [
    {
     "name": "stdout",
     "output_type": "stream",
     "text": [
      "1992\n",
      "1993\n",
      "1994\n",
      "1995\n",
      "1996\n",
      "1997\n",
      "1998\n",
      "1999\n",
      "2000\n",
      "2001\n",
      "2002\n",
      "2003\n",
      "2004\n",
      "2005\n",
      "2006\n",
      "2007\n",
      "2008\n",
      "2009\n",
      "2010\n",
      "2011\n",
      "2012\n",
      "2013\n",
      "2014\n",
      "2015\n",
      "2016\n",
      "2017\n",
      "2018\n",
      "2019\n"
     ]
    }
   ],
   "source": [
    "for year in np_year:\n",
    "    print(int(year))"
   ]
  },
  {
   "cell_type": "code",
   "execution_count": 58,
   "id": "037fe4fe",
   "metadata": {},
   "outputs": [
    {
     "name": "stdout",
     "output_type": "stream",
     "text": [
      "1992-01-01 00:00:00 1992-12-31 00:00:00\n"
     ]
    },
    {
     "name": "stderr",
     "output_type": "stream",
     "text": [
      "C:\\Users\\kvenable\\Anaconda3\\lib\\site-packages\\xlsxwriter\\workbook.py:339: UserWarning: Calling close() on already closed file.\n",
      "  warn(\"Calling close() on already closed file.\")\n"
     ]
    },
    {
     "name": "stdout",
     "output_type": "stream",
     "text": [
      "1993-01-01 00:00:00 1993-12-31 00:00:00\n",
      "1994-01-01 00:00:00 1994-12-31 00:00:00\n",
      "1995-01-01 00:00:00 1995-12-31 00:00:00\n",
      "1996-01-01 00:00:00 1996-12-31 00:00:00\n",
      "1997-01-01 00:00:00 1997-12-31 00:00:00\n",
      "1998-01-01 00:00:00 1998-12-31 00:00:00\n",
      "1999-01-01 00:00:00 1999-12-31 00:00:00\n",
      "2000-01-01 00:00:00 2000-12-31 00:00:00\n",
      "2001-01-01 00:00:00 2001-12-31 00:00:00\n",
      "2002-01-01 00:00:00 2002-12-31 00:00:00\n",
      "2003-01-01 00:00:00 2003-12-31 00:00:00\n",
      "2004-01-01 00:00:00 2004-12-31 00:00:00\n",
      "2005-01-01 00:00:00 2005-12-31 00:00:00\n",
      "2006-01-01 00:00:00 2006-12-31 00:00:00\n",
      "2007-01-01 00:00:00 2007-12-31 00:00:00\n",
      "2008-01-01 00:00:00 2008-12-31 00:00:00\n",
      "2009-01-01 00:00:00 2009-12-31 00:00:00\n",
      "2010-01-01 00:00:00 2010-12-31 00:00:00\n",
      "2011-01-01 00:00:00 2011-12-31 00:00:00\n",
      "2012-01-01 00:00:00 2012-12-31 00:00:00\n",
      "2013-01-01 00:00:00 2013-12-31 00:00:00\n",
      "2014-01-01 00:00:00 2014-12-31 00:00:00\n",
      "2015-01-01 00:00:00 2015-12-31 00:00:00\n",
      "2016-01-01 00:00:00 2016-12-31 00:00:00\n",
      "2017-01-01 00:00:00 2017-12-31 00:00:00\n",
      "2018-01-01 00:00:00 2018-12-31 00:00:00\n",
      "2019-01-01 00:00:00 2019-12-31 00:00:00\n"
     ]
    }
   ],
   "source": [
    "filepath = '08322BCNWM_Raw_92_19c.xlsx'\n",
    "#with pd.ExcelWriter(filepath) as writer:\n",
    "for year in np_year:\n",
    "    start_year = int(year)\n",
    "    start_date = str('1/1/') +str(start_year)\n",
    "    end_date = str('12/31/') +str(start_year)\n",
    "    #print(start_date, end_date)\n",
    "    year_parse = pd.date_range(start=start_date, end=end_date, freq='D')\n",
    "    #year_parse\n",
    "    print(year_parse.min(), year_parse.max()) #now in date time format for call in on api\n",
    "    data_test = '{\\n  \"source\": \"nwm\",\\n  \"dateTimeSpan\": {\\n    \"startDate\": \"01/01/2015 00:00:00\",\\n    \"endDate\": \"12/31/2015 00:00:00\",\\n    \"dateTimeFormat\": \"yyyy-MM-dd HH\"\\n  },\\n  \"geometry\": {\\n    \"description\": null,\\n    \"comID\": 190641,\\n    \"hucID\": null,\\n    \"stationID\": null,\\n    \"point\": null,\\n    \"geometryMetadata\": {\\n      \"gaugestation\": null\\n    },\\n    \"timezone\": null\\n  },\\n  \"dataValueFormat\": \"E3\",\\n  \"temporalResolution\": \"daily\",\\n  \"timeLocalized\": false,\\n  \"units\": \"metric\",\\n  \"outputFormat\": \"json\",\\n  \"baseURL\": null,\\n  \"inputTimeSeries\": null\\n}'\n",
    "    data_input  =json.loads(data_test)\n",
    "    data_input['dateTimeSpan'].update(startDate= str(year_parse.min()), endDate= str(year_parse.max()))#permanent change in scope\n",
    "    #print(data_input)\n",
    "    data_new = json.dumps(data_input)\n",
    "    data_new\n",
    " \n",
    "    headers = {\n",
    "    'accept': '*/*',\n",
    "    'Content-Type': 'application/json-patch+json',\n",
    "    }\n",
    "\n",
    "    data = data_new\n",
    "\n",
    "    response = requests.post('https://ceamdev.ceeopdev.net/hms/rest/api/hydrology/streamflow', headers=headers, data=data)\n",
    "    #print(response.json())\n",
    "    output3= response.json()\n",
    "    \n",
    "    nwm_out = output3['data']\n",
    "    df_nwm_out = pd.DataFrame.from_dict(nwm_out, orient='index',columns=['Strflw', 'Strvel'] )\n",
    "    df2 = df_nwm_out.copy()\n",
    "    #filepath = '08322BCNWM_Raw'+ str(int(year))+ '.xlsx'\n",
    "    #with pd.ExcelWriter(filepath) as writer: \n",
    "         #df2.to_excel(writer, sheet_name='sheet_1')\n",
    "         #writer.close()\n",
    "        #df_nwm_out.to_excel(writer, sheet_name=str(int(year))\n",
    "         #df2.to_excel(writer, sheet_name=str(int(year))\n",
    "       \n",
    "        #df_nwm_out.to_excel(writer, sheet_name=str(int(year))\n",
    "        #for keyInTags in tags:\n",
    "        #cells = group.get_group(keyInTags)\n",
    "        #cells.to_excel(writer, sheet_name=keyInTags)\n",
    "\n",
    "        #writer.save()\n",
    "        #writer.close()\n",
    "        \n",
    "        #df_nwm_out.to_excel(writer, sheet_name=str(int(year))\n",
    "        #print(df_nwm_out.info())\n",
    "        #df_nwm_out_2 =[], df_nwm_out_2 =[] \n",
    "        #df_nwm_out_all = pd.concat([df_nwm_out_1, df_nwm_out_2], ignore_index=True)\n",
    "        #with pd.ExcelWriter(filepath) as writer:\n",
    "        #df_nwm_out.to_excel(writer, sheet_name=str(int(year))\n",
    "    \n",
    "     \n",
    "    "
   ]
  },
  {
   "cell_type": "code",
   "execution_count": 143,
   "id": "1141b70c",
   "metadata": {},
   "outputs": [
    {
     "name": "stdout",
     "output_type": "stream",
     "text": [
      "<class 'pandas.core.frame.DataFrame'>\n",
      "RangeIndex: 366 entries, 0 to 365\n",
      "Data columns (total 3 columns):\n",
      " #   Column      Non-Null Count  Dtype  \n",
      "---  ------      --------------  -----  \n",
      " 0   Unnamed: 0  366 non-null    object \n",
      " 1   Strflw      366 non-null    float64\n",
      " 2   Strvel      366 non-null    float64\n",
      "dtypes: float64(2), object(1)\n",
      "memory usage: 8.7+ KB\n",
      "<class 'pandas.core.frame.DataFrame'>\n",
      "RangeIndex: 731 entries, 0 to 730\n",
      "Data columns (total 3 columns):\n",
      " #   Column      Non-Null Count  Dtype  \n",
      "---  ------      --------------  -----  \n",
      " 0   Unnamed: 0  731 non-null    object \n",
      " 1   Strflw      731 non-null    float64\n",
      " 2   Strvel      731 non-null    float64\n",
      "dtypes: float64(2), object(1)\n",
      "memory usage: 17.3+ KB\n",
      "<class 'pandas.core.frame.DataFrame'>\n",
      "RangeIndex: 1096 entries, 0 to 1095\n",
      "Data columns (total 3 columns):\n",
      " #   Column      Non-Null Count  Dtype  \n",
      "---  ------      --------------  -----  \n",
      " 0   Unnamed: 0  1096 non-null   object \n",
      " 1   Strflw      1096 non-null   float64\n",
      " 2   Strvel      1096 non-null   float64\n",
      "dtypes: float64(2), object(1)\n",
      "memory usage: 25.8+ KB\n",
      "<class 'pandas.core.frame.DataFrame'>\n",
      "RangeIndex: 1461 entries, 0 to 1460\n",
      "Data columns (total 3 columns):\n",
      " #   Column      Non-Null Count  Dtype  \n",
      "---  ------      --------------  -----  \n",
      " 0   Unnamed: 0  1461 non-null   object \n",
      " 1   Strflw      1461 non-null   float64\n",
      " 2   Strvel      1461 non-null   float64\n",
      "dtypes: float64(2), object(1)\n",
      "memory usage: 34.4+ KB\n",
      "<class 'pandas.core.frame.DataFrame'>\n",
      "RangeIndex: 1827 entries, 0 to 1826\n",
      "Data columns (total 3 columns):\n",
      " #   Column      Non-Null Count  Dtype  \n",
      "---  ------      --------------  -----  \n",
      " 0   Unnamed: 0  1827 non-null   object \n",
      " 1   Strflw      1827 non-null   float64\n",
      " 2   Strvel      1827 non-null   float64\n",
      "dtypes: float64(2), object(1)\n",
      "memory usage: 42.9+ KB\n",
      "<class 'pandas.core.frame.DataFrame'>\n",
      "RangeIndex: 2192 entries, 0 to 2191\n",
      "Data columns (total 3 columns):\n",
      " #   Column      Non-Null Count  Dtype  \n",
      "---  ------      --------------  -----  \n",
      " 0   Unnamed: 0  2192 non-null   object \n",
      " 1   Strflw      2192 non-null   float64\n",
      " 2   Strvel      2192 non-null   float64\n",
      "dtypes: float64(2), object(1)\n",
      "memory usage: 51.5+ KB\n",
      "<class 'pandas.core.frame.DataFrame'>\n",
      "RangeIndex: 2557 entries, 0 to 2556\n",
      "Data columns (total 3 columns):\n",
      " #   Column      Non-Null Count  Dtype  \n",
      "---  ------      --------------  -----  \n",
      " 0   Unnamed: 0  2557 non-null   object \n",
      " 1   Strflw      2557 non-null   float64\n",
      " 2   Strvel      2557 non-null   float64\n",
      "dtypes: float64(2), object(1)\n",
      "memory usage: 60.1+ KB\n",
      "<class 'pandas.core.frame.DataFrame'>\n",
      "RangeIndex: 2922 entries, 0 to 2921\n",
      "Data columns (total 3 columns):\n",
      " #   Column      Non-Null Count  Dtype  \n",
      "---  ------      --------------  -----  \n",
      " 0   Unnamed: 0  2922 non-null   object \n",
      " 1   Strflw      2922 non-null   float64\n",
      " 2   Strvel      2922 non-null   float64\n",
      "dtypes: float64(2), object(1)\n",
      "memory usage: 68.6+ KB\n",
      "<class 'pandas.core.frame.DataFrame'>\n",
      "RangeIndex: 3288 entries, 0 to 3287\n",
      "Data columns (total 3 columns):\n",
      " #   Column      Non-Null Count  Dtype  \n",
      "---  ------      --------------  -----  \n",
      " 0   Unnamed: 0  3288 non-null   object \n",
      " 1   Strflw      3288 non-null   float64\n",
      " 2   Strvel      3288 non-null   float64\n",
      "dtypes: float64(2), object(1)\n",
      "memory usage: 77.2+ KB\n",
      "<class 'pandas.core.frame.DataFrame'>\n",
      "RangeIndex: 3653 entries, 0 to 3652\n",
      "Data columns (total 3 columns):\n",
      " #   Column      Non-Null Count  Dtype  \n",
      "---  ------      --------------  -----  \n",
      " 0   Unnamed: 0  3653 non-null   object \n",
      " 1   Strflw      3653 non-null   float64\n",
      " 2   Strvel      3653 non-null   float64\n",
      "dtypes: float64(2), object(1)\n",
      "memory usage: 85.7+ KB\n",
      "<class 'pandas.core.frame.DataFrame'>\n",
      "RangeIndex: 4018 entries, 0 to 4017\n",
      "Data columns (total 3 columns):\n",
      " #   Column      Non-Null Count  Dtype  \n",
      "---  ------      --------------  -----  \n",
      " 0   Unnamed: 0  4018 non-null   object \n",
      " 1   Strflw      4018 non-null   float64\n",
      " 2   Strvel      4018 non-null   float64\n",
      "dtypes: float64(2), object(1)\n",
      "memory usage: 94.3+ KB\n",
      "<class 'pandas.core.frame.DataFrame'>\n",
      "RangeIndex: 4383 entries, 0 to 4382\n",
      "Data columns (total 3 columns):\n",
      " #   Column      Non-Null Count  Dtype  \n",
      "---  ------      --------------  -----  \n",
      " 0   Unnamed: 0  4383 non-null   object \n",
      " 1   Strflw      4383 non-null   float64\n",
      " 2   Strvel      4383 non-null   float64\n",
      "dtypes: float64(2), object(1)\n",
      "memory usage: 102.9+ KB\n",
      "<class 'pandas.core.frame.DataFrame'>\n",
      "RangeIndex: 4749 entries, 0 to 4748\n",
      "Data columns (total 3 columns):\n",
      " #   Column      Non-Null Count  Dtype  \n",
      "---  ------      --------------  -----  \n",
      " 0   Unnamed: 0  4749 non-null   object \n",
      " 1   Strflw      4749 non-null   float64\n",
      " 2   Strvel      4749 non-null   float64\n",
      "dtypes: float64(2), object(1)\n",
      "memory usage: 111.4+ KB\n",
      "<class 'pandas.core.frame.DataFrame'>\n",
      "RangeIndex: 5114 entries, 0 to 5113\n",
      "Data columns (total 3 columns):\n",
      " #   Column      Non-Null Count  Dtype  \n",
      "---  ------      --------------  -----  \n",
      " 0   Unnamed: 0  5114 non-null   object \n",
      " 1   Strflw      5114 non-null   float64\n",
      " 2   Strvel      5114 non-null   float64\n",
      "dtypes: float64(2), object(1)\n",
      "memory usage: 120.0+ KB\n",
      "<class 'pandas.core.frame.DataFrame'>\n",
      "RangeIndex: 5479 entries, 0 to 5478\n",
      "Data columns (total 3 columns):\n",
      " #   Column      Non-Null Count  Dtype  \n",
      "---  ------      --------------  -----  \n",
      " 0   Unnamed: 0  5479 non-null   object \n",
      " 1   Strflw      5479 non-null   float64\n",
      " 2   Strvel      5479 non-null   float64\n",
      "dtypes: float64(2), object(1)\n",
      "memory usage: 128.5+ KB\n",
      "<class 'pandas.core.frame.DataFrame'>\n",
      "RangeIndex: 5844 entries, 0 to 5843\n",
      "Data columns (total 3 columns):\n",
      " #   Column      Non-Null Count  Dtype  \n",
      "---  ------      --------------  -----  \n",
      " 0   Unnamed: 0  5844 non-null   object \n",
      " 1   Strflw      5844 non-null   float64\n",
      " 2   Strvel      5844 non-null   float64\n",
      "dtypes: float64(2), object(1)\n",
      "memory usage: 137.1+ KB\n",
      "<class 'pandas.core.frame.DataFrame'>\n",
      "RangeIndex: 6210 entries, 0 to 6209\n",
      "Data columns (total 3 columns):\n",
      " #   Column      Non-Null Count  Dtype  \n",
      "---  ------      --------------  -----  \n",
      " 0   Unnamed: 0  6210 non-null   object \n",
      " 1   Strflw      6210 non-null   float64\n",
      " 2   Strvel      6210 non-null   float64\n",
      "dtypes: float64(2), object(1)\n",
      "memory usage: 145.7+ KB\n",
      "<class 'pandas.core.frame.DataFrame'>\n",
      "RangeIndex: 6575 entries, 0 to 6574\n",
      "Data columns (total 3 columns):\n",
      " #   Column      Non-Null Count  Dtype  \n",
      "---  ------      --------------  -----  \n",
      " 0   Unnamed: 0  6575 non-null   object \n",
      " 1   Strflw      6575 non-null   float64\n",
      " 2   Strvel      6575 non-null   float64\n",
      "dtypes: float64(2), object(1)\n",
      "memory usage: 154.2+ KB\n",
      "<class 'pandas.core.frame.DataFrame'>\n",
      "RangeIndex: 6940 entries, 0 to 6939\n",
      "Data columns (total 3 columns):\n",
      " #   Column      Non-Null Count  Dtype  \n",
      "---  ------      --------------  -----  \n",
      " 0   Unnamed: 0  6940 non-null   object \n",
      " 1   Strflw      6940 non-null   float64\n",
      " 2   Strvel      6940 non-null   float64\n",
      "dtypes: float64(2), object(1)\n",
      "memory usage: 162.8+ KB\n",
      "<class 'pandas.core.frame.DataFrame'>\n",
      "RangeIndex: 7305 entries, 0 to 7304\n",
      "Data columns (total 3 columns):\n",
      " #   Column      Non-Null Count  Dtype  \n",
      "---  ------      --------------  -----  \n",
      " 0   Unnamed: 0  7305 non-null   object \n",
      " 1   Strflw      7305 non-null   float64\n",
      " 2   Strvel      7305 non-null   float64\n",
      "dtypes: float64(2), object(1)\n",
      "memory usage: 171.3+ KB\n",
      "<class 'pandas.core.frame.DataFrame'>\n",
      "RangeIndex: 7671 entries, 0 to 7670\n",
      "Data columns (total 3 columns):\n",
      " #   Column      Non-Null Count  Dtype  \n",
      "---  ------      --------------  -----  \n",
      " 0   Unnamed: 0  7671 non-null   object \n",
      " 1   Strflw      7671 non-null   float64\n",
      " 2   Strvel      7671 non-null   float64\n",
      "dtypes: float64(2), object(1)\n",
      "memory usage: 179.9+ KB\n",
      "<class 'pandas.core.frame.DataFrame'>\n",
      "RangeIndex: 8036 entries, 0 to 8035\n",
      "Data columns (total 3 columns):\n",
      " #   Column      Non-Null Count  Dtype  \n",
      "---  ------      --------------  -----  \n",
      " 0   Unnamed: 0  8036 non-null   object \n",
      " 1   Strflw      8036 non-null   float64\n",
      " 2   Strvel      8036 non-null   float64\n",
      "dtypes: float64(2), object(1)\n",
      "memory usage: 188.5+ KB\n",
      "<class 'pandas.core.frame.DataFrame'>\n",
      "RangeIndex: 8401 entries, 0 to 8400\n",
      "Data columns (total 3 columns):\n",
      " #   Column      Non-Null Count  Dtype  \n",
      "---  ------      --------------  -----  \n",
      " 0   Unnamed: 0  8401 non-null   object \n",
      " 1   Strflw      8401 non-null   float64\n",
      " 2   Strvel      8401 non-null   float64\n",
      "dtypes: float64(2), object(1)\n",
      "memory usage: 197.0+ KB\n",
      "<class 'pandas.core.frame.DataFrame'>\n",
      "RangeIndex: 8766 entries, 0 to 8765\n",
      "Data columns (total 3 columns):\n",
      " #   Column      Non-Null Count  Dtype  \n",
      "---  ------      --------------  -----  \n",
      " 0   Unnamed: 0  8766 non-null   object \n",
      " 1   Strflw      8766 non-null   float64\n",
      " 2   Strvel      8766 non-null   float64\n",
      "dtypes: float64(2), object(1)\n",
      "memory usage: 205.6+ KB\n",
      "<class 'pandas.core.frame.DataFrame'>\n",
      "RangeIndex: 9132 entries, 0 to 9131\n",
      "Data columns (total 3 columns):\n",
      " #   Column      Non-Null Count  Dtype  \n",
      "---  ------      --------------  -----  \n",
      " 0   Unnamed: 0  9132 non-null   object \n",
      " 1   Strflw      9132 non-null   float64\n",
      " 2   Strvel      9132 non-null   float64\n",
      "dtypes: float64(2), object(1)\n",
      "memory usage: 214.2+ KB\n",
      "<class 'pandas.core.frame.DataFrame'>\n",
      "RangeIndex: 9497 entries, 0 to 9496\n",
      "Data columns (total 3 columns):\n",
      " #   Column      Non-Null Count  Dtype  \n",
      "---  ------      --------------  -----  \n",
      " 0   Unnamed: 0  9497 non-null   object \n",
      " 1   Strflw      9497 non-null   float64\n",
      " 2   Strvel      9497 non-null   float64\n",
      "dtypes: float64(2), object(1)\n",
      "memory usage: 222.7+ KB\n",
      "<class 'pandas.core.frame.DataFrame'>\n",
      "RangeIndex: 9862 entries, 0 to 9861\n",
      "Data columns (total 3 columns):\n",
      " #   Column      Non-Null Count  Dtype  \n",
      "---  ------      --------------  -----  \n",
      " 0   Unnamed: 0  9862 non-null   object \n",
      " 1   Strflw      9862 non-null   float64\n",
      " 2   Strvel      9862 non-null   float64\n",
      "dtypes: float64(2), object(1)\n",
      "memory usage: 231.3+ KB\n",
      "<class 'pandas.core.frame.DataFrame'>\n",
      "RangeIndex: 10227 entries, 0 to 10226\n",
      "Data columns (total 3 columns):\n",
      " #   Column      Non-Null Count  Dtype  \n",
      "---  ------      --------------  -----  \n",
      " 0   Unnamed: 0  10227 non-null  object \n",
      " 1   Strflw      10227 non-null  float64\n",
      " 2   Strvel      10227 non-null  float64\n",
      "dtypes: float64(2), object(1)\n",
      "memory usage: 239.8+ KB\n"
     ]
    }
   ],
   "source": [
    "#start reading files in #df_nwm_all =[]\n",
    "df_all =pd.DataFrame()\n",
    "for year in np_year:\n",
    "    filepath = '08322BCNWM_Raw'+ str(int(year))+ '.xlsx'\n",
    "    df5 = pd.read_excel(filepath)\n",
    "    df_all = pd.concat([df_all, df5[:-1]], ignore_index=True)\n",
    "    df_all.info()"
   ]
  },
  {
   "cell_type": "code",
   "execution_count": 144,
   "id": "0aa6554d",
   "metadata": {},
   "outputs": [
    {
     "data": {
      "text/plain": [
       "count    10227.000000\n",
       "mean         0.008873\n",
       "std          0.013324\n",
       "min          0.000000\n",
       "25%          0.000000\n",
       "50%          0.000000\n",
       "75%          0.010000\n",
       "max          0.100000\n",
       "Name: Strflw, dtype: float64"
      ]
     },
     "execution_count": 144,
     "metadata": {},
     "output_type": "execute_result"
    }
   ],
   "source": [
    "df_all['Strflw'].describe()"
   ]
  },
  {
   "cell_type": "code",
   "execution_count": 145,
   "id": "95890a60",
   "metadata": {},
   "outputs": [
    {
     "data": {
      "text/plain": [
       "('1992-01-01 00', '2019-12-31 00')"
      ]
     },
     "execution_count": 145,
     "metadata": {},
     "output_type": "execute_result"
    }
   ],
   "source": [
    "df_all['Unnamed: 0'].min(), df_all['Unnamed: 0'].max()"
   ]
  },
  {
   "cell_type": "code",
   "execution_count": 146,
   "id": "76b3ab4a",
   "metadata": {},
   "outputs": [
    {
     "name": "stdout",
     "output_type": "stream",
     "text": [
      "<class 'pandas.core.frame.DataFrame'>\n",
      "RangeIndex: 10227 entries, 0 to 10226\n",
      "Data columns (total 3 columns):\n",
      " #   Column      Non-Null Count  Dtype         \n",
      "---  ------      --------------  -----         \n",
      " 0   Unnamed: 0  10227 non-null  datetime64[ns]\n",
      " 1   Strflw      10227 non-null  float64       \n",
      " 2   Strvel      10227 non-null  float64       \n",
      "dtypes: datetime64[ns](1), float64(2)\n",
      "memory usage: 239.8 KB\n"
     ]
    }
   ],
   "source": [
    "df_all['Unnamed: 0'] = pd.to_datetime(df_all['Unnamed: 0'])\n",
    "df_all.info()"
   ]
  },
  {
   "cell_type": "code",
   "execution_count": 147,
   "id": "1eb2dbe4",
   "metadata": {},
   "outputs": [
    {
     "data": {
      "text/html": [
       "<div>\n",
       "<style scoped>\n",
       "    .dataframe tbody tr th:only-of-type {\n",
       "        vertical-align: middle;\n",
       "    }\n",
       "\n",
       "    .dataframe tbody tr th {\n",
       "        vertical-align: top;\n",
       "    }\n",
       "\n",
       "    .dataframe thead th {\n",
       "        text-align: right;\n",
       "    }\n",
       "</style>\n",
       "<table border=\"1\" class=\"dataframe\">\n",
       "  <thead>\n",
       "    <tr style=\"text-align: right;\">\n",
       "      <th></th>\n",
       "      <th>Unnamed: 0</th>\n",
       "      <th>Strflw</th>\n",
       "      <th>Strvel</th>\n",
       "    </tr>\n",
       "  </thead>\n",
       "  <tbody>\n",
       "    <tr>\n",
       "      <th>0</th>\n",
       "      <td>1992-01-01</td>\n",
       "      <td>0.01</td>\n",
       "      <td>0.2000</td>\n",
       "    </tr>\n",
       "    <tr>\n",
       "      <th>1</th>\n",
       "      <td>1992-01-02</td>\n",
       "      <td>0.01</td>\n",
       "      <td>0.2099</td>\n",
       "    </tr>\n",
       "    <tr>\n",
       "      <th>2</th>\n",
       "      <td>1992-01-03</td>\n",
       "      <td>0.01</td>\n",
       "      <td>0.2100</td>\n",
       "    </tr>\n",
       "    <tr>\n",
       "      <th>3</th>\n",
       "      <td>1992-01-04</td>\n",
       "      <td>0.01</td>\n",
       "      <td>0.2200</td>\n",
       "    </tr>\n",
       "    <tr>\n",
       "      <th>4</th>\n",
       "      <td>1992-01-05</td>\n",
       "      <td>0.01</td>\n",
       "      <td>0.2200</td>\n",
       "    </tr>\n",
       "    <tr>\n",
       "      <th>...</th>\n",
       "      <td>...</td>\n",
       "      <td>...</td>\n",
       "      <td>...</td>\n",
       "    </tr>\n",
       "    <tr>\n",
       "      <th>10222</th>\n",
       "      <td>2019-12-27</td>\n",
       "      <td>0.01</td>\n",
       "      <td>0.2200</td>\n",
       "    </tr>\n",
       "    <tr>\n",
       "      <th>10223</th>\n",
       "      <td>2019-12-28</td>\n",
       "      <td>0.01</td>\n",
       "      <td>0.2300</td>\n",
       "    </tr>\n",
       "    <tr>\n",
       "      <th>10224</th>\n",
       "      <td>2019-12-29</td>\n",
       "      <td>0.01</td>\n",
       "      <td>0.2350</td>\n",
       "    </tr>\n",
       "    <tr>\n",
       "      <th>10225</th>\n",
       "      <td>2019-12-30</td>\n",
       "      <td>0.01</td>\n",
       "      <td>0.2494</td>\n",
       "    </tr>\n",
       "    <tr>\n",
       "      <th>10226</th>\n",
       "      <td>2019-12-31</td>\n",
       "      <td>0.01</td>\n",
       "      <td>0.2500</td>\n",
       "    </tr>\n",
       "  </tbody>\n",
       "</table>\n",
       "<p>10227 rows × 3 columns</p>\n",
       "</div>"
      ],
      "text/plain": [
       "      Unnamed: 0  Strflw  Strvel\n",
       "0     1992-01-01    0.01  0.2000\n",
       "1     1992-01-02    0.01  0.2099\n",
       "2     1992-01-03    0.01  0.2100\n",
       "3     1992-01-04    0.01  0.2200\n",
       "4     1992-01-05    0.01  0.2200\n",
       "...          ...     ...     ...\n",
       "10222 2019-12-27    0.01  0.2200\n",
       "10223 2019-12-28    0.01  0.2300\n",
       "10224 2019-12-29    0.01  0.2350\n",
       "10225 2019-12-30    0.01  0.2494\n",
       "10226 2019-12-31    0.01  0.2500\n",
       "\n",
       "[10227 rows x 3 columns]"
      ]
     },
     "execution_count": 147,
     "metadata": {},
     "output_type": "execute_result"
    }
   ],
   "source": [
    "df_all_adj = df_all.sort_values(by='Unnamed: 0') #[:-1] --> if value includes 2020 1-1\n",
    "df_all_adj"
   ]
  },
  {
   "cell_type": "code",
   "execution_count": 148,
   "id": "6c2c86b5",
   "metadata": {},
   "outputs": [
    {
     "data": {
      "text/plain": [
       "365"
      ]
     },
     "execution_count": 148,
     "metadata": {},
     "output_type": "execute_result"
    }
   ],
   "source": [
    "sum(df_all_adj['Unnamed: 0'].dt.year == 2019) #it duplicated 2019"
   ]
  },
  {
   "cell_type": "code",
   "execution_count": 149,
   "id": "137694d9",
   "metadata": {},
   "outputs": [
    {
     "data": {
      "text/plain": [
       "DatetimeIndex(['1992-01-01', '1992-01-02', '1992-01-03', '1992-01-04',\n",
       "               '1992-01-05', '1992-01-06', '1992-01-07', '1992-01-08',\n",
       "               '1992-01-09', '1992-01-10',\n",
       "               ...\n",
       "               '2019-12-22', '2019-12-23', '2019-12-24', '2019-12-25',\n",
       "               '2019-12-26', '2019-12-27', '2019-12-28', '2019-12-29',\n",
       "               '2019-12-30', '2019-12-31'],\n",
       "              dtype='datetime64[ns]', length=10227, freq='D')"
      ]
     },
     "execution_count": 149,
     "metadata": {},
     "output_type": "execute_result"
    }
   ],
   "source": [
    "pd.date_range('1992-01-01', periods=10227, freq='D') #time check prior to exporting"
   ]
  },
  {
   "cell_type": "code",
   "execution_count": 150,
   "id": "8994641f",
   "metadata": {},
   "outputs": [
    {
     "data": {
      "text/plain": [
       "count    10227.000000\n",
       "mean         4.606359\n",
       "std          6.917024\n",
       "min          0.000000\n",
       "25%          0.000000\n",
       "50%          0.000000\n",
       "75%          5.191258\n",
       "max         51.912576\n",
       "Name: Strflw, dtype: float64"
      ]
     },
     "execution_count": 150,
     "metadata": {},
     "output_type": "execute_result"
    }
   ],
   "source": [
    "#convert to mm/day streamflow\n",
    "df_all_flw = df_all_adj['Strflw']*86.4*6.0084 #m^3/s need to convert to m^3/day by multiplying 86400s/day and ws area\n",
    "df_all_flw.describe()"
   ]
  },
  {
   "cell_type": "code",
   "execution_count": 151,
   "id": "327d04e9",
   "metadata": {},
   "outputs": [
    {
     "data": {
      "text/plain": [
       "pandas.core.series.Series"
      ]
     },
     "execution_count": 151,
     "metadata": {},
     "output_type": "execute_result"
    }
   ],
   "source": [
    "type(df_all_flw)"
   ]
  },
  {
   "cell_type": "code",
   "execution_count": 152,
   "id": "4942e79a",
   "metadata": {},
   "outputs": [
    {
     "data": {
      "text/plain": [
       "10226"
      ]
     },
     "execution_count": 152,
     "metadata": {},
     "output_type": "execute_result"
    }
   ],
   "source": [
    "df_all_flw.index.max()"
   ]
  },
  {
   "cell_type": "code",
   "execution_count": 153,
   "id": "cb37c290",
   "metadata": {},
   "outputs": [
    {
     "data": {
      "text/plain": [
       "<AxesSubplot:>"
      ]
     },
     "execution_count": 153,
     "metadata": {},
     "output_type": "execute_result"
    },
    {
     "data": {
      "image/png": "[encoded data removed]",
      "text/plain": [
       "<Figure size 432x288 with 1 Axes>"
      ]
     },
     "metadata": {
      "needs_background": "light"
     },
     "output_type": "display_data"
    }
   ],
   "source": [
    "df_all_flw.plot()"
   ]
  },
  {
   "cell_type": "code",
   "execution_count": 154,
   "id": "192a38a6",
   "metadata": {},
   "outputs": [],
   "source": [
    "#df_all_flw.to_csv('080422_BCNWM_mm_d_92_2019.csv')"
   ]
  },
  {
   "cell_type": "code",
   "execution_count": 82,
   "id": "db1c96eb",
   "metadata": {},
   "outputs": [
    {
     "data": {
      "text/html": [
       "<div>\n",
       "<style scoped>\n",
       "    .dataframe tbody tr th:only-of-type {\n",
       "        vertical-align: middle;\n",
       "    }\n",
       "\n",
       "    .dataframe tbody tr th {\n",
       "        vertical-align: top;\n",
       "    }\n",
       "\n",
       "    .dataframe thead th {\n",
       "        text-align: right;\n",
       "    }\n",
       "</style>\n",
       "<table border=\"1\" class=\"dataframe\">\n",
       "  <thead>\n",
       "    <tr style=\"text-align: right;\">\n",
       "      <th></th>\n",
       "      <th>Unnamed: 0</th>\n",
       "      <th>Strflw</th>\n",
       "      <th>Strvel</th>\n",
       "    </tr>\n",
       "  </thead>\n",
       "  <tbody>\n",
       "    <tr>\n",
       "      <th>0</th>\n",
       "      <td>2019-01-01 00</td>\n",
       "      <td>0.00</td>\n",
       "      <td>0.1800</td>\n",
       "    </tr>\n",
       "    <tr>\n",
       "      <th>1</th>\n",
       "      <td>2019-01-02 00</td>\n",
       "      <td>0.00</td>\n",
       "      <td>0.1800</td>\n",
       "    </tr>\n",
       "    <tr>\n",
       "      <th>2</th>\n",
       "      <td>2019-01-03 00</td>\n",
       "      <td>0.00</td>\n",
       "      <td>0.1800</td>\n",
       "    </tr>\n",
       "    <tr>\n",
       "      <th>3</th>\n",
       "      <td>2019-01-04 00</td>\n",
       "      <td>0.00</td>\n",
       "      <td>0.1800</td>\n",
       "    </tr>\n",
       "    <tr>\n",
       "      <th>4</th>\n",
       "      <td>2019-01-05 00</td>\n",
       "      <td>0.00</td>\n",
       "      <td>0.1800</td>\n",
       "    </tr>\n",
       "    <tr>\n",
       "      <th>...</th>\n",
       "      <td>...</td>\n",
       "      <td>...</td>\n",
       "      <td>...</td>\n",
       "    </tr>\n",
       "    <tr>\n",
       "      <th>361</th>\n",
       "      <td>2019-12-28 00</td>\n",
       "      <td>0.01</td>\n",
       "      <td>0.2300</td>\n",
       "    </tr>\n",
       "    <tr>\n",
       "      <th>362</th>\n",
       "      <td>2019-12-29 00</td>\n",
       "      <td>0.01</td>\n",
       "      <td>0.2350</td>\n",
       "    </tr>\n",
       "    <tr>\n",
       "      <th>363</th>\n",
       "      <td>2019-12-30 00</td>\n",
       "      <td>0.01</td>\n",
       "      <td>0.2494</td>\n",
       "    </tr>\n",
       "    <tr>\n",
       "      <th>364</th>\n",
       "      <td>2019-12-31 00</td>\n",
       "      <td>0.01</td>\n",
       "      <td>0.2500</td>\n",
       "    </tr>\n",
       "    <tr>\n",
       "      <th>365</th>\n",
       "      <td>2020-01-01 00</td>\n",
       "      <td>0.01</td>\n",
       "      <td>0.2500</td>\n",
       "    </tr>\n",
       "  </tbody>\n",
       "</table>\n",
       "<p>366 rows × 3 columns</p>\n",
       "</div>"
      ],
      "text/plain": [
       "        Unnamed: 0  Strflw  Strvel\n",
       "0    2019-01-01 00    0.00  0.1800\n",
       "1    2019-01-02 00    0.00  0.1800\n",
       "2    2019-01-03 00    0.00  0.1800\n",
       "3    2019-01-04 00    0.00  0.1800\n",
       "4    2019-01-05 00    0.00  0.1800\n",
       "..             ...     ...     ...\n",
       "361  2019-12-28 00    0.01  0.2300\n",
       "362  2019-12-29 00    0.01  0.2350\n",
       "363  2019-12-30 00    0.01  0.2494\n",
       "364  2019-12-31 00    0.01  0.2500\n",
       "365  2020-01-01 00    0.01  0.2500\n",
       "\n",
       "[366 rows x 3 columns]"
      ]
     },
     "execution_count": 82,
     "metadata": {},
     "output_type": "execute_result"
    }
   ],
   "source": [
    "df3 = pd.read_excel('08322BCNWM_Raw2019.xlsx')\n",
    "df3.head(len(df3))"
   ]
  },
  {
   "cell_type": "code",
   "execution_count": 83,
   "id": "6d4cd087",
   "metadata": {},
   "outputs": [
    {
     "data": {
      "text/html": [
       "<div>\n",
       "<style scoped>\n",
       "    .dataframe tbody tr th:only-of-type {\n",
       "        vertical-align: middle;\n",
       "    }\n",
       "\n",
       "    .dataframe tbody tr th {\n",
       "        vertical-align: top;\n",
       "    }\n",
       "\n",
       "    .dataframe thead th {\n",
       "        text-align: right;\n",
       "    }\n",
       "</style>\n",
       "<table border=\"1\" class=\"dataframe\">\n",
       "  <thead>\n",
       "    <tr style=\"text-align: right;\">\n",
       "      <th></th>\n",
       "      <th>Unnamed: 0</th>\n",
       "      <th>Strflw</th>\n",
       "      <th>Strvel</th>\n",
       "    </tr>\n",
       "  </thead>\n",
       "  <tbody>\n",
       "    <tr>\n",
       "      <th>0</th>\n",
       "      <td>2019-01-01 00</td>\n",
       "      <td>0.0</td>\n",
       "      <td>0.18</td>\n",
       "    </tr>\n",
       "    <tr>\n",
       "      <th>1</th>\n",
       "      <td>2019-01-02 00</td>\n",
       "      <td>0.0</td>\n",
       "      <td>0.18</td>\n",
       "    </tr>\n",
       "    <tr>\n",
       "      <th>2</th>\n",
       "      <td>2019-01-03 00</td>\n",
       "      <td>0.0</td>\n",
       "      <td>0.18</td>\n",
       "    </tr>\n",
       "    <tr>\n",
       "      <th>3</th>\n",
       "      <td>2019-01-04 00</td>\n",
       "      <td>0.0</td>\n",
       "      <td>0.18</td>\n",
       "    </tr>\n",
       "    <tr>\n",
       "      <th>4</th>\n",
       "      <td>2019-01-05 00</td>\n",
       "      <td>0.0</td>\n",
       "      <td>0.18</td>\n",
       "    </tr>\n",
       "  </tbody>\n",
       "</table>\n",
       "</div>"
      ],
      "text/plain": [
       "      Unnamed: 0  Strflw  Strvel\n",
       "0  2019-01-01 00     0.0    0.18\n",
       "1  2019-01-02 00     0.0    0.18\n",
       "2  2019-01-03 00     0.0    0.18\n",
       "3  2019-01-04 00     0.0    0.18\n",
       "4  2019-01-05 00     0.0    0.18"
      ]
     },
     "execution_count": 83,
     "metadata": {},
     "output_type": "execute_result"
    }
   ],
   "source": [
    "df3_adj = df3[:-1]\n",
    "df3_adj.head()"
   ]
  },
  {
   "cell_type": "code",
   "execution_count": 102,
   "id": "2689addc",
   "metadata": {},
   "outputs": [
    {
     "name": "stdout",
     "output_type": "stream",
     "text": [
      "<class 'pandas.core.frame.DataFrame'>\n",
      "RangeIndex: 365 entries, 0 to 364\n",
      "Data columns (total 3 columns):\n",
      " #   Column      Non-Null Count  Dtype  \n",
      "---  ------      --------------  -----  \n",
      " 0   Unnamed: 0  365 non-null    object \n",
      " 1   Strflw      365 non-null    float64\n",
      " 2   Strvel      365 non-null    float64\n",
      "dtypes: float64(2), object(1)\n",
      "memory usage: 8.7+ KB\n"
     ]
    }
   ],
   "source": [
    "df3_adj.info()"
   ]
  },
  {
   "cell_type": "code",
   "execution_count": 84,
   "id": "d758c234",
   "metadata": {},
   "outputs": [
    {
     "data": {
      "text/plain": [
       "<AxesSubplot:>"
      ]
     },
     "execution_count": 84,
     "metadata": {},
     "output_type": "execute_result"
    },
    {
     "data": {
      "image/png": "[encoded data removed]",
      "text/plain": [
       "<Figure size 432x288 with 1 Axes>"
      ]
     },
     "metadata": {
      "needs_background": "light"
     },
     "output_type": "display_data"
    }
   ],
   "source": [
    "df3_adj_flw = df3[:-1]['Strflw']*86.4*6.0084 #m^3/s need to convert to m^3/day by multiplying 86400s/day and ws area\n",
    "df3_adj_flw.plot() #now units are in mm/day --> is velma ready, now ready to read in an concatonate"
   ]
  },
  {
   "cell_type": "code",
   "execution_count": 81,
   "id": "ec99c8ff",
   "metadata": {},
   "outputs": [
    {
     "name": "stdout",
     "output_type": "stream",
     "text": [
      "<class 'pandas.core.frame.DataFrame'>\n",
      "RangeIndex: 367 entries, 0 to 366\n",
      "Data columns (total 3 columns):\n",
      " #   Column      Non-Null Count  Dtype  \n",
      "---  ------      --------------  -----  \n",
      " 0   Unnamed: 0  367 non-null    object \n",
      " 1   Strflw      367 non-null    float64\n",
      " 2   Strvel      367 non-null    float64\n",
      "dtypes: float64(2), object(1)\n",
      "memory usage: 8.7+ KB\n"
     ]
    }
   ],
   "source": [
    "df4 = pd.read_excel('08322BCNWM_Raw1992.xlsx')\n",
    "df4.info()"
   ]
  },
  {
   "cell_type": "code",
   "execution_count": 85,
   "id": "cb92fb2e",
   "metadata": {},
   "outputs": [
    {
     "name": "stdout",
     "output_type": "stream",
     "text": [
      "<class 'pandas.core.frame.DataFrame'>\n",
      "Index: 366 entries, 2019-01-01 00 to 2020-01-01 00\n",
      "Data columns (total 2 columns):\n",
      " #   Column  Non-Null Count  Dtype \n",
      "---  ------  --------------  ----- \n",
      " 0   Strflw  366 non-null    object\n",
      " 1   Strvel  366 non-null    object\n",
      "dtypes: object(2)\n",
      "memory usage: 8.6+ KB\n"
     ]
    }
   ],
   "source": [
    "df_nwm_out.info()"
   ]
  },
  {
   "cell_type": "code",
   "execution_count": 450,
   "id": "fd81a3d8",
   "metadata": {},
   "outputs": [
    {
     "data": {
      "text/plain": [
       "str"
      ]
     },
     "execution_count": 450,
     "metadata": {},
     "output_type": "execute_result"
    }
   ],
   "source": [
    "data_test = '{\\n  \"source\": \"nwm\",\\n  \"dateTimeSpan\": {\\n    \"startDate\": \"01/01/2015 00:00:00\",\\n    \"endDate\": \"12/31/2015 00:00:00\",\\n    \"dateTimeFormat\": \"yyyy-MM-dd HH\"\\n  },\\n  \"geometry\": {\\n    \"description\": null,\\n    \"comID\": 190641,\\n    \"hucID\": null,\\n    \"stationID\": null,\\n    \"point\": null,\\n    \"geometryMetadata\": {\\n      \"gaugestation\": null\\n    },\\n    \"timezone\": null\\n  },\\n  \"dataValueFormat\": \"E3\",\\n  \"temporalResolution\": \"daily\",\\n  \"timeLocalized\": false,\\n  \"units\": \"metric\",\\n  \"outputFormat\": \"json\",\\n  \"baseURL\": null,\\n  \"inputTimeSeries\": null\\n}'\n",
    "type(data_test)"
   ]
  },
  {
   "cell_type": "code",
   "execution_count": 444,
   "id": "5fc82a76",
   "metadata": {},
   "outputs": [
    {
     "data": {
      "text/plain": [
       "'\"startDate\": \"01/01/2015 00:00:00\"'"
      ]
     },
     "execution_count": 444,
     "metadata": {},
     "output_type": "execute_result"
    }
   ],
   "source": [
    "data_test[45:79]"
   ]
  },
  {
   "cell_type": "code",
   "execution_count": 445,
   "id": "de339656",
   "metadata": {},
   "outputs": [
    {
     "data": {
      "text/plain": [
       "dict_keys(['source', 'dateTimeSpan', 'geometry', 'dataValueFormat', 'temporalResolution', 'timeLocalized', 'units', 'outputFormat', 'baseURL', 'inputTimeSeries'])"
      ]
     },
     "execution_count": 445,
     "metadata": {},
     "output_type": "execute_result"
    }
   ],
   "source": [
    "data_input  =json.loads(data_test)\n",
    "data_input.keys()"
   ]
  },
  {
   "cell_type": "code",
   "execution_count": 360,
   "id": "f9bd3551",
   "metadata": {},
   "outputs": [
    {
     "data": {
      "text/plain": [
       "dict_keys(['startDate', 'endDate', 'dateTimeFormat'])"
      ]
     },
     "execution_count": 360,
     "metadata": {},
     "output_type": "execute_result"
    }
   ],
   "source": [
    "data_input['dateTimeSpan'].keys()"
   ]
  },
  {
   "cell_type": "code",
   "execution_count": 369,
   "id": "212e363a",
   "metadata": {},
   "outputs": [
    {
     "data": {
      "text/plain": [
       "{'source': 'nwm',\n",
       " 'dateTimeSpan': {'startDate': '2019-01-01 00:00:00',\n",
       "  'endDate': '2019-12-31 00:00:00',\n",
       "  'dateTimeFormat': 'yyyy-MM-dd HH'},\n",
       " 'geometry': {'description': None,\n",
       "  'comID': 190641,\n",
       "  'hucID': None,\n",
       "  'stationID': None,\n",
       "  'point': None,\n",
       "  'geometryMetadata': {'gaugestation': None},\n",
       "  'timezone': None},\n",
       " 'dataValueFormat': 'E3',\n",
       " 'temporalResolution': 'daily',\n",
       " 'timeLocalized': False,\n",
       " 'units': 'metric',\n",
       " 'outputFormat': 'json',\n",
       " 'baseURL': None,\n",
       " 'inputTimeSeries': None}"
      ]
     },
     "execution_count": 369,
     "metadata": {},
     "output_type": "execute_result"
    }
   ],
   "source": [
    "data_input['dateTimeSpan'].update(startDate= str(year_parse.min()), endDate= str(year_parse.max()))#permanent change in scope\n",
    "data_input"
   ]
  },
  {
   "cell_type": "code",
   "execution_count": 356,
   "id": "2b15f26e",
   "metadata": {},
   "outputs": [
    {
     "data": {
      "text/plain": [
       "{'source': 'nwm',\n",
       " 'dateTimeSpan': {'startDate': '2016-07-01T00:00:00',\n",
       "  'endDate': '2016-07-31T00:00:00',\n",
       "  'dateTimeFormat': 'yyyy-MM-dd HH'},\n",
       " 'geometry': {'description': None,\n",
       "  'comID': 190641,\n",
       "  'hucID': None,\n",
       "  'stationID': None,\n",
       "  'point': None,\n",
       "  'geometryMetadata': {'gaugestation': None},\n",
       "  'timezone': None},\n",
       " 'dataValueFormat': 'E3',\n",
       " 'temporalResolution': 'daily',\n",
       " 'timeLocalized': False,\n",
       " 'units': 'metric',\n",
       " 'outputFormat': 'json',\n",
       " 'baseURL': None,\n",
       " 'inputTimeSeries': None}"
      ]
     },
     "execution_count": 356,
     "metadata": {},
     "output_type": "execute_result"
    }
   ],
   "source": [
    "data_input['dateTimeSpan'].update(startDate= '2016-07-01T00:00:00', endDate= '2016-07-31T00:00:00') #permanent change in scope\n",
    "data_input"
   ]
  },
  {
   "cell_type": "code",
   "execution_count": 393,
   "id": "dec35786",
   "metadata": {},
   "outputs": [
    {
     "data": {
      "text/plain": [
       "\"{\\n   'source': 'nwm', 'dateTimeSpan': {\\n   'startDate': '2019-01-01 00:00:00', 'endDate': '2019-12-31 00:00:00', 'dateTimeFormat': 'yyyy-MM-dd HH'}, 'geometry': {\\n   'description': None, 'comID': 190641, 'hucID': None, 'stationID': None, 'point': None, 'geometryMetadata': {\\n   'gaugestation': None}, 'timezone': None}, 'dataValueFormat': 'E3', 'temporalResolution': 'daily', 'timeLocalized': False, 'units': 'metric', 'outputFormat': 'json', 'baseURL': None, 'inputTimeSeries': None}\""
      ]
     },
     "execution_count": 393,
     "metadata": {},
     "output_type": "execute_result"
    }
   ],
   "source": [
    "di_str_1 = str(data_input).replace('{', '{\\n   ')\n",
    "di_str_1"
   ]
  },
  {
   "cell_type": "code",
   "execution_count": 394,
   "id": "a17522a3",
   "metadata": {},
   "outputs": [
    {
     "data": {
      "text/plain": [
       "'\"{\\\\n   \\'source\\': \\'nwm\\', \\'dateTimeSpan\\': {\\\\n   \\'startDate\\': \\'2019-01-01 00:00:00\\', \\'endDate\\': \\'2019-12-31 00:00:00\\', \\'dateTimeFormat\\': \\'yyyy-MM-dd HH\\'}, \\'geometry\\': {\\\\n   \\'description\\': None, \\'comID\\': 190641, \\'hucID\\': None, \\'stationID\\': None, \\'point\\': None, \\'geometryMetadata\\': {\\\\n   \\'gaugestation\\': None}, \\'timezone\\': None}, \\'dataValueFormat\\': \\'E3\\', \\'temporalResolution\\': \\'daily\\', \\'timeLocalized\\': False, \\'units\\': \\'metric\\', \\'outputFormat\\': \\'json\\', \\'baseURL\\': None, \\'inputTimeSeries\\': None}\"'"
      ]
     },
     "execution_count": 394,
     "metadata": {},
     "output_type": "execute_result"
    }
   ],
   "source": [
    "json.dumps(di_str_1)"
   ]
  },
  {
   "cell_type": "code",
   "execution_count": 397,
   "id": "5b77c1fd",
   "metadata": {},
   "outputs": [
    {
     "data": {
      "text/plain": [
       "'{\"source\": \"nwm\", \"dateTimeSpan\": {\"startDate\": \"2019-01-01 00:00:00\", \"endDate\": \"2019-12-31 00:00:00\", \"dateTimeFormat\": \"yyyy-MM-dd HH\"}, \"geometry\": {\"description\": null, \"comID\": 190641, \"hucID\": null, \"stationID\": null, \"point\": null, \"geometryMetadata\": {\"gaugestation\": null}, \"timezone\": null}, \"dataValueFormat\": \"E3\", \"temporalResolution\": \"daily\", \"timeLocalized\": false, \"units\": \"metric\", \"outputFormat\": \"json\", \"baseURL\": null, \"inputTimeSeries\": null}'"
      ]
     },
     "execution_count": 397,
     "metadata": {},
     "output_type": "execute_result"
    }
   ],
   "source": [
    "data_new = json.dumps(data_input)\n",
    "data_new"
   ]
  },
  {
   "cell_type": "code",
   "execution_count": null,
   "id": "deea83f4",
   "metadata": {},
   "outputs": [],
   "source": [
    "data_input['dateTimeSpan'].update(startDate= start, endDate= '2016-07-31T00:00:00') #permanent change in scope\n",
    "data_input"
   ]
  },
  {
   "cell_type": "code",
   "execution_count": 351,
   "id": "294b7a4d",
   "metadata": {},
   "outputs": [
    {
     "data": {
      "text/plain": [
       "('2016-07-01T00:00:00', '2016-07-31T00:00:00')"
      ]
     },
     "execution_count": 351,
     "metadata": {},
     "output_type": "execute_result"
    }
   ],
   "source": [
    "data_input['dateTimeSpan']['startDate'], data_input['dateTimeSpan']['endDate']"
   ]
  },
  {
   "cell_type": "code",
   "execution_count": 399,
   "id": "25f27e23",
   "metadata": {},
   "outputs": [],
   "source": [
    "import requests\n",
    "\n",
    "headers = {\n",
    "    'accept': '*/*',\n",
    "    'Content-Type': 'application/json-patch+json',\n",
    "}\n",
    "\n",
    "data = data_new\n",
    "\n",
    "response = requests.post('https://ceamdev.ceeopdev.net/hms/rest/api/hydrology/streamflow', headers=headers, data=data)"
   ]
  },
  {
   "cell_type": "code",
   "execution_count": 400,
   "id": "e35da64c",
   "metadata": {},
   "outputs": [
    {
     "name": "stdout",
     "output_type": "stream",
     "text": [
      "{'dataset': 'streamflow', 'dataSource': 'nwm', 'metadata': {'retrieval_timestamp': '2022-08-01T21:13:48.530068', 'source_url': 's3://noaa-nwm-retro-v2-zarr-pds', 'variables': 'streamflow, velocity', 'TITLE': 'OUTPUT FROM WRF-Hydro v5.2.0-beta2', 'code_version': 'v5.2.0-beta2', 'featureType': 'timeSeries', 'model_configuration': 'retrospective', 'proj4': '+proj=lcc +units=m +a=6370000.0 +b=6370000.0 +lat_1=30.0 +lat_2=60.0 +lat_0=40.0 +lon_0=-97.0 +x_0=0 +y_0=0 +k_0=1.0 +nadgrids=@', 'column_1_units': 'm3 s-1', 'column_2_units': 'm s-1', 'column_1': 'streamflow-190641', 'column_2': 'velocity-190641', 'temporal_timestep': 'daily', 'nwm_timeZone': '', 'nwm_tz_offset': '0', 'request_url': '/api/hydrology/streamflow', 'retrievalTime': '26200 ms'}, 'data': {'2019-01-01 00': ['0.000E+000', '1.800E-001'], '2019-01-02 00': ['0.000E+000', '1.800E-001'], '2019-01-03 00': ['0.000E+000', '1.800E-001'], '2019-01-04 00': ['0.000E+000', '1.800E-001'], '2019-01-05 00': ['0.000E+000', '1.800E-001'], '2019-01-06 00': ['0.000E+000', '1.800E-001'], '2019-01-07 00': ['0.000E+000', '1.800E-001'], '2019-01-08 00': ['0.000E+000', '1.800E-001'], '2019-01-09 00': ['0.000E+000', '1.800E-001'], '2019-01-10 00': ['0.000E+000', '1.800E-001'], '2019-01-11 00': ['0.000E+000', '1.800E-001'], '2019-01-12 00': ['0.000E+000', '1.800E-001'], '2019-01-13 00': ['0.000E+000', '1.800E-001'], '2019-01-14 00': ['0.000E+000', '1.800E-001'], '2019-01-15 00': ['0.000E+000', '1.800E-001'], '2019-01-16 00': ['0.000E+000', '1.800E-001'], '2019-01-17 00': ['0.000E+000', '1.800E-001'], '2019-01-18 00': ['0.000E+000', '1.800E-001'], '2019-01-19 00': ['0.000E+000', '1.800E-001'], '2019-01-20 00': ['0.000E+000', '1.800E-001'], '2019-01-21 00': ['0.000E+000', '1.800E-001'], '2019-01-22 00': ['0.000E+000', '1.800E-001'], '2019-01-23 00': ['0.000E+000', '1.800E-001'], '2019-01-24 00': ['0.000E+000', '1.800E-001'], '2019-01-25 00': ['0.000E+000', '1.800E-001'], '2019-01-26 00': ['0.000E+000', '1.800E-001'], '2019-01-27 00': ['0.000E+000', '1.800E-001'], '2019-01-28 00': ['0.000E+000', '1.800E-001'], '2019-01-29 00': ['0.000E+000', '1.800E-001'], '2019-01-30 00': ['0.000E+000', '1.800E-001'], '2019-01-31 00': ['0.000E+000', '1.800E-001'], '2019-02-01 00': ['0.000E+000', '1.800E-001'], '2019-02-02 00': ['0.000E+000', '1.800E-001'], '2019-02-03 00': ['0.000E+000', '1.800E-001'], '2019-02-04 00': ['0.000E+000', '1.800E-001'], '2019-02-05 00': ['0.000E+000', '1.800E-001'], '2019-02-06 00': ['0.000E+000', '1.800E-001'], '2019-02-07 00': ['0.000E+000', '1.800E-001'], '2019-02-08 00': ['0.000E+000', '1.800E-001'], '2019-02-09 00': ['0.000E+000', '1.800E-001'], '2019-02-10 00': ['0.000E+000', '1.800E-001'], '2019-02-11 00': ['0.000E+000', '1.800E-001'], '2019-02-12 00': ['0.000E+000', '1.800E-001'], '2019-02-13 00': ['0.000E+000', '1.800E-001'], '2019-02-14 00': ['0.000E+000', '1.900E-001'], '2019-02-15 00': ['0.000E+000', '1.900E-001'], '2019-02-16 00': ['0.000E+000', '1.900E-001'], '2019-02-17 00': ['9.999E-003', '1.900E-001'], '2019-02-18 00': ['1.000E-002', '1.900E-001'], '2019-02-19 00': ['1.000E-002', '1.900E-001'], '2019-02-20 00': ['1.000E-002', '2.000E-001'], '2019-02-21 00': ['1.000E-002', '2.000E-001'], '2019-02-22 00': ['1.000E-002', '2.000E-001'], '2019-02-23 00': ['1.000E-002', '2.000E-001'], '2019-02-24 00': ['1.000E-002', '2.000E-001'], '2019-02-25 00': ['1.000E-002', '2.100E-001'], '2019-02-26 00': ['1.000E-002', '2.100E-001'], '2019-02-27 00': ['1.000E-002', '2.100E-001'], '2019-02-28 00': ['1.000E-002', '2.100E-001'], '2019-03-01 00': ['1.000E-002', '2.100E-001'], '2019-03-02 00': ['1.000E-002', '2.200E-001'], '2019-03-03 00': ['1.000E-002', '2.200E-001'], '2019-03-04 00': ['1.000E-002', '2.200E-001'], '2019-03-05 00': ['1.000E-002', '2.200E-001'], '2019-03-06 00': ['1.000E-002', '2.200E-001'], '2019-03-07 00': ['1.000E-002', '2.300E-001'], '2019-03-08 00': ['1.000E-002', '2.398E-001'], '2019-03-09 00': ['1.000E-002', '2.500E-001'], '2019-03-10 00': ['1.000E-002', '2.500E-001'], '2019-03-11 00': ['1.000E-002', '2.500E-001'], '2019-03-12 00': ['1.000E-002', '2.500E-001'], '2019-03-13 00': ['1.000E-002', '2.600E-001'], '2019-03-14 00': ['1.000E-002', '2.600E-001'], '2019-03-15 00': ['1.000E-002', '2.600E-001'], '2019-03-16 00': ['1.000E-002', '2.600E-001'], '2019-03-17 00': ['1.000E-002', '2.700E-001'], '2019-03-18 00': ['1.000E-002', '2.700E-001'], '2019-03-19 00': ['1.000E-002', '2.700E-001'], '2019-03-20 00': ['1.000E-002', '2.800E-001'], '2019-03-21 00': ['1.000E-002', '2.800E-001'], '2019-03-22 00': ['1.000E-002', '2.850E-001'], '2019-03-23 00': ['1.000E-002', '2.900E-001'], '2019-03-24 00': ['1.000E-002', '2.999E-001'], '2019-03-25 00': ['1.000E-002', '3.000E-001'], '2019-03-26 00': ['1.000E-002', '3.100E-001'], '2019-03-27 00': ['1.875E-002', '3.200E-001'], '2019-03-28 00': ['2.000E-002', '3.300E-001'], '2019-03-29 00': ['2.000E-002', '3.400E-001'], '2019-03-30 00': ['2.000E-002', '3.497E-001'], '2019-03-31 00': ['2.000E-002', '3.575E-001'], '2019-04-01 00': ['2.000E-002', '3.600E-001'], '2019-04-02 00': ['2.000E-002', '3.700E-001'], '2019-04-03 00': ['2.000E-002', '3.800E-001'], '2019-04-04 00': ['2.000E-002', '3.897E-001'], '2019-04-05 00': ['2.969E-002', '3.900E-001'], '2019-04-06 00': ['3.000E-002', '4.000E-001'], '2019-04-07 00': ['3.000E-002', '4.000E-001'], '2019-04-08 00': ['3.000E-002', '4.100E-001'], '2019-04-09 00': ['3.000E-002', '4.100E-001'], '2019-04-10 00': ['3.000E-002', '4.200E-001'], '2019-04-11 00': ['3.000E-002', '4.200E-001'], '2019-04-12 00': ['3.000E-002', '4.200E-001'], '2019-04-13 00': ['3.000E-002', '4.200E-001'], '2019-04-14 00': ['3.000E-002', '4.300E-001'], '2019-04-15 00': ['3.000E-002', '4.300E-001'], '2019-04-16 00': ['3.000E-002', '4.300E-001'], '2019-04-17 00': ['3.000E-002', '4.300E-001'], '2019-04-18 00': ['3.000E-002', '4.300E-001'], '2019-04-19 00': ['3.000E-002', '4.300E-001'], '2019-04-20 00': ['3.000E-002', '4.300E-001'], '2019-04-21 00': ['3.000E-002', '4.300E-001'], '2019-04-22 00': ['3.000E-002', '4.300E-001'], '2019-04-23 00': ['3.000E-002', '4.300E-001'], '2019-04-24 00': ['3.000E-002', '4.300E-001'], '2019-04-25 00': ['3.000E-002', '4.300E-001'], '2019-04-26 00': ['3.000E-002', '4.300E-001'], '2019-04-27 00': ['3.000E-002', '4.206E-001'], '2019-04-28 00': ['3.000E-002', '4.200E-001'], '2019-04-29 00': ['3.000E-002', '4.200E-001'], '2019-04-30 00': ['3.000E-002', '4.200E-001'], '2019-05-01 00': ['3.000E-002', '4.200E-001'], '2019-05-02 00': ['3.000E-002', '4.200E-001'], '2019-05-03 00': ['3.000E-002', '4.200E-001'], '2019-05-04 00': ['3.000E-002', '4.100E-001'], '2019-05-05 00': ['3.000E-002', '4.100E-001'], '2019-05-06 00': ['3.000E-002', '4.100E-001'], '2019-05-07 00': ['3.000E-002', '4.100E-001'], '2019-05-08 00': ['3.000E-002', '4.100E-001'], '2019-05-09 00': ['3.000E-002', '4.100E-001'], '2019-05-10 00': ['3.000E-002', '4.100E-001'], '2019-05-11 00': ['3.000E-002', '4.000E-001'], '2019-05-12 00': ['3.000E-002', '4.000E-001'], '2019-05-13 00': ['3.000E-002', '4.000E-001'], '2019-05-14 00': ['3.000E-002', '4.000E-001'], '2019-05-15 00': ['3.000E-002', '4.000E-001'], '2019-05-16 00': ['3.000E-002', '4.000E-001'], '2019-05-17 00': ['3.000E-002', '4.000E-001'], '2019-05-18 00': ['3.000E-002', '4.000E-001'], '2019-05-19 00': ['3.000E-002', '4.000E-001'], '2019-05-20 00': ['3.000E-002', '4.000E-001'], '2019-05-21 00': ['3.000E-002', '4.000E-001'], '2019-05-22 00': ['3.000E-002', '4.000E-001'], '2019-05-23 00': ['3.000E-002', '4.000E-001'], '2019-05-24 00': ['3.000E-002', '4.000E-001'], '2019-05-25 00': ['3.000E-002', '4.000E-001'], '2019-05-26 00': ['3.000E-002', '4.000E-001'], '2019-05-27 00': ['3.000E-002', '4.100E-001'], '2019-05-28 00': ['3.000E-002', '4.100E-001'], '2019-05-29 00': ['3.000E-002', '4.100E-001'], '2019-05-30 00': ['3.000E-002', '4.100E-001'], '2019-05-31 00': ['3.000E-002', '4.100E-001'], '2019-06-01 00': ['3.000E-002', '4.200E-001'], '2019-06-02 00': ['3.000E-002', '4.200E-001'], '2019-06-03 00': ['3.000E-002', '4.200E-001'], '2019-06-04 00': ['3.000E-002', '4.200E-001'], '2019-06-05 00': ['3.000E-002', '4.200E-001'], '2019-06-06 00': ['3.000E-002', '4.200E-001'], '2019-06-07 00': ['3.000E-002', '4.200E-001'], '2019-06-08 00': ['3.000E-002', '4.200E-001'], '2019-06-09 00': ['3.000E-002', '4.300E-001'], '2019-06-10 00': ['3.000E-002', '4.300E-001'], '2019-06-11 00': ['3.000E-002', '4.300E-001'], '2019-06-12 00': ['3.000E-002', '4.300E-001'], '2019-06-13 00': ['3.000E-002', '4.300E-001'], '2019-06-14 00': ['3.000E-002', '4.300E-001'], '2019-06-15 00': ['3.000E-002', '4.206E-001'], '2019-06-16 00': ['3.000E-002', '4.200E-001'], '2019-06-17 00': ['3.000E-002', '4.200E-001'], '2019-06-18 00': ['3.000E-002', '4.200E-001'], '2019-06-19 00': ['3.000E-002', '4.200E-001'], '2019-06-20 00': ['3.000E-002', '4.200E-001'], '2019-06-21 00': ['3.000E-002', '4.200E-001'], '2019-06-22 00': ['3.000E-002', '4.200E-001'], '2019-06-23 00': ['3.000E-002', '4.200E-001'], '2019-06-24 00': ['3.000E-002', '4.200E-001'], '2019-06-25 00': ['3.000E-002', '4.200E-001'], '2019-06-26 00': ['3.000E-002', '4.200E-001'], '2019-06-27 00': ['3.000E-002', '4.200E-001'], '2019-06-28 00': ['3.000E-002', '4.200E-001'], '2019-06-29 00': ['3.000E-002', '4.200E-001'], '2019-06-30 00': ['3.000E-002', '4.200E-001'], '2019-07-01 00': ['3.000E-002', '4.200E-001'], '2019-07-02 00': ['3.000E-002', '4.200E-001'], '2019-07-03 00': ['3.000E-002', '4.200E-001'], '2019-07-04 00': ['3.000E-002', '4.200E-001'], '2019-07-05 00': ['3.000E-002', '4.200E-001'], '2019-07-06 00': ['3.000E-002', '4.200E-001'], '2019-07-07 00': ['3.000E-002', '4.200E-001'], '2019-07-08 00': ['3.000E-002', '4.200E-001'], '2019-07-09 00': ['3.000E-002', '4.200E-001'], '2019-07-10 00': ['3.000E-002', '4.200E-001'], '2019-07-11 00': ['3.000E-002', '4.200E-001'], '2019-07-12 00': ['3.000E-002', '4.200E-001'], '2019-07-13 00': ['3.000E-002', '4.200E-001'], '2019-07-14 00': ['3.000E-002', '4.200E-001'], '2019-07-15 00': ['3.000E-002', '4.100E-001'], '2019-07-16 00': ['3.000E-002', '4.100E-001'], '2019-07-17 00': ['3.000E-002', '4.100E-001'], '2019-07-18 00': ['3.000E-002', '4.100E-001'], '2019-07-19 00': ['3.000E-002', '4.100E-001'], '2019-07-20 00': ['3.000E-002', '4.006E-001'], '2019-07-21 00': ['3.000E-002', '4.000E-001'], '2019-07-22 00': ['3.000E-002', '4.000E-001'], '2019-07-23 00': ['3.000E-002', '4.000E-001'], '2019-07-24 00': ['3.000E-002', '4.000E-001'], '2019-07-25 00': ['3.000E-002', '3.900E-001'], '2019-07-26 00': ['2.500E-002', '3.900E-001'], '2019-07-27 00': ['2.000E-002', '3.900E-001'], '2019-07-28 00': ['2.000E-002', '3.900E-001'], '2019-07-29 00': ['2.000E-002', '3.900E-001'], '2019-07-30 00': ['2.000E-002', '3.800E-001'], '2019-07-31 00': ['2.000E-002', '3.800E-001'], '2019-08-01 00': ['2.000E-002', '3.800E-001'], '2019-08-02 00': ['2.000E-002', '3.800E-001'], '2019-08-03 00': ['2.000E-002', '3.800E-001'], '2019-08-04 00': ['2.000E-002', '3.800E-001'], '2019-08-05 00': ['2.000E-002', '3.700E-001'], '2019-08-06 00': ['2.000E-002', '3.700E-001'], '2019-08-07 00': ['2.000E-002', '3.700E-001'], '2019-08-08 00': ['2.000E-002', '3.700E-001'], '2019-08-09 00': ['2.000E-002', '3.700E-001'], '2019-08-10 00': ['2.000E-002', '3.700E-001'], '2019-08-11 00': ['2.000E-002', '3.600E-001'], '2019-08-12 00': ['2.000E-002', '3.600E-001'], '2019-08-13 00': ['2.000E-002', '3.600E-001'], '2019-08-14 00': ['2.000E-002', '3.600E-001'], '2019-08-15 00': ['2.000E-002', '3.600E-001'], '2019-08-16 00': ['2.000E-002', '3.600E-001'], '2019-08-17 00': ['2.000E-002', '3.503E-001'], '2019-08-18 00': ['2.000E-002', '3.500E-001'], '2019-08-19 00': ['2.000E-002', '3.500E-001'], '2019-08-20 00': ['2.000E-002', '3.500E-001'], '2019-08-21 00': ['2.000E-002', '3.500E-001'], '2019-08-22 00': ['2.000E-002', '3.500E-001'], '2019-08-23 00': ['2.000E-002', '3.412E-001'], '2019-08-24 00': ['2.000E-002', '3.400E-001'], '2019-08-25 00': ['2.000E-002', '3.400E-001'], '2019-08-26 00': ['2.000E-002', '3.400E-001'], '2019-08-27 00': ['2.000E-002', '3.400E-001'], '2019-08-28 00': ['2.000E-002', '3.400E-001'], '2019-08-29 00': ['2.000E-002', '3.312E-001'], '2019-08-30 00': ['2.000E-002', '3.300E-001'], '2019-08-31 00': ['2.000E-002', '3.300E-001'], '2019-09-01 00': ['2.000E-002', '3.300E-001'], '2019-09-02 00': ['2.000E-002', '3.300E-001'], '2019-09-03 00': ['2.000E-002', '3.300E-001'], '2019-09-04 00': ['2.000E-002', '3.250E-001'], '2019-09-05 00': ['2.000E-002', '3.200E-001'], '2019-09-06 00': ['2.000E-002', '3.200E-001'], '2019-09-07 00': ['2.000E-002', '3.200E-001'], '2019-09-08 00': ['1.000E-002', '3.200E-001'], '2019-09-09 00': ['1.000E-002', '3.200E-001'], '2019-09-10 00': ['1.000E-002', '3.102E-001'], '2019-09-11 00': ['1.000E-002', '3.100E-001'], '2019-09-12 00': ['1.000E-002', '3.100E-001'], '2019-09-13 00': ['1.000E-002', '3.100E-001'], '2019-09-14 00': ['1.000E-002', '3.100E-001'], '2019-09-15 00': ['1.000E-002', '3.100E-001'], '2019-09-16 00': ['1.000E-002', '3.000E-001'], '2019-09-17 00': ['1.000E-002', '3.000E-001'], '2019-09-18 00': ['1.000E-002', '3.000E-001'], '2019-09-19 00': ['1.000E-002', '3.000E-001'], '2019-09-20 00': ['1.000E-002', '3.000E-001'], '2019-09-21 00': ['1.000E-002', '3.000E-001'], '2019-09-22 00': ['1.000E-002', '2.900E-001'], '2019-09-23 00': ['1.000E-002', '2.900E-001'], '2019-09-24 00': ['1.000E-002', '2.900E-001'], '2019-09-25 00': ['1.000E-002', '2.900E-001'], '2019-09-26 00': ['1.000E-002', '2.900E-001'], '2019-09-27 00': ['1.000E-002', '2.900E-001'], '2019-09-28 00': ['1.000E-002', '2.800E-001'], '2019-09-29 00': ['1.000E-002', '2.800E-001'], '2019-09-30 00': ['1.000E-002', '2.800E-001'], '2019-10-01 00': ['1.000E-002', '2.800E-001'], '2019-10-02 00': ['1.000E-002', '2.800E-001'], '2019-10-03 00': ['1.000E-002', '2.800E-001'], '2019-10-04 00': ['1.000E-002', '2.800E-001'], '2019-10-05 00': ['1.000E-002', '2.700E-001'], '2019-10-06 00': ['1.000E-002', '2.700E-001'], '2019-10-07 00': ['1.000E-002', '2.700E-001'], '2019-10-08 00': ['1.000E-002', '2.700E-001'], '2019-10-09 00': ['1.000E-002', '2.700E-001'], '2019-10-10 00': ['1.000E-002', '2.700E-001'], '2019-10-11 00': ['1.000E-002', '2.625E-001'], '2019-10-12 00': ['1.000E-002', '2.600E-001'], '2019-10-13 00': ['1.000E-002', '2.600E-001'], '2019-10-14 00': ['1.000E-002', '2.600E-001'], '2019-10-15 00': ['1.000E-002', '2.600E-001'], '2019-10-16 00': ['1.000E-002', '2.600E-001'], '2019-10-17 00': ['1.000E-002', '2.600E-001'], '2019-10-18 00': ['1.000E-002', '2.600E-001'], '2019-10-19 00': ['1.000E-002', '2.500E-001'], '2019-10-20 00': ['1.000E-002', '2.500E-001'], '2019-10-21 00': ['1.000E-002', '2.500E-001'], '2019-10-22 00': ['1.000E-002', '2.500E-001'], '2019-10-23 00': ['1.000E-002', '2.500E-001'], '2019-10-24 00': ['1.000E-002', '2.500E-001'], '2019-10-25 00': ['1.000E-002', '2.500E-001'], '2019-10-26 00': ['1.000E-002', '2.500E-001'], '2019-10-27 00': ['1.000E-002', '2.403E-001'], '2019-10-28 00': ['1.000E-002', '2.400E-001'], '2019-10-29 00': ['1.000E-002', '2.400E-001'], '2019-10-30 00': ['1.000E-002', '2.400E-001'], '2019-10-31 00': ['1.000E-002', '2.300E-001'], '2019-11-01 00': ['1.000E-002', '2.203E-001'], '2019-11-02 00': ['1.000E-002', '2.200E-001'], '2019-11-03 00': ['1.000E-002', '2.200E-001'], '2019-11-04 00': ['1.000E-002', '2.200E-001'], '2019-11-05 00': ['1.000E-002', '2.200E-001'], '2019-11-06 00': ['1.000E-002', '2.200E-001'], '2019-11-07 00': ['1.000E-002', '2.200E-001'], '2019-11-08 00': ['1.000E-002', '2.200E-001'], '2019-11-09 00': ['1.000E-002', '2.200E-001'], '2019-11-10 00': ['1.000E-002', '2.200E-001'], '2019-11-11 00': ['1.000E-002', '2.200E-001'], '2019-11-12 00': ['1.000E-002', '2.100E-001'], '2019-11-13 00': ['1.000E-002', '2.100E-001'], '2019-11-14 00': ['1.000E-002', '2.100E-001'], '2019-11-15 00': ['1.000E-002', '2.100E-001'], '2019-11-16 00': ['1.000E-002', '2.100E-001'], '2019-11-17 00': ['1.000E-002', '2.100E-001'], '2019-11-18 00': ['1.000E-002', '2.100E-001'], '2019-11-19 00': ['1.000E-002', '2.100E-001'], '2019-11-20 00': ['1.000E-002', '2.100E-001'], '2019-11-21 00': ['1.000E-002', '2.100E-001'], '2019-11-22 00': ['1.000E-002', '2.100E-001'], '2019-11-23 00': ['1.000E-002', '2.100E-001'], '2019-11-24 00': ['1.000E-002', '2.100E-001'], '2019-11-25 00': ['1.000E-002', '2.100E-001'], '2019-11-26 00': ['1.000E-002', '2.100E-001'], '2019-11-27 00': ['1.000E-002', '2.100E-001'], '2019-11-28 00': ['1.000E-002', '2.100E-001'], '2019-11-29 00': ['1.000E-002', '2.100E-001'], '2019-11-30 00': ['1.000E-002', '2.100E-001'], '2019-12-01 00': ['1.000E-002', '2.100E-001'], '2019-12-02 00': ['1.000E-002', '2.100E-001'], '2019-12-03 00': ['1.000E-002', '2.100E-001'], '2019-12-04 00': ['1.000E-002', '2.100E-001'], '2019-12-05 00': ['1.000E-002', '2.100E-001'], '2019-12-06 00': ['1.000E-002', '2.100E-001'], '2019-12-07 00': ['1.000E-002', '2.100E-001'], '2019-12-08 00': ['1.000E-002', '2.000E-001'], '2019-12-09 00': ['1.000E-002', '2.000E-001'], '2019-12-10 00': ['1.000E-002', '2.000E-001'], '2019-12-11 00': ['1.000E-002', '2.100E-001'], '2019-12-12 00': ['1.000E-002', '2.100E-001'], '2019-12-13 00': ['1.000E-002', '2.100E-001'], '2019-12-14 00': ['1.000E-002', '2.100E-001'], '2019-12-15 00': ['1.000E-002', '2.100E-001'], '2019-12-16 00': ['1.000E-002', '2.100E-001'], '2019-12-17 00': ['1.000E-002', '2.100E-001'], '2019-12-18 00': ['1.000E-002', '2.100E-001'], '2019-12-19 00': ['1.000E-002', '2.100E-001'], '2019-12-20 00': ['1.000E-002', '2.100E-001'], '2019-12-21 00': ['1.000E-002', '2.100E-001'], '2019-12-22 00': ['1.000E-002', '2.100E-001'], '2019-12-23 00': ['1.000E-002', '2.198E-001'], '2019-12-24 00': ['1.000E-002', '2.200E-001'], '2019-12-25 00': ['1.000E-002', '2.200E-001'], '2019-12-26 00': ['1.000E-002', '2.200E-001'], '2019-12-27 00': ['1.000E-002', '2.200E-001'], '2019-12-28 00': ['1.000E-002', '2.300E-001'], '2019-12-29 00': ['1.000E-002', '2.350E-001'], '2019-12-30 00': ['1.000E-002', '2.494E-001'], '2019-12-31 00': ['1.000E-002', '2.500E-001'], '2020-01-01 00': ['1.000E-002', '2.500E-001']}}\n"
     ]
    }
   ],
   "source": [
    "print(response.json())\n",
    "output2 = response.json()"
   ]
  },
  {
   "cell_type": "code",
   "execution_count": 401,
   "id": "ecc0ed40",
   "metadata": {},
   "outputs": [
    {
     "data": {
      "text/plain": [
       "dict_keys(['dataset', 'dataSource', 'metadata', 'data'])"
      ]
     },
     "execution_count": 401,
     "metadata": {},
     "output_type": "execute_result"
    }
   ],
   "source": [
    "output2.keys()"
   ]
  },
  {
   "cell_type": "code",
   "execution_count": 402,
   "id": "42445c6d",
   "metadata": {},
   "outputs": [
    {
     "data": {
      "text/plain": [
       "'nwm'"
      ]
     },
     "execution_count": 402,
     "metadata": {},
     "output_type": "execute_result"
    }
   ],
   "source": [
    "output2['dataSource']"
   ]
  },
  {
   "cell_type": "code",
   "execution_count": 403,
   "id": "a90c80e2",
   "metadata": {},
   "outputs": [
    {
     "data": {
      "text/plain": [
       "{'retrieval_timestamp': '2022-08-01T21:13:48.530068',\n",
       " 'source_url': 's3://noaa-nwm-retro-v2-zarr-pds',\n",
       " 'variables': 'streamflow, velocity',\n",
       " 'TITLE': 'OUTPUT FROM WRF-Hydro v5.2.0-beta2',\n",
       " 'code_version': 'v5.2.0-beta2',\n",
       " 'featureType': 'timeSeries',\n",
       " 'model_configuration': 'retrospective',\n",
       " 'proj4': '+proj=lcc +units=m +a=6370000.0 +b=6370000.0 +lat_1=30.0 +lat_2=60.0 +lat_0=40.0 +lon_0=-97.0 +x_0=0 +y_0=0 +k_0=1.0 +nadgrids=@',\n",
       " 'column_1_units': 'm3 s-1',\n",
       " 'column_2_units': 'm s-1',\n",
       " 'column_1': 'streamflow-190641',\n",
       " 'column_2': 'velocity-190641',\n",
       " 'temporal_timestep': 'daily',\n",
       " 'nwm_timeZone': '',\n",
       " 'nwm_tz_offset': '0',\n",
       " 'request_url': '/api/hydrology/streamflow',\n",
       " 'retrievalTime': '26200 ms'}"
      ]
     },
     "execution_count": 403,
     "metadata": {},
     "output_type": "execute_result"
    }
   ],
   "source": [
    "output2['metadata']"
   ]
  },
  {
   "cell_type": "code",
   "execution_count": 420,
   "id": "6d7bf4da",
   "metadata": {},
   "outputs": [
    {
     "data": {
      "text/plain": [
       "dict"
      ]
     },
     "execution_count": 420,
     "metadata": {},
     "output_type": "execute_result"
    }
   ],
   "source": [
    "type(output2['data'])"
   ]
  },
  {
   "cell_type": "code",
   "execution_count": 425,
   "id": "6743ff33",
   "metadata": {},
   "outputs": [],
   "source": [
    "nwm_out = output2['data']\n"
   ]
  },
  {
   "cell_type": "code",
   "execution_count": 428,
   "id": "bbd58f47",
   "metadata": {},
   "outputs": [
    {
     "data": {
      "text/html": [
       "<div>\n",
       "<style scoped>\n",
       "    .dataframe tbody tr th:only-of-type {\n",
       "        vertical-align: middle;\n",
       "    }\n",
       "\n",
       "    .dataframe tbody tr th {\n",
       "        vertical-align: top;\n",
       "    }\n",
       "\n",
       "    .dataframe thead th {\n",
       "        text-align: right;\n",
       "    }\n",
       "</style>\n",
       "<table border=\"1\" class=\"dataframe\">\n",
       "  <thead>\n",
       "    <tr style=\"text-align: right;\">\n",
       "      <th></th>\n",
       "      <th>Strflw</th>\n",
       "      <th>Strvel</th>\n",
       "    </tr>\n",
       "  </thead>\n",
       "  <tbody>\n",
       "    <tr>\n",
       "      <th>2019-01-01 00</th>\n",
       "      <td>0.000E+000</td>\n",
       "      <td>1.800E-001</td>\n",
       "    </tr>\n",
       "    <tr>\n",
       "      <th>2019-01-02 00</th>\n",
       "      <td>0.000E+000</td>\n",
       "      <td>1.800E-001</td>\n",
       "    </tr>\n",
       "    <tr>\n",
       "      <th>2019-01-03 00</th>\n",
       "      <td>0.000E+000</td>\n",
       "      <td>1.800E-001</td>\n",
       "    </tr>\n",
       "    <tr>\n",
       "      <th>2019-01-04 00</th>\n",
       "      <td>0.000E+000</td>\n",
       "      <td>1.800E-001</td>\n",
       "    </tr>\n",
       "    <tr>\n",
       "      <th>2019-01-05 00</th>\n",
       "      <td>0.000E+000</td>\n",
       "      <td>1.800E-001</td>\n",
       "    </tr>\n",
       "    <tr>\n",
       "      <th>...</th>\n",
       "      <td>...</td>\n",
       "      <td>...</td>\n",
       "    </tr>\n",
       "    <tr>\n",
       "      <th>2019-12-28 00</th>\n",
       "      <td>1.000E-002</td>\n",
       "      <td>2.300E-001</td>\n",
       "    </tr>\n",
       "    <tr>\n",
       "      <th>2019-12-29 00</th>\n",
       "      <td>1.000E-002</td>\n",
       "      <td>2.350E-001</td>\n",
       "    </tr>\n",
       "    <tr>\n",
       "      <th>2019-12-30 00</th>\n",
       "      <td>1.000E-002</td>\n",
       "      <td>2.494E-001</td>\n",
       "    </tr>\n",
       "    <tr>\n",
       "      <th>2019-12-31 00</th>\n",
       "      <td>1.000E-002</td>\n",
       "      <td>2.500E-001</td>\n",
       "    </tr>\n",
       "    <tr>\n",
       "      <th>2020-01-01 00</th>\n",
       "      <td>1.000E-002</td>\n",
       "      <td>2.500E-001</td>\n",
       "    </tr>\n",
       "  </tbody>\n",
       "</table>\n",
       "<p>366 rows × 2 columns</p>\n",
       "</div>"
      ],
      "text/plain": [
       "                   Strflw      Strvel\n",
       "2019-01-01 00  0.000E+000  1.800E-001\n",
       "2019-01-02 00  0.000E+000  1.800E-001\n",
       "2019-01-03 00  0.000E+000  1.800E-001\n",
       "2019-01-04 00  0.000E+000  1.800E-001\n",
       "2019-01-05 00  0.000E+000  1.800E-001\n",
       "...                   ...         ...\n",
       "2019-12-28 00  1.000E-002  2.300E-001\n",
       "2019-12-29 00  1.000E-002  2.350E-001\n",
       "2019-12-30 00  1.000E-002  2.494E-001\n",
       "2019-12-31 00  1.000E-002  2.500E-001\n",
       "2020-01-01 00  1.000E-002  2.500E-001\n",
       "\n",
       "[366 rows x 2 columns]"
      ]
     },
     "execution_count": 428,
     "metadata": {},
     "output_type": "execute_result"
    }
   ],
   "source": [
    "df_nwm_out = pd.DataFrame.from_dict(nwm_out, orient='index',columns=['Strflw', 'Strvel'] )\n",
    "df_nwm_out # Now we can use dt for unique time series analysis and convert over to the mm/day from streamflow"
   ]
  },
  {
   "cell_type": "code",
   "execution_count": 429,
   "id": "0c5eef88",
   "metadata": {},
   "outputs": [
    {
     "data": {
      "text/html": [
       "<div>\n",
       "<style scoped>\n",
       "    .dataframe tbody tr th:only-of-type {\n",
       "        vertical-align: middle;\n",
       "    }\n",
       "\n",
       "    .dataframe tbody tr th {\n",
       "        vertical-align: top;\n",
       "    }\n",
       "\n",
       "    .dataframe thead th {\n",
       "        text-align: right;\n",
       "    }\n",
       "</style>\n",
       "<table border=\"1\" class=\"dataframe\">\n",
       "  <thead>\n",
       "    <tr style=\"text-align: right;\">\n",
       "      <th></th>\n",
       "      <th>Strflw</th>\n",
       "      <th>Strvel</th>\n",
       "    </tr>\n",
       "  </thead>\n",
       "  <tbody>\n",
       "    <tr>\n",
       "      <th>count</th>\n",
       "      <td>366</td>\n",
       "      <td>366</td>\n",
       "    </tr>\n",
       "    <tr>\n",
       "      <th>unique</th>\n",
       "      <td>8</td>\n",
       "      <td>45</td>\n",
       "    </tr>\n",
       "    <tr>\n",
       "      <th>top</th>\n",
       "      <td>1.000E-002</td>\n",
       "      <td>4.200E-001</td>\n",
       "    </tr>\n",
       "    <tr>\n",
       "      <th>freq</th>\n",
       "      <td>153</td>\n",
       "      <td>47</td>\n",
       "    </tr>\n",
       "  </tbody>\n",
       "</table>\n",
       "</div>"
      ],
      "text/plain": [
       "            Strflw      Strvel\n",
       "count          366         366\n",
       "unique           8          45\n",
       "top     1.000E-002  4.200E-001\n",
       "freq           153          47"
      ]
     },
     "execution_count": 429,
     "metadata": {},
     "output_type": "execute_result"
    }
   ],
   "source": [
    "df_nwm_out.describe()"
   ]
  },
  {
   "cell_type": "code",
   "execution_count": 424,
   "id": "5b60c3c2",
   "metadata": {},
   "outputs": [
    {
     "ename": "SyntaxError",
     "evalue": "can't use starred expression here (Temp/ipykernel_3528/3825076970.py, line 1)",
     "output_type": "error",
     "traceback": [
      "\u001b[1;36m  File \u001b[1;32m\"C:\\Users\\kvenable\\AppData\\Local\\Temp/ipykernel_3528/3825076970.py\"\u001b[1;36m, line \u001b[1;32m1\u001b[0m\n\u001b[1;33m    (*output2['data'])\u001b[0m\n\u001b[1;37m     ^\u001b[0m\n\u001b[1;31mSyntaxError\u001b[0m\u001b[1;31m:\u001b[0m can't use starred expression here\n"
     ]
    }
   ],
   "source": [
    "(*output2['data'])"
   ]
  },
  {
   "cell_type": "code",
   "execution_count": 416,
   "id": "27d29c25",
   "metadata": {},
   "outputs": [
    {
     "data": {
      "text/html": [
       "<div>\n",
       "<style scoped>\n",
       "    .dataframe tbody tr th:only-of-type {\n",
       "        vertical-align: middle;\n",
       "    }\n",
       "\n",
       "    .dataframe tbody tr th {\n",
       "        vertical-align: top;\n",
       "    }\n",
       "\n",
       "    .dataframe thead th {\n",
       "        text-align: right;\n",
       "    }\n",
       "</style>\n",
       "<table border=\"1\" class=\"dataframe\">\n",
       "  <thead>\n",
       "    <tr style=\"text-align: right;\">\n",
       "      <th></th>\n",
       "      <th>Strflw</th>\n",
       "      <th>Strvel</th>\n",
       "    </tr>\n",
       "  </thead>\n",
       "  <tbody>\n",
       "    <tr>\n",
       "      <th>0</th>\n",
       "      <td>2019-01-01 00</td>\n",
       "      <td>[0.000E+000, 1.800E-001]</td>\n",
       "    </tr>\n",
       "    <tr>\n",
       "      <th>1</th>\n",
       "      <td>2019-01-02 00</td>\n",
       "      <td>[0.000E+000, 1.800E-001]</td>\n",
       "    </tr>\n",
       "    <tr>\n",
       "      <th>2</th>\n",
       "      <td>2019-01-03 00</td>\n",
       "      <td>[0.000E+000, 1.800E-001]</td>\n",
       "    </tr>\n",
       "    <tr>\n",
       "      <th>3</th>\n",
       "      <td>2019-01-04 00</td>\n",
       "      <td>[0.000E+000, 1.800E-001]</td>\n",
       "    </tr>\n",
       "    <tr>\n",
       "      <th>4</th>\n",
       "      <td>2019-01-05 00</td>\n",
       "      <td>[0.000E+000, 1.800E-001]</td>\n",
       "    </tr>\n",
       "    <tr>\n",
       "      <th>...</th>\n",
       "      <td>...</td>\n",
       "      <td>...</td>\n",
       "    </tr>\n",
       "    <tr>\n",
       "      <th>361</th>\n",
       "      <td>2019-12-28 00</td>\n",
       "      <td>[1.000E-002, 2.300E-001]</td>\n",
       "    </tr>\n",
       "    <tr>\n",
       "      <th>362</th>\n",
       "      <td>2019-12-29 00</td>\n",
       "      <td>[1.000E-002, 2.350E-001]</td>\n",
       "    </tr>\n",
       "    <tr>\n",
       "      <th>363</th>\n",
       "      <td>2019-12-30 00</td>\n",
       "      <td>[1.000E-002, 2.494E-001]</td>\n",
       "    </tr>\n",
       "    <tr>\n",
       "      <th>364</th>\n",
       "      <td>2019-12-31 00</td>\n",
       "      <td>[1.000E-002, 2.500E-001]</td>\n",
       "    </tr>\n",
       "    <tr>\n",
       "      <th>365</th>\n",
       "      <td>2020-01-01 00</td>\n",
       "      <td>[1.000E-002, 2.500E-001]</td>\n",
       "    </tr>\n",
       "  </tbody>\n",
       "</table>\n",
       "<p>366 rows × 2 columns</p>\n",
       "</div>"
      ],
      "text/plain": [
       "            Strflw                    Strvel\n",
       "0    2019-01-01 00  [0.000E+000, 1.800E-001]\n",
       "1    2019-01-02 00  [0.000E+000, 1.800E-001]\n",
       "2    2019-01-03 00  [0.000E+000, 1.800E-001]\n",
       "3    2019-01-04 00  [0.000E+000, 1.800E-001]\n",
       "4    2019-01-05 00  [0.000E+000, 1.800E-001]\n",
       "..             ...                       ...\n",
       "361  2019-12-28 00  [1.000E-002, 2.300E-001]\n",
       "362  2019-12-29 00  [1.000E-002, 2.350E-001]\n",
       "363  2019-12-30 00  [1.000E-002, 2.494E-001]\n",
       "364  2019-12-31 00  [1.000E-002, 2.500E-001]\n",
       "365  2020-01-01 00  [1.000E-002, 2.500E-001]\n",
       "\n",
       "[366 rows x 2 columns]"
      ]
     },
     "execution_count": 416,
     "metadata": {},
     "output_type": "execute_result"
    }
   ],
   "source": [
    "df_test_2 = pd.DataFrame(output2['data'].items(), columns=['Strflw', 'Strvel'])\n",
    "df_test_2"
   ]
  },
  {
   "cell_type": "code",
   "execution_count": 346,
   "id": "db8b2cea",
   "metadata": {},
   "outputs": [],
   "source": [
    "import requests\n",
    "\n",
    "headers = {\n",
    "    'accept': '*/*',\n",
    "    'Content-Type': 'application/json-patch+json',\n",
    "}\n",
    "\n",
    "data = '{\\n  \"source\": \"nwm\",\\n  \"dateTimeSpan\": {\\n    \"startDate\": \"01/01/2015 00:00:00\",\\n    \"endDate\": \"12/31/2015 00:00:00\",\\n    \"dateTimeFormat\": \"yyyy-MM-dd HH\"\\n  },\\n  \"geometry\": {\\n    \"description\": null,\\n    \"comID\": 190641,\\n    \"hucID\": null,\\n    \"stationID\": null,\\n    \"point\": null,\\n    \"geometryMetadata\": {\\n      \"gaugestation\": null\\n    },\\n    \"timezone\": null\\n  },\\n  \"dataValueFormat\": \"E3\",\\n  \"temporalResolution\": \"daily\",\\n  \"timeLocalized\": false,\\n  \"units\": \"metric\",\\n  \"outputFormat\": \"json\",\\n  \"baseURL\": null,\\n  \"inputTimeSeries\": null\\n}'\n",
    "\n",
    "response = requests.post('https://ceamdev.ceeopdev.net/hms/rest/api/hydrology/streamflow', headers=headers, data=data)"
   ]
  },
  {
   "cell_type": "code",
   "execution_count": 347,
   "id": "88a8cca2",
   "metadata": {},
   "outputs": [
    {
     "ename": "SyntaxError",
     "evalue": "cannot assign to literal (Temp/ipykernel_3528/347364202.py, line 2)",
     "output_type": "error",
     "traceback": [
      "\u001b[1;36m  File \u001b[1;32m\"C:\\Users\\kvenable\\AppData\\Local\\Temp/ipykernel_3528/347364202.py\"\u001b[1;36m, line \u001b[1;32m2\u001b[0m\n\u001b[1;33m    year_1 = 1992, year_last = 2000\u001b[0m\n\u001b[1;37m             ^\u001b[0m\n\u001b[1;31mSyntaxError\u001b[0m\u001b[1;31m:\u001b[0m cannot assign to literal\n"
     ]
    }
   ],
   "source": [
    "import numpy as np\n",
    "year_1 = 1992, year_last = 2000\n",
    "years = (year_last-year_1) + 1\n",
    "np_year = np.linspace(year_1, year_last, num=years)\n",
    "int(np_year[0])"
   ]
  },
  {
   "cell_type": "code",
   "execution_count": null,
   "id": "ed471005",
   "metadata": {},
   "outputs": [],
   "source": [
    "year_parse = pd.date_range(start=start_date, end=end_date, freq='D')\n",
    "year_parse"
   ]
  },
  {
   "cell_type": "code",
   "execution_count": null,
   "id": "0784fb51",
   "metadata": {},
   "outputs": [],
   "source": [
    "year_parse.min(), year_parse.max()"
   ]
  },
  {
   "cell_type": "code",
   "execution_count": null,
   "id": "0504dd29",
   "metadata": {},
   "outputs": [],
   "source": [
    "str(end_datetime_series[0]) #add 1 for loop need start date"
   ]
  },
  {
   "cell_type": "code",
   "execution_count": 284,
   "id": "46d7f346",
   "metadata": {},
   "outputs": [
    {
     "ename": "AttributeError",
     "evalue": "module 'datetime' has no attribute 'replace'",
     "output_type": "error",
     "traceback": [
      "\u001b[1;31m---------------------------------------------------------------------------\u001b[0m",
      "\u001b[1;31mAttributeError\u001b[0m                            Traceback (most recent call last)",
      "\u001b[1;32m~\\AppData\\Local\\Temp/ipykernel_3528/2235783133.py\u001b[0m in \u001b[0;36m<module>\u001b[1;34m\u001b[0m\n\u001b[1;32m----> 1\u001b[1;33m \u001b[0mdt\u001b[0m\u001b[1;33m.\u001b[0m\u001b[0mreplace\u001b[0m\u001b[1;33m(\u001b[0m\u001b[0mend_datetime_series\u001b[0m\u001b[1;33m[\u001b[0m\u001b[1;36m0\u001b[0m\u001b[1;33m]\u001b[0m\u001b[1;33m,\u001b[0m \u001b[0myear\u001b[0m\u001b[1;33m=\u001b[0m\u001b[0myear\u001b[0m \u001b[1;33m+\u001b[0m \u001b[1;36m1\u001b[0m\u001b[1;33m)\u001b[0m\u001b[1;33m\u001b[0m\u001b[1;33m\u001b[0m\u001b[0m\n\u001b[0m",
      "\u001b[1;31mAttributeError\u001b[0m: module 'datetime' has no attribute 'replace'"
     ]
    }
   ],
   "source": [
    "dt.replace(end_datetime_series[0], year=year + 1)"
   ]
  },
  {
   "cell_type": "code",
   "execution_count": 285,
   "id": "87cdc68c",
   "metadata": {},
   "outputs": [
    {
     "ename": "SyntaxError",
     "evalue": "EOL while scanning string literal (Temp/ipykernel_3528/2713330559.py, line 8)",
     "output_type": "error",
     "traceback": [
      "\u001b[1;36m  File \u001b[1;32m\"C:\\Users\\kvenable\\AppData\\Local\\Temp/ipykernel_3528/2713330559.py\"\u001b[1;36m, line \u001b[1;32m8\u001b[0m\n\u001b[1;33m    data = ' {{\u001b[0m\n\u001b[1;37m               ^\u001b[0m\n\u001b[1;31mSyntaxError\u001b[0m\u001b[1;31m:\u001b[0m EOL while scanning string literal\n"
     ]
    }
   ],
   "source": [
    "import requests\n",
    "\n",
    "headers = {\n",
    "    'accept': '*/*',\n",
    "    'Content-Type': 'application/json-patch+json',\n",
    "}\n",
    "\n",
    "data = ' {{\n",
    "  \"source\": \"nwm\",\n",
    "  \"dateTimeSpan\": {\n",
    "    \"startDate\": \"01/01/2015 00:00:00\",\n",
    "    \"endDate\": \"12/31/2015 00:00:00\",\n",
    "    \"dateTimeFormat\": \"yyyy-MM-dd HH\"\n",
    "  },\n",
    "  \"geometry\": {\n",
    "    \"description\": null,\n",
    "    \"comID\": 12698840,\n",
    "    \"hucID\": null,\n",
    "    \"stationID\": null,\n",
    "    \"point\": null,\n",
    "    \"geometryMetadata\": {\n",
    "      \"gaugestation\": null\n",
    "    },\n",
    "    \"timezone\": null\n",
    "  },\n",
    "  \"dataValueFormat\": \"E3\",\n",
    "  \"temporalResolution\": \"hourly\",\n",
    "  \"timeLocalized\": false,\n",
    "  \"units\": \"metric\",\n",
    "  \"outputFormat\": \"json\",\n",
    "  \"baseURL\": null,\n",
    "  \"inputTimeSeries\": null\n",
    " }'\n",
    "\n",
    "response = requests.post('https://qed.epa.gov/hms/rest/api/hydrology/streamflow', headers=headers, data=data)"
   ]
  },
  {
   "cell_type": "code",
   "execution_count": 186,
   "id": "7eeb88bf",
   "metadata": {},
   "outputs": [],
   "source": [
    "import requests\n",
    "\n",
    "headers = {\n",
    "    'accept': '*/*',\n",
    "    'Content-Type': 'application/json-patch+json',\n",
    "}\n",
    "\n",
    "data = '{\\n  \"source\": \"nwm\",\\n  \"dateTimeSpan\": {\\n    \"startDate\": \"01/01/2015 00:00:00\",\\n    \"endDate\": \"12/31/2015 00:00:00\",\\n    \"dateTimeFormat\": \"yyyy-MM-dd HH\"\\n  },\\n  \"geometry\": {\\n    \"description\": null,\\n    \"comID\": 190641,\\n    \"hucID\": null,\\n    \"stationID\": null,\\n    \"point\": null,\\n    \"geometryMetadata\": {\\n      \"gaugestation\": null\\n    },\\n    \"timezone\": null\\n  },\\n  \"dataValueFormat\": \"E3\",\\n  \"temporalResolution\": \"daily\",\\n  \"timeLocalized\": false,\\n  \"units\": \"metric\",\\n  \"outputFormat\": \"json\",\\n  \"baseURL\": null,\\n  \"inputTimeSeries\": null\\n}'\n",
    "\n",
    "response = requests.post('https://ceamdev.ceeopdev.net/hms/rest/api/hydrology/streamflow', headers=headers, data=data)"
   ]
  },
  {
   "cell_type": "code",
   "execution_count": 198,
   "id": "5883f2b7",
   "metadata": {},
   "outputs": [
    {
     "ename": "NameError",
     "evalue": "name 'null' is not defined",
     "output_type": "error",
     "traceback": [
      "\u001b[1;31m---------------------------------------------------------------------------\u001b[0m",
      "\u001b[1;31mNameError\u001b[0m                                 Traceback (most recent call last)",
      "\u001b[1;32m~\\AppData\\Local\\Temp/ipykernel_3528/848676107.py\u001b[0m in \u001b[0;36m<module>\u001b[1;34m\u001b[0m\n\u001b[0;32m      7\u001b[0m   },\n\u001b[0;32m      8\u001b[0m   \"geometry\": {\n\u001b[1;32m----> 9\u001b[1;33m     \u001b[1;34m\"description\"\u001b[0m\u001b[1;33m:\u001b[0m \u001b[0mnull\u001b[0m\u001b[1;33m,\u001b[0m\u001b[1;33m\u001b[0m\u001b[1;33m\u001b[0m\u001b[0m\n\u001b[0m\u001b[0;32m     10\u001b[0m     \u001b[1;34m\"comID\"\u001b[0m\u001b[1;33m:\u001b[0m \u001b[1;36m12698840\u001b[0m\u001b[1;33m,\u001b[0m\u001b[1;33m\u001b[0m\u001b[1;33m\u001b[0m\u001b[0m\n\u001b[0;32m     11\u001b[0m     \u001b[1;34m\"hucID\"\u001b[0m\u001b[1;33m:\u001b[0m \u001b[0mnull\u001b[0m\u001b[1;33m,\u001b[0m\u001b[1;33m\u001b[0m\u001b[1;33m\u001b[0m\u001b[0m\n",
      "\u001b[1;31mNameError\u001b[0m: name 'null' is not defined"
     ]
    }
   ],
   "source": [
    "api_request.HMS.__init__(requestdic={\n",
    "  \"source\": \"nwm\",\n",
    "  \"dateTimeSpan\": {\n",
    "    \"startDate\": \"01/01/2019 00:00:00\",\n",
    "    \"endDate\": \"12/31/2019 00:00:00\",\n",
    "    \"dateTimeFormat\": \"yyyy-MM-dd HH\"\n",
    "  },\n",
    "  \"geometry\": {\n",
    "    \"description\": null,\n",
    "    \"comID\": 12698840,\n",
    "    \"hucID\": null,\n",
    "    \"stationID\": null,\n",
    "    \"point\": null,\n",
    "    \"geometryMetadata\": {\n",
    "      \"gaugestation\": null\n",
    "    },\n",
    "    \"timezone\": null\n",
    "  },\n",
    "  \"dataValueFormat\": \"E3\",\n",
    "  \"temporalResolution\": \"hourly\",\n",
    "  \"timeLocalized\": false,\n",
    "  \"units\": \"metric\",\n",
    "  \"outputFormat\": \"json\",\n",
    "  \"baseURL\": null,\n",
    "  \"inputTimeSeries\": null\n",
    " })"
   ]
  },
  {
   "cell_type": "code",
   "execution_count": 194,
   "id": "e638bc68",
   "metadata": {},
   "outputs": [
    {
     "data": {
      "text/plain": [
       "['{\\n  \"source\": \"nwm\",\\n  \"dateTimeSpan\": {\\n    \"startDate\": \"01/01/2015 00:00:00\",\\n    \"endDate\": \"12/31/2015 00:00:00\",\\n    \"dateTimeFormat\": \"yyyy-MM-dd HH\"\\n  },\\n  \"geometry\": {\\n    \"description\": null,\\n    \"comID\": 190641,\\n    \"hucID\": null,\\n    \"stationID\": null,\\n    \"point\": null,\\n    \"geometryMetadata\": {\\n      \"gaugestation\": null\\n    },\\n    \"timezone\": null\\n  },\\n  \"dataValueFormat\": \"E3\",\\n  \"temporalResolution\": \"daily\",\\n  \"timeLocalized\": false,\\n  \"units\": \"metric\",\\n  \"outputFormat\": \"json\",\\n  \"baseURL\": null,\\n  \"inputTimeSeries\": null\\n}']"
      ]
     },
     "execution_count": 194,
     "metadata": {},
     "output_type": "execute_result"
    }
   ],
   "source": [
    "data_list =  [data]\n",
    "data_list"
   ]
  },
  {
   "cell_type": "code",
   "execution_count": 195,
   "id": "f3e5eb41",
   "metadata": {},
   "outputs": [
    {
     "data": {
      "text/plain": [
       "list"
      ]
     },
     "execution_count": 195,
     "metadata": {},
     "output_type": "execute_result"
    }
   ],
   "source": [
    "type(data_list)"
   ]
  },
  {
   "cell_type": "code",
   "execution_count": 196,
   "id": "ca3c36bf",
   "metadata": {},
   "outputs": [
    {
     "data": {
      "text/plain": [
       "['{\\n  \"source\": \"nwm\",\\n  \"dateTimeSpan\": {\\n    \"startDate\": \"01/01/2015 00:00:00\",\\n    \"endDate\": \"12/31/2015 00:00:00\",\\n    \"dateTimeFormat\": \"yyyy-MM-dd HH\"\\n  },\\n  \"geometry\": {\\n    \"description\": null,\\n    \"comID\": 190641,\\n    \"hucID\": null,\\n    \"stationID\": null,\\n    \"point\": null,\\n    \"geometryMetadata\": {\\n      \"gaugestation\": null\\n    },\\n    \"timezone\": null\\n  },\\n  \"dataValueFormat\": \"E3\",\\n  \"temporalResolution\": \"daily\",\\n  \"timeLocalized\": false,\\n  \"units\": \"metric\",\\n  \"outputFormat\": \"json\",\\n  \"baseURL\": null,\\n  \"inputTimeSeries\": null\\n}']"
      ]
     },
     "execution_count": 196,
     "metadata": {},
     "output_type": "execute_result"
    }
   ],
   "source": [
    "data_list[0:1]"
   ]
  },
  {
   "cell_type": "code",
   "execution_count": 197,
   "id": "ee971695",
   "metadata": {},
   "outputs": [],
   "source": [
    "data_dic={} #Look at layout, why the dictionary wont develop may need to place on one line) "
   ]
  },
  {
   "cell_type": "code",
   "execution_count": 136,
   "id": "2cb8590a",
   "metadata": {},
   "outputs": [
    {
     "ename": "TypeError",
     "evalue": "unhashable type: 'list'",
     "output_type": "error",
     "traceback": [
      "\u001b[1;31m---------------------------------------------------------------------------\u001b[0m",
      "\u001b[1;31mTypeError\u001b[0m                                 Traceback (most recent call last)",
      "\u001b[1;32m~\\AppData\\Local\\Temp/ipykernel_3528/1779726305.py\u001b[0m in \u001b[0;36m<module>\u001b[1;34m\u001b[0m\n\u001b[1;32m----> 1\u001b[1;33m \u001b[0mdata_dic\u001b[0m\u001b[1;33m=\u001b[0m\u001b[1;33m{\u001b[0m\u001b[0mdata_list\u001b[0m\u001b[1;33m}\u001b[0m\u001b[1;33m\u001b[0m\u001b[1;33m\u001b[0m\u001b[0m\n\u001b[0m\u001b[0;32m      2\u001b[0m \u001b[1;33m\u001b[0m\u001b[0m\n",
      "\u001b[1;31mTypeError\u001b[0m: unhashable type: 'list'"
     ]
    }
   ],
   "source": [
    "data_dic={data_list}\n",
    "  "
   ]
  },
  {
   "cell_type": "code",
   "execution_count": 141,
   "id": "198afcc1",
   "metadata": {},
   "outputs": [
    {
     "ename": "SyntaxError",
     "evalue": "unexpected EOF while parsing (Temp/ipykernel_3528/4129469395.py, line 26)",
     "output_type": "error",
     "traceback": [
      "\u001b[1;36m  File \u001b[1;32m\"C:\\Users\\kvenable\\AppData\\Local\\Temp/ipykernel_3528/4129469395.py\"\u001b[1;36m, line \u001b[1;32m26\u001b[0m\n\u001b[1;33m    }\u001b[0m\n\u001b[1;37m     ^\u001b[0m\n\u001b[1;31mSyntaxError\u001b[0m\u001b[1;31m:\u001b[0m unexpected EOF while parsing\n"
     ]
    }
   ],
   "source": [
    "response.json({\n",
    "  \"source\": \"nwm\",\n",
    "  \"dateTimeSpan\": {\n",
    "    \"startDate\": \"01/01/2015 00:00:00\",\n",
    "    \"endDate\": \"12/31/2015 00:00:00\",\n",
    "    \"dateTimeFormat\": \"yyyy-MM-dd HH\"\n",
    "  },\n",
    "  \"geometry\": {\n",
    "    \"description\": null,\n",
    "    \"comID\": 12698840,\n",
    "    \"hucID\": null,\n",
    "    \"stationID\": null,\n",
    "    \"point\": null,\n",
    "    \"geometryMetadata\": {\n",
    "      \"gaugestation\": null\n",
    "    },\n",
    "    \"timezone\": null\n",
    "  },\n",
    "  \"dataValueFormat\": \"E3\",\n",
    "  \"temporalResolution\": \"hourly\",\n",
    "  \"timeLocalized\": false,\n",
    "  \"units\": \"metric\",\n",
    "  \"outputFormat\": \"json\",\n",
    "  \"baseURL\": null,\n",
    "  \"inputTimeSeries\": null\n",
    " }"
   ]
  },
  {
   "cell_type": "code",
   "execution_count": 185,
   "id": "3e24c190",
   "metadata": {},
   "outputs": [
    {
     "name": "stdout",
     "output_type": "stream",
     "text": [
      "{'dataset': 'streamflow', 'dataSource': 'nwm', 'metadata': {'retrieval_timestamp': '2022-07-26T18:44:19.767588', 'source_url': 's3://noaa-nwm-retro-v2-zarr-pds', 'variables': 'streamflow, velocity', 'TITLE': 'OUTPUT FROM WRF-Hydro v5.2.0-beta2', 'code_version': 'v5.2.0-beta2', 'featureType': 'timeSeries', 'model_configuration': 'retrospective', 'proj4': '+proj=lcc +units=m +a=6370000.0 +b=6370000.0 +lat_1=30.0 +lat_2=60.0 +lat_0=40.0 +lon_0=-97.0 +x_0=0 +y_0=0 +k_0=1.0 +nadgrids=@', 'column_1_units': 'm3 s-1', 'column_2_units': 'm s-1', 'column_1': 'streamflow-190641', 'column_2': 'velocity-190641', 'temporal_timestep': 'daily', 'nwm_timeZone': '', 'nwm_tz_offset': '0', 'request_url': '/api/hydrology/streamflow', 'retrievalTime': '1132 ms'}, 'data': {'2015-01-01 00': ['0.000E+000', '1.800E-001'], '2015-01-02 00': ['0.000E+000', '1.800E-001'], '2015-01-03 00': ['0.000E+000', '1.800E-001'], '2015-01-04 00': ['0.000E+000', '1.800E-001'], '2015-01-05 00': ['0.000E+000', '1.800E-001'], '2015-01-06 00': ['0.000E+000', '1.800E-001'], '2015-01-07 00': ['0.000E+000', '1.800E-001'], '2015-01-08 00': ['0.000E+000', '1.800E-001'], '2015-01-09 00': ['0.000E+000', '1.800E-001'], '2015-01-10 00': ['0.000E+000', '1.800E-001'], '2015-01-11 00': ['0.000E+000', '1.800E-001'], '2015-01-12 00': ['0.000E+000', '1.800E-001'], '2015-01-13 00': ['0.000E+000', '1.800E-001'], '2015-01-14 00': ['0.000E+000', '1.800E-001'], '2015-01-15 00': ['0.000E+000', '1.800E-001'], '2015-01-16 00': ['0.000E+000', '1.800E-001'], '2015-01-17 00': ['0.000E+000', '1.800E-001'], '2015-01-18 00': ['0.000E+000', '1.800E-001'], '2015-01-19 00': ['0.000E+000', '1.800E-001'], '2015-01-20 00': ['0.000E+000', '1.800E-001'], '2015-01-21 00': ['0.000E+000', '1.800E-001'], '2015-01-22 00': ['0.000E+000', '1.800E-001'], '2015-01-23 00': ['0.000E+000', '1.800E-001'], '2015-01-24 00': ['0.000E+000', '1.800E-001'], '2015-01-25 00': ['0.000E+000', '1.800E-001'], '2015-01-26 00': ['0.000E+000', '1.800E-001'], '2015-01-27 00': ['0.000E+000', '1.800E-001'], '2015-01-28 00': ['0.000E+000', '1.800E-001'], '2015-01-29 00': ['0.000E+000', '1.800E-001'], '2015-01-30 00': ['0.000E+000', '1.800E-001'], '2015-01-31 00': ['0.000E+000', '1.800E-001'], '2015-02-01 00': ['0.000E+000', '1.800E-001'], '2015-02-02 00': ['0.000E+000', '1.800E-001'], '2015-02-03 00': ['0.000E+000', '1.800E-001'], '2015-02-04 00': ['0.000E+000', '1.800E-001'], '2015-02-05 00': ['0.000E+000', '1.800E-001'], '2015-02-06 00': ['0.000E+000', '1.800E-001'], '2015-02-07 00': ['0.000E+000', '1.800E-001'], '2015-02-08 00': ['0.000E+000', '1.800E-001'], '2015-02-09 00': ['0.000E+000', '1.800E-001'], '2015-02-10 00': ['0.000E+000', '1.800E-001'], '2015-02-11 00': ['0.000E+000', '1.900E-001'], '2015-02-12 00': ['0.000E+000', '1.900E-001'], '2015-02-13 00': ['0.000E+000', '1.900E-001'], '2015-02-14 00': ['0.000E+000', '1.900E-001'], '2015-02-15 00': ['0.000E+000', '1.900E-001'], '2015-02-16 00': ['0.000E+000', '1.900E-001'], '2015-02-17 00': ['0.000E+000', '1.900E-001'], '2015-02-18 00': ['0.000E+000', '1.900E-001'], '2015-02-19 00': ['9.998E-003', '1.900E-001'], '2015-02-20 00': ['1.000E-002', '1.900E-001'], '2015-02-21 00': ['1.000E-002', '1.900E-001'], '2015-02-22 00': ['1.000E-002', '1.900E-001'], '2015-02-23 00': ['1.000E-002', '1.900E-001'], '2015-02-24 00': ['1.000E-002', '1.900E-001'], '2015-02-25 00': ['1.000E-002', '2.000E-001'], '2015-02-26 00': ['1.000E-002', '2.000E-001'], '2015-02-27 00': ['1.000E-002', '2.000E-001'], '2015-02-28 00': ['1.000E-002', '2.000E-001'], '2015-03-01 00': ['1.000E-002', '2.000E-001'], '2015-03-02 00': ['1.000E-002', '2.000E-001'], '2015-03-03 00': ['1.000E-002', '2.000E-001'], '2015-03-04 00': ['1.000E-002', '2.000E-001'], '2015-03-05 00': ['1.000E-002', '2.000E-001'], '2015-03-06 00': ['1.000E-002', '2.100E-001'], '2015-03-07 00': ['1.000E-002', '2.100E-001'], '2015-03-08 00': ['1.000E-002', '2.100E-001'], '2015-03-09 00': ['1.000E-002', '2.100E-001'], '2015-03-10 00': ['1.000E-002', '2.100E-001'], '2015-03-11 00': ['1.000E-002', '2.100E-001'], '2015-03-12 00': ['1.000E-002', '2.100E-001'], '2015-03-13 00': ['1.000E-002', '2.100E-001'], '2015-03-14 00': ['1.000E-002', '2.200E-001'], '2015-03-15 00': ['1.000E-002', '2.200E-001'], '2015-03-16 00': ['1.000E-002', '2.200E-001'], '2015-03-17 00': ['1.000E-002', '2.200E-001'], '2015-03-18 00': ['1.000E-002', '2.200E-001'], '2015-03-19 00': ['1.000E-002', '2.200E-001'], '2015-03-20 00': ['1.000E-002', '2.300E-001'], '2015-03-21 00': ['1.000E-002', '2.397E-001'], '2015-03-22 00': ['1.000E-002', '2.500E-001'], '2015-03-23 00': ['1.000E-002', '2.500E-001'], '2015-03-24 00': ['1.000E-002', '2.500E-001'], '2015-03-25 00': ['1.000E-002', '2.500E-001'], '2015-03-26 00': ['1.000E-002', '2.600E-001'], '2015-03-27 00': ['1.000E-002', '2.600E-001'], '2015-03-28 00': ['1.000E-002', '2.600E-001'], '2015-03-29 00': ['1.000E-002', '2.700E-001'], '2015-03-30 00': ['1.000E-002', '2.700E-001'], '2015-03-31 00': ['1.000E-002', '2.700E-001'], '2015-04-01 00': ['1.000E-002', '2.800E-001'], '2015-04-02 00': ['1.000E-002', '2.800E-001'], '2015-04-03 00': ['1.000E-002', '2.800E-001'], '2015-04-04 00': ['1.000E-002', '2.900E-001'], '2015-04-05 00': ['1.000E-002', '2.900E-001'], '2015-04-06 00': ['1.000E-002', '2.900E-001'], '2015-04-07 00': ['1.000E-002', '2.900E-001'], '2015-04-08 00': ['1.000E-002', '3.000E-001'], '2015-04-09 00': ['1.000E-002', '3.000E-001'], '2015-04-10 00': ['1.000E-002', '3.000E-001'], '2015-04-11 00': ['1.000E-002', '3.000E-001'], '2015-04-12 00': ['1.000E-002', '3.000E-001'], '2015-04-13 00': ['1.000E-002', '3.100E-001'], '2015-04-14 00': ['1.000E-002', '3.100E-001'], '2015-04-15 00': ['1.000E-002', '3.100E-001'], '2015-04-16 00': ['1.000E-002', '3.100E-001'], '2015-04-17 00': ['1.000E-002', '3.100E-001'], '2015-04-18 00': ['1.000E-002', '3.100E-001'], '2015-04-19 00': ['1.000E-002', '3.100E-001'], '2015-04-20 00': ['1.000E-002', '3.100E-001'], '2015-04-21 00': ['1.000E-002', '3.100E-001'], '2015-04-22 00': ['1.000E-002', '3.198E-001'], '2015-04-23 00': ['1.000E-002', '3.200E-001'], '2015-04-24 00': ['1.984E-002', '3.200E-001'], '2015-04-25 00': ['2.000E-002', '3.200E-001'], '2015-04-26 00': ['2.000E-002', '3.299E-001'], '2015-04-27 00': ['2.000E-002', '3.300E-001'], '2015-04-28 00': ['2.000E-002', '3.300E-001'], '2015-04-29 00': ['2.000E-002', '3.400E-001'], '2015-04-30 00': ['2.000E-002', '3.400E-001'], '2015-05-01 00': ['2.000E-002', '3.450E-001'], '2015-05-02 00': ['2.000E-002', '3.500E-001'], '2015-05-03 00': ['2.000E-002', '3.500E-001'], '2015-05-04 00': ['2.000E-002', '3.600E-001'], '2015-05-05 00': ['2.000E-002', '3.600E-001'], '2015-05-06 00': ['2.000E-002', '3.675E-001'], '2015-05-07 00': ['2.000E-002', '3.700E-001'], '2015-05-08 00': ['2.000E-002', '3.700E-001'], '2015-05-09 00': ['2.000E-002', '3.799E-001'], '2015-05-10 00': ['2.000E-002', '3.800E-001'], '2015-05-11 00': ['2.000E-002', '3.900E-001'], '2015-05-12 00': ['3.000E-002', '3.999E-001'], '2015-05-13 00': ['3.000E-002', '4.100E-001'], '2015-05-14 00': ['3.000E-002', '4.200E-001'], '2015-05-15 00': ['3.000E-002', '4.387E-001'], '2015-05-16 00': ['3.937E-002', '4.500E-001'], '2015-05-17 00': ['4.000E-002', '4.600E-001'], '2015-05-18 00': ['4.000E-002', '4.700E-001'], '2015-05-19 00': ['4.000E-002', '4.800E-001'], '2015-05-20 00': ['4.000E-002', '4.900E-001'], '2015-05-21 00': ['5.000E-002', '5.000E-001'], '2015-05-22 00': ['5.000E-002', '5.100E-001'], '2015-05-23 00': ['5.000E-002', '5.200E-001'], '2015-05-24 00': ['5.937E-002', '5.375E-001'], '2015-05-25 00': ['6.000E-002', '5.500E-001'], '2015-05-26 00': ['6.000E-002', '5.650E-001'], '2015-05-27 00': ['7.000E-002', '5.800E-001'], '2015-05-28 00': ['7.000E-002', '5.900E-001'], '2015-05-29 00': ['7.984E-002', '6.050E-001'], '2015-05-30 00': ['8.000E-002', '6.100E-001'], '2015-05-31 00': ['8.000E-002', '6.200E-001'], '2015-06-01 00': ['8.000E-002', '6.200E-001'], '2015-06-02 00': ['8.000E-002', '6.200E-001'], '2015-06-03 00': ['8.000E-002', '6.200E-001'], '2015-06-04 00': ['8.000E-002', '6.200E-001'], '2015-06-05 00': ['8.000E-002', '6.125E-001'], '2015-06-06 00': ['8.000E-002', '6.100E-001'], '2015-06-07 00': ['8.000E-002', '6.003E-001'], '2015-06-08 00': ['7.000E-002', '6.000E-001'], '2015-06-09 00': ['7.000E-002', '5.900E-001'], '2015-06-10 00': ['7.000E-002', '5.825E-001'], '2015-06-11 00': ['7.000E-002', '5.800E-001'], '2015-06-12 00': ['7.000E-002', '5.700E-001'], '2015-06-13 00': ['6.000E-002', '5.601E-001'], '2015-06-14 00': ['6.000E-002', '5.600E-001'], '2015-06-15 00': ['6.000E-002', '5.500E-001'], '2015-06-16 00': ['6.000E-002', '5.401E-001'], '2015-06-17 00': ['6.000E-002', '5.400E-001'], '2015-06-18 00': ['5.000E-002', '5.300E-001'], '2015-06-19 00': ['5.000E-002', '5.300E-001'], '2015-06-20 00': ['5.000E-002', '5.200E-001'], '2015-06-21 00': ['5.000E-002', '5.101E-001'], '2015-06-22 00': ['5.000E-002', '5.100E-001'], '2015-06-23 00': ['5.000E-002', '5.000E-001'], '2015-06-24 00': ['5.000E-002', '5.000E-001'], '2015-06-25 00': ['4.000E-002', '4.900E-001'], '2015-06-26 00': ['4.000E-002', '4.900E-001'], '2015-06-27 00': ['4.000E-002', '4.800E-001'], '2015-06-28 00': ['4.000E-002', '4.800E-001'], '2015-06-29 00': ['4.000E-002', '4.700E-001'], '2015-06-30 00': ['4.000E-002', '4.700E-001'], '2015-07-01 00': ['4.000E-002', '4.600E-001'], '2015-07-02 00': ['4.000E-002', '4.600E-001'], '2015-07-03 00': ['4.000E-002', '4.500E-001'], '2015-07-04 00': ['3.250E-002', '4.500E-001'], '2015-07-05 00': ['3.000E-002', '4.400E-001'], '2015-07-06 00': ['3.000E-002', '4.400E-001'], '2015-07-07 00': ['3.000E-002', '4.300E-001'], '2015-07-08 00': ['3.000E-002', '4.300E-001'], '2015-07-09 00': ['3.000E-002', '4.200E-001'], '2015-07-10 00': ['3.000E-002', '4.200E-001'], '2015-07-11 00': ['3.000E-002', '4.200E-001'], '2015-07-12 00': ['3.000E-002', '4.100E-001'], '2015-07-13 00': ['3.000E-002', '4.100E-001'], '2015-07-14 00': ['3.000E-002', '4.100E-001'], '2015-07-15 00': ['3.000E-002', '4.002E-001'], '2015-07-16 00': ['3.000E-002', '4.000E-001'], '2015-07-17 00': ['3.000E-002', '4.000E-001'], '2015-07-18 00': ['3.000E-002', '4.000E-001'], '2015-07-19 00': ['3.000E-002', '4.000E-001'], '2015-07-20 00': ['3.000E-002', '3.900E-001'], '2015-07-21 00': ['3.000E-002', '3.900E-001'], '2015-07-22 00': ['2.000E-002', '3.900E-001'], '2015-07-23 00': ['2.000E-002', '3.900E-001'], '2015-07-24 00': ['2.000E-002', '3.900E-001'], '2015-07-25 00': ['2.000E-002', '3.800E-001'], '2015-07-26 00': ['2.000E-002', '3.800E-001'], '2015-07-27 00': ['2.000E-002', '3.800E-001'], '2015-07-28 00': ['2.000E-002', '3.800E-001'], '2015-07-29 00': ['2.000E-002', '3.800E-001'], '2015-07-30 00': ['2.000E-002', '3.700E-001'], '2015-07-31 00': ['2.000E-002', '3.700E-001'], '2015-08-01 00': ['2.000E-002', '3.700E-001'], '2015-08-02 00': ['2.000E-002', '3.700E-001'], '2015-08-03 00': ['2.000E-002', '3.700E-001'], '2015-08-04 00': ['2.000E-002', '3.600E-001'], '2015-08-05 00': ['2.000E-002', '3.600E-001'], '2015-08-06 00': ['2.000E-002', '3.600E-001'], '2015-08-07 00': ['2.000E-002', '3.600E-001'], '2015-08-08 00': ['2.000E-002', '3.500E-001'], '2015-08-09 00': ['2.000E-002', '3.500E-001'], '2015-08-10 00': ['2.000E-002', '3.500E-001'], '2015-08-11 00': ['2.000E-002', '3.500E-001'], '2015-08-12 00': ['2.000E-002', '3.406E-001'], '2015-08-13 00': ['2.000E-002', '3.400E-001'], '2015-08-14 00': ['2.000E-002', '3.400E-001'], '2015-08-15 00': ['2.000E-002', '3.400E-001'], '2015-08-16 00': ['2.000E-002', '3.400E-001'], '2015-08-17 00': ['2.000E-002', '3.300E-001'], '2015-08-18 00': ['2.000E-002', '3.300E-001'], '2015-08-19 00': ['2.000E-002', '3.300E-001'], '2015-08-20 00': ['2.000E-002', '3.300E-001'], '2015-08-21 00': ['2.000E-002', '3.200E-001'], '2015-08-22 00': ['2.000E-002', '3.200E-001'], '2015-08-23 00': ['2.000E-002', '3.200E-001'], '2015-08-24 00': ['1.000E-002', '3.200E-001'], '2015-08-25 00': ['1.000E-002', '3.200E-001'], '2015-08-26 00': ['1.000E-002', '3.100E-001'], '2015-08-27 00': ['1.000E-002', '3.100E-001'], '2015-08-28 00': ['1.000E-002', '3.100E-001'], '2015-08-29 00': ['1.000E-002', '3.100E-001'], '2015-08-30 00': ['1.000E-002', '3.100E-001'], '2015-08-31 00': ['1.000E-002', '3.000E-001'], '2015-09-01 00': ['1.000E-002', '3.000E-001'], '2015-09-02 00': ['1.000E-002', '3.000E-001'], '2015-09-03 00': ['1.000E-002', '3.000E-001'], '2015-09-04 00': ['1.000E-002', '3.000E-001'], '2015-09-05 00': ['1.000E-002', '2.900E-001'], '2015-09-06 00': ['1.000E-002', '2.900E-001'], '2015-09-07 00': ['1.000E-002', '2.900E-001'], '2015-09-08 00': ['1.000E-002', '2.900E-001'], '2015-09-09 00': ['1.000E-002', '2.900E-001'], '2015-09-10 00': ['1.000E-002', '2.800E-001'], '2015-09-11 00': ['1.000E-002', '2.800E-001'], '2015-09-12 00': ['1.000E-002', '2.800E-001'], '2015-09-13 00': ['1.000E-002', '2.800E-001'], '2015-09-14 00': ['1.000E-002', '2.800E-001'], '2015-09-15 00': ['1.000E-002', '2.800E-001'], '2015-09-16 00': ['1.000E-002', '2.700E-001'], '2015-09-17 00': ['1.000E-002', '2.700E-001'], '2015-09-18 00': ['1.000E-002', '2.700E-001'], '2015-09-19 00': ['1.000E-002', '2.700E-001'], '2015-09-20 00': ['1.000E-002', '2.700E-001'], '2015-09-21 00': ['1.000E-002', '2.700E-001'], '2015-09-22 00': ['1.000E-002', '2.600E-001'], '2015-09-23 00': ['1.000E-002', '2.600E-001'], '2015-09-24 00': ['1.000E-002', '2.600E-001'], '2015-09-25 00': ['1.000E-002', '2.600E-001'], '2015-09-26 00': ['1.000E-002', '2.600E-001'], '2015-09-27 00': ['1.000E-002', '2.600E-001'], '2015-09-28 00': ['1.000E-002', '2.600E-001'], '2015-09-29 00': ['1.000E-002', '2.500E-001'], '2015-09-30 00': ['1.000E-002', '2.500E-001'], '2015-10-01 00': ['1.000E-002', '2.500E-001'], '2015-10-02 00': ['1.000E-002', '2.500E-001'], '2015-10-03 00': ['1.000E-002', '2.500E-001'], '2015-10-04 00': ['1.000E-002', '2.500E-001'], '2015-10-05 00': ['1.000E-002', '2.500E-001'], '2015-10-06 00': ['1.000E-002', '2.400E-001'], '2015-10-07 00': ['1.000E-002', '2.400E-001'], '2015-10-08 00': ['1.000E-002', '2.400E-001'], '2015-10-09 00': ['1.000E-002', '2.300E-001'], '2015-10-10 00': ['1.000E-002', '2.200E-001'], '2015-10-11 00': ['1.000E-002', '2.200E-001'], '2015-10-12 00': ['1.000E-002', '2.200E-001'], '2015-10-13 00': ['1.000E-002', '2.200E-001'], '2015-10-14 00': ['1.000E-002', '2.200E-001'], '2015-10-15 00': ['1.000E-002', '2.200E-001'], '2015-10-16 00': ['1.000E-002', '2.200E-001'], '2015-10-17 00': ['1.000E-002', '2.200E-001'], '2015-10-18 00': ['1.000E-002', '2.100E-001'], '2015-10-19 00': ['1.000E-002', '2.100E-001'], '2015-10-20 00': ['1.000E-002', '2.100E-001'], '2015-10-21 00': ['1.000E-002', '2.100E-001'], '2015-10-22 00': ['1.000E-002', '2.100E-001'], '2015-10-23 00': ['1.000E-002', '2.100E-001'], '2015-10-24 00': ['1.000E-002', '2.100E-001'], '2015-10-25 00': ['1.000E-002', '2.100E-001'], '2015-10-26 00': ['1.000E-002', '2.100E-001'], '2015-10-27 00': ['1.000E-002', '2.100E-001'], '2015-10-28 00': ['1.000E-002', '2.000E-001'], '2015-10-29 00': ['1.000E-002', '2.000E-001'], '2015-10-30 00': ['1.000E-002', '2.000E-001'], '2015-10-31 00': ['1.000E-002', '2.000E-001'], '2015-11-01 00': ['1.000E-002', '2.000E-001'], '2015-11-02 00': ['1.000E-002', '2.000E-001'], '2015-11-03 00': ['1.000E-002', '2.000E-001'], '2015-11-04 00': ['1.000E-002', '2.000E-001'], '2015-11-05 00': ['1.000E-002', '2.000E-001'], '2015-11-06 00': ['1.000E-002', '2.000E-001'], '2015-11-07 00': ['1.000E-002', '1.906E-001'], '2015-11-08 00': ['1.000E-002', '1.900E-001'], '2015-11-09 00': ['1.000E-002', '1.900E-001'], '2015-11-10 00': ['1.000E-002', '1.900E-001'], '2015-11-11 00': ['1.000E-002', '1.900E-001'], '2015-11-12 00': ['1.000E-002', '1.900E-001'], '2015-11-13 00': ['6.250E-004', '1.900E-001'], '2015-11-14 00': ['0.000E+000', '1.900E-001'], '2015-11-15 00': ['0.000E+000', '1.900E-001'], '2015-11-16 00': ['0.000E+000', '1.900E-001'], '2015-11-17 00': ['0.000E+000', '1.900E-001'], '2015-11-18 00': ['0.000E+000', '1.900E-001'], '2015-11-19 00': ['0.000E+000', '1.900E-001'], '2015-11-20 00': ['0.000E+000', '1.850E-001'], '2015-11-21 00': ['0.000E+000', '1.800E-001'], '2015-11-22 00': ['0.000E+000', '1.800E-001'], '2015-11-23 00': ['0.000E+000', '1.800E-001'], '2015-11-24 00': ['0.000E+000', '1.800E-001'], '2015-11-25 00': ['0.000E+000', '1.800E-001'], '2015-11-26 00': ['0.000E+000', '1.800E-001'], '2015-11-27 00': ['0.000E+000', '1.800E-001'], '2015-11-28 00': ['0.000E+000', '1.800E-001'], '2015-11-29 00': ['0.000E+000', '1.800E-001'], '2015-11-30 00': ['0.000E+000', '1.800E-001'], '2015-12-01 00': ['0.000E+000', '1.800E-001'], '2015-12-02 00': ['0.000E+000', '1.800E-001'], '2015-12-03 00': ['0.000E+000', '1.800E-001'], '2015-12-04 00': ['0.000E+000', '1.800E-001'], '2015-12-05 00': ['0.000E+000', '1.800E-001'], '2015-12-06 00': ['0.000E+000', '1.800E-001'], '2015-12-07 00': ['0.000E+000', '1.800E-001'], '2015-12-08 00': ['0.000E+000', '1.800E-001'], '2015-12-09 00': ['0.000E+000', '1.800E-001'], '2015-12-10 00': ['0.000E+000', '1.875E-001'], '2015-12-11 00': ['0.000E+000', '1.900E-001'], '2015-12-12 00': ['0.000E+000', '1.900E-001'], '2015-12-13 00': ['0.000E+000', '1.900E-001'], '2015-12-14 00': ['0.000E+000', '1.900E-001'], '2015-12-15 00': ['0.000E+000', '1.900E-001'], '2015-12-16 00': ['0.000E+000', '1.900E-001'], '2015-12-17 00': ['0.000E+000', '1.900E-001'], '2015-12-18 00': ['7.500E-003', '1.900E-001'], '2015-12-19 00': ['1.000E-002', '1.900E-001'], '2015-12-20 00': ['1.000E-002', '1.900E-001'], '2015-12-21 00': ['1.000E-002', '1.900E-001'], '2015-12-22 00': ['1.000E-002', '1.900E-001'], '2015-12-23 00': ['1.000E-002', '1.900E-001'], '2015-12-24 00': ['1.000E-002', '1.950E-001'], '2015-12-25 00': ['1.000E-002', '2.000E-001'], '2015-12-26 00': ['1.000E-002', '2.000E-001'], '2015-12-27 00': ['1.000E-002', '2.000E-001'], '2015-12-28 00': ['1.000E-002', '2.000E-001'], '2015-12-29 00': ['1.000E-002', '2.000E-001'], '2015-12-30 00': ['1.000E-002', '2.000E-001'], '2015-12-31 00': ['1.000E-002', '2.000E-001'], '2016-01-01 00': ['1.000E-002', '2.000E-001']}}\n"
     ]
    }
   ],
   "source": [
    "print(response.json())\n",
    "output1 = response.json()"
   ]
  },
  {
   "cell_type": "code",
   "execution_count": 144,
   "id": "5f2ea7f5",
   "metadata": {},
   "outputs": [
    {
     "data": {
      "text/plain": [
       "dict"
      ]
     },
     "execution_count": 144,
     "metadata": {},
     "output_type": "execute_result"
    }
   ],
   "source": [
    "type(output1)"
   ]
  },
  {
   "cell_type": "code",
   "execution_count": 113,
   "id": "7f1896da",
   "metadata": {},
   "outputs": [
    {
     "data": {
      "text/plain": [
       "dict_keys(['dataset', 'dataSource', 'metadata', 'data'])"
      ]
     },
     "execution_count": 113,
     "metadata": {},
     "output_type": "execute_result"
    }
   ],
   "source": [
    "output1.keys()"
   ]
  },
  {
   "cell_type": "code",
   "execution_count": 114,
   "id": "15bdab7e",
   "metadata": {},
   "outputs": [
    {
     "data": {
      "text/plain": [
       "'streamflow'"
      ]
     },
     "execution_count": 114,
     "metadata": {},
     "output_type": "execute_result"
    }
   ],
   "source": [
    "output1['dataset']"
   ]
  },
  {
   "cell_type": "code",
   "execution_count": 115,
   "id": "a4f55623",
   "metadata": {},
   "outputs": [
    {
     "data": {
      "text/plain": [
       "dict_items([('2015-01-01 00', ['1.000E-002', '1.000E-002']), ('2015-01-02 00', ['1.000E-002', '1.000E-002']), ('2015-01-03 00', ['1.000E-002', '1.000E-002']), ('2015-01-04 00', ['1.000E-002', '1.000E-002']), ('2015-01-05 00', ['1.000E-002', '1.000E-002']), ('2015-01-06 00', ['1.000E-002', '1.000E-002']), ('2015-01-07 00', ['1.000E-002', '1.000E-002']), ('2015-01-08 00', ['1.000E-002', '1.000E-002']), ('2015-01-09 00', ['1.000E-002', '1.000E-002']), ('2015-01-10 00', ['1.000E-002', '1.000E-002']), ('2015-01-11 00', ['1.000E-002', '1.000E-002']), ('2015-01-12 00', ['1.000E-002', '1.000E-002']), ('2015-01-13 00', ['1.000E-002', '1.000E-002']), ('2015-01-14 00', ['1.000E-002', '1.000E-002']), ('2015-01-15 00', ['1.000E-002', '1.000E-002']), ('2015-01-16 00', ['1.000E-002', '1.000E-002']), ('2015-01-17 00', ['1.000E-002', '1.000E-002']), ('2015-01-18 00', ['1.000E-002', '1.000E-002']), ('2015-01-19 00', ['1.000E-002', '1.000E-002']), ('2015-01-20 00', ['1.000E-002', '1.000E-002']), ('2015-01-21 00', ['1.000E-002', '1.000E-002']), ('2015-01-22 00', ['1.000E-002', '1.000E-002']), ('2015-01-23 00', ['1.000E-002', '1.000E-002']), ('2015-01-24 00', ['1.000E-002', '1.000E-002']), ('2015-01-25 00', ['1.000E-002', '1.000E-002']), ('2015-01-26 00', ['1.000E-002', '1.000E-002']), ('2015-01-27 00', ['1.000E-002', '1.000E-002']), ('2015-01-28 00', ['1.000E-002', '1.000E-002']), ('2015-01-29 00', ['1.000E-002', '1.000E-002']), ('2015-01-30 00', ['1.000E-002', '1.000E-002']), ('2015-01-31 00', ['1.000E-002', '1.000E-002']), ('2015-02-01 00', ['1.000E-002', '1.000E-002']), ('2015-02-02 00', ['1.000E-002', '1.000E-002']), ('2015-02-03 00', ['1.000E-002', '1.000E-002']), ('2015-02-04 00', ['1.000E-002', '1.000E-002']), ('2015-02-05 00', ['1.000E-002', '1.000E-002']), ('2015-02-06 00', ['1.000E-002', '1.000E-002']), ('2015-02-07 00', ['1.000E-002', '1.000E-002']), ('2015-02-08 00', ['1.000E-002', '1.000E-002']), ('2015-02-09 00', ['1.000E-002', '1.000E-002']), ('2015-02-10 00', ['1.000E-002', '1.000E-002']), ('2015-02-11 00', ['1.000E-002', '1.000E-002']), ('2015-02-12 00', ['1.000E-002', '1.000E-002']), ('2015-02-13 00', ['1.000E-002', '1.000E-002']), ('2015-02-14 00', ['1.000E-002', '1.000E-002']), ('2015-02-15 00', ['1.000E-002', '1.000E-002']), ('2015-02-16 00', ['1.000E-002', '1.000E-002']), ('2015-02-17 00', ['1.000E-002', '1.000E-002']), ('2015-02-18 00', ['1.000E-002', '1.000E-002']), ('2015-02-19 00', ['1.000E-002', '1.000E-002']), ('2015-02-20 00', ['1.000E-002', '1.000E-002']), ('2015-02-21 00', ['1.000E-002', '1.000E-002']), ('2015-02-22 00', ['1.000E-002', '1.000E-002']), ('2015-02-23 00', ['1.000E-002', '1.000E-002']), ('2015-02-24 00', ['1.000E-002', '1.000E-002']), ('2015-02-25 00', ['1.000E-002', '1.000E-002']), ('2015-02-26 00', ['1.000E-002', '1.000E-002']), ('2015-02-27 00', ['1.000E-002', '1.000E-002']), ('2015-02-28 00', ['1.000E-002', '1.000E-002']), ('2015-03-01 00', ['1.000E-002', '1.000E-002']), ('2015-03-02 00', ['1.000E-002', '1.000E-002']), ('2015-03-03 00', ['1.000E-002', '1.000E-002']), ('2015-03-04 00', ['1.000E-002', '1.000E-002']), ('2015-03-05 00', ['1.000E-002', '1.000E-002']), ('2015-03-06 00', ['1.000E-002', '1.000E-002']), ('2015-03-07 00', ['1.000E-002', '1.000E-002']), ('2015-03-08 00', ['1.000E-002', '1.000E-002']), ('2015-03-09 00', ['1.000E-002', '1.000E-002']), ('2015-03-10 00', ['1.000E-002', '1.000E-002']), ('2015-03-11 00', ['1.000E-002', '1.000E-002']), ('2015-03-12 00', ['1.000E-002', '1.000E-002']), ('2015-03-13 00', ['1.000E-002', '1.875E-002']), ('2015-03-14 00', ['1.000E-002', '2.000E-002']), ('2015-03-15 00', ['1.000E-002', '2.000E-002']), ('2015-03-16 00', ['1.000E-002', '2.000E-002']), ('2015-03-17 00', ['1.000E-002', '2.000E-002']), ('2015-03-18 00', ['1.992E-002', '2.000E-002']), ('2015-03-19 00', ['2.000E-002', '2.000E-002']), ('2015-03-20 00', ['2.000E-002', '2.000E-002']), ('2015-03-21 00', ['2.000E-002', '2.000E-002']), ('2015-03-22 00', ['2.000E-002', '2.000E-002']), ('2015-03-23 00', ['2.000E-002', '2.000E-002']), ('2015-03-24 00', ['2.000E-002', '2.000E-002']), ('2015-03-25 00', ['2.000E-002', '2.000E-002']), ('2015-03-26 00', ['2.000E-002', '2.000E-002']), ('2015-03-27 00', ['2.000E-002', '2.000E-002']), ('2015-03-28 00', ['2.000E-002', '2.000E-002']), ('2015-03-29 00', ['2.000E-002', '2.000E-002']), ('2015-03-30 00', ['2.000E-002', '2.000E-002']), ('2015-03-31 00', ['2.000E-002', '2.000E-002']), ('2015-04-01 00', ['2.000E-002', '2.000E-002']), ('2015-04-02 00', ['2.000E-002', '2.000E-002']), ('2015-04-03 00', ['2.000E-002', '2.000E-002']), ('2015-04-04 00', ['2.000E-002', '2.000E-002']), ('2015-04-05 00', ['2.000E-002', '2.000E-002']), ('2015-04-06 00', ['2.000E-002', '2.000E-002']), ('2015-04-07 00', ['2.000E-002', '2.000E-002']), ('2015-04-08 00', ['2.000E-002', '2.000E-002']), ('2015-04-09 00', ['2.000E-002', '2.000E-002']), ('2015-04-10 00', ['2.000E-002', '2.000E-002']), ('2015-04-11 00', ['2.000E-002', '2.000E-002']), ('2015-04-12 00', ['2.000E-002', '2.000E-002']), ('2015-04-13 00', ['2.000E-002', '2.000E-002']), ('2015-04-14 00', ['2.000E-002', '2.000E-002']), ('2015-04-15 00', ['2.000E-002', '2.000E-002']), ('2015-04-16 00', ['2.000E-002', '2.000E-002']), ('2015-04-17 00', ['1.000E-002', '2.000E-002']), ('2015-04-18 00', ['1.000E-002', '2.000E-002']), ('2015-04-19 00', ['1.000E-002', '2.000E-002']), ('2015-04-20 00', ['1.000E-002', '2.000E-002']), ('2015-04-21 00', ['1.000E-002', '2.000E-002']), ('2015-04-22 00', ['1.000E-002', '2.000E-002']), ('2015-04-23 00', ['1.000E-002', '2.000E-002']), ('2015-04-24 00', ['1.000E-002', '2.000E-002']), ('2015-04-25 00', ['1.000E-002', '2.000E-002']), ('2015-04-26 00', ['1.000E-002', '2.000E-002']), ('2015-04-27 00', ['1.000E-002', '2.000E-002']), ('2015-04-28 00', ['1.000E-002', '2.000E-002']), ('2015-04-29 00', ['1.000E-002', '2.000E-002']), ('2015-04-30 00', ['1.000E-002', '2.000E-002']), ('2015-05-01 00', ['1.000E-002', '2.000E-002']), ('2015-05-02 00', ['1.000E-002', '2.000E-002']), ('2015-05-03 00', ['1.000E-002', '2.000E-002']), ('2015-05-04 00', ['1.000E-002', '2.000E-002']), ('2015-05-05 00', ['1.000E-002', '2.000E-002']), ('2015-05-06 00', ['1.000E-002', '2.000E-002']), ('2015-05-07 00', ['1.000E-002', '2.000E-002']), ('2015-05-08 00', ['1.000E-002', '2.000E-002']), ('2015-05-09 00', ['1.000E-002', '2.000E-002']), ('2015-05-10 00', ['1.000E-002', '2.000E-002']), ('2015-05-11 00', ['1.000E-002', '2.000E-002']), ('2015-05-12 00', ['1.984E-002', '2.000E-002']), ('2015-05-13 00', ['2.000E-002', '2.000E-002']), ('2015-05-14 00', ['3.000E-002', '2.000E-002']), ('2015-05-15 00', ['3.937E-002', '2.000E-002']), ('2015-05-16 00', ['4.000E-002', '2.000E-002']), ('2015-05-17 00', ['4.992E-002', '2.000E-002']), ('2015-05-18 00', ['5.000E-002', '2.998E-002']), ('2015-05-19 00', ['7.500E-002', '3.000E-002']), ('2015-05-20 00', ['9.875E-002', '3.992E-002']), ('2015-05-21 00', ['1.100E-001', '4.000E-002']), ('2015-05-22 00', ['1.200E-001', '4.000E-002']), ('2015-05-23 00', ['1.200E-001', '4.000E-002']), ('2015-05-24 00', ['1.200E-001', '4.000E-002']), ('2015-05-25 00', ['1.100E-001', '4.000E-002']), ('2015-05-26 00', ['1.050E-001', '4.000E-002']), ('2015-05-27 00', ['1.000E-001', '4.000E-002']), ('2015-05-28 00', ['9.000E-002', '3.859E-002']), ('2015-05-29 00', ['9.000E-002', '4.000E-002']), ('2015-05-30 00', ['8.000E-002', '3.000E-002']), ('2015-05-31 00', ['7.002E-002', '3.000E-002']), ('2015-06-01 00', ['7.000E-002', '3.000E-002']), ('2015-06-02 00', ['6.016E-002', '3.000E-002']), ('2015-06-03 00', ['6.000E-002', '3.000E-002']), ('2015-06-04 00', ['6.000E-002', '3.000E-002']), ('2015-06-05 00', ['5.031E-002', '3.000E-002']), ('2015-06-06 00', ['5.000E-002', '3.000E-002']), ('2015-06-07 00', ['5.000E-002', '3.000E-002']), ('2015-06-08 00', ['5.000E-002', '3.000E-002']), ('2015-06-09 00', ['5.000E-002', '3.000E-002']), ('2015-06-10 00', ['5.000E-002', '2.000E-002']), ('2015-06-11 00', ['5.000E-002', '2.000E-002']), ('2015-06-12 00', ['5.000E-002', '2.000E-002']), ('2015-06-13 00', ['4.001E-002', '2.000E-002']), ('2015-06-14 00', ['4.000E-002', '2.000E-002']), ('2015-06-15 00', ['4.000E-002', '2.000E-002']), ('2015-06-16 00', ['4.000E-002', '2.000E-002']), ('2015-06-17 00', ['4.000E-002', '2.000E-002']), ('2015-06-18 00', ['4.000E-002', '2.000E-002']), ('2015-06-19 00', ['3.008E-002', '2.000E-002']), ('2015-06-20 00', ['3.000E-002', '2.000E-002']), ('2015-06-21 00', ['3.969E-002', '2.000E-002']), ('2015-06-22 00', ['4.000E-002', '2.000E-002']), ('2015-06-23 00', ['5.000E-002', '2.996E-002']), ('2015-06-24 00', ['6.500E-002', '3.000E-002']), ('2015-06-25 00', ['7.000E-002', '3.000E-002']), ('2015-06-26 00', ['8.000E-002', '3.000E-002']), ('2015-06-27 00', ['8.000E-002', '3.000E-002']), ('2015-06-28 00', ['8.000E-002', '3.000E-002']), ('2015-06-29 00', ['8.000E-002', '3.000E-002']), ('2015-06-30 00', ['7.000E-002', '3.000E-002']), ('2015-07-01 00', ['7.000E-002', '3.000E-002']), ('2015-07-02 00', ['6.062E-002', '3.000E-002']), ('2015-07-03 00', ['6.000E-002', '3.000E-002']), ('2015-07-04 00', ['6.000E-002', '3.000E-002']), ('2015-07-05 00', ['5.008E-002', '3.000E-002']), ('2015-07-06 00', ['5.000E-002', '3.000E-002']), ('2015-07-07 00', ['7.937E-002', '3.000E-002']), ('2015-07-08 00', ['1.099E-001', '3.000E-002']), ('2015-07-09 00', ['1.397E-001', '3.000E-002']), ('2015-07-10 00', ['1.475E-001', '4.000E-002']), ('2015-07-11 00', ['1.400E-001', '4.000E-002']), ('2015-07-12 00', ['1.300E-001', '4.000E-002']), ('2015-07-13 00', ['1.200E-001', '4.000E-002']), ('2015-07-14 00', ['1.100E-001', '4.000E-002']), ('2015-07-15 00', ['1.000E-001', '4.000E-002']), ('2015-07-16 00', ['9.000E-002', '3.000E-002']), ('2015-07-17 00', ['8.000E-002', '3.000E-002']), ('2015-07-18 00', ['7.000E-002', '3.000E-002']), ('2015-07-19 00', ['6.500E-002', '3.000E-002']), ('2015-07-20 00', ['6.000E-002', '3.000E-002']), ('2015-07-21 00', ['5.500E-002', '3.000E-002']), ('2015-07-22 00', ['5.000E-002', '3.000E-002']), ('2015-07-23 00', ['5.000E-002', '2.000E-002']), ('2015-07-24 00', ['4.008E-002', '2.000E-002']), ('2015-07-25 00', ['4.000E-002', '2.000E-002']), ('2015-07-26 00', ['4.000E-002', '2.000E-002']), ('2015-07-27 00', ['4.000E-002', '2.000E-002']), ('2015-07-28 00', ['3.008E-002', '2.000E-002']), ('2015-07-29 00', ['3.000E-002', '2.000E-002']), ('2015-07-30 00', ['3.000E-002', '2.000E-002']), ('2015-07-31 00', ['3.000E-002', '2.000E-002']), ('2015-08-01 00', ['3.000E-002', '2.000E-002']), ('2015-08-02 00', ['3.000E-002', '2.000E-002']), ('2015-08-03 00', ['3.000E-002', '2.000E-002']), ('2015-08-04 00', ['2.500E-002', '2.000E-002']), ('2015-08-05 00', ['2.000E-002', '2.000E-002']), ('2015-08-06 00', ['2.000E-002', '2.000E-002']), ('2015-08-07 00', ['2.000E-002', '2.000E-002']), ('2015-08-08 00', ['2.000E-002', '2.000E-002']), ('2015-08-09 00', ['2.000E-002', '2.000E-002']), ('2015-08-10 00', ['2.000E-002', '2.000E-002']), ('2015-08-11 00', ['2.000E-002', '2.000E-002']), ('2015-08-12 00', ['2.000E-002', '2.000E-002']), ('2015-08-13 00', ['2.000E-002', '2.000E-002']), ('2015-08-14 00', ['2.000E-002', '2.000E-002']), ('2015-08-15 00', ['2.000E-002', '2.000E-002']), ('2015-08-16 00', ['6.564E-002', '3.000E-002']), ('2015-08-17 00', ['3.031E-002', '2.000E-002']), ('2015-08-18 00', ['3.000E-002', '2.000E-002']), ('2015-08-19 00', ['9.147E-002', '3.498E-002']), ('2015-08-20 00', ['2.901E-001', '4.996E-002']), ('2015-08-21 00', ['3.997E-001', '5.000E-002']), ('2015-08-22 00', ['3.903E-001', '5.000E-002']), ('2015-08-23 00', ['3.406E-001', '5.000E-002']), ('2015-08-24 00', ['2.906E-001', '5.000E-002']), ('2015-08-25 00', ['2.503E-001', '5.000E-002']), ('2015-08-26 00', ['2.200E-001', '4.000E-002']), ('2015-08-27 00', ['1.903E-001', '4.000E-002']), ('2015-08-28 00', ['1.701E-001', '4.000E-002']), ('2015-08-29 00', ['1.506E-001', '4.000E-002']), ('2015-08-30 00', ['1.400E-001', '4.000E-002']), ('2015-08-31 00', ['1.206E-001', '4.000E-002']), ('2015-09-01 00', ['1.102E-001', '4.000E-002']), ('2015-09-02 00', ['1.012E-001', '4.000E-002']), ('2015-09-03 00', ['1.000E-001', '4.000E-002']), ('2015-09-04 00', ['9.000E-002', '3.001E-002']), ('2015-09-05 00', ['8.001E-002', '3.000E-002']), ('2015-09-06 00', ['8.000E-002', '3.000E-002']), ('2015-09-07 00', ['7.000E-002', '3.000E-002']), ('2015-09-08 00', ['7.000E-002', '3.000E-002']), ('2015-09-09 00', ['6.000E-002', '3.000E-002']), ('2015-09-10 00', ['6.000E-002', '3.000E-002']), ('2015-09-11 00', ['6.000E-002', '3.000E-002']), ('2015-09-12 00', ['5.000E-002', '3.000E-002']), ('2015-09-13 00', ['5.000E-002', '2.062E-002']), ('2015-09-14 00', ['5.000E-002', '2.000E-002']), ('2015-09-15 00', ['4.016E-002', '2.000E-002']), ('2015-09-16 00', ['4.000E-002', '2.000E-002']), ('2015-09-17 00', ['4.000E-002', '2.000E-002']), ('2015-09-18 00', ['4.000E-002', '2.000E-002']), ('2015-09-19 00', ['4.000E-002', '2.000E-002']), ('2015-09-20 00', ['3.500E-002', '2.000E-002']), ('2015-09-21 00', ['3.000E-002', '2.000E-002']), ('2015-09-22 00', ['3.000E-002', '2.000E-002']), ('2015-09-23 00', ['3.000E-002', '2.000E-002']), ('2015-09-24 00', ['3.000E-002', '2.000E-002']), ('2015-09-25 00', ['3.000E-002', '2.000E-002']), ('2015-09-26 00', ['3.000E-002', '2.000E-002']), ('2015-09-27 00', ['3.000E-002', '2.000E-002']), ('2015-09-28 00', ['3.000E-002', '2.000E-002']), ('2015-09-29 00', ['3.000E-002', '2.000E-002']), ('2015-09-30 00', ['3.000E-002', '2.000E-002']), ('2015-10-01 00', ['3.000E-002', '2.000E-002']), ('2015-10-02 00', ['3.000E-002', '2.000E-002']), ('2015-10-03 00', ['3.000E-002', '2.000E-002']), ('2015-10-04 00', ['3.000E-002', '2.000E-002']), ('2015-10-05 00', ['3.000E-002', '2.000E-002']), ('2015-10-06 00', ['3.000E-002', '2.000E-002']), ('2015-10-07 00', ['3.000E-002', '2.000E-002']), ('2015-10-08 00', ['3.000E-002', '2.000E-002']), ('2015-10-09 00', ['3.000E-002', '2.000E-002']), ('2015-10-10 00', ['3.000E-002', '2.000E-002']), ('2015-10-11 00', ['3.000E-002', '2.000E-002']), ('2015-10-12 00', ['3.000E-002', '2.000E-002']), ('2015-10-13 00', ['3.000E-002', '2.000E-002']), ('2015-10-14 00', ['3.000E-002', '2.000E-002']), ('2015-10-15 00', ['3.000E-002', '2.000E-002']), ('2015-10-16 00', ['3.000E-002', '2.000E-002']), ('2015-10-17 00', ['3.000E-002', '2.000E-002']), ('2015-10-18 00', ['3.000E-002', '2.000E-002']), ('2015-10-19 00', ['3.000E-002', '2.000E-002']), ('2015-10-20 00', ['3.000E-002', '2.000E-002']), ('2015-10-21 00', ['2.000E-002', '2.000E-002']), ('2015-10-22 00', ['2.000E-002', '2.000E-002']), ('2015-10-23 00', ['2.000E-002', '2.000E-002']), ('2015-10-24 00', ['2.000E-002', '2.000E-002']), ('2015-10-25 00', ['2.998E-002', '2.000E-002']), ('2015-10-26 00', ['3.000E-002', '2.000E-002']), ('2015-10-27 00', ['3.000E-002', '2.000E-002']), ('2015-10-28 00', ['4.000E-002', '2.000E-002']), ('2015-10-29 00', ['4.000E-002', '2.000E-002']), ('2015-10-30 00', ['5.000E-002', '2.000E-002']), ('2015-10-31 00', ['5.000E-002', '3.000E-002']), ('2015-11-01 00', ['5.000E-002', '3.000E-002']), ('2015-11-02 00', ['5.992E-002', '3.000E-002']), ('2015-11-03 00', ['6.000E-002', '3.000E-002']), ('2015-11-04 00', ['6.000E-002', '3.000E-002']), ('2015-11-05 00', ['6.000E-002', '3.000E-002']), ('2015-11-06 00', ['6.000E-002', '3.000E-002']), ('2015-11-07 00', ['5.000E-002', '3.000E-002']), ('2015-11-08 00', ['5.000E-002', '3.000E-002']), ('2015-11-09 00', ['5.000E-002', '3.000E-002']), ('2015-11-10 00', ['5.000E-002', '3.000E-002']), ('2015-11-11 00', ['5.000E-002', '3.000E-002']), ('2015-11-12 00', ['5.000E-002', '2.008E-002']), ('2015-11-13 00', ['5.000E-002', '2.000E-002']), ('2015-11-14 00', ['5.000E-002', '2.000E-002']), ('2015-11-15 00', ['5.000E-002', '2.000E-002']), ('2015-11-16 00', ['5.000E-002', '2.000E-002']), ('2015-11-17 00', ['4.000E-002', '2.000E-002']), ('2015-11-18 00', ['4.000E-002', '2.000E-002']), ('2015-11-19 00', ['4.000E-002', '2.000E-002']), ('2015-11-20 00', ['4.000E-002', '2.000E-002']), ('2015-11-21 00', ['4.000E-002', '2.000E-002']), ('2015-11-22 00', ['4.000E-002', '2.000E-002']), ('2015-11-23 00', ['4.000E-002', '2.000E-002']), ('2015-11-24 00', ['5.000E-002', '2.000E-002']), ('2015-11-25 00', ['5.000E-002', '2.000E-002']), ('2015-11-26 00', ['5.000E-002', '2.000E-002']), ('2015-11-27 00', ['5.000E-002', '2.000E-002']), ('2015-11-28 00', ['5.000E-002', '2.000E-002']), ('2015-11-29 00', ['5.000E-002', '2.000E-002']), ('2015-11-30 00', ['5.000E-002', '2.000E-002']), ('2015-12-01 00', ['4.002E-002', '2.000E-002']), ('2015-12-02 00', ['4.000E-002', '2.000E-002']), ('2015-12-03 00', ['4.000E-002', '2.000E-002']), ('2015-12-04 00', ['4.000E-002', '2.000E-002']), ('2015-12-05 00', ['4.000E-002', '2.000E-002']), ('2015-12-06 00', ['4.000E-002', '2.000E-002']), ('2015-12-07 00', ['4.000E-002', '2.000E-002']), ('2015-12-08 00', ['4.000E-002', '2.000E-002']), ('2015-12-09 00', ['4.000E-002', '2.000E-002']), ('2015-12-10 00', ['4.000E-002', '2.000E-002']), ('2015-12-11 00', ['4.000E-002', '2.000E-002']), ('2015-12-12 00', ['4.000E-002', '2.000E-002']), ('2015-12-13 00', ['4.000E-002', '2.000E-002']), ('2015-12-14 00', ['4.000E-002', '2.000E-002']), ('2015-12-15 00', ['4.000E-002', '2.000E-002']), ('2015-12-16 00', ['4.000E-002', '2.000E-002']), ('2015-12-17 00', ['4.000E-002', '2.000E-002']), ('2015-12-18 00', ['4.000E-002', '2.000E-002']), ('2015-12-19 00', ['4.000E-002', '2.000E-002']), ('2015-12-20 00', ['4.000E-002', '2.000E-002']), ('2015-12-21 00', ['4.000E-002', '2.000E-002']), ('2015-12-22 00', ['4.000E-002', '2.000E-002']), ('2015-12-23 00', ['4.000E-002', '2.000E-002']), ('2015-12-24 00', ['4.000E-002', '2.000E-002']), ('2015-12-25 00', ['4.000E-002', '2.000E-002']), ('2015-12-26 00', ['4.000E-002', '2.000E-002']), ('2015-12-27 00', ['4.000E-002', '2.000E-002']), ('2015-12-28 00', ['4.000E-002', '2.000E-002']), ('2015-12-29 00', ['4.000E-002', '2.000E-002']), ('2015-12-30 00', ['3.002E-002', '2.000E-002']), ('2015-12-31 00', ['3.000E-002', '2.000E-002']), ('2016-01-01 00', ['3.000E-002', '2.000E-002'])])"
      ]
     },
     "execution_count": 115,
     "metadata": {},
     "output_type": "execute_result"
    }
   ],
   "source": [
    "output1['data'].items()"
   ]
  },
  {
   "cell_type": "code",
   "execution_count": 116,
   "id": "b70fecde",
   "metadata": {},
   "outputs": [
    {
     "data": {
      "text/plain": [
       "dict_items([('dataset', 'streamflow'), ('dataSource', 'nwm'), ('metadata', {'retrieval_timestamp': '2022-07-26T17:05:50.004317', 'source_url': 's3://noaa-nwm-retro-v2-zarr-pds', 'variables': 'streamflow, velocity', 'TITLE': 'OUTPUT FROM WRF-Hydro v5.2.0-beta2', 'code_version': 'v5.2.0-beta2', 'featureType': 'timeSeries', 'model_configuration': 'retrospective', 'proj4': '+proj=lcc +units=m +a=6370000.0 +b=6370000.0 +lat_1=30.0 +lat_2=60.0 +lat_0=40.0 +lon_0=-97.0 +x_0=0 +y_0=0 +k_0=1.0 +nadgrids=@', 'column_1_units': 'm3 s-1', 'column_2_units': 'm s-1', 'column_1': 'streamflow-12698840', 'column_2': 'velocity-12698840', 'temporal_timestep': 'daily', 'nwm_timeZone': '', 'nwm_tz_offset': '0', 'request_url': '/api/hydrology/streamflow', 'retrievalTime': '1279 ms'}), ('data', {'2015-01-01 00': ['1.000E-002', '1.000E-002'], '2015-01-02 00': ['1.000E-002', '1.000E-002'], '2015-01-03 00': ['1.000E-002', '1.000E-002'], '2015-01-04 00': ['1.000E-002', '1.000E-002'], '2015-01-05 00': ['1.000E-002', '1.000E-002'], '2015-01-06 00': ['1.000E-002', '1.000E-002'], '2015-01-07 00': ['1.000E-002', '1.000E-002'], '2015-01-08 00': ['1.000E-002', '1.000E-002'], '2015-01-09 00': ['1.000E-002', '1.000E-002'], '2015-01-10 00': ['1.000E-002', '1.000E-002'], '2015-01-11 00': ['1.000E-002', '1.000E-002'], '2015-01-12 00': ['1.000E-002', '1.000E-002'], '2015-01-13 00': ['1.000E-002', '1.000E-002'], '2015-01-14 00': ['1.000E-002', '1.000E-002'], '2015-01-15 00': ['1.000E-002', '1.000E-002'], '2015-01-16 00': ['1.000E-002', '1.000E-002'], '2015-01-17 00': ['1.000E-002', '1.000E-002'], '2015-01-18 00': ['1.000E-002', '1.000E-002'], '2015-01-19 00': ['1.000E-002', '1.000E-002'], '2015-01-20 00': ['1.000E-002', '1.000E-002'], '2015-01-21 00': ['1.000E-002', '1.000E-002'], '2015-01-22 00': ['1.000E-002', '1.000E-002'], '2015-01-23 00': ['1.000E-002', '1.000E-002'], '2015-01-24 00': ['1.000E-002', '1.000E-002'], '2015-01-25 00': ['1.000E-002', '1.000E-002'], '2015-01-26 00': ['1.000E-002', '1.000E-002'], '2015-01-27 00': ['1.000E-002', '1.000E-002'], '2015-01-28 00': ['1.000E-002', '1.000E-002'], '2015-01-29 00': ['1.000E-002', '1.000E-002'], '2015-01-30 00': ['1.000E-002', '1.000E-002'], '2015-01-31 00': ['1.000E-002', '1.000E-002'], '2015-02-01 00': ['1.000E-002', '1.000E-002'], '2015-02-02 00': ['1.000E-002', '1.000E-002'], '2015-02-03 00': ['1.000E-002', '1.000E-002'], '2015-02-04 00': ['1.000E-002', '1.000E-002'], '2015-02-05 00': ['1.000E-002', '1.000E-002'], '2015-02-06 00': ['1.000E-002', '1.000E-002'], '2015-02-07 00': ['1.000E-002', '1.000E-002'], '2015-02-08 00': ['1.000E-002', '1.000E-002'], '2015-02-09 00': ['1.000E-002', '1.000E-002'], '2015-02-10 00': ['1.000E-002', '1.000E-002'], '2015-02-11 00': ['1.000E-002', '1.000E-002'], '2015-02-12 00': ['1.000E-002', '1.000E-002'], '2015-02-13 00': ['1.000E-002', '1.000E-002'], '2015-02-14 00': ['1.000E-002', '1.000E-002'], '2015-02-15 00': ['1.000E-002', '1.000E-002'], '2015-02-16 00': ['1.000E-002', '1.000E-002'], '2015-02-17 00': ['1.000E-002', '1.000E-002'], '2015-02-18 00': ['1.000E-002', '1.000E-002'], '2015-02-19 00': ['1.000E-002', '1.000E-002'], '2015-02-20 00': ['1.000E-002', '1.000E-002'], '2015-02-21 00': ['1.000E-002', '1.000E-002'], '2015-02-22 00': ['1.000E-002', '1.000E-002'], '2015-02-23 00': ['1.000E-002', '1.000E-002'], '2015-02-24 00': ['1.000E-002', '1.000E-002'], '2015-02-25 00': ['1.000E-002', '1.000E-002'], '2015-02-26 00': ['1.000E-002', '1.000E-002'], '2015-02-27 00': ['1.000E-002', '1.000E-002'], '2015-02-28 00': ['1.000E-002', '1.000E-002'], '2015-03-01 00': ['1.000E-002', '1.000E-002'], '2015-03-02 00': ['1.000E-002', '1.000E-002'], '2015-03-03 00': ['1.000E-002', '1.000E-002'], '2015-03-04 00': ['1.000E-002', '1.000E-002'], '2015-03-05 00': ['1.000E-002', '1.000E-002'], '2015-03-06 00': ['1.000E-002', '1.000E-002'], '2015-03-07 00': ['1.000E-002', '1.000E-002'], '2015-03-08 00': ['1.000E-002', '1.000E-002'], '2015-03-09 00': ['1.000E-002', '1.000E-002'], '2015-03-10 00': ['1.000E-002', '1.000E-002'], '2015-03-11 00': ['1.000E-002', '1.000E-002'], '2015-03-12 00': ['1.000E-002', '1.000E-002'], '2015-03-13 00': ['1.000E-002', '1.875E-002'], '2015-03-14 00': ['1.000E-002', '2.000E-002'], '2015-03-15 00': ['1.000E-002', '2.000E-002'], '2015-03-16 00': ['1.000E-002', '2.000E-002'], '2015-03-17 00': ['1.000E-002', '2.000E-002'], '2015-03-18 00': ['1.992E-002', '2.000E-002'], '2015-03-19 00': ['2.000E-002', '2.000E-002'], '2015-03-20 00': ['2.000E-002', '2.000E-002'], '2015-03-21 00': ['2.000E-002', '2.000E-002'], '2015-03-22 00': ['2.000E-002', '2.000E-002'], '2015-03-23 00': ['2.000E-002', '2.000E-002'], '2015-03-24 00': ['2.000E-002', '2.000E-002'], '2015-03-25 00': ['2.000E-002', '2.000E-002'], '2015-03-26 00': ['2.000E-002', '2.000E-002'], '2015-03-27 00': ['2.000E-002', '2.000E-002'], '2015-03-28 00': ['2.000E-002', '2.000E-002'], '2015-03-29 00': ['2.000E-002', '2.000E-002'], '2015-03-30 00': ['2.000E-002', '2.000E-002'], '2015-03-31 00': ['2.000E-002', '2.000E-002'], '2015-04-01 00': ['2.000E-002', '2.000E-002'], '2015-04-02 00': ['2.000E-002', '2.000E-002'], '2015-04-03 00': ['2.000E-002', '2.000E-002'], '2015-04-04 00': ['2.000E-002', '2.000E-002'], '2015-04-05 00': ['2.000E-002', '2.000E-002'], '2015-04-06 00': ['2.000E-002', '2.000E-002'], '2015-04-07 00': ['2.000E-002', '2.000E-002'], '2015-04-08 00': ['2.000E-002', '2.000E-002'], '2015-04-09 00': ['2.000E-002', '2.000E-002'], '2015-04-10 00': ['2.000E-002', '2.000E-002'], '2015-04-11 00': ['2.000E-002', '2.000E-002'], '2015-04-12 00': ['2.000E-002', '2.000E-002'], '2015-04-13 00': ['2.000E-002', '2.000E-002'], '2015-04-14 00': ['2.000E-002', '2.000E-002'], '2015-04-15 00': ['2.000E-002', '2.000E-002'], '2015-04-16 00': ['2.000E-002', '2.000E-002'], '2015-04-17 00': ['1.000E-002', '2.000E-002'], '2015-04-18 00': ['1.000E-002', '2.000E-002'], '2015-04-19 00': ['1.000E-002', '2.000E-002'], '2015-04-20 00': ['1.000E-002', '2.000E-002'], '2015-04-21 00': ['1.000E-002', '2.000E-002'], '2015-04-22 00': ['1.000E-002', '2.000E-002'], '2015-04-23 00': ['1.000E-002', '2.000E-002'], '2015-04-24 00': ['1.000E-002', '2.000E-002'], '2015-04-25 00': ['1.000E-002', '2.000E-002'], '2015-04-26 00': ['1.000E-002', '2.000E-002'], '2015-04-27 00': ['1.000E-002', '2.000E-002'], '2015-04-28 00': ['1.000E-002', '2.000E-002'], '2015-04-29 00': ['1.000E-002', '2.000E-002'], '2015-04-30 00': ['1.000E-002', '2.000E-002'], '2015-05-01 00': ['1.000E-002', '2.000E-002'], '2015-05-02 00': ['1.000E-002', '2.000E-002'], '2015-05-03 00': ['1.000E-002', '2.000E-002'], '2015-05-04 00': ['1.000E-002', '2.000E-002'], '2015-05-05 00': ['1.000E-002', '2.000E-002'], '2015-05-06 00': ['1.000E-002', '2.000E-002'], '2015-05-07 00': ['1.000E-002', '2.000E-002'], '2015-05-08 00': ['1.000E-002', '2.000E-002'], '2015-05-09 00': ['1.000E-002', '2.000E-002'], '2015-05-10 00': ['1.000E-002', '2.000E-002'], '2015-05-11 00': ['1.000E-002', '2.000E-002'], '2015-05-12 00': ['1.984E-002', '2.000E-002'], '2015-05-13 00': ['2.000E-002', '2.000E-002'], '2015-05-14 00': ['3.000E-002', '2.000E-002'], '2015-05-15 00': ['3.937E-002', '2.000E-002'], '2015-05-16 00': ['4.000E-002', '2.000E-002'], '2015-05-17 00': ['4.992E-002', '2.000E-002'], '2015-05-18 00': ['5.000E-002', '2.998E-002'], '2015-05-19 00': ['7.500E-002', '3.000E-002'], '2015-05-20 00': ['9.875E-002', '3.992E-002'], '2015-05-21 00': ['1.100E-001', '4.000E-002'], '2015-05-22 00': ['1.200E-001', '4.000E-002'], '2015-05-23 00': ['1.200E-001', '4.000E-002'], '2015-05-24 00': ['1.200E-001', '4.000E-002'], '2015-05-25 00': ['1.100E-001', '4.000E-002'], '2015-05-26 00': ['1.050E-001', '4.000E-002'], '2015-05-27 00': ['1.000E-001', '4.000E-002'], '2015-05-28 00': ['9.000E-002', '3.859E-002'], '2015-05-29 00': ['9.000E-002', '4.000E-002'], '2015-05-30 00': ['8.000E-002', '3.000E-002'], '2015-05-31 00': ['7.002E-002', '3.000E-002'], '2015-06-01 00': ['7.000E-002', '3.000E-002'], '2015-06-02 00': ['6.016E-002', '3.000E-002'], '2015-06-03 00': ['6.000E-002', '3.000E-002'], '2015-06-04 00': ['6.000E-002', '3.000E-002'], '2015-06-05 00': ['5.031E-002', '3.000E-002'], '2015-06-06 00': ['5.000E-002', '3.000E-002'], '2015-06-07 00': ['5.000E-002', '3.000E-002'], '2015-06-08 00': ['5.000E-002', '3.000E-002'], '2015-06-09 00': ['5.000E-002', '3.000E-002'], '2015-06-10 00': ['5.000E-002', '2.000E-002'], '2015-06-11 00': ['5.000E-002', '2.000E-002'], '2015-06-12 00': ['5.000E-002', '2.000E-002'], '2015-06-13 00': ['4.001E-002', '2.000E-002'], '2015-06-14 00': ['4.000E-002', '2.000E-002'], '2015-06-15 00': ['4.000E-002', '2.000E-002'], '2015-06-16 00': ['4.000E-002', '2.000E-002'], '2015-06-17 00': ['4.000E-002', '2.000E-002'], '2015-06-18 00': ['4.000E-002', '2.000E-002'], '2015-06-19 00': ['3.008E-002', '2.000E-002'], '2015-06-20 00': ['3.000E-002', '2.000E-002'], '2015-06-21 00': ['3.969E-002', '2.000E-002'], '2015-06-22 00': ['4.000E-002', '2.000E-002'], '2015-06-23 00': ['5.000E-002', '2.996E-002'], '2015-06-24 00': ['6.500E-002', '3.000E-002'], '2015-06-25 00': ['7.000E-002', '3.000E-002'], '2015-06-26 00': ['8.000E-002', '3.000E-002'], '2015-06-27 00': ['8.000E-002', '3.000E-002'], '2015-06-28 00': ['8.000E-002', '3.000E-002'], '2015-06-29 00': ['8.000E-002', '3.000E-002'], '2015-06-30 00': ['7.000E-002', '3.000E-002'], '2015-07-01 00': ['7.000E-002', '3.000E-002'], '2015-07-02 00': ['6.062E-002', '3.000E-002'], '2015-07-03 00': ['6.000E-002', '3.000E-002'], '2015-07-04 00': ['6.000E-002', '3.000E-002'], '2015-07-05 00': ['5.008E-002', '3.000E-002'], '2015-07-06 00': ['5.000E-002', '3.000E-002'], '2015-07-07 00': ['7.937E-002', '3.000E-002'], '2015-07-08 00': ['1.099E-001', '3.000E-002'], '2015-07-09 00': ['1.397E-001', '3.000E-002'], '2015-07-10 00': ['1.475E-001', '4.000E-002'], '2015-07-11 00': ['1.400E-001', '4.000E-002'], '2015-07-12 00': ['1.300E-001', '4.000E-002'], '2015-07-13 00': ['1.200E-001', '4.000E-002'], '2015-07-14 00': ['1.100E-001', '4.000E-002'], '2015-07-15 00': ['1.000E-001', '4.000E-002'], '2015-07-16 00': ['9.000E-002', '3.000E-002'], '2015-07-17 00': ['8.000E-002', '3.000E-002'], '2015-07-18 00': ['7.000E-002', '3.000E-002'], '2015-07-19 00': ['6.500E-002', '3.000E-002'], '2015-07-20 00': ['6.000E-002', '3.000E-002'], '2015-07-21 00': ['5.500E-002', '3.000E-002'], '2015-07-22 00': ['5.000E-002', '3.000E-002'], '2015-07-23 00': ['5.000E-002', '2.000E-002'], '2015-07-24 00': ['4.008E-002', '2.000E-002'], '2015-07-25 00': ['4.000E-002', '2.000E-002'], '2015-07-26 00': ['4.000E-002', '2.000E-002'], '2015-07-27 00': ['4.000E-002', '2.000E-002'], '2015-07-28 00': ['3.008E-002', '2.000E-002'], '2015-07-29 00': ['3.000E-002', '2.000E-002'], '2015-07-30 00': ['3.000E-002', '2.000E-002'], '2015-07-31 00': ['3.000E-002', '2.000E-002'], '2015-08-01 00': ['3.000E-002', '2.000E-002'], '2015-08-02 00': ['3.000E-002', '2.000E-002'], '2015-08-03 00': ['3.000E-002', '2.000E-002'], '2015-08-04 00': ['2.500E-002', '2.000E-002'], '2015-08-05 00': ['2.000E-002', '2.000E-002'], '2015-08-06 00': ['2.000E-002', '2.000E-002'], '2015-08-07 00': ['2.000E-002', '2.000E-002'], '2015-08-08 00': ['2.000E-002', '2.000E-002'], '2015-08-09 00': ['2.000E-002', '2.000E-002'], '2015-08-10 00': ['2.000E-002', '2.000E-002'], '2015-08-11 00': ['2.000E-002', '2.000E-002'], '2015-08-12 00': ['2.000E-002', '2.000E-002'], '2015-08-13 00': ['2.000E-002', '2.000E-002'], '2015-08-14 00': ['2.000E-002', '2.000E-002'], '2015-08-15 00': ['2.000E-002', '2.000E-002'], '2015-08-16 00': ['6.564E-002', '3.000E-002'], '2015-08-17 00': ['3.031E-002', '2.000E-002'], '2015-08-18 00': ['3.000E-002', '2.000E-002'], '2015-08-19 00': ['9.147E-002', '3.498E-002'], '2015-08-20 00': ['2.901E-001', '4.996E-002'], '2015-08-21 00': ['3.997E-001', '5.000E-002'], '2015-08-22 00': ['3.903E-001', '5.000E-002'], '2015-08-23 00': ['3.406E-001', '5.000E-002'], '2015-08-24 00': ['2.906E-001', '5.000E-002'], '2015-08-25 00': ['2.503E-001', '5.000E-002'], '2015-08-26 00': ['2.200E-001', '4.000E-002'], '2015-08-27 00': ['1.903E-001', '4.000E-002'], '2015-08-28 00': ['1.701E-001', '4.000E-002'], '2015-08-29 00': ['1.506E-001', '4.000E-002'], '2015-08-30 00': ['1.400E-001', '4.000E-002'], '2015-08-31 00': ['1.206E-001', '4.000E-002'], '2015-09-01 00': ['1.102E-001', '4.000E-002'], '2015-09-02 00': ['1.012E-001', '4.000E-002'], '2015-09-03 00': ['1.000E-001', '4.000E-002'], '2015-09-04 00': ['9.000E-002', '3.001E-002'], '2015-09-05 00': ['8.001E-002', '3.000E-002'], '2015-09-06 00': ['8.000E-002', '3.000E-002'], '2015-09-07 00': ['7.000E-002', '3.000E-002'], '2015-09-08 00': ['7.000E-002', '3.000E-002'], '2015-09-09 00': ['6.000E-002', '3.000E-002'], '2015-09-10 00': ['6.000E-002', '3.000E-002'], '2015-09-11 00': ['6.000E-002', '3.000E-002'], '2015-09-12 00': ['5.000E-002', '3.000E-002'], '2015-09-13 00': ['5.000E-002', '2.062E-002'], '2015-09-14 00': ['5.000E-002', '2.000E-002'], '2015-09-15 00': ['4.016E-002', '2.000E-002'], '2015-09-16 00': ['4.000E-002', '2.000E-002'], '2015-09-17 00': ['4.000E-002', '2.000E-002'], '2015-09-18 00': ['4.000E-002', '2.000E-002'], '2015-09-19 00': ['4.000E-002', '2.000E-002'], '2015-09-20 00': ['3.500E-002', '2.000E-002'], '2015-09-21 00': ['3.000E-002', '2.000E-002'], '2015-09-22 00': ['3.000E-002', '2.000E-002'], '2015-09-23 00': ['3.000E-002', '2.000E-002'], '2015-09-24 00': ['3.000E-002', '2.000E-002'], '2015-09-25 00': ['3.000E-002', '2.000E-002'], '2015-09-26 00': ['3.000E-002', '2.000E-002'], '2015-09-27 00': ['3.000E-002', '2.000E-002'], '2015-09-28 00': ['3.000E-002', '2.000E-002'], '2015-09-29 00': ['3.000E-002', '2.000E-002'], '2015-09-30 00': ['3.000E-002', '2.000E-002'], '2015-10-01 00': ['3.000E-002', '2.000E-002'], '2015-10-02 00': ['3.000E-002', '2.000E-002'], '2015-10-03 00': ['3.000E-002', '2.000E-002'], '2015-10-04 00': ['3.000E-002', '2.000E-002'], '2015-10-05 00': ['3.000E-002', '2.000E-002'], '2015-10-06 00': ['3.000E-002', '2.000E-002'], '2015-10-07 00': ['3.000E-002', '2.000E-002'], '2015-10-08 00': ['3.000E-002', '2.000E-002'], '2015-10-09 00': ['3.000E-002', '2.000E-002'], '2015-10-10 00': ['3.000E-002', '2.000E-002'], '2015-10-11 00': ['3.000E-002', '2.000E-002'], '2015-10-12 00': ['3.000E-002', '2.000E-002'], '2015-10-13 00': ['3.000E-002', '2.000E-002'], '2015-10-14 00': ['3.000E-002', '2.000E-002'], '2015-10-15 00': ['3.000E-002', '2.000E-002'], '2015-10-16 00': ['3.000E-002', '2.000E-002'], '2015-10-17 00': ['3.000E-002', '2.000E-002'], '2015-10-18 00': ['3.000E-002', '2.000E-002'], '2015-10-19 00': ['3.000E-002', '2.000E-002'], '2015-10-20 00': ['3.000E-002', '2.000E-002'], '2015-10-21 00': ['2.000E-002', '2.000E-002'], '2015-10-22 00': ['2.000E-002', '2.000E-002'], '2015-10-23 00': ['2.000E-002', '2.000E-002'], '2015-10-24 00': ['2.000E-002', '2.000E-002'], '2015-10-25 00': ['2.998E-002', '2.000E-002'], '2015-10-26 00': ['3.000E-002', '2.000E-002'], '2015-10-27 00': ['3.000E-002', '2.000E-002'], '2015-10-28 00': ['4.000E-002', '2.000E-002'], '2015-10-29 00': ['4.000E-002', '2.000E-002'], '2015-10-30 00': ['5.000E-002', '2.000E-002'], '2015-10-31 00': ['5.000E-002', '3.000E-002'], '2015-11-01 00': ['5.000E-002', '3.000E-002'], '2015-11-02 00': ['5.992E-002', '3.000E-002'], '2015-11-03 00': ['6.000E-002', '3.000E-002'], '2015-11-04 00': ['6.000E-002', '3.000E-002'], '2015-11-05 00': ['6.000E-002', '3.000E-002'], '2015-11-06 00': ['6.000E-002', '3.000E-002'], '2015-11-07 00': ['5.000E-002', '3.000E-002'], '2015-11-08 00': ['5.000E-002', '3.000E-002'], '2015-11-09 00': ['5.000E-002', '3.000E-002'], '2015-11-10 00': ['5.000E-002', '3.000E-002'], '2015-11-11 00': ['5.000E-002', '3.000E-002'], '2015-11-12 00': ['5.000E-002', '2.008E-002'], '2015-11-13 00': ['5.000E-002', '2.000E-002'], '2015-11-14 00': ['5.000E-002', '2.000E-002'], '2015-11-15 00': ['5.000E-002', '2.000E-002'], '2015-11-16 00': ['5.000E-002', '2.000E-002'], '2015-11-17 00': ['4.000E-002', '2.000E-002'], '2015-11-18 00': ['4.000E-002', '2.000E-002'], '2015-11-19 00': ['4.000E-002', '2.000E-002'], '2015-11-20 00': ['4.000E-002', '2.000E-002'], '2015-11-21 00': ['4.000E-002', '2.000E-002'], '2015-11-22 00': ['4.000E-002', '2.000E-002'], '2015-11-23 00': ['4.000E-002', '2.000E-002'], '2015-11-24 00': ['5.000E-002', '2.000E-002'], '2015-11-25 00': ['5.000E-002', '2.000E-002'], '2015-11-26 00': ['5.000E-002', '2.000E-002'], '2015-11-27 00': ['5.000E-002', '2.000E-002'], '2015-11-28 00': ['5.000E-002', '2.000E-002'], '2015-11-29 00': ['5.000E-002', '2.000E-002'], '2015-11-30 00': ['5.000E-002', '2.000E-002'], '2015-12-01 00': ['4.002E-002', '2.000E-002'], '2015-12-02 00': ['4.000E-002', '2.000E-002'], '2015-12-03 00': ['4.000E-002', '2.000E-002'], '2015-12-04 00': ['4.000E-002', '2.000E-002'], '2015-12-05 00': ['4.000E-002', '2.000E-002'], '2015-12-06 00': ['4.000E-002', '2.000E-002'], '2015-12-07 00': ['4.000E-002', '2.000E-002'], '2015-12-08 00': ['4.000E-002', '2.000E-002'], '2015-12-09 00': ['4.000E-002', '2.000E-002'], '2015-12-10 00': ['4.000E-002', '2.000E-002'], '2015-12-11 00': ['4.000E-002', '2.000E-002'], '2015-12-12 00': ['4.000E-002', '2.000E-002'], '2015-12-13 00': ['4.000E-002', '2.000E-002'], '2015-12-14 00': ['4.000E-002', '2.000E-002'], '2015-12-15 00': ['4.000E-002', '2.000E-002'], '2015-12-16 00': ['4.000E-002', '2.000E-002'], '2015-12-17 00': ['4.000E-002', '2.000E-002'], '2015-12-18 00': ['4.000E-002', '2.000E-002'], '2015-12-19 00': ['4.000E-002', '2.000E-002'], '2015-12-20 00': ['4.000E-002', '2.000E-002'], '2015-12-21 00': ['4.000E-002', '2.000E-002'], '2015-12-22 00': ['4.000E-002', '2.000E-002'], '2015-12-23 00': ['4.000E-002', '2.000E-002'], '2015-12-24 00': ['4.000E-002', '2.000E-002'], '2015-12-25 00': ['4.000E-002', '2.000E-002'], '2015-12-26 00': ['4.000E-002', '2.000E-002'], '2015-12-27 00': ['4.000E-002', '2.000E-002'], '2015-12-28 00': ['4.000E-002', '2.000E-002'], '2015-12-29 00': ['4.000E-002', '2.000E-002'], '2015-12-30 00': ['3.002E-002', '2.000E-002'], '2015-12-31 00': ['3.000E-002', '2.000E-002'], '2016-01-01 00': ['3.000E-002', '2.000E-002']})])"
      ]
     },
     "execution_count": 116,
     "metadata": {},
     "output_type": "execute_result"
    }
   ],
   "source": [
    "output1.items()"
   ]
  },
  {
   "cell_type": "code",
   "execution_count": 117,
   "id": "f05a0a6e",
   "metadata": {},
   "outputs": [
    {
     "data": {
      "text/plain": [
       "'nwm'"
      ]
     },
     "execution_count": 117,
     "metadata": {},
     "output_type": "execute_result"
    }
   ],
   "source": [
    "output1['dataSource']"
   ]
  },
  {
   "cell_type": "code",
   "execution_count": 118,
   "id": "08d2bfa1",
   "metadata": {},
   "outputs": [
    {
     "data": {
      "text/plain": [
       "{'retrieval_timestamp': '2022-07-26T17:05:50.004317',\n",
       " 'source_url': 's3://noaa-nwm-retro-v2-zarr-pds',\n",
       " 'variables': 'streamflow, velocity',\n",
       " 'TITLE': 'OUTPUT FROM WRF-Hydro v5.2.0-beta2',\n",
       " 'code_version': 'v5.2.0-beta2',\n",
       " 'featureType': 'timeSeries',\n",
       " 'model_configuration': 'retrospective',\n",
       " 'proj4': '+proj=lcc +units=m +a=6370000.0 +b=6370000.0 +lat_1=30.0 +lat_2=60.0 +lat_0=40.0 +lon_0=-97.0 +x_0=0 +y_0=0 +k_0=1.0 +nadgrids=@',\n",
       " 'column_1_units': 'm3 s-1',\n",
       " 'column_2_units': 'm s-1',\n",
       " 'column_1': 'streamflow-12698840',\n",
       " 'column_2': 'velocity-12698840',\n",
       " 'temporal_timestep': 'daily',\n",
       " 'nwm_timeZone': '',\n",
       " 'nwm_tz_offset': '0',\n",
       " 'request_url': '/api/hydrology/streamflow',\n",
       " 'retrievalTime': '1279 ms'}"
      ]
     },
     "execution_count": 118,
     "metadata": {},
     "output_type": "execute_result"
    }
   ],
   "source": [
    "output1['metadata']"
   ]
  },
  {
   "cell_type": "code",
   "execution_count": 52,
   "id": "0b4f51fe",
   "metadata": {},
   "outputs": [
    {
     "data": {
      "text/plain": [
       "'190587,190591,190617,190619,190643,190659,190579,190581,190565,190641,191293,190553,190549,191289,190545,191287,190523,190593,190621,190607,190637,190629,190611,190653,190615'"
      ]
     },
     "execution_count": 52,
     "metadata": {},
     "output_type": "execute_result"
    }
   ],
   "source": [
    "output1['metadata']['catchments']"
   ]
  },
  {
   "cell_type": "code",
   "execution_count": 53,
   "id": "c2692051",
   "metadata": {},
   "outputs": [
    {
     "name": "stdout",
     "output_type": "stream",
     "text": [
      "Help on method_descriptor:\n",
      "\n",
      "split(self, /, sep=None, maxsplit=-1)\n",
      "    Return a list of the words in the string, using sep as the delimiter string.\n",
      "    \n",
      "    sep\n",
      "      The delimiter according which to split the string.\n",
      "      None (the default value) means split according to any whitespace,\n",
      "      and discard empty strings from the result.\n",
      "    maxsplit\n",
      "      Maximum number of splits to do.\n",
      "      -1 (the default value) means no limit.\n",
      "\n"
     ]
    }
   ],
   "source": [
    "output1['metadata']['catchments']\n",
    "help(str.split)"
   ]
  },
  {
   "cell_type": "code",
   "execution_count": 54,
   "id": "94e44021",
   "metadata": {},
   "outputs": [
    {
     "name": "stdout",
     "output_type": "stream",
     "text": [
      "[['190587', '190591', '190617', '190619', '190643', '190659', '190579', '190581', '190565', '190641', '191293', '190553', '190549', '191289', '190545', '191287', '190523', '190593', '190621', '190607', '190637', '190629', '190611', '190653', '190615']]\n",
      "25\n"
     ]
    }
   ],
   "source": [
    "comid_list =[]\n",
    "comid_list.append(output1['metadata']['catchments'].split(sep=','))\n",
    "print(comid_list)\n",
    "length = len(comid_list[0])\n",
    "print(length)\n",
    "#comid_list[0][-1]"
   ]
  },
  {
   "cell_type": "code",
   "execution_count": 55,
   "id": "4b340efc",
   "metadata": {},
   "outputs": [
    {
     "name": "stdout",
     "output_type": "stream",
     "text": [
      "Hello World\n"
     ]
    }
   ],
   "source": [
    "print('Hello' + ' ' +'World')"
   ]
  },
  {
   "cell_type": "code",
   "execution_count": 56,
   "id": "c0fa92d9",
   "metadata": {},
   "outputs": [
    {
     "name": "stdout",
     "output_type": "stream",
     "text": [
      "https://ceamdev.ceeopdev.net/hms/rest/api/info/catchment?comid=190587\n",
      "200\n",
      "{'metadata': {'FROMCOMID': '190587', 'FROMHYDSEQ': '550017671', 'FROMLVLPAT': '550000622', 'TOCOMID': '190551', 'TOHYDSEQ': '550017608', 'TOLVLPAT': '550000622', 'NODENUMBER': '550000838', 'DELTALEVEL': '0', 'DIRECTION': '709', 'GAPDISTKM': '0', 'HasGeo': 'Y', 'TotDASqKM': '5277.42', 'DivDASqKM': '5277.42', 'Region': '10L', 'ComID': '190587', 'Fdate': '6/9/2012', 'StreamLeve': '3', 'StreamOrde': '5', 'StreamCalc': '5', 'FromNode': '550000847', 'ToNode': '550000838', 'Hydroseq': '550017671', 'LevelPathI': '550000622', 'Pathlength': '3929.854', 'TerminalPa': '350002977', 'Divergence': '0', 'StartFlag': '0', 'TerminalFl': '0', 'DnLevel': '3', 'ThinnerCod': '0', 'UpLevelPat': '550000622', 'UpHydroseq': '550017736', 'DnLevelPat': '550000622', 'DnMinorHyd': '0', 'DnDrainCou': '1', 'DnHydroseq': '550017608', 'FromMeas': '0', 'ToMeas': '100', 'ReachCode': '10190002000178', 'LengthKM': '3.955', 'Fcode': '46006', 'RtnDiv': '0', 'OutDiv': '0', 'DivEffect': '0', 'VPUIn': '0', 'VPUOut': '0', 'AreaSqKM': '4.8042', 'Tidal': '0', 'TOTMA': '0.07929940281', 'WBAreaType': '', 'CentroidLatitude': '39.29626174', 'CentroidLongitude': '-105.1996194', 'WBAREACOMI': 'NA', 'MAXELEVRAW': '-9998', 'MINELEVRAW': '191746', 'MAXELEVSMO': '192661', 'MINELEVSMO': '191984', 'SLOPE': '0.00171175', 'ELEVFIXED': '0', 'HWTYPE': '', 'STATUSFLAG': 'A', 'SLOPELENKM': '3.955', 'COMID': '190587', 'REACHCODE': '10190002000178', 'HUC12': '101900020407', 'TOHUC': '101900020408', 'Length': '0.0', 'BANKFULL_WIDTH': '51.60', 'BANKFULL_DEPTH': '1.58', 'BANKFULL_XSEC_AREA': '72.79'}}\n",
      "<class 'dict'>\n"
     ]
    },
    {
     "data": {
      "text/plain": [
       "('1.58', '72.79', '4.8042')"
      ]
     },
     "execution_count": 56,
     "metadata": {},
     "output_type": "execute_result"
    }
   ],
   "source": [
    "#https://ceamdev.ceeopdev.net/hms/rest/api/info/catchment?comid=9731484\n",
    "catch_char_url = ('https://ceamdev.ceeopdev.net/hms/rest/api/info/catchment?comid=' + str(comid_list[0][0]))\n",
    "print(catch_char_url)\n",
    "import requests\n",
    "#catch_char_url = ('https://ceamdev.ceeopdev.net/hms/rest/api/info/catchment?comid=' + str(comid[i]))\n",
    "response1 = requests.get(catch_char_url)\n",
    "print(response1.status_code)\n",
    "print(response1.json())\n",
    "catch_char = response1.json()\n",
    "#catch_char_dic = json.loads(catch_char.json())\n",
    "print(type(catch_char))\n",
    "catch_char['metadata']['BANKFULL_DEPTH'],catch_char['metadata']['BANKFULL_XSEC_AREA'], catch_char['metadata']['AreaSqKM']\n",
    "#catch_char_url1 = ('https://ceamdev.ceeopdev.net/hms/rest/api/info/catchment?comid=' + str(comid[i]))\n",
    "#response2 = requests.get(catch_char_url1)"
   ]
  },
  {
   "cell_type": "code",
   "execution_count": 57,
   "id": "50606200",
   "metadata": {},
   "outputs": [],
   "source": [
    "from dbfread import DBF\n",
    "\n",
    "d50 = DBF('NHDPlus_MediumResolution_D50.dbf')\n"
   ]
  },
  {
   "cell_type": "code",
   "execution_count": 58,
   "id": "2e231ed2",
   "metadata": {},
   "outputs": [
    {
     "data": {
      "text/plain": [
       "2691339"
      ]
     },
     "execution_count": 58,
     "metadata": {},
     "output_type": "execute_result"
    }
   ],
   "source": [
    "len(d50)"
   ]
  },
  {
   "cell_type": "code",
   "execution_count": 59,
   "id": "463e7b86",
   "metadata": {},
   "outputs": [
    {
     "name": "stdout",
     "output_type": "stream",
     "text": [
      "COMID,StreamOrde,TotDASqKM,D50[mm]\n"
     ]
    },
    {
     "data": {
      "text/plain": [
       "36"
      ]
     },
     "execution_count": 59,
     "metadata": {},
     "output_type": "execute_result"
    }
   ],
   "source": [
    "import sys; import csv\n",
    "\n",
    "writer = csv.writer(sys.stdout)\n",
    "\n",
    "writer.writerow(d50.field_names)\n",
    "\n"
   ]
  },
  {
   "cell_type": "code",
   "execution_count": 60,
   "id": "3a8ccf54",
   "metadata": {},
   "outputs": [],
   "source": [
    "from pandas import DataFrame\n",
    "\n",
    "frame = DataFrame(iter(d50))\n"
   ]
  },
  {
   "cell_type": "code",
   "execution_count": 61,
   "id": "1080f94f",
   "metadata": {},
   "outputs": [
    {
     "data": {
      "text/html": [
       "<div>\n",
       "<style scoped>\n",
       "    .dataframe tbody tr th:only-of-type {\n",
       "        vertical-align: middle;\n",
       "    }\n",
       "\n",
       "    .dataframe tbody tr th {\n",
       "        vertical-align: top;\n",
       "    }\n",
       "\n",
       "    .dataframe thead th {\n",
       "        text-align: right;\n",
       "    }\n",
       "</style>\n",
       "<table border=\"1\" class=\"dataframe\">\n",
       "  <thead>\n",
       "    <tr style=\"text-align: right;\">\n",
       "      <th></th>\n",
       "      <th>COMID</th>\n",
       "      <th>StreamOrde</th>\n",
       "      <th>TotDASqKM</th>\n",
       "      <th>D50[mm]</th>\n",
       "    </tr>\n",
       "  </thead>\n",
       "  <tbody>\n",
       "    <tr>\n",
       "      <th>1520089</th>\n",
       "      <td>190641</td>\n",
       "      <td>1.0</td>\n",
       "      <td>6.129</td>\n",
       "      <td>4.365057</td>\n",
       "    </tr>\n",
       "  </tbody>\n",
       "</table>\n",
       "</div>"
      ],
      "text/plain": [
       "          COMID  StreamOrde  TotDASqKM   D50[mm]\n",
       "1520089  190641         1.0      6.129  4.365057"
      ]
     },
     "execution_count": 61,
     "metadata": {},
     "output_type": "execute_result"
    }
   ],
   "source": [
    "frame.loc[frame['COMID']==190641]"
   ]
  },
  {
   "cell_type": "code",
   "execution_count": 62,
   "id": "b38b7bcb",
   "metadata": {},
   "outputs": [
    {
     "data": {
      "text/plain": [
       "1520089    4.365057\n",
       "Name: D50[mm], dtype: float64"
      ]
     },
     "execution_count": 62,
     "metadata": {},
     "output_type": "execute_result"
    }
   ],
   "source": [
    "frame['D50[mm]'].loc[frame['COMID']==190641] #median grain size"
   ]
  },
  {
   "cell_type": "code",
   "execution_count": null,
   "id": "2b783beb",
   "metadata": {},
   "outputs": [],
   "source": []
  },
  {
   "cell_type": "code",
   "execution_count": 28,
   "id": "7b14b19b",
   "metadata": {},
   "outputs": [],
   "source": [
    "def calc_vel(q, a):\n",
    "    \"to evaluate the stream velocity from the Streamflow and bankfull cross-sectional area expressed in m/s)\"\n",
    "    v = q/a\n",
    "    return v\n",
    "#calc_vel(1.66, float(catch_char['metadata']['BANKFULL_XSEC_AREA']))\n",
    "#import os  \n",
    "#os.makedirs('folder/subfolder', exist_ok=True)  \n",
    "#df.to_csv('folder/subfolder/out.csv')  \n"
   ]
  },
  {
   "cell_type": "code",
   "execution_count": 63,
   "id": "0543f52b",
   "metadata": {},
   "outputs": [
    {
     "name": "stdout",
     "output_type": "stream",
     "text": [
      "190587\n",
      "https://ceamdev.ceeopdev.net/hms/rest/api/info/catchment?comid=190587\n",
      "     COMID  StrLen       d50  StrDepth      Q    StrVel StrXArea        Date\n",
      "0   190587  3955.0  0.002309      1.58  0.111  0.001525    72.79  07/01/2014\n",
      "1   190587  3955.0  0.002309      1.58  0.131  0.001800    72.79  07/02/2014\n",
      "2   190587  3955.0  0.002309      1.58  0.147  0.002020    72.79  07/03/2014\n",
      "3   190587  3955.0  0.002309      1.58  0.171  0.002349    72.79  07/04/2014\n",
      "4   190587  3955.0  0.002309      1.58  0.185  0.002542    72.79  07/05/2014\n",
      "5   190587  3955.0  0.002309      1.58  0.206  0.002830    72.79  07/06/2014\n",
      "6   190587  3955.0  0.002309      1.58   0.23  0.003160    72.79  07/07/2014\n",
      "7   190587  3955.0  0.002309      1.58  0.309  0.004245    72.79  07/08/2014\n",
      "8   190587  3955.0  0.002309      1.58  0.262  0.003599    72.79  07/09/2014\n",
      "9   190587  3955.0  0.002309      1.58  0.255  0.003503    72.79  07/10/2014\n",
      "10  190587  3955.0  0.002309      1.58  0.543  0.007460    72.79  07/11/2014\n",
      "11  190587  3955.0  0.002309      1.58  0.239  0.003283    72.79  07/12/2014\n",
      "12  190587  3955.0  0.002309      1.58  0.815  0.011197    72.79  07/13/2014\n",
      "13  190587  3955.0  0.002309      1.58  0.228  0.003132    72.79  07/14/2014\n",
      "14  190587  3955.0  0.002309      1.58  0.245  0.003366    72.79  07/15/2014\n",
      "15  190587  3955.0  0.002309      1.58  0.254  0.003489    72.79  07/16/2014\n",
      "16  190587  3955.0  0.002309      1.58  0.663  0.009108    72.79  07/17/2014\n",
      "17  190587  3955.0  0.002309      1.58  0.227  0.003119    72.79  07/18/2014\n",
      "18  190587  3955.0  0.002309      1.58  0.237  0.003256    72.79  07/19/2014\n",
      "19  190587  3955.0  0.002309      1.58  0.246  0.003380    72.79  07/20/2014\n",
      "20  190587  3955.0  0.002309      1.58  0.254  0.003489    72.79  07/21/2014\n",
      "21  190587  3955.0  0.002309      1.58  0.263  0.003613    72.79  07/22/2014\n",
      "22  190587  3955.0  0.002309      1.58  0.296  0.004066    72.79  07/23/2014\n",
      "23  190587  3955.0  0.002309      1.58  0.279  0.003833    72.79  07/24/2014\n",
      "24  190587  3955.0  0.002309      1.58  0.315  0.004328    72.79  07/25/2014\n",
      "25  190587  3955.0  0.002309      1.58  0.294  0.004039    72.79  07/26/2014\n",
      "26  190587  3955.0  0.002309      1.58  0.341  0.004685    72.79  07/27/2014\n",
      "27  190587  3955.0  0.002309      1.58  0.456  0.006265    72.79  07/28/2014\n",
      "28  190587  3955.0  0.002309      1.58  0.335  0.004602    72.79  07/29/2014\n",
      "29  190587  3955.0  0.002309      1.58  0.429  0.005894    72.79  07/30/2014\n",
      "30  190587  3955.0  0.002309      1.58   0.56  0.007693    72.79  07/31/2014\n",
      "190591\n",
      "https://ceamdev.ceeopdev.net/hms/rest/api/info/catchment?comid=190591\n",
      "     COMID  StrLen       d50  StrDepth      Q    StrVel StrXArea        Date\n",
      "0   190591   247.0  0.001693      1.58  0.086  0.001183    72.71  07/01/2014\n",
      "1   190591   247.0  0.001693      1.58  0.101  0.001389    72.71  07/02/2014\n",
      "2   190591   247.0  0.001693      1.58  0.114  0.001568    72.71  07/03/2014\n",
      "3   190591   247.0  0.001693      1.58  0.133  0.001829    72.71  07/04/2014\n",
      "4   190591   247.0  0.001693      1.58  0.143  0.001967    72.71  07/05/2014\n",
      "5   190591   247.0  0.001693      1.58   0.16  0.002201    72.71  07/06/2014\n",
      "6   190591   247.0  0.001693      1.58  0.178  0.002448    72.71  07/07/2014\n",
      "7   190591   247.0  0.001693      1.58  0.241  0.003315    72.71  07/08/2014\n",
      "8   190591   247.0  0.001693      1.58  0.203  0.002792    72.71  07/09/2014\n",
      "9   190591   247.0  0.001693      1.58  0.198  0.002723    72.71  07/10/2014\n",
      "10  190591   247.0  0.001693      1.58  0.432  0.005941    72.71  07/11/2014\n",
      "11  190591   247.0  0.001693      1.58  0.186  0.002558    72.71  07/12/2014\n",
      "12  190591   247.0  0.001693      1.58  0.637  0.008761    72.71  07/13/2014\n",
      "13  190591   247.0  0.001693      1.58  0.178  0.002448    72.71  07/14/2014\n",
      "14  190591   247.0  0.001693      1.58  0.193  0.002654    72.71  07/15/2014\n",
      "15  190591   247.0  0.001693      1.58  0.199  0.002737    72.71  07/16/2014\n",
      "16  190591   247.0  0.001693      1.58  0.524  0.007207    72.71  07/17/2014\n",
      "17  190591   247.0  0.001693      1.58  0.179  0.002462    72.71  07/18/2014\n",
      "18  190591   247.0  0.001693      1.58  0.188  0.002586    72.71  07/19/2014\n",
      "19  190591   247.0  0.001693      1.58  0.195  0.002682    72.71  07/20/2014\n",
      "20  190591   247.0  0.001693      1.58  0.203  0.002792    72.71  07/21/2014\n",
      "21  190591   247.0  0.001693      1.58   0.21  0.002888    72.71  07/22/2014\n",
      "22  190591   247.0  0.001693      1.58  0.238  0.003273    72.71  07/23/2014\n",
      "23  190591   247.0  0.001693      1.58  0.225  0.003094    72.71  07/24/2014\n",
      "24  190591   247.0  0.001693      1.58  0.255  0.003507    72.71  07/25/2014\n",
      "25  190591   247.0  0.001693      1.58  0.239  0.003287    72.71  07/26/2014\n",
      "26  190591   247.0  0.001693      1.58  0.278  0.003823    72.71  07/27/2014\n",
      "27  190591   247.0  0.001693      1.58  0.372  0.005116    72.71  07/28/2014\n",
      "28  190591   247.0  0.001693      1.58  0.275  0.003782    72.71  07/29/2014\n",
      "29  190591   247.0  0.001693      1.58   0.35  0.004814    72.71  07/30/2014\n",
      "30  190591   247.0  0.001693      1.58  0.454  0.006244    72.71  07/31/2014\n",
      "190617\n",
      "https://ceamdev.ceeopdev.net/hms/rest/api/info/catchment?comid=190617\n",
      "     COMID  StrLen      d50  StrDepth      Q    StrVel StrXArea        Date\n",
      "0   190617  2127.0  0.00199      1.58  0.074  0.001018    72.68  07/01/2014\n",
      "1   190617  2127.0  0.00199      1.58  0.087  0.001197    72.68  07/02/2014\n",
      "2   190617  2127.0  0.00199      1.58  0.098  0.001348    72.68  07/03/2014\n",
      "3   190617  2127.0  0.00199      1.58  0.115  0.001582    72.68  07/04/2014\n",
      "4   190617  2127.0  0.00199      1.58  0.124  0.001706    72.68  07/05/2014\n",
      "5   190617  2127.0  0.00199      1.58  0.138  0.001899    72.68  07/06/2014\n",
      "6   190617  2127.0  0.00199      1.58  0.153  0.002105    72.68  07/07/2014\n",
      "7   190617  2127.0  0.00199      1.58  0.209  0.002876    72.68  07/08/2014\n",
      "8   190617  2127.0  0.00199      1.58  0.175  0.002408    72.68  07/09/2014\n",
      "9   190617  2127.0  0.00199      1.58  0.171  0.002353    72.68  07/10/2014\n",
      "10  190617  2127.0  0.00199      1.58   0.38  0.005228    72.68  07/11/2014\n",
      "11  190617  2127.0  0.00199      1.58  0.161  0.002215    72.68  07/12/2014\n",
      "12  190617  2127.0  0.00199      1.58  0.552  0.007595    72.68  07/13/2014\n",
      "13  190617  2127.0  0.00199      1.58  0.155  0.002133    72.68  07/14/2014\n",
      "14  190617  2127.0  0.00199      1.58  0.168  0.002312    72.68  07/15/2014\n",
      "15  190617  2127.0  0.00199      1.58  0.173  0.002380    72.68  07/16/2014\n",
      "16  190617  2127.0  0.00199      1.58  0.458  0.006302    72.68  07/17/2014\n",
      "17  190617  2127.0  0.00199      1.58  0.157  0.002160    72.68  07/18/2014\n",
      "18  190617  2127.0  0.00199      1.58  0.164  0.002256    72.68  07/19/2014\n",
      "19  190617  2127.0  0.00199      1.58  0.171  0.002353    72.68  07/20/2014\n",
      "20  190617  2127.0  0.00199      1.58  0.178  0.002449    72.68  07/21/2014\n",
      "21  190617  2127.0  0.00199      1.58  0.185  0.002545    72.68  07/22/2014\n",
      "22  190617  2127.0  0.00199      1.58  0.211  0.002903    72.68  07/23/2014\n",
      "23  190617  2127.0  0.00199      1.58    0.2  0.002752    72.68  07/24/2014\n",
      "24  190617  2127.0  0.00199      1.58  0.227  0.003123    72.68  07/25/2014\n",
      "25  190617  2127.0  0.00199      1.58  0.213  0.002931    72.68  07/26/2014\n",
      "26  190617  2127.0  0.00199      1.58  0.248  0.003412    72.68  07/27/2014\n",
      "27  190617  2127.0  0.00199      1.58  0.332  0.004568    72.68  07/28/2014\n",
      "28  190617  2127.0  0.00199      1.58  0.247  0.003398    72.68  07/29/2014\n",
      "29  190617  2127.0  0.00199      1.58  0.313  0.004307    72.68  07/30/2014\n",
      "30  190617  2127.0  0.00199      1.58  0.404  0.005559    72.68  07/31/2014\n",
      "190619\n",
      "https://ceamdev.ceeopdev.net/hms/rest/api/info/catchment?comid=190619\n",
      "     COMID  StrLen       d50  StrDepth      Q    StrVel StrXArea        Date\n",
      "0   190619   444.0  0.002807      1.58  0.042  0.000579    72.59  07/01/2014\n",
      "1   190619   444.0  0.002807      1.58  0.049  0.000675    72.59  07/02/2014\n",
      "2   190619   444.0  0.002807      1.58  0.055  0.000758    72.59  07/03/2014\n",
      "3   190619   444.0  0.002807      1.58  0.065  0.000895    72.59  07/04/2014\n",
      "4   190619   444.0  0.002807      1.58  0.069  0.000951    72.59  07/05/2014\n",
      "5   190619   444.0  0.002807      1.58  0.077  0.001061    72.59  07/06/2014\n",
      "6   190619   444.0  0.002807      1.58  0.086  0.001185    72.59  07/07/2014\n",
      "7   190619   444.0  0.002807      1.58  0.121  0.001667    72.59  07/08/2014\n",
      "8   190619   444.0  0.002807      1.58  0.099  0.001364    72.59  07/09/2014\n",
      "9   190619   444.0  0.002807      1.58  0.097  0.001336    72.59  07/10/2014\n",
      "10  190619   444.0  0.002807      1.58  0.236  0.003251    72.59  07/11/2014\n",
      "11  190619   444.0  0.002807      1.58  0.092  0.001267    72.59  07/12/2014\n",
      "12  190619   444.0  0.002807      1.58  0.321  0.004422    72.59  07/13/2014\n",
      "13  190619   444.0  0.002807      1.58   0.09  0.001240    72.59  07/14/2014\n",
      "14  190619   444.0  0.002807      1.58    0.1  0.001378    72.59  07/15/2014\n",
      "15  190619   444.0  0.002807      1.58  0.101  0.001391    72.59  07/16/2014\n",
      "16  190619   444.0  0.002807      1.58  0.278  0.003830    72.59  07/17/2014\n",
      "17  190619   444.0  0.002807      1.58  0.094  0.001295    72.59  07/18/2014\n",
      "18  190619   444.0  0.002807      1.58    0.1  0.001378    72.59  07/19/2014\n",
      "19  190619   444.0  0.002807      1.58  0.106  0.001460    72.59  07/20/2014\n",
      "20  190619   444.0  0.002807      1.58  0.111  0.001529    72.59  07/21/2014\n",
      "21  190619   444.0  0.002807      1.58  0.117  0.001612    72.59  07/22/2014\n",
      "22  190619   444.0  0.002807      1.58  0.136  0.001874    72.59  07/23/2014\n",
      "23  190619   444.0  0.002807      1.58   0.13  0.001791    72.59  07/24/2014\n",
      "24  190619   444.0  0.002807      1.58   0.15  0.002066    72.59  07/25/2014\n",
      "25  190619   444.0  0.002807      1.58  0.143  0.001970    72.59  07/26/2014\n",
      "26  190619   444.0  0.002807      1.58  0.167  0.002301    72.59  07/27/2014\n",
      "27  190619   444.0  0.002807      1.58  0.222  0.003058    72.59  07/28/2014\n",
      "28  190619   444.0  0.002807      1.58   0.17  0.002342    72.59  07/29/2014\n",
      "29  190619   444.0  0.002807      1.58   0.21  0.002893    72.59  07/30/2014\n",
      "30  190619   444.0  0.002807      1.58  0.267  0.003678    72.59  07/31/2014\n",
      "190643\n",
      "https://ceamdev.ceeopdev.net/hms/rest/api/info/catchment?comid=190643\n",
      "     COMID  StrLen       d50  StrDepth      Q    StrVel StrXArea        Date\n",
      "0   190643  1983.0  0.001693      1.58  0.035  0.000482    72.57  07/01/2014\n",
      "1   190643  1983.0  0.001693      1.58  0.041  0.000565    72.57  07/02/2014\n",
      "2   190643  1983.0  0.001693      1.58  0.046  0.000634    72.57  07/03/2014\n",
      "3   190643  1983.0  0.001693      1.58  0.054  0.000744    72.57  07/04/2014\n",
      "4   190643  1983.0  0.001693      1.58  0.058  0.000799    72.57  07/05/2014\n",
      "5   190643  1983.0  0.001693      1.58  0.065  0.000896    72.57  07/06/2014\n",
      "6   190643  1983.0  0.001693      1.58  0.072  0.000992    72.57  07/07/2014\n",
      "7   190643  1983.0  0.001693      1.58  0.104  0.001433    72.57  07/08/2014\n",
      "8   190643  1983.0  0.001693      1.58  0.083  0.001144    72.57  07/09/2014\n",
      "9   190643  1983.0  0.001693      1.58  0.082  0.001130    72.57  07/10/2014\n",
      "10  190643  1983.0  0.001693      1.58  0.207  0.002852    72.57  07/11/2014\n",
      "11  190643  1983.0  0.001693      1.58  0.078  0.001075    72.57  07/12/2014\n",
      "12  190643  1983.0  0.001693      1.58  0.274  0.003776    72.57  07/13/2014\n",
      "13  190643  1983.0  0.001693      1.58  0.077  0.001061    72.57  07/14/2014\n",
      "14  190643  1983.0  0.001693      1.58  0.086  0.001185    72.57  07/15/2014\n",
      "15  190643  1983.0  0.001693      1.58  0.087  0.001199    72.57  07/16/2014\n",
      "16  190643  1983.0  0.001693      1.58  0.241  0.003321    72.57  07/17/2014\n",
      "17  190643  1983.0  0.001693      1.58  0.082  0.001130    72.57  07/18/2014\n",
      "18  190643  1983.0  0.001693      1.58  0.087  0.001199    72.57  07/19/2014\n",
      "19  190643  1983.0  0.001693      1.58  0.092  0.001268    72.57  07/20/2014\n",
      "20  190643  1983.0  0.001693      1.58  0.098  0.001350    72.57  07/21/2014\n",
      "21  190643  1983.0  0.001693      1.58  0.104  0.001433    72.57  07/22/2014\n",
      "22  190643  1983.0  0.001693      1.58  0.121  0.001667    72.57  07/23/2014\n",
      "23  190643  1983.0  0.001693      1.58  0.116  0.001598    72.57  07/24/2014\n",
      "24  190643  1983.0  0.001693      1.58  0.134  0.001846    72.57  07/25/2014\n",
      "25  190643  1983.0  0.001693      1.58  0.129  0.001778    72.57  07/26/2014\n",
      "26  190643  1983.0  0.001693      1.58   0.15  0.002067    72.57  07/27/2014\n",
      "27  190643  1983.0  0.001693      1.58    0.2  0.002756    72.57  07/28/2014\n",
      "28  190643  1983.0  0.001693      1.58  0.155  0.002136    72.57  07/29/2014\n",
      "29  190643  1983.0  0.001693      1.58  0.189  0.002604    72.57  07/30/2014\n",
      "30  190643  1983.0  0.001693      1.58  0.239  0.003293    72.57  07/31/2014\n",
      "190659\n",
      "https://ceamdev.ceeopdev.net/hms/rest/api/info/catchment?comid=190659\n",
      "     COMID  StrLen       d50  StrDepth      Q    StrVel StrXArea        Date\n",
      "0   190659  1157.0  0.002769      1.58  0.001  0.000014    72.44  07/01/2014\n",
      "1   190659  1157.0  0.002769      1.58  0.002  0.000028    72.44  07/02/2014\n",
      "2   190659  1157.0  0.002769      1.58  0.002  0.000028    72.44  07/03/2014\n",
      "3   190659  1157.0  0.002769      1.58  0.002  0.000028    72.44  07/04/2014\n",
      "4   190659  1157.0  0.002769      1.58  0.002  0.000028    72.44  07/05/2014\n",
      "5   190659  1157.0  0.002769      1.58  0.003  0.000041    72.44  07/06/2014\n",
      "6   190659  1157.0  0.002769      1.58  0.003  0.000041    72.44  07/07/2014\n",
      "7   190659  1157.0  0.002769      1.58  0.004  0.000055    72.44  07/08/2014\n",
      "8   190659  1157.0  0.002769      1.58  0.003  0.000041    72.44  07/09/2014\n",
      "9   190659  1157.0  0.002769      1.58  0.003  0.000041    72.44  07/10/2014\n",
      "10  190659  1157.0  0.002769      1.58  0.007  0.000097    72.44  07/11/2014\n",
      "11  190659  1157.0  0.002769      1.58  0.003  0.000041    72.44  07/12/2014\n",
      "12  190659  1157.0  0.002769      1.58   0.01  0.000138    72.44  07/13/2014\n",
      "13  190659  1157.0  0.002769      1.58  0.003  0.000041    72.44  07/14/2014\n",
      "14  190659  1157.0  0.002769      1.58  0.003  0.000041    72.44  07/15/2014\n",
      "15  190659  1157.0  0.002769      1.58  0.003  0.000041    72.44  07/16/2014\n",
      "16  190659  1157.0  0.002769      1.58  0.008  0.000110    72.44  07/17/2014\n",
      "17  190659  1157.0  0.002769      1.58  0.003  0.000041    72.44  07/18/2014\n",
      "18  190659  1157.0  0.002769      1.58  0.003  0.000041    72.44  07/19/2014\n",
      "19  190659  1157.0  0.002769      1.58  0.003  0.000041    72.44  07/20/2014\n",
      "20  190659  1157.0  0.002769      1.58  0.003  0.000041    72.44  07/21/2014\n",
      "21  190659  1157.0  0.002769      1.58  0.003  0.000041    72.44  07/22/2014\n",
      "22  190659  1157.0  0.002769      1.58  0.003  0.000041    72.44  07/23/2014\n",
      "23  190659  1157.0  0.002769      1.58  0.003  0.000041    72.44  07/24/2014\n",
      "24  190659  1157.0  0.002769      1.58  0.003  0.000041    72.44  07/25/2014\n",
      "25  190659  1157.0  0.002769      1.58  0.003  0.000041    72.44  07/26/2014\n",
      "26  190659  1157.0  0.002769      1.58  0.004  0.000055    72.44  07/27/2014\n",
      "27  190659  1157.0  0.002769      1.58  0.005  0.000069    72.44  07/28/2014\n",
      "28  190659  1157.0  0.002769      1.58  0.003  0.000041    72.44  07/29/2014\n",
      "29  190659  1157.0  0.002769      1.58  0.005  0.000069    72.44  07/30/2014\n",
      "30  190659  1157.0  0.002769      1.58  0.006  0.000083    72.44  07/31/2014\n",
      "190579\n",
      "https://ceamdev.ceeopdev.net/hms/rest/api/info/catchment?comid=190579\n",
      "     COMID  StrLen       d50  StrDepth      Q    StrVel StrXArea        Date\n",
      "0   190579  4504.0  0.002221      0.51  0.101  0.044298     2.28  07/01/2014\n",
      "1   190579  4504.0  0.002221      0.51  0.119  0.052193     2.28  07/02/2014\n",
      "2   190579  4504.0  0.002221      0.51  0.133  0.058333     2.28  07/03/2014\n",
      "3   190579  4504.0  0.002221      0.51  0.157  0.068860     2.28  07/04/2014\n",
      "4   190579  4504.0  0.002221      0.51  0.168  0.073684     2.28  07/05/2014\n",
      "5   190579  4504.0  0.002221      0.51  0.187  0.082018     2.28  07/06/2014\n",
      "6   190579  4504.0  0.002221      0.51  0.209  0.091667     2.28  07/07/2014\n",
      "7   190579  4504.0  0.002221      0.51  0.275  0.120614     2.28  07/08/2014\n",
      "8   190579  4504.0  0.002221      0.51   0.24  0.105263     2.28  07/09/2014\n",
      "9   190579  4504.0  0.002221      0.51  0.235  0.103070     2.28  07/10/2014\n",
      "10  190579  4504.0  0.002221      0.51  0.448  0.196491     2.28  07/11/2014\n",
      "11  190579  4504.0  0.002221      0.51  0.226  0.099123     2.28  07/12/2014\n",
      "12  190579  4504.0  0.002221      0.51  0.735  0.322368     2.28  07/13/2014\n",
      "13  190579  4504.0  0.002221      0.51  0.214  0.093860     2.28  07/14/2014\n",
      "14  190579  4504.0  0.002221      0.51  0.235  0.103070     2.28  07/15/2014\n",
      "15  190579  4504.0  0.002221      0.51  0.237  0.103947     2.28  07/16/2014\n",
      "16  190579  4504.0  0.002221      0.51  0.586  0.257018     2.28  07/17/2014\n",
      "17  190579  4504.0  0.002221      0.51  0.205  0.089912     2.28  07/18/2014\n",
      "18  190579  4504.0  0.002221      0.51  0.211  0.092544     2.28  07/19/2014\n",
      "19  190579  4504.0  0.002221      0.51  0.215  0.094298     2.28  07/20/2014\n",
      "20  190579  4504.0  0.002221      0.51  0.218  0.095614     2.28  07/21/2014\n",
      "21  190579  4504.0  0.002221      0.51  0.222  0.097368     2.28  07/22/2014\n",
      "22  190579  4504.0  0.002221      0.51  0.244  0.107018     2.28  07/23/2014\n",
      "23  190579  4504.0  0.002221      0.51  0.233  0.102193     2.28  07/24/2014\n",
      "24  190579  4504.0  0.002221      0.51  0.266  0.116667     2.28  07/25/2014\n",
      "25  190579  4504.0  0.002221      0.51  0.231  0.101316     2.28  07/26/2014\n",
      "26  190579  4504.0  0.002221      0.51  0.263  0.115351     2.28  07/27/2014\n",
      "27  190579  4504.0  0.002221      0.51  0.352  0.154386     2.28  07/28/2014\n",
      "28  190579  4504.0  0.002221      0.51   0.25  0.109649     2.28  07/29/2014\n",
      "29  190579  4504.0  0.002221      0.51  0.345  0.151316     2.28  07/30/2014\n",
      "30  190579  4504.0  0.002221      0.51  0.462  0.202632     2.28  07/31/2014\n",
      "190581\n",
      "https://ceamdev.ceeopdev.net/hms/rest/api/info/catchment?comid=190581\n",
      "     COMID  StrLen      d50  StrDepth      Q    StrVel StrXArea        Date\n",
      "0   190581  1738.0  0.00208      0.37  0.016  0.018391     0.87  07/01/2014\n",
      "1   190581  1738.0  0.00208      0.37  0.019  0.021839     0.87  07/02/2014\n",
      "2   190581  1738.0  0.00208      0.37  0.021  0.024138     0.87  07/03/2014\n",
      "3   190581  1738.0  0.00208      0.37  0.028  0.032184     0.87  07/04/2014\n",
      "4   190581  1738.0  0.00208      0.37  0.027  0.031034     0.87  07/05/2014\n",
      "5   190581  1738.0  0.00208      0.37  0.031  0.035632     0.87  07/06/2014\n",
      "6   190581  1738.0  0.00208      0.37  0.035  0.040230     0.87  07/07/2014\n",
      "7   190581  1738.0  0.00208      0.37  0.048  0.055172     0.87  07/08/2014\n",
      "8   190581  1738.0  0.00208      0.37  0.042  0.048276     0.87  07/09/2014\n",
      "9   190581  1738.0  0.00208      0.37  0.043  0.049425     0.87  07/10/2014\n",
      "10  190581  1738.0  0.00208      0.37  0.075  0.086207     0.87  07/11/2014\n",
      "11  190581  1738.0  0.00208      0.37  0.047  0.054023     0.87  07/12/2014\n",
      "12  190581  1738.0  0.00208      0.37  0.135  0.155172     0.87  07/13/2014\n",
      "13  190581  1738.0  0.00208      0.37  0.046  0.052874     0.87  07/14/2014\n",
      "14  190581  1738.0  0.00208      0.37  0.059  0.067816     0.87  07/15/2014\n",
      "15  190581  1738.0  0.00208      0.37  0.052  0.059770     0.87  07/16/2014\n",
      "16  190581  1738.0  0.00208      0.37  0.119  0.136782     0.87  07/17/2014\n",
      "17  190581  1738.0  0.00208      0.37  0.044  0.050575     0.87  07/18/2014\n",
      "18  190581  1738.0  0.00208      0.37  0.044  0.050575     0.87  07/19/2014\n",
      "19  190581  1738.0  0.00208      0.37  0.045  0.051724     0.87  07/20/2014\n",
      "20  190581  1738.0  0.00208      0.37  0.045  0.051724     0.87  07/21/2014\n",
      "21  190581  1738.0  0.00208      0.37  0.045  0.051724     0.87  07/22/2014\n",
      "22  190581  1738.0  0.00208      0.37   0.05  0.057471     0.87  07/23/2014\n",
      "23  190581  1738.0  0.00208      0.37  0.053  0.060920     0.87  07/24/2014\n",
      "24  190581  1738.0  0.00208      0.37  0.066  0.075862     0.87  07/25/2014\n",
      "25  190581  1738.0  0.00208      0.37  0.048  0.055172     0.87  07/26/2014\n",
      "26  190581  1738.0  0.00208      0.37  0.051  0.058621     0.87  07/27/2014\n",
      "27  190581  1738.0  0.00208      0.37  0.068  0.078161     0.87  07/28/2014\n",
      "28  190581  1738.0  0.00208      0.37   0.05  0.057471     0.87  07/29/2014\n",
      "29  190581  1738.0  0.00208      0.37   0.08  0.091954     0.87  07/30/2014\n",
      "30  190581  1738.0  0.00208      0.37  0.107  0.122989     0.87  07/31/2014\n",
      "190565\n",
      "https://ceamdev.ceeopdev.net/hms/rest/api/info/catchment?comid=190565\n",
      "     COMID  StrLen       d50  StrDepth      Q    StrVel StrXArea        Date\n",
      "0   190565  1182.0  0.001659      0.25  0.005  0.018519     0.27  07/01/2014\n",
      "1   190565  1182.0  0.001659      0.25  0.006  0.022222     0.27  07/02/2014\n",
      "2   190565  1182.0  0.001659      0.25  0.007  0.025926     0.27  07/03/2014\n",
      "3   190565  1182.0  0.001659      0.25  0.008  0.029630     0.27  07/04/2014\n",
      "4   190565  1182.0  0.001659      0.25  0.008  0.029630     0.27  07/05/2014\n",
      "5   190565  1182.0  0.001659      0.25  0.009  0.033333     0.27  07/06/2014\n",
      "6   190565  1182.0  0.001659      0.25   0.01  0.037037     0.27  07/07/2014\n",
      "7   190565  1182.0  0.001659      0.25  0.014  0.051852     0.27  07/08/2014\n",
      "8   190565  1182.0  0.001659      0.25  0.012  0.044444     0.27  07/09/2014\n",
      "9   190565  1182.0  0.001659      0.25  0.011  0.040741     0.27  07/10/2014\n",
      "10  190565  1182.0  0.001659      0.25  0.022  0.081481     0.27  07/11/2014\n",
      "11  190565  1182.0  0.001659      0.25  0.011  0.040741     0.27  07/12/2014\n",
      "12  190565  1182.0  0.001659      0.25  0.036  0.133333     0.27  07/13/2014\n",
      "13  190565  1182.0  0.001659      0.25   0.01  0.037037     0.27  07/14/2014\n",
      "14  190565  1182.0  0.001659      0.25   0.01  0.037037     0.27  07/15/2014\n",
      "15  190565  1182.0  0.001659      0.25  0.011  0.040741     0.27  07/16/2014\n",
      "16  190565  1182.0  0.001659      0.25  0.028  0.103704     0.27  07/17/2014\n",
      "17  190565  1182.0  0.001659      0.25   0.01  0.037037     0.27  07/18/2014\n",
      "18  190565  1182.0  0.001659      0.25   0.01  0.037037     0.27  07/19/2014\n",
      "19  190565  1182.0  0.001659      0.25   0.01  0.037037     0.27  07/20/2014\n",
      "20  190565  1182.0  0.001659      0.25   0.01  0.037037     0.27  07/21/2014\n",
      "21  190565  1182.0  0.001659      0.25  0.011  0.040741     0.27  07/22/2014\n",
      "22  190565  1182.0  0.001659      0.25  0.012  0.044444     0.27  07/23/2014\n",
      "23  190565  1182.0  0.001659      0.25  0.011  0.040741     0.27  07/24/2014\n",
      "24  190565  1182.0  0.001659      0.25  0.012  0.044444     0.27  07/25/2014\n",
      "25  190565  1182.0  0.001659      0.25  0.011  0.040741     0.27  07/26/2014\n",
      "26  190565  1182.0  0.001659      0.25  0.013  0.048148     0.27  07/27/2014\n",
      "27  190565  1182.0  0.001659      0.25  0.017  0.062963     0.27  07/28/2014\n",
      "28  190565  1182.0  0.001659      0.25  0.012  0.044444     0.27  07/29/2014\n",
      "29  190565  1182.0  0.001659      0.25  0.016  0.059259     0.27  07/30/2014\n",
      "30  190565  1182.0  0.001659      0.25  0.021  0.077778     0.27  07/31/2014\n",
      "190641\n",
      "https://ceamdev.ceeopdev.net/hms/rest/api/info/catchment?comid=190641\n",
      "     COMID  StrLen       d50  StrDepth      Q    StrVel StrXArea        Date\n",
      "0   190641  3006.0  0.004365      0.35   0.01  0.014286     0.70  07/01/2014\n",
      "1   190641  3006.0  0.004365      0.35  0.012  0.017143     0.70  07/02/2014\n",
      "2   190641  3006.0  0.004365      0.35  0.014  0.020000     0.70  07/03/2014\n",
      "3   190641  3006.0  0.004365      0.35  0.016  0.022857     0.70  07/04/2014\n",
      "4   190641  3006.0  0.004365      0.35  0.017  0.024286     0.70  07/05/2014\n",
      "5   190641  3006.0  0.004365      0.35  0.019  0.027143     0.70  07/06/2014\n",
      "6   190641  3006.0  0.004365      0.35  0.022  0.031429     0.70  07/07/2014\n",
      "7   190641  3006.0  0.004365      0.35  0.037  0.052857     0.70  07/08/2014\n",
      "8   190641  3006.0  0.004365      0.35  0.025  0.035714     0.70  07/09/2014\n",
      "9   190641  3006.0  0.004365      0.35  0.026  0.037143     0.70  07/10/2014\n",
      "10  190641  3006.0  0.004365      0.35  0.098  0.140000     0.70  07/11/2014\n",
      "11  190641  3006.0  0.004365      0.35  0.026  0.037143     0.70  07/12/2014\n",
      "12  190641  3006.0  0.004365      0.35  0.099  0.141429     0.70  07/13/2014\n",
      "13  190641  3006.0  0.004365      0.35  0.028  0.040000     0.70  07/14/2014\n",
      "14  190641  3006.0  0.004365      0.35  0.035  0.050000     0.70  07/15/2014\n",
      "15  190641  3006.0  0.004365      0.35  0.033  0.047143     0.70  07/16/2014\n",
      "16  190641  3006.0  0.004365      0.35  0.105  0.150000     0.70  07/17/2014\n",
      "17  190641  3006.0  0.004365      0.35  0.035  0.050000     0.70  07/18/2014\n",
      "18  190641  3006.0  0.004365      0.35  0.038  0.054286     0.70  07/19/2014\n",
      "19  190641  3006.0  0.004365      0.35  0.043  0.061429     0.70  07/20/2014\n",
      "20  190641  3006.0  0.004365      0.35  0.047  0.067143     0.70  07/21/2014\n",
      "21  190641  3006.0  0.004365      0.35  0.052  0.074286     0.70  07/22/2014\n",
      "22  190641  3006.0  0.004365      0.35  0.064  0.091429     0.70  07/23/2014\n",
      "23  190641  3006.0  0.004365      0.35  0.063  0.090000     0.70  07/24/2014\n",
      "24  190641  3006.0  0.004365      0.35  0.076  0.108571     0.70  07/25/2014\n",
      "25  190641  3006.0  0.004365      0.35  0.075  0.107143     0.70  07/26/2014\n",
      "26  190641  3006.0  0.004365      0.35  0.088  0.125714     0.70  07/27/2014\n",
      "27  190641  3006.0  0.004365      0.35  0.117  0.167143     0.70  07/28/2014\n",
      "28  190641  3006.0  0.004365      0.35  0.096  0.137143     0.70  07/29/2014\n",
      "29  190641  3006.0  0.004365      0.35  0.112  0.160000     0.70  07/30/2014\n",
      "30  190641  3006.0  0.004365      0.35  0.135  0.192857     0.70  07/31/2014\n",
      "191293\n",
      "https://ceamdev.ceeopdev.net/hms/rest/api/info/catchment?comid=191293\n",
      "     COMID  StrLen       d50  StrDepth      Q    StrVel StrXArea        Date\n",
      "0   191293  1994.0  0.002845       0.3  0.002  0.004255     0.47  07/01/2014\n",
      "1   191293  1994.0  0.002845       0.3  0.002  0.004255     0.47  07/02/2014\n",
      "2   191293  1994.0  0.002845       0.3  0.002  0.004255     0.47  07/03/2014\n",
      "3   191293  1994.0  0.002845       0.3  0.003  0.006383     0.47  07/04/2014\n",
      "4   191293  1994.0  0.002845       0.3  0.003  0.006383     0.47  07/05/2014\n",
      "5   191293  1994.0  0.002845       0.3  0.003  0.006383     0.47  07/06/2014\n",
      "6   191293  1994.0  0.002845       0.3  0.004  0.008511     0.47  07/07/2014\n",
      "7   191293  1994.0  0.002845       0.3  0.014  0.029787     0.47  07/08/2014\n",
      "8   191293  1994.0  0.002845       0.3  0.005  0.010638     0.47  07/09/2014\n",
      "9   191293  1994.0  0.002845       0.3  0.006  0.012766     0.47  07/10/2014\n",
      "10  191293  1994.0  0.002845       0.3   0.06  0.127660     0.47  07/11/2014\n",
      "11  191293  1994.0  0.002845       0.3  0.008  0.017021     0.47  07/12/2014\n",
      "12  191293  1994.0  0.002845       0.3  0.037  0.078723     0.47  07/13/2014\n",
      "13  191293  1994.0  0.002845       0.3   0.01  0.021277     0.47  07/14/2014\n",
      "14  191293  1994.0  0.002845       0.3  0.017  0.036170     0.47  07/15/2014\n",
      "15  191293  1994.0  0.002845       0.3  0.014  0.029787     0.47  07/16/2014\n",
      "16  191293  1994.0  0.002845       0.3  0.057  0.121277     0.47  07/17/2014\n",
      "17  191293  1994.0  0.002845       0.3  0.018  0.038298     0.47  07/18/2014\n",
      "18  191293  1994.0  0.002845       0.3  0.021  0.044681     0.47  07/19/2014\n",
      "19  191293  1994.0  0.002845       0.3  0.025  0.053191     0.47  07/20/2014\n",
      "20  191293  1994.0  0.002845       0.3  0.029  0.061702     0.47  07/21/2014\n",
      "21  191293  1994.0  0.002845       0.3  0.034  0.072340     0.47  07/22/2014\n",
      "22  191293  1994.0  0.002845       0.3  0.044  0.093617     0.47  07/23/2014\n",
      "23  191293  1994.0  0.002845       0.3  0.045  0.095745     0.47  07/24/2014\n",
      "24  191293  1994.0  0.002845       0.3  0.055  0.117021     0.47  07/25/2014\n",
      "25  191293  1994.0  0.002845       0.3  0.056  0.119149     0.47  07/26/2014\n",
      "26  191293  1994.0  0.002845       0.3  0.066  0.140426     0.47  07/27/2014\n",
      "27  191293  1994.0  0.002845       0.3  0.088  0.187234     0.47  07/28/2014\n",
      "28  191293  1994.0  0.002845       0.3  0.076  0.161702     0.47  07/29/2014\n",
      "29  191293  1994.0  0.002845       0.3  0.085  0.180851     0.47  07/30/2014\n",
      "30  191293  1994.0  0.002845       0.3  0.098  0.208511     0.47  07/31/2014\n",
      "190553\n",
      "https://ceamdev.ceeopdev.net/hms/rest/api/info/catchment?comid=190553\n",
      "     COMID  StrLen       d50  StrDepth      Q    StrVel StrXArea        Date\n",
      "0   190553  1535.0  0.006042      0.48  0.045  0.023684     1.90  07/01/2014\n",
      "1   190553  1535.0  0.006042      0.48  0.053  0.027895     1.90  07/02/2014\n",
      "2   190553  1535.0  0.006042      0.48   0.06  0.031579     1.90  07/03/2014\n",
      "3   190553  1535.0  0.006042      0.48  0.072  0.037895     1.90  07/04/2014\n",
      "4   190553  1535.0  0.006042      0.48  0.076  0.040000     1.90  07/05/2014\n",
      "5   190553  1535.0  0.006042      0.48  0.085  0.044737     1.90  07/06/2014\n",
      "6   190553  1535.0  0.006042      0.48  0.095  0.050000     1.90  07/07/2014\n",
      "7   190553  1535.0  0.006042      0.48  0.161  0.084737     1.90  07/08/2014\n",
      "8   190553  1535.0  0.006042      0.48   0.11  0.057895     1.90  07/09/2014\n",
      "9   190553  1535.0  0.006042      0.48  0.112  0.058947     1.90  07/10/2014\n",
      "10  190553  1535.0  0.006042      0.48  0.421  0.221579     1.90  07/11/2014\n",
      "11  190553  1535.0  0.006042      0.48  0.112  0.058947     1.90  07/12/2014\n",
      "12  190553  1535.0  0.006042      0.48  0.427  0.224737     1.90  07/13/2014\n",
      "13  190553  1535.0  0.006042      0.48   0.12  0.063158     1.90  07/14/2014\n",
      "14  190553  1535.0  0.006042      0.48   0.15  0.078947     1.90  07/15/2014\n",
      "15  190553  1535.0  0.006042      0.48  0.142  0.074737     1.90  07/16/2014\n",
      "16  190553  1535.0  0.006042      0.48   0.45  0.236842     1.90  07/17/2014\n",
      "17  190553  1535.0  0.006042      0.48  0.149  0.078421     1.90  07/18/2014\n",
      "18  190553  1535.0  0.006042      0.48  0.165  0.086842     1.90  07/19/2014\n",
      "19  190553  1535.0  0.006042      0.48  0.183  0.096316     1.90  07/20/2014\n",
      "20  190553  1535.0  0.006042      0.48  0.202  0.106316     1.90  07/21/2014\n",
      "21  190553  1535.0  0.006042      0.48  0.223  0.117368     1.90  07/22/2014\n",
      "22  190553  1535.0  0.006042      0.48  0.273  0.143684     1.90  07/23/2014\n",
      "23  190553  1535.0  0.006042      0.48  0.269  0.141579     1.90  07/24/2014\n",
      "24  190553  1535.0  0.006042      0.48  0.323  0.170000     1.90  07/25/2014\n",
      "25  190553  1535.0  0.006042      0.48  0.321  0.168947     1.90  07/26/2014\n",
      "26  190553  1535.0  0.006042      0.48  0.375  0.197368     1.90  07/27/2014\n",
      "27  190553  1535.0  0.006042      0.48  0.499  0.262632     1.90  07/28/2014\n",
      "28  190553  1535.0  0.006042      0.48   0.41  0.215789     1.90  07/29/2014\n",
      "29  190553  1535.0  0.006042      0.48  0.477  0.251053     1.90  07/30/2014\n",
      "30  190553  1535.0  0.006042      0.48  0.575  0.302632     1.90  07/31/2014\n",
      "190549\n",
      "https://ceamdev.ceeopdev.net/hms/rest/api/info/catchment?comid=190549\n",
      "     COMID  StrLen       d50  StrDepth      Q    StrVel StrXArea        Date\n",
      "0   190549  2761.0  0.003523      0.41  0.019  0.016379     1.16  07/01/2014\n",
      "1   190549  2761.0  0.003523      0.41  0.022  0.018966     1.16  07/02/2014\n",
      "2   190549  2761.0  0.003523      0.41  0.025  0.021552     1.16  07/03/2014\n",
      "3   190549  2761.0  0.003523      0.41  0.031  0.026724     1.16  07/04/2014\n",
      "4   190549  2761.0  0.003523      0.41  0.032  0.027586     1.16  07/05/2014\n",
      "5   190549  2761.0  0.003523      0.41  0.036  0.031034     1.16  07/06/2014\n",
      "6   190549  2761.0  0.003523      0.41   0.04  0.034483     1.16  07/07/2014\n",
      "7   190549  2761.0  0.003523      0.41  0.073  0.062931     1.16  07/08/2014\n",
      "8   190549  2761.0  0.003523      0.41  0.047  0.040517     1.16  07/09/2014\n",
      "9   190549  2761.0  0.003523      0.41  0.048  0.041379     1.16  07/10/2014\n",
      "10  190549  2761.0  0.003523      0.41  0.209  0.180172     1.16  07/11/2014\n",
      "11  190549  2761.0  0.003523      0.41   0.05  0.043103     1.16  07/12/2014\n",
      "12  190549  2761.0  0.003523      0.41  0.195  0.168103     1.16  07/13/2014\n",
      "13  190549  2761.0  0.003523      0.41  0.054  0.046552     1.16  07/14/2014\n",
      "14  190549  2761.0  0.003523      0.41  0.071  0.061207     1.16  07/15/2014\n",
      "15  190549  2761.0  0.003523      0.41  0.066  0.056897     1.16  07/16/2014\n",
      "16  190549  2761.0  0.003523      0.41  0.218  0.187931     1.16  07/17/2014\n",
      "17  190549  2761.0  0.003523      0.41  0.071  0.061207     1.16  07/18/2014\n",
      "18  190549  2761.0  0.003523      0.41   0.08  0.068966     1.16  07/19/2014\n",
      "19  190549  2761.0  0.003523      0.41   0.09  0.077586     1.16  07/20/2014\n",
      "20  190549  2761.0  0.003523      0.41    0.1  0.086207     1.16  07/21/2014\n",
      "21  190549  2761.0  0.003523      0.41  0.112  0.096552     1.16  07/22/2014\n",
      "22  190549  2761.0  0.003523      0.41  0.139  0.119828     1.16  07/23/2014\n",
      "23  190549  2761.0  0.003523      0.41  0.138  0.118966     1.16  07/24/2014\n",
      "24  190549  2761.0  0.003523      0.41  0.167  0.143966     1.16  07/25/2014\n",
      "25  190549  2761.0  0.003523      0.41  0.167  0.143966     1.16  07/26/2014\n",
      "26  190549  2761.0  0.003523      0.41  0.195  0.168103     1.16  07/27/2014\n",
      "27  190549  2761.0  0.003523      0.41   0.26  0.224138     1.16  07/28/2014\n",
      "28  190549  2761.0  0.003523      0.41  0.216  0.186207     1.16  07/29/2014\n",
      "29  190549  2761.0  0.003523      0.41  0.249  0.214655     1.16  07/30/2014\n",
      "30  190549  2761.0  0.003523      0.41  0.297  0.256034     1.16  07/31/2014\n",
      "191289\n",
      "https://ceamdev.ceeopdev.net/hms/rest/api/info/catchment?comid=191289\n",
      "     COMID  StrLen       d50  StrDepth      Q    StrVel StrXArea        Date\n",
      "0   191289  3448.0  0.003986      0.37  0.004  0.004651     0.86  07/01/2014\n",
      "1   191289  3448.0  0.003986      0.37  0.004  0.004651     0.86  07/02/2014\n",
      "2   191289  3448.0  0.003986      0.37  0.005  0.005814     0.86  07/03/2014\n",
      "3   191289  3448.0  0.003986      0.37  0.008  0.009302     0.86  07/04/2014\n",
      "4   191289  3448.0  0.003986      0.37  0.007  0.008140     0.86  07/05/2014\n",
      "5   191289  3448.0  0.003986      0.37  0.008  0.009302     0.86  07/06/2014\n",
      "6   191289  3448.0  0.003986      0.37  0.009  0.010465     0.86  07/07/2014\n",
      "7   191289  3448.0  0.003986      0.37  0.033  0.038372     0.86  07/08/2014\n",
      "8   191289  3448.0  0.003986      0.37  0.012  0.013953     0.86  07/09/2014\n",
      "9   191289  3448.0  0.003986      0.37  0.014  0.016279     0.86  07/10/2014\n",
      "10  191289  3448.0  0.003986      0.37  0.143  0.166279     0.86  07/11/2014\n",
      "11  191289  3448.0  0.003986      0.37  0.018  0.020930     0.86  07/12/2014\n",
      "12  191289  3448.0  0.003986      0.37  0.088  0.102326     0.86  07/13/2014\n",
      "13  191289  3448.0  0.003986      0.37  0.025  0.029070     0.86  07/14/2014\n",
      "14  191289  3448.0  0.003986      0.37   0.04  0.046512     0.86  07/15/2014\n",
      "15  191289  3448.0  0.003986      0.37  0.033  0.038372     0.86  07/16/2014\n",
      "16  191289  3448.0  0.003986      0.37  0.135  0.156977     0.86  07/17/2014\n",
      "17  191289  3448.0  0.003986      0.37  0.043  0.050000     0.86  07/18/2014\n",
      "18  191289  3448.0  0.003986      0.37  0.051  0.059302     0.86  07/19/2014\n",
      "19  191289  3448.0  0.003986      0.37   0.06  0.069767     0.86  07/20/2014\n",
      "20  191289  3448.0  0.003986      0.37  0.069  0.080233     0.86  07/21/2014\n",
      "21  191289  3448.0  0.003986      0.37  0.081  0.094186     0.86  07/22/2014\n",
      "22  191289  3448.0  0.003986      0.37  0.105  0.122093     0.86  07/23/2014\n",
      "23  191289  3448.0  0.003986      0.37  0.106  0.123256     0.86  07/24/2014\n",
      "24  191289  3448.0  0.003986      0.37  0.131  0.152326     0.86  07/25/2014\n",
      "25  191289  3448.0  0.003986      0.37  0.134  0.155814     0.86  07/26/2014\n",
      "26  191289  3448.0  0.003986      0.37  0.157  0.182558     0.86  07/27/2014\n",
      "27  191289  3448.0  0.003986      0.37  0.209  0.243023     0.86  07/28/2014\n",
      "28  191289  3448.0  0.003986      0.37  0.181  0.210465     0.86  07/29/2014\n",
      "29  191289  3448.0  0.003986      0.37  0.202  0.234884     0.86  07/30/2014\n",
      "30  191289  3448.0  0.003986      0.37  0.234  0.272093     0.86  07/31/2014\n",
      "190545\n",
      "https://ceamdev.ceeopdev.net/hms/rest/api/info/catchment?comid=190545\n",
      "     COMID  StrLen       d50  StrDepth      Q    StrVel StrXArea        Date\n",
      "0   190545  1569.0  0.007433       0.4  0.022  0.019643     1.12  07/01/2014\n",
      "1   190545  1569.0  0.007433       0.4  0.026  0.023214     1.12  07/02/2014\n",
      "2   190545  1569.0  0.007433       0.4  0.029  0.025893     1.12  07/03/2014\n",
      "3   190545  1569.0  0.007433       0.4  0.035  0.031250     1.12  07/04/2014\n",
      "4   190545  1569.0  0.007433       0.4  0.037  0.033036     1.12  07/05/2014\n",
      "5   190545  1569.0  0.007433       0.4  0.042  0.037500     1.12  07/06/2014\n",
      "6   190545  1569.0  0.007433       0.4  0.047  0.041964     1.12  07/07/2014\n",
      "7   190545  1569.0  0.007433       0.4  0.077  0.068750     1.12  07/08/2014\n",
      "8   190545  1569.0  0.007433       0.4  0.054  0.048214     1.12  07/09/2014\n",
      "9   190545  1569.0  0.007433       0.4  0.055  0.049107     1.12  07/10/2014\n",
      "10  190545  1569.0  0.007433       0.4  0.195  0.174107     1.12  07/11/2014\n",
      "11  190545  1569.0  0.007433       0.4  0.055  0.049107     1.12  07/12/2014\n",
      "12  190545  1569.0  0.007433       0.4  0.205  0.183036     1.12  07/13/2014\n",
      "13  190545  1569.0  0.007433       0.4  0.057  0.050893     1.12  07/14/2014\n",
      "14  190545  1569.0  0.007433       0.4  0.071  0.063393     1.12  07/15/2014\n",
      "15  190545  1569.0  0.007433       0.4  0.067  0.059821     1.12  07/16/2014\n",
      "16  190545  1569.0  0.007433       0.4  0.211  0.188393     1.12  07/17/2014\n",
      "17  190545  1569.0  0.007433       0.4   0.07  0.062500     1.12  07/18/2014\n",
      "18  190545  1569.0  0.007433       0.4  0.077  0.068750     1.12  07/19/2014\n",
      "19  190545  1569.0  0.007433       0.4  0.085  0.075893     1.12  07/20/2014\n",
      "20  190545  1569.0  0.007433       0.4  0.093  0.083036     1.12  07/21/2014\n",
      "21  190545  1569.0  0.007433       0.4  0.103  0.091964     1.12  07/22/2014\n",
      "22  190545  1569.0  0.007433       0.4  0.125  0.111607     1.12  07/23/2014\n",
      "23  190545  1569.0  0.007433       0.4  0.123  0.109821     1.12  07/24/2014\n",
      "24  190545  1569.0  0.007433       0.4  0.147  0.131250     1.12  07/25/2014\n",
      "25  190545  1569.0  0.007433       0.4  0.145  0.129464     1.12  07/26/2014\n",
      "26  190545  1569.0  0.007433       0.4   0.17  0.151786     1.12  07/27/2014\n",
      "27  190545  1569.0  0.007433       0.4  0.226  0.201786     1.12  07/28/2014\n",
      "28  190545  1569.0  0.007433       0.4  0.185  0.165179     1.12  07/29/2014\n",
      "29  190545  1569.0  0.007433       0.4  0.216  0.192857     1.12  07/30/2014\n",
      "30  190545  1569.0  0.007433       0.4  0.262  0.233929     1.12  07/31/2014\n",
      "191287\n",
      "https://ceamdev.ceeopdev.net/hms/rest/api/info/catchment?comid=191287\n",
      "     COMID  StrLen       d50  StrDepth      Q    StrVel StrXArea        Date\n",
      "0   191287  3646.0  0.005015      0.35  0.003  0.004167     0.72  07/01/2014\n",
      "1   191287  3646.0  0.005015      0.35  0.003  0.004167     0.72  07/02/2014\n",
      "2   191287  3646.0  0.005015      0.35  0.004  0.005556     0.72  07/03/2014\n",
      "3   191287  3646.0  0.005015      0.35  0.006  0.008333     0.72  07/04/2014\n",
      "4   191287  3646.0  0.005015      0.35  0.005  0.006944     0.72  07/05/2014\n",
      "5   191287  3646.0  0.005015      0.35  0.006  0.008333     0.72  07/06/2014\n",
      "6   191287  3646.0  0.005015      0.35  0.007  0.009722     0.72  07/07/2014\n",
      "7   191287  3646.0  0.005015      0.35  0.025  0.034722     0.72  07/08/2014\n",
      "8   191287  3646.0  0.005015      0.35  0.009  0.012500     0.72  07/09/2014\n",
      "9   191287  3646.0  0.005015      0.35  0.011  0.015278     0.72  07/10/2014\n",
      "10  191287  3646.0  0.005015      0.35   0.11  0.152778     0.72  07/11/2014\n",
      "11  191287  3646.0  0.005015      0.35  0.014  0.019444     0.72  07/12/2014\n",
      "12  191287  3646.0  0.005015      0.35  0.068  0.094444     0.72  07/13/2014\n",
      "13  191287  3646.0  0.005015      0.35  0.019  0.026389     0.72  07/14/2014\n",
      "14  191287  3646.0  0.005015      0.35  0.031  0.043056     0.72  07/15/2014\n",
      "15  191287  3646.0  0.005015      0.35  0.025  0.034722     0.72  07/16/2014\n",
      "16  191287  3646.0  0.005015      0.35  0.104  0.144444     0.72  07/17/2014\n",
      "17  191287  3646.0  0.005015      0.35  0.033  0.045833     0.72  07/18/2014\n",
      "18  191287  3646.0  0.005015      0.35  0.039  0.054167     0.72  07/19/2014\n",
      "19  191287  3646.0  0.005015      0.35  0.046  0.063889     0.72  07/20/2014\n",
      "20  191287  3646.0  0.005015      0.35  0.054  0.075000     0.72  07/21/2014\n",
      "21  191287  3646.0  0.005015      0.35  0.062  0.086111     0.72  07/22/2014\n",
      "22  191287  3646.0  0.005015      0.35  0.081  0.112500     0.72  07/23/2014\n",
      "23  191287  3646.0  0.005015      0.35  0.082  0.113889     0.72  07/24/2014\n",
      "24  191287  3646.0  0.005015      0.35  0.101  0.140278     0.72  07/25/2014\n",
      "25  191287  3646.0  0.005015      0.35  0.104  0.144444     0.72  07/26/2014\n",
      "26  191287  3646.0  0.005015      0.35  0.121  0.168056     0.72  07/27/2014\n",
      "27  191287  3646.0  0.005015      0.35  0.162  0.225000     0.72  07/28/2014\n",
      "28  191287  3646.0  0.005015      0.35  0.139  0.193056     0.72  07/29/2014\n",
      "29  191287  3646.0  0.005015      0.35  0.155  0.215278     0.72  07/30/2014\n",
      "30  191287  3646.0  0.005015      0.35   0.18  0.250000     0.72  07/31/2014\n",
      "190523\n",
      "https://ceamdev.ceeopdev.net/hms/rest/api/info/catchment?comid=190523\n",
      "     COMID  StrLen       d50  StrDepth      Q    StrVel StrXArea        Date\n",
      "0   190523  2465.0  0.003666      0.32  0.015  0.026316     0.57  07/01/2014\n",
      "1   190523  2465.0  0.003666      0.32  0.018  0.031579     0.57  07/02/2014\n",
      "2   190523  2465.0  0.003666      0.32   0.02  0.035088     0.57  07/03/2014\n",
      "3   190523  2465.0  0.003666      0.32  0.023  0.040351     0.57  07/04/2014\n",
      "4   190523  2465.0  0.003666      0.32  0.025  0.043860     0.57  07/05/2014\n",
      "5   190523  2465.0  0.003666      0.32  0.028  0.049123     0.57  07/06/2014\n",
      "6   190523  2465.0  0.003666      0.32  0.031  0.054386     0.57  07/07/2014\n",
      "7   190523  2465.0  0.003666      0.32   0.04  0.070175     0.57  07/08/2014\n",
      "8   190523  2465.0  0.003666      0.32  0.035  0.061404     0.57  07/09/2014\n",
      "9   190523  2465.0  0.003666      0.32  0.034  0.059649     0.57  07/10/2014\n",
      "10  190523  2465.0  0.003666      0.32  0.066  0.115789     0.57  07/11/2014\n",
      "11  190523  2465.0  0.003666      0.32  0.032  0.056140     0.57  07/12/2014\n",
      "12  190523  2465.0  0.003666      0.32  0.106  0.185965     0.57  07/13/2014\n",
      "13  190523  2465.0  0.003666      0.32   0.03  0.052632     0.57  07/14/2014\n",
      "14  190523  2465.0  0.003666      0.32  0.031  0.054386     0.57  07/15/2014\n",
      "15  190523  2465.0  0.003666      0.32  0.033  0.057895     0.57  07/16/2014\n",
      "16  190523  2465.0  0.003666      0.32  0.082  0.143860     0.57  07/17/2014\n",
      "17  190523  2465.0  0.003666      0.32  0.029  0.050877     0.57  07/18/2014\n",
      "18  190523  2465.0  0.003666      0.32  0.029  0.050877     0.57  07/19/2014\n",
      "19  190523  2465.0  0.003666      0.32   0.03  0.052632     0.57  07/20/2014\n",
      "20  190523  2465.0  0.003666      0.32  0.031  0.054386     0.57  07/21/2014\n",
      "21  190523  2465.0  0.003666      0.32  0.031  0.054386     0.57  07/22/2014\n",
      "22  190523  2465.0  0.003666      0.32  0.034  0.059649     0.57  07/23/2014\n",
      "23  190523  2465.0  0.003666      0.32  0.032  0.056140     0.57  07/24/2014\n",
      "24  190523  2465.0  0.003666      0.32  0.035  0.061404     0.57  07/25/2014\n",
      "25  190523  2465.0  0.003666      0.32  0.032  0.056140     0.57  07/26/2014\n",
      "26  190523  2465.0  0.003666      0.32  0.037  0.064912     0.57  07/27/2014\n",
      "27  190523  2465.0  0.003666      0.32   0.05  0.087719     0.57  07/28/2014\n",
      "28  190523  2465.0  0.003666      0.32  0.035  0.061404     0.57  07/29/2014\n",
      "29  190523  2465.0  0.003666      0.32  0.047  0.082456     0.57  07/30/2014\n",
      "30  190523  2465.0  0.003666      0.32  0.063  0.110526     0.57  07/31/2014\n",
      "190593\n",
      "https://ceamdev.ceeopdev.net/hms/rest/api/info/catchment?comid=190593\n",
      "     COMID  StrLen       d50  StrDepth      Q    StrVel StrXArea        Date\n",
      "0   190593  3735.0  0.003037      0.31  0.012  0.025000     0.48  07/01/2014\n",
      "1   190593  3735.0  0.003037      0.31  0.014  0.029167     0.48  07/02/2014\n",
      "2   190593  3735.0  0.003037      0.31  0.015  0.031250     0.48  07/03/2014\n",
      "3   190593  3735.0  0.003037      0.31  0.018  0.037500     0.48  07/04/2014\n",
      "4   190593  3735.0  0.003037      0.31  0.019  0.039583     0.48  07/05/2014\n",
      "5   190593  3735.0  0.003037      0.31  0.021  0.043750     0.48  07/06/2014\n",
      "6   190593  3735.0  0.003037      0.31  0.024  0.050000     0.48  07/07/2014\n",
      "7   190593  3735.0  0.003037      0.31  0.031  0.064583     0.48  07/08/2014\n",
      "8   190593  3735.0  0.003037      0.31  0.027  0.056250     0.48  07/09/2014\n",
      "9   190593  3735.0  0.003037      0.31  0.026  0.054167     0.48  07/10/2014\n",
      "10  190593  3735.0  0.003037      0.31  0.051  0.106250     0.48  07/11/2014\n",
      "11  190593  3735.0  0.003037      0.31  0.024  0.050000     0.48  07/12/2014\n",
      "12  190593  3735.0  0.003037      0.31  0.082  0.170833     0.48  07/13/2014\n",
      "13  190593  3735.0  0.003037      0.31  0.023  0.047917     0.48  07/14/2014\n",
      "14  190593  3735.0  0.003037      0.31  0.024  0.050000     0.48  07/15/2014\n",
      "15  190593  3735.0  0.003037      0.31  0.025  0.052083     0.48  07/16/2014\n",
      "16  190593  3735.0  0.003037      0.31  0.064  0.133333     0.48  07/17/2014\n",
      "17  190593  3735.0  0.003037      0.31  0.022  0.045833     0.48  07/18/2014\n",
      "18  190593  3735.0  0.003037      0.31  0.023  0.047917     0.48  07/19/2014\n",
      "19  190593  3735.0  0.003037      0.31  0.023  0.047917     0.48  07/20/2014\n",
      "20  190593  3735.0  0.003037      0.31  0.024  0.050000     0.48  07/21/2014\n",
      "21  190593  3735.0  0.003037      0.31  0.024  0.050000     0.48  07/22/2014\n",
      "22  190593  3735.0  0.003037      0.31  0.027  0.056250     0.48  07/23/2014\n",
      "23  190593  3735.0  0.003037      0.31  0.025  0.052083     0.48  07/24/2014\n",
      "24  190593  3735.0  0.003037      0.31  0.027  0.056250     0.48  07/25/2014\n",
      "25  190593  3735.0  0.003037      0.31  0.025  0.052083     0.48  07/26/2014\n",
      "26  190593  3735.0  0.003037      0.31  0.029  0.060417     0.48  07/27/2014\n",
      "27  190593  3735.0  0.003037      0.31  0.039  0.081250     0.48  07/28/2014\n",
      "28  190593  3735.0  0.003037      0.31  0.027  0.056250     0.48  07/29/2014\n",
      "29  190593  3735.0  0.003037      0.31  0.036  0.075000     0.48  07/30/2014\n",
      "30  190593  3735.0  0.003037      0.31  0.049  0.102083     0.48  07/31/2014\n",
      "190621\n",
      "https://ceamdev.ceeopdev.net/hms/rest/api/info/catchment?comid=190621\n",
      "     COMID  StrLen       d50  StrDepth      Q    StrVel StrXArea        Date\n",
      "0   190621  1707.0  0.002558      0.26  0.006  0.020690     0.29  07/01/2014\n",
      "1   190621  1707.0  0.002558      0.26  0.007  0.024138     0.29  07/02/2014\n",
      "2   190621  1707.0  0.002558      0.26  0.007  0.024138     0.29  07/03/2014\n",
      "3   190621  1707.0  0.002558      0.26  0.009  0.031034     0.29  07/04/2014\n",
      "4   190621  1707.0  0.002558      0.26  0.009  0.031034     0.29  07/05/2014\n",
      "5   190621  1707.0  0.002558      0.26   0.01  0.034483     0.29  07/06/2014\n",
      "6   190621  1707.0  0.002558      0.26  0.011  0.037931     0.29  07/07/2014\n",
      "7   190621  1707.0  0.002558      0.26  0.015  0.051724     0.29  07/08/2014\n",
      "8   190621  1707.0  0.002558      0.26  0.013  0.044828     0.29  07/09/2014\n",
      "9   190621  1707.0  0.002558      0.26  0.013  0.044828     0.29  07/10/2014\n",
      "10  190621  1707.0  0.002558      0.26  0.025  0.086207     0.29  07/11/2014\n",
      "11  190621  1707.0  0.002558      0.26  0.012  0.041379     0.29  07/12/2014\n",
      "12  190621  1707.0  0.002558      0.26   0.04  0.137931     0.29  07/13/2014\n",
      "13  190621  1707.0  0.002558      0.26  0.011  0.037931     0.29  07/14/2014\n",
      "14  190621  1707.0  0.002558      0.26  0.012  0.041379     0.29  07/15/2014\n",
      "15  190621  1707.0  0.002558      0.26  0.012  0.041379     0.29  07/16/2014\n",
      "16  190621  1707.0  0.002558      0.26  0.031  0.106897     0.29  07/17/2014\n",
      "17  190621  1707.0  0.002558      0.26  0.011  0.037931     0.29  07/18/2014\n",
      "18  190621  1707.0  0.002558      0.26  0.011  0.037931     0.29  07/19/2014\n",
      "19  190621  1707.0  0.002558      0.26  0.011  0.037931     0.29  07/20/2014\n",
      "20  190621  1707.0  0.002558      0.26  0.011  0.037931     0.29  07/21/2014\n",
      "21  190621  1707.0  0.002558      0.26  0.012  0.041379     0.29  07/22/2014\n",
      "22  190621  1707.0  0.002558      0.26  0.013  0.044828     0.29  07/23/2014\n",
      "23  190621  1707.0  0.002558      0.26  0.012  0.041379     0.29  07/24/2014\n",
      "24  190621  1707.0  0.002558      0.26  0.013  0.044828     0.29  07/25/2014\n",
      "25  190621  1707.0  0.002558      0.26  0.012  0.041379     0.29  07/26/2014\n",
      "26  190621  1707.0  0.002558      0.26  0.014  0.048276     0.29  07/27/2014\n",
      "27  190621  1707.0  0.002558      0.26  0.019  0.065517     0.29  07/28/2014\n",
      "28  190621  1707.0  0.002558      0.26  0.013  0.044828     0.29  07/29/2014\n",
      "29  190621  1707.0  0.002558      0.26  0.018  0.062069     0.29  07/30/2014\n",
      "30  190621  1707.0  0.002558      0.26  0.023  0.079310     0.29  07/31/2014\n",
      "190607\n",
      "https://ceamdev.ceeopdev.net/hms/rest/api/info/catchment?comid=190607\n",
      "     COMID  StrLen       d50  StrDepth      Q    StrVel StrXArea        Date\n",
      "0   190607  1186.0  0.003703      0.21  0.002  0.013333     0.15  07/01/2014\n",
      "1   190607  1186.0  0.003703      0.21  0.002  0.013333     0.15  07/02/2014\n",
      "2   190607  1186.0  0.003703      0.21  0.003  0.020000     0.15  07/03/2014\n",
      "3   190607  1186.0  0.003703      0.21  0.003  0.020000     0.15  07/04/2014\n",
      "4   190607  1186.0  0.003703      0.21  0.003  0.020000     0.15  07/05/2014\n",
      "5   190607  1186.0  0.003703      0.21  0.004  0.026667     0.15  07/06/2014\n",
      "6   190607  1186.0  0.003703      0.21  0.004  0.026667     0.15  07/07/2014\n",
      "7   190607  1186.0  0.003703      0.21  0.006  0.040000     0.15  07/08/2014\n",
      "8   190607  1186.0  0.003703      0.21  0.005  0.033333     0.15  07/09/2014\n",
      "9   190607  1186.0  0.003703      0.21  0.005  0.033333     0.15  07/10/2014\n",
      "10  190607  1186.0  0.003703      0.21  0.009  0.060000     0.15  07/11/2014\n",
      "11  190607  1186.0  0.003703      0.21  0.004  0.026667     0.15  07/12/2014\n",
      "12  190607  1186.0  0.003703      0.21  0.015  0.100000     0.15  07/13/2014\n",
      "13  190607  1186.0  0.003703      0.21  0.004  0.026667     0.15  07/14/2014\n",
      "14  190607  1186.0  0.003703      0.21  0.004  0.026667     0.15  07/15/2014\n",
      "15  190607  1186.0  0.003703      0.21  0.005  0.033333     0.15  07/16/2014\n",
      "16  190607  1186.0  0.003703      0.21  0.012  0.080000     0.15  07/17/2014\n",
      "17  190607  1186.0  0.003703      0.21  0.004  0.026667     0.15  07/18/2014\n",
      "18  190607  1186.0  0.003703      0.21  0.004  0.026667     0.15  07/19/2014\n",
      "19  190607  1186.0  0.003703      0.21  0.004  0.026667     0.15  07/20/2014\n",
      "20  190607  1186.0  0.003703      0.21  0.004  0.026667     0.15  07/21/2014\n",
      "21  190607  1186.0  0.003703      0.21  0.004  0.026667     0.15  07/22/2014\n",
      "22  190607  1186.0  0.003703      0.21  0.005  0.033333     0.15  07/23/2014\n",
      "23  190607  1186.0  0.003703      0.21  0.004  0.026667     0.15  07/24/2014\n",
      "24  190607  1186.0  0.003703      0.21  0.005  0.033333     0.15  07/25/2014\n",
      "25  190607  1186.0  0.003703      0.21  0.005  0.033333     0.15  07/26/2014\n",
      "26  190607  1186.0  0.003703      0.21  0.005  0.033333     0.15  07/27/2014\n",
      "27  190607  1186.0  0.003703      0.21  0.007  0.046667     0.15  07/28/2014\n",
      "28  190607  1186.0  0.003703      0.21  0.005  0.033333     0.15  07/29/2014\n",
      "29  190607  1186.0  0.003703      0.21  0.007  0.046667     0.15  07/30/2014\n",
      "30  190607  1186.0  0.003703      0.21  0.009  0.060000     0.15  07/31/2014\n",
      "190637\n",
      "https://ceamdev.ceeopdev.net/hms/rest/api/info/catchment?comid=190637\n",
      "     COMID  StrLen       d50  StrDepth      Q    StrVel StrXArea        Date\n",
      "0   190637   641.0  0.002653       0.2  0.002  0.014286     0.14  07/01/2014\n",
      "1   190637   641.0  0.002653       0.2  0.002  0.014286     0.14  07/02/2014\n",
      "2   190637   641.0  0.002653       0.2  0.003  0.021429     0.14  07/03/2014\n",
      "3   190637   641.0  0.002653       0.2  0.003  0.021429     0.14  07/04/2014\n",
      "4   190637   641.0  0.002653       0.2  0.003  0.021429     0.14  07/05/2014\n",
      "5   190637   641.0  0.002653       0.2  0.004  0.028571     0.14  07/06/2014\n",
      "6   190637   641.0  0.002653       0.2  0.004  0.028571     0.14  07/07/2014\n",
      "7   190637   641.0  0.002653       0.2  0.005  0.035714     0.14  07/08/2014\n",
      "8   190637   641.0  0.002653       0.2  0.005  0.035714     0.14  07/09/2014\n",
      "9   190637   641.0  0.002653       0.2  0.004  0.028571     0.14  07/10/2014\n",
      "10  190637   641.0  0.002653       0.2  0.009  0.064286     0.14  07/11/2014\n",
      "11  190637   641.0  0.002653       0.2  0.004  0.028571     0.14  07/12/2014\n",
      "12  190637   641.0  0.002653       0.2  0.014  0.100000     0.14  07/13/2014\n",
      "13  190637   641.0  0.002653       0.2  0.004  0.028571     0.14  07/14/2014\n",
      "14  190637   641.0  0.002653       0.2  0.004  0.028571     0.14  07/15/2014\n",
      "15  190637   641.0  0.002653       0.2  0.004  0.028571     0.14  07/16/2014\n",
      "16  190637   641.0  0.002653       0.2  0.011  0.078571     0.14  07/17/2014\n",
      "17  190637   641.0  0.002653       0.2  0.004  0.028571     0.14  07/18/2014\n",
      "18  190637   641.0  0.002653       0.2  0.004  0.028571     0.14  07/19/2014\n",
      "19  190637   641.0  0.002653       0.2  0.004  0.028571     0.14  07/20/2014\n",
      "20  190637   641.0  0.002653       0.2  0.004  0.028571     0.14  07/21/2014\n",
      "21  190637   641.0  0.002653       0.2  0.004  0.028571     0.14  07/22/2014\n",
      "22  190637   641.0  0.002653       0.2  0.004  0.028571     0.14  07/23/2014\n",
      "23  190637   641.0  0.002653       0.2  0.004  0.028571     0.14  07/24/2014\n",
      "24  190637   641.0  0.002653       0.2  0.005  0.035714     0.14  07/25/2014\n",
      "25  190637   641.0  0.002653       0.2  0.004  0.028571     0.14  07/26/2014\n",
      "26  190637   641.0  0.002653       0.2  0.005  0.035714     0.14  07/27/2014\n",
      "27  190637   641.0  0.002653       0.2  0.006  0.042857     0.14  07/28/2014\n",
      "28  190637   641.0  0.002653       0.2  0.005  0.035714     0.14  07/29/2014\n",
      "29  190637   641.0  0.002653       0.2  0.006  0.042857     0.14  07/30/2014\n",
      "30  190637   641.0  0.002653       0.2  0.008  0.057143     0.14  07/31/2014\n",
      "190629\n",
      "https://ceamdev.ceeopdev.net/hms/rest/api/info/catchment?comid=190629\n",
      "     COMID  StrLen       d50  StrDepth      Q    StrVel StrXArea        Date\n",
      "0   190629  3767.0  0.002082      0.33  0.016  0.026667     0.60  07/01/2014\n",
      "1   190629  3767.0  0.002082      0.33  0.019  0.031667     0.60  07/02/2014\n",
      "2   190629  3767.0  0.002082      0.33  0.022  0.036667     0.60  07/03/2014\n",
      "3   190629  3767.0  0.002082      0.33  0.025  0.041667     0.60  07/04/2014\n",
      "4   190629  3767.0  0.002082      0.33  0.027  0.045000     0.60  07/05/2014\n",
      "5   190629  3767.0  0.002082      0.33   0.03  0.050000     0.60  07/06/2014\n",
      "6   190629  3767.0  0.002082      0.33  0.034  0.056667     0.60  07/07/2014\n",
      "7   190629  3767.0  0.002082      0.33  0.044  0.073333     0.60  07/08/2014\n",
      "8   190629  3767.0  0.002082      0.33  0.038  0.063333     0.60  07/09/2014\n",
      "9   190629  3767.0  0.002082      0.33  0.037  0.061667     0.60  07/10/2014\n",
      "10  190629  3767.0  0.002082      0.33  0.072  0.120000     0.60  07/11/2014\n",
      "11  190629  3767.0  0.002082      0.33  0.034  0.056667     0.60  07/12/2014\n",
      "12  190629  3767.0  0.002082      0.33  0.116  0.193333     0.60  07/13/2014\n",
      "13  190629  3767.0  0.002082      0.33  0.032  0.053333     0.60  07/14/2014\n",
      "14  190629  3767.0  0.002082      0.33  0.034  0.056667     0.60  07/15/2014\n",
      "15  190629  3767.0  0.002082      0.33  0.036  0.060000     0.60  07/16/2014\n",
      "16  190629  3767.0  0.002082      0.33   0.09  0.150000     0.60  07/17/2014\n",
      "17  190629  3767.0  0.002082      0.33  0.031  0.051667     0.60  07/18/2014\n",
      "18  190629  3767.0  0.002082      0.33  0.032  0.053333     0.60  07/19/2014\n",
      "19  190629  3767.0  0.002082      0.33  0.033  0.055000     0.60  07/20/2014\n",
      "20  190629  3767.0  0.002082      0.33  0.034  0.056667     0.60  07/21/2014\n",
      "21  190629  3767.0  0.002082      0.33  0.034  0.056667     0.60  07/22/2014\n",
      "22  190629  3767.0  0.002082      0.33  0.038  0.063333     0.60  07/23/2014\n",
      "23  190629  3767.0  0.002082      0.33  0.035  0.058333     0.60  07/24/2014\n",
      "24  190629  3767.0  0.002082      0.33  0.039  0.065000     0.60  07/25/2014\n",
      "25  190629  3767.0  0.002082      0.33  0.035  0.058333     0.60  07/26/2014\n",
      "26  190629  3767.0  0.002082      0.33  0.041  0.068333     0.60  07/27/2014\n",
      "27  190629  3767.0  0.002082      0.33  0.055  0.091667     0.60  07/28/2014\n",
      "28  190629  3767.0  0.002082      0.33  0.039  0.065000     0.60  07/29/2014\n",
      "29  190629  3767.0  0.002082      0.33  0.051  0.085000     0.60  07/30/2014\n",
      "30  190629  3767.0  0.002082      0.33  0.069  0.115000     0.60  07/31/2014\n",
      "190611\n",
      "https://ceamdev.ceeopdev.net/hms/rest/api/info/catchment?comid=190611\n",
      "     COMID  StrLen       d50  StrDepth      Q    StrVel StrXArea        Date\n",
      "0   190611  2853.0  0.001696      0.29  0.009  0.021951     0.41  07/01/2014\n",
      "1   190611  2853.0  0.001696      0.29  0.011  0.026829     0.41  07/02/2014\n",
      "2   190611  2853.0  0.001696      0.29  0.012  0.029268     0.41  07/03/2014\n",
      "3   190611  2853.0  0.001696      0.29  0.014  0.034146     0.41  07/04/2014\n",
      "4   190611  2853.0  0.001696      0.29  0.016  0.039024     0.41  07/05/2014\n",
      "5   190611  2853.0  0.001696      0.29  0.017  0.041463     0.41  07/06/2014\n",
      "6   190611  2853.0  0.001696      0.29  0.019  0.046341     0.41  07/07/2014\n",
      "7   190611  2853.0  0.001696      0.29  0.025  0.060976     0.41  07/08/2014\n",
      "8   190611  2853.0  0.001696      0.29  0.022  0.053659     0.41  07/09/2014\n",
      "9   190611  2853.0  0.001696      0.29  0.021  0.051220     0.41  07/10/2014\n",
      "10  190611  2853.0  0.001696      0.29  0.042  0.102439     0.41  07/11/2014\n",
      "11  190611  2853.0  0.001696      0.29   0.02  0.048780     0.41  07/12/2014\n",
      "12  190611  2853.0  0.001696      0.29  0.067  0.163415     0.41  07/13/2014\n",
      "13  190611  2853.0  0.001696      0.29  0.019  0.046341     0.41  07/14/2014\n",
      "14  190611  2853.0  0.001696      0.29   0.02  0.048780     0.41  07/15/2014\n",
      "15  190611  2853.0  0.001696      0.29  0.021  0.051220     0.41  07/16/2014\n",
      "16  190611  2853.0  0.001696      0.29  0.052  0.126829     0.41  07/17/2014\n",
      "17  190611  2853.0  0.001696      0.29  0.018  0.043902     0.41  07/18/2014\n",
      "18  190611  2853.0  0.001696      0.29  0.019  0.046341     0.41  07/19/2014\n",
      "19  190611  2853.0  0.001696      0.29  0.019  0.046341     0.41  07/20/2014\n",
      "20  190611  2853.0  0.001696      0.29  0.019  0.046341     0.41  07/21/2014\n",
      "21  190611  2853.0  0.001696      0.29   0.02  0.048780     0.41  07/22/2014\n",
      "22  190611  2853.0  0.001696      0.29  0.022  0.053659     0.41  07/23/2014\n",
      "23  190611  2853.0  0.001696      0.29   0.02  0.048780     0.41  07/24/2014\n",
      "24  190611  2853.0  0.001696      0.29  0.022  0.053659     0.41  07/25/2014\n",
      "25  190611  2853.0  0.001696      0.29   0.02  0.048780     0.41  07/26/2014\n",
      "26  190611  2853.0  0.001696      0.29  0.024  0.058537     0.41  07/27/2014\n",
      "27  190611  2853.0  0.001696      0.29  0.032  0.078049     0.41  07/28/2014\n",
      "28  190611  2853.0  0.001696      0.29  0.022  0.053659     0.41  07/29/2014\n",
      "29  190611  2853.0  0.001696      0.29   0.03  0.073171     0.41  07/30/2014\n",
      "30  190611  2853.0  0.001696      0.29   0.04  0.097561     0.41  07/31/2014\n",
      "190653\n",
      "https://ceamdev.ceeopdev.net/hms/rest/api/info/catchment?comid=190653\n",
      "     COMID  StrLen       d50  StrDepth      Q    StrVel StrXArea        Date\n",
      "0   190653  5497.0  0.002528      0.41  0.044  0.036975     1.19  07/01/2014\n",
      "1   190653  5497.0  0.002528      0.41  0.051  0.042857     1.19  07/02/2014\n",
      "2   190653  5497.0  0.002528      0.41  0.058  0.048739     1.19  07/03/2014\n",
      "3   190653  5497.0  0.002528      0.41  0.067  0.056303     1.19  07/04/2014\n",
      "4   190653  5497.0  0.002528      0.41  0.073  0.061345     1.19  07/05/2014\n",
      "5   190653  5497.0  0.002528      0.41  0.081  0.068067     1.19  07/06/2014\n",
      "6   190653  5497.0  0.002528      0.41   0.09  0.075630     1.19  07/07/2014\n",
      "7   190653  5497.0  0.002528      0.41  0.117  0.098319     1.19  07/08/2014\n",
      "8   190653  5497.0  0.002528      0.41  0.102  0.085714     1.19  07/09/2014\n",
      "9   190653  5497.0  0.002528      0.41  0.099  0.083193     1.19  07/10/2014\n",
      "10  190653  5497.0  0.002528      0.41  0.192  0.161345     1.19  07/11/2014\n",
      "11  190653  5497.0  0.002528      0.41  0.092  0.077311     1.19  07/12/2014\n",
      "12  190653  5497.0  0.002528      0.41   0.31  0.260504     1.19  07/13/2014\n",
      "13  190653  5497.0  0.002528      0.41  0.087  0.073109     1.19  07/14/2014\n",
      "14  190653  5497.0  0.002528      0.41  0.091  0.076471     1.19  07/15/2014\n",
      "15  190653  5497.0  0.002528      0.41  0.095  0.079832     1.19  07/16/2014\n",
      "16  190653  5497.0  0.002528      0.41  0.241  0.202521     1.19  07/17/2014\n",
      "17  190653  5497.0  0.002528      0.41  0.083  0.069748     1.19  07/18/2014\n",
      "18  190653  5497.0  0.002528      0.41  0.086  0.072269     1.19  07/19/2014\n",
      "19  190653  5497.0  0.002528      0.41  0.088  0.073950     1.19  07/20/2014\n",
      "20  190653  5497.0  0.002528      0.41   0.09  0.075630     1.19  07/21/2014\n",
      "21  190653  5497.0  0.002528      0.41  0.091  0.076471     1.19  07/22/2014\n",
      "22  190653  5497.0  0.002528      0.41    0.1  0.084034     1.19  07/23/2014\n",
      "23  190653  5497.0  0.002528      0.41  0.093  0.078151     1.19  07/24/2014\n",
      "24  190653  5497.0  0.002528      0.41  0.103  0.086555     1.19  07/25/2014\n",
      "25  190653  5497.0  0.002528      0.41  0.094  0.078992     1.19  07/26/2014\n",
      "26  190653  5497.0  0.002528      0.41  0.109  0.091597     1.19  07/27/2014\n",
      "27  190653  5497.0  0.002528      0.41  0.146  0.122689     1.19  07/28/2014\n",
      "28  190653  5497.0  0.002528      0.41  0.103  0.086555     1.19  07/29/2014\n",
      "29  190653  5497.0  0.002528      0.41  0.137  0.115126     1.19  07/30/2014\n",
      "30  190653  5497.0  0.002528      0.41  0.184  0.154622     1.19  07/31/2014\n",
      "190615\n",
      "https://ceamdev.ceeopdev.net/hms/rest/api/info/catchment?comid=190615\n",
      "     COMID  StrLen       d50  StrDepth      Q    StrVel StrXArea        Date\n",
      "0   190615  3982.0  0.002161      0.33  0.005  0.007937     0.63  07/01/2014\n",
      "1   190615  3982.0  0.002161      0.33  0.006  0.009524     0.63  07/02/2014\n",
      "2   190615  3982.0  0.002161      0.33  0.007  0.011111     0.63  07/03/2014\n",
      "3   190615  3982.0  0.002161      0.33  0.011  0.017460     0.63  07/04/2014\n",
      "4   190615  3982.0  0.002161      0.33   0.01  0.015873     0.63  07/05/2014\n",
      "5   190615  3982.0  0.002161      0.33  0.011  0.017460     0.63  07/06/2014\n",
      "6   190615  3982.0  0.002161      0.33  0.013  0.020635     0.63  07/07/2014\n",
      "7   190615  3982.0  0.002161      0.33  0.019  0.030159     0.63  07/08/2014\n",
      "8   190615  3982.0  0.002161      0.33  0.017  0.026984     0.63  07/09/2014\n",
      "9   190615  3982.0  0.002161      0.33  0.019  0.030159     0.63  07/10/2014\n",
      "10  190615  3982.0  0.002161      0.33  0.029  0.046032     0.63  07/11/2014\n",
      "11  190615  3982.0  0.002161      0.33  0.025  0.039683     0.63  07/12/2014\n",
      "12  190615  3982.0  0.002161      0.33   0.06  0.095238     0.63  07/13/2014\n",
      "13  190615  3982.0  0.002161      0.33  0.025  0.039683     0.63  07/14/2014\n",
      "14  190615  3982.0  0.002161      0.33  0.036  0.057143     0.63  07/15/2014\n",
      "15  190615  3982.0  0.002161      0.33  0.029  0.046032     0.63  07/16/2014\n",
      "16  190615  3982.0  0.002161      0.33   0.06  0.095238     0.63  07/17/2014\n",
      "17  190615  3982.0  0.002161      0.33  0.023  0.036508     0.63  07/18/2014\n",
      "18  190615  3982.0  0.002161      0.33  0.023  0.036508     0.63  07/19/2014\n",
      "19  190615  3982.0  0.002161      0.33  0.023  0.036508     0.63  07/20/2014\n",
      "20  190615  3982.0  0.002161      0.33  0.023  0.036508     0.63  07/21/2014\n",
      "21  190615  3982.0  0.002161      0.33  0.023  0.036508     0.63  07/22/2014\n",
      "22  190615  3982.0  0.002161      0.33  0.025  0.039683     0.63  07/23/2014\n",
      "23  190615  3982.0  0.002161      0.33   0.03  0.047619     0.63  07/24/2014\n",
      "24  190615  3982.0  0.002161      0.33  0.041  0.065079     0.63  07/25/2014\n",
      "25  190615  3982.0  0.002161      0.33  0.025  0.039683     0.63  07/26/2014\n",
      "26  190615  3982.0  0.002161      0.33  0.024  0.038095     0.63  07/27/2014\n",
      "27  190615  3982.0  0.002161      0.33  0.033  0.052381     0.63  07/28/2014\n",
      "28  190615  3982.0  0.002161      0.33  0.025  0.039683     0.63  07/29/2014\n",
      "29  190615  3982.0  0.002161      0.33  0.046  0.073016     0.63  07/30/2014\n",
      "30  190615  3982.0  0.002161      0.33  0.062  0.098413     0.63  07/31/2014\n"
     ]
    }
   ],
   "source": [
    "for comid in comid_list:\n",
    "    for i in range(length):\n",
    "        #print([i])\n",
    "        print(comid[i])\n",
    "        #if comid[i] == (frame.loc[frame['COMID']])\n",
    "        #print([frame['COMID']==comid[i]])\n",
    "        #print(comid[i], output1['table'][comid[i]]['LengthKM'])\n",
    "        #print(output1['data'][comid[i]]['StreamHydrology']['data'])\n",
    "        catch_char_url1 = ('https://ceamdev.ceeopdev.net/hms/rest/api/info/catchment?comid=' + str(comid[i]))\n",
    "        print(catch_char_url1)\n",
    "        response2 = requests.get(catch_char_url1)\n",
    "        catch_char1 = response2.json()\n",
    "        #print(catch_char1)\n",
    "        df_test = pd.DataFrame(output1['data'][comid[i]]['StreamHydrology']['data'].items(), columns=['Date', 'Strflw'])\n",
    "        #df_test['Strflw'].replace('[', '').replace(']', '')\n",
    "        df_test['COMID'] = comid[i]\n",
    "        df_test['StrLen'] = float(output1['table'][comid[i]]['LengthKM'])*1000 #conversion for stream length\n",
    "        df_test['StrDepth'] = float(catch_char1['metadata']['BANKFULL_DEPTH'])\n",
    "        df_test['StrXArea'] = catch_char1['metadata']['BANKFULL_XSEC_AREA']\n",
    "        #flow_q =[]\n",
    "        df_test['Q'] = df_test['Strflw'].astype(str).str[2:-2]\n",
    "        #df_test['Q'] = str(df_test['Strflw'])[2:-2]\n",
    "        velocity_lst = []\n",
    "        #df_test['dtic'] = 0\n",
    "        df_test['d50'] = float(frame['D50[mm]'].loc[frame['COMID']==float(comid[i])])*0.001 #median grain size\n",
    "        output_1 = ('water_char_' + str(comid[i]) + '_3.csv')\n",
    "        #df_test['Q'][i] = str(df_test['Strflw'][i])[2:-2]\n",
    "        #for i in df_test.index: print((float(str(df_test['Strflw'][i])[2:-2]))/ float(df_test['StrXArea'][i]))\n",
    "        for i in df_test.index: velocity_lst.append((float(str(df_test['Strflw'][i])[2:-2]))/ float(df_test['StrXArea'][i]))\n",
    "        #for i in df_test.index: velocity_lst.append((float(df_test['Strflw'][i]))/ float(df_test['StrXArea'][i]))\n",
    "        df_test['StrVel'] = velocity_lst\n",
    "        \n",
    "        #df_test[q]df_test['Strflw']\n",
    "        #df_test['dtic'] = df_test['StrLen'][i]/df_test['StrVel'][i]\n",
    "        #velocity_lst.append((float(str(df_test['Strflw'][i])[2:-2]))/ float(df_test['StrXArea'][i])) #We need to make sure units are correct\n",
    "        #print(velocity_lst)\n",
    "            #df_test['StrVel'] = velocity_lst\n",
    "        #for i in df_test.index: tic.append(float((df_test['StrLen'][i])/float((df_test['StrVel'][i])))) \n",
    "        #df_test['dtic'] = (df_test['StrLen'][i])/float(df_test['StrVel'][i])\n",
    "        #df_test.apply(calc_vel())\n",
    "        #df_test['StrVel'] = calc_vel(df_test['Strflw'], df_test['StrXArea'])\n",
    "        #    for row in df_test\n",
    "        #df_test.iloc[0,:]\n",
    "# Daily time in stream  df_test['dtic'] = df_test['StrLen'][i]/ df_test['StrVel'][i] \n",
    "        #strvel = []\n",
    "        #df_test['StrVel'] = df_test['Strflw']/df_test['StrXArea']\n",
    "        #Q(m3/s)/A(m2) = v(u)\n",
    "        #print(strvel)\n",
    "        #['COMID', 'Length', 'MedDia', 'Depth', 'Strflw', 'StrVel', 'Area' ])\n",
    "        #df_test_2 = df_test[['COMID', 'StrLen', 'd50', 'StrDepth', 'Strflw', 'StrVel', 'StrXArea']]\n",
    "        df_test = df_test[['COMID', 'StrLen', 'd50', 'StrDepth', 'Q', 'StrVel', 'StrXArea', 'Date']]\n",
    "        #df_test = df_test[['COMID', 'StrLen', 'd50', 'StrDepth', 'Q', 'StrVel', 'StrXArea']] \n",
    "\n",
    "        #df_test['Strflw'][i] = str(df_test['Strflw'][i])[2:-2]\n",
    "        #str(df_test['Strflw']).replace('[',' ')\n",
    "        #df_test.to_csv(output_1, index=False, header=False)\n",
    "        print(df_test) #df_test.drop(columns={'Strflw'})\n",
    "        #print(calc_vel)\n",
    "        # if i>2  then df_test.append(df_test)\n",
    "        #print(df_test)"
   ]
  },
  {
   "cell_type": "code",
   "execution_count": 30,
   "id": "c8101dc2",
   "metadata": {},
   "outputs": [
    {
     "ename": "KeyError",
     "evalue": "'Strflw'",
     "output_type": "error",
     "traceback": [
      "\u001b[1;31m---------------------------------------------------------------------------\u001b[0m",
      "\u001b[1;31mKeyError\u001b[0m                                  Traceback (most recent call last)",
      "\u001b[1;32m~\\Anaconda3\\lib\\site-packages\\pandas\\core\\indexes\\base.py\u001b[0m in \u001b[0;36mget_loc\u001b[1;34m(self, key, method, tolerance)\u001b[0m\n\u001b[0;32m   3360\u001b[0m             \u001b[1;32mtry\u001b[0m\u001b[1;33m:\u001b[0m\u001b[1;33m\u001b[0m\u001b[1;33m\u001b[0m\u001b[0m\n\u001b[1;32m-> 3361\u001b[1;33m                 \u001b[1;32mreturn\u001b[0m \u001b[0mself\u001b[0m\u001b[1;33m.\u001b[0m\u001b[0m_engine\u001b[0m\u001b[1;33m.\u001b[0m\u001b[0mget_loc\u001b[0m\u001b[1;33m(\u001b[0m\u001b[0mcasted_key\u001b[0m\u001b[1;33m)\u001b[0m\u001b[1;33m\u001b[0m\u001b[1;33m\u001b[0m\u001b[0m\n\u001b[0m\u001b[0;32m   3362\u001b[0m             \u001b[1;32mexcept\u001b[0m \u001b[0mKeyError\u001b[0m \u001b[1;32mas\u001b[0m \u001b[0merr\u001b[0m\u001b[1;33m:\u001b[0m\u001b[1;33m\u001b[0m\u001b[1;33m\u001b[0m\u001b[0m\n",
      "\u001b[1;32m~\\Anaconda3\\lib\\site-packages\\pandas\\_libs\\index.pyx\u001b[0m in \u001b[0;36mpandas._libs.index.IndexEngine.get_loc\u001b[1;34m()\u001b[0m\n",
      "\u001b[1;32m~\\Anaconda3\\lib\\site-packages\\pandas\\_libs\\index.pyx\u001b[0m in \u001b[0;36mpandas._libs.index.IndexEngine.get_loc\u001b[1;34m()\u001b[0m\n",
      "\u001b[1;32mpandas\\_libs\\hashtable_class_helper.pxi\u001b[0m in \u001b[0;36mpandas._libs.hashtable.PyObjectHashTable.get_item\u001b[1;34m()\u001b[0m\n",
      "\u001b[1;32mpandas\\_libs\\hashtable_class_helper.pxi\u001b[0m in \u001b[0;36mpandas._libs.hashtable.PyObjectHashTable.get_item\u001b[1;34m()\u001b[0m\n",
      "\u001b[1;31mKeyError\u001b[0m: 'Strflw'",
      "\nThe above exception was the direct cause of the following exception:\n",
      "\u001b[1;31mKeyError\u001b[0m                                  Traceback (most recent call last)",
      "\u001b[1;32m~\\AppData\\Local\\Temp/ipykernel_3528/3935268113.py\u001b[0m in \u001b[0;36m<module>\u001b[1;34m\u001b[0m\n\u001b[0;32m      1\u001b[0m \u001b[1;31m#q = float(str(df_test['Strflw'][i])[2:-2])\u001b[0m\u001b[1;33m\u001b[0m\u001b[1;33m\u001b[0m\u001b[1;33m\u001b[0m\u001b[0m\n\u001b[0;32m      2\u001b[0m \u001b[0mvelocity_lst\u001b[0m \u001b[1;33m=\u001b[0m \u001b[1;33m[\u001b[0m\u001b[1;33m]\u001b[0m\u001b[1;33m\u001b[0m\u001b[1;33m\u001b[0m\u001b[0m\n\u001b[1;32m----> 3\u001b[1;33m \u001b[1;32mfor\u001b[0m \u001b[0mi\u001b[0m \u001b[1;32min\u001b[0m \u001b[0mdf_test\u001b[0m\u001b[1;33m.\u001b[0m\u001b[0mindex\u001b[0m\u001b[1;33m:\u001b[0m \u001b[0mprint\u001b[0m\u001b[1;33m(\u001b[0m\u001b[1;33m(\u001b[0m\u001b[0mfloat\u001b[0m\u001b[1;33m(\u001b[0m\u001b[0mstr\u001b[0m\u001b[1;33m(\u001b[0m\u001b[0mdf_test\u001b[0m\u001b[1;33m[\u001b[0m\u001b[1;34m'Strflw'\u001b[0m\u001b[1;33m]\u001b[0m\u001b[1;33m[\u001b[0m\u001b[0mi\u001b[0m\u001b[1;33m]\u001b[0m\u001b[1;33m)\u001b[0m\u001b[1;33m[\u001b[0m\u001b[1;36m2\u001b[0m\u001b[1;33m:\u001b[0m\u001b[1;33m-\u001b[0m\u001b[1;36m2\u001b[0m\u001b[1;33m]\u001b[0m\u001b[1;33m)\u001b[0m\u001b[1;33m)\u001b[0m\u001b[1;33m/\u001b[0m \u001b[0mfloat\u001b[0m\u001b[1;33m(\u001b[0m\u001b[0mdf_test\u001b[0m\u001b[1;33m[\u001b[0m\u001b[1;34m'StrXArea'\u001b[0m\u001b[1;33m]\u001b[0m\u001b[1;33m[\u001b[0m\u001b[0mi\u001b[0m\u001b[1;33m]\u001b[0m\u001b[1;33m)\u001b[0m\u001b[1;33m)\u001b[0m\u001b[1;33m\u001b[0m\u001b[1;33m\u001b[0m\u001b[0m\n\u001b[0m\u001b[0;32m      4\u001b[0m \u001b[1;32mfor\u001b[0m \u001b[0mi\u001b[0m \u001b[1;32min\u001b[0m \u001b[0mdf_test\u001b[0m\u001b[1;33m.\u001b[0m\u001b[0mindex\u001b[0m\u001b[1;33m:\u001b[0m \u001b[0mvelocity_lst\u001b[0m\u001b[1;33m.\u001b[0m\u001b[0mappend\u001b[0m\u001b[1;33m(\u001b[0m\u001b[1;33m(\u001b[0m\u001b[0mfloat\u001b[0m\u001b[1;33m(\u001b[0m\u001b[0mstr\u001b[0m\u001b[1;33m(\u001b[0m\u001b[0mdf_test\u001b[0m\u001b[1;33m[\u001b[0m\u001b[1;34m'Strflw'\u001b[0m\u001b[1;33m]\u001b[0m\u001b[1;33m[\u001b[0m\u001b[0mi\u001b[0m\u001b[1;33m]\u001b[0m\u001b[1;33m)\u001b[0m\u001b[1;33m[\u001b[0m\u001b[1;36m2\u001b[0m\u001b[1;33m:\u001b[0m\u001b[1;33m-\u001b[0m\u001b[1;36m2\u001b[0m\u001b[1;33m]\u001b[0m\u001b[1;33m)\u001b[0m\u001b[1;33m)\u001b[0m\u001b[1;33m/\u001b[0m \u001b[0mfloat\u001b[0m\u001b[1;33m(\u001b[0m\u001b[0mdf_test\u001b[0m\u001b[1;33m[\u001b[0m\u001b[1;34m'StrXArea'\u001b[0m\u001b[1;33m]\u001b[0m\u001b[1;33m[\u001b[0m\u001b[0mi\u001b[0m\u001b[1;33m]\u001b[0m\u001b[1;33m)\u001b[0m\u001b[1;33m)\u001b[0m\u001b[1;33m\u001b[0m\u001b[1;33m\u001b[0m\u001b[0m\n\u001b[0;32m      5\u001b[0m \u001b[1;31m#velocity_lst.append((float(str(df_test['Strflw'][i])[2:-2]))/ float(df_test['StrXArea'][i]))\u001b[0m\u001b[1;33m\u001b[0m\u001b[1;33m\u001b[0m\u001b[1;33m\u001b[0m\u001b[0m\n",
      "\u001b[1;32m~\\Anaconda3\\lib\\site-packages\\pandas\\core\\frame.py\u001b[0m in \u001b[0;36m__getitem__\u001b[1;34m(self, key)\u001b[0m\n\u001b[0;32m   3456\u001b[0m             \u001b[1;32mif\u001b[0m \u001b[0mself\u001b[0m\u001b[1;33m.\u001b[0m\u001b[0mcolumns\u001b[0m\u001b[1;33m.\u001b[0m\u001b[0mnlevels\u001b[0m \u001b[1;33m>\u001b[0m \u001b[1;36m1\u001b[0m\u001b[1;33m:\u001b[0m\u001b[1;33m\u001b[0m\u001b[1;33m\u001b[0m\u001b[0m\n\u001b[0;32m   3457\u001b[0m                 \u001b[1;32mreturn\u001b[0m \u001b[0mself\u001b[0m\u001b[1;33m.\u001b[0m\u001b[0m_getitem_multilevel\u001b[0m\u001b[1;33m(\u001b[0m\u001b[0mkey\u001b[0m\u001b[1;33m)\u001b[0m\u001b[1;33m\u001b[0m\u001b[1;33m\u001b[0m\u001b[0m\n\u001b[1;32m-> 3458\u001b[1;33m             \u001b[0mindexer\u001b[0m \u001b[1;33m=\u001b[0m \u001b[0mself\u001b[0m\u001b[1;33m.\u001b[0m\u001b[0mcolumns\u001b[0m\u001b[1;33m.\u001b[0m\u001b[0mget_loc\u001b[0m\u001b[1;33m(\u001b[0m\u001b[0mkey\u001b[0m\u001b[1;33m)\u001b[0m\u001b[1;33m\u001b[0m\u001b[1;33m\u001b[0m\u001b[0m\n\u001b[0m\u001b[0;32m   3459\u001b[0m             \u001b[1;32mif\u001b[0m \u001b[0mis_integer\u001b[0m\u001b[1;33m(\u001b[0m\u001b[0mindexer\u001b[0m\u001b[1;33m)\u001b[0m\u001b[1;33m:\u001b[0m\u001b[1;33m\u001b[0m\u001b[1;33m\u001b[0m\u001b[0m\n\u001b[0;32m   3460\u001b[0m                 \u001b[0mindexer\u001b[0m \u001b[1;33m=\u001b[0m \u001b[1;33m[\u001b[0m\u001b[0mindexer\u001b[0m\u001b[1;33m]\u001b[0m\u001b[1;33m\u001b[0m\u001b[1;33m\u001b[0m\u001b[0m\n",
      "\u001b[1;32m~\\Anaconda3\\lib\\site-packages\\pandas\\core\\indexes\\base.py\u001b[0m in \u001b[0;36mget_loc\u001b[1;34m(self, key, method, tolerance)\u001b[0m\n\u001b[0;32m   3361\u001b[0m                 \u001b[1;32mreturn\u001b[0m \u001b[0mself\u001b[0m\u001b[1;33m.\u001b[0m\u001b[0m_engine\u001b[0m\u001b[1;33m.\u001b[0m\u001b[0mget_loc\u001b[0m\u001b[1;33m(\u001b[0m\u001b[0mcasted_key\u001b[0m\u001b[1;33m)\u001b[0m\u001b[1;33m\u001b[0m\u001b[1;33m\u001b[0m\u001b[0m\n\u001b[0;32m   3362\u001b[0m             \u001b[1;32mexcept\u001b[0m \u001b[0mKeyError\u001b[0m \u001b[1;32mas\u001b[0m \u001b[0merr\u001b[0m\u001b[1;33m:\u001b[0m\u001b[1;33m\u001b[0m\u001b[1;33m\u001b[0m\u001b[0m\n\u001b[1;32m-> 3363\u001b[1;33m                 \u001b[1;32mraise\u001b[0m \u001b[0mKeyError\u001b[0m\u001b[1;33m(\u001b[0m\u001b[0mkey\u001b[0m\u001b[1;33m)\u001b[0m \u001b[1;32mfrom\u001b[0m \u001b[0merr\u001b[0m\u001b[1;33m\u001b[0m\u001b[1;33m\u001b[0m\u001b[0m\n\u001b[0m\u001b[0;32m   3364\u001b[0m \u001b[1;33m\u001b[0m\u001b[0m\n\u001b[0;32m   3365\u001b[0m         \u001b[1;32mif\u001b[0m \u001b[0mis_scalar\u001b[0m\u001b[1;33m(\u001b[0m\u001b[0mkey\u001b[0m\u001b[1;33m)\u001b[0m \u001b[1;32mand\u001b[0m \u001b[0misna\u001b[0m\u001b[1;33m(\u001b[0m\u001b[0mkey\u001b[0m\u001b[1;33m)\u001b[0m \u001b[1;32mand\u001b[0m \u001b[1;32mnot\u001b[0m \u001b[0mself\u001b[0m\u001b[1;33m.\u001b[0m\u001b[0mhasnans\u001b[0m\u001b[1;33m:\u001b[0m\u001b[1;33m\u001b[0m\u001b[1;33m\u001b[0m\u001b[0m\n",
      "\u001b[1;31mKeyError\u001b[0m: 'Strflw'"
     ]
    }
   ],
   "source": [
    "#q = float(str(df_test['Strflw'][i])[2:-2])\n",
    "velocity_lst = []\n",
    "for i in df_test.index: print((float(str(df_test['Strflw'][i])[2:-2]))/ float(df_test['StrXArea'][i]))\n",
    "for i in df_test.index: velocity_lst.append((float(str(df_test['Strflw'][i])[2:-2]))/ float(df_test['StrXArea'][i]))\n",
    "#velocity_lst.append((float(str(df_test['Strflw'][i])[2:-2]))/ float(df_test['StrXArea'][i]))\n",
    "print(velocity_lst)\n",
    "df_test['StrVel'] = velocity_lst\n",
    "df_test\n"
   ]
  },
  {
   "cell_type": "code",
   "execution_count": null,
   "id": "113dd3f0",
   "metadata": {},
   "outputs": [],
   "source": [
    "print(df_test['Strflw'].items)\n",
    "len(df_test['Strflw'])\n",
    "velocity = []\n",
    "for value in df_test['Strflw']:\n",
    "   print(value)"
   ]
  },
  {
   "cell_type": "code",
   "execution_count": null,
   "id": "3b4ae4e1",
   "metadata": {},
   "outputs": [],
   "source": [
    "velocity = []\n",
    "for row in df_test: \n",
    "  vel =   calc_vel(df_test['Strflw'], df_test['StrXArea'])\n",
    "  velocity.append(vel)\n",
    "  print(velocity)"
   ]
  },
  {
   "cell_type": "code",
   "execution_count": null,
   "id": "d0dd5ba3",
   "metadata": {},
   "outputs": [],
   "source": [
    "row = next(df_test.iterrows())[1]\n",
    "row"
   ]
  },
  {
   "cell_type": "code",
   "execution_count": null,
   "id": "4176e8d0",
   "metadata": {},
   "outputs": [],
   "source": [
    "\"\"\"these are corrected columns needed for pH calculation....\"\"\"\n",
    "row=df_test.iloc[0,:]\n",
    "[row['Strflw'], row['StrXArea']]\n",
    "row"
   ]
  },
  {
   "cell_type": "code",
   "execution_count": null,
   "id": "33064703",
   "metadata": {},
   "outputs": [],
   "source": [
    "flow = df_test['Strflw']\n",
    "area = df_test['StrXArea']\n",
    "flow.dtype"
   ]
  },
  {
   "cell_type": "code",
   "execution_count": null,
   "id": "662ea4e4",
   "metadata": {},
   "outputs": [],
   "source": [
    "\"\"\"This works, but the next is better if you need the calculation back in the dataframe\"\"\"\n",
    "id_list =[]; row_list =[];\n",
    "for row_id,row in df_test.iterrows():\n",
    "    row_list.append(calc_vel(row['Strflw'], row['StrXArea']))\n",
    "    id_list.append(row_id)\n",
    "\n",
    "#df_test['Strflw'].values"
   ]
  },
  {
   "cell_type": "code",
   "execution_count": null,
   "id": "d8a3fabd",
   "metadata": {},
   "outputs": [],
   "source": [
    "for comid in comid_list:\n",
    "    for i in range(length):\n",
    "        print(comid[i], output1['table'][comid[i]]['LengthKM'])\n",
    "        print(output1['data'][comid[i]]['StreamHydrology']['data'])\n",
    "        #date = []\n",
    "        #date.append(output1['data'][comid[i]]['StreamHydrology']['data'].keys())\n",
    "        if i == 0:\n",
    "            try: df_test = pd.DataFrame(output1['data'][comid[i]]['StreamHydrology']['data'].items(), columns=['Date', 'Strflw'])\n",
    "                 \n",
    "            else: \n",
    "                df_test_2 = df_test.append(output1['data'][comid[i]]['StreamHydrology']['data'].items())\n",
    "            df_test['COMID'] = comid[i]\n",
    "            df_test['StrLen'] = output1['data'][comid[i]]['StreamHydrology']['data']"
   ]
  },
  {
   "cell_type": "code",
   "execution_count": null,
   "id": "f15c109f",
   "metadata": {},
   "outputs": [],
   "source": [
    "#help(df_test['Strflw'])\n",
    "#velocity = []\n",
    "x = lambda q, a : q/a\n",
    "df_test.apply(lambda calc_vel(['Strflw'], ['StrXArea']))\n",
    "print(df_test)\n",
    "    #for q in df_test['Strflw'].__array__():\n",
    "    #for a in df_test['StrXArea'].__array__():\n",
    "        #for i in range(len(df_test['Strflw'])):\n",
    "#calc_vel(df_test['Strflw'], df_test['StrXArea'])\n",
    "#velocity.append(calc_vel)\n",
    "#print(velocity)"
   ]
  },
  {
   "cell_type": "code",
   "execution_count": null,
   "id": "e67226c4",
   "metadata": {},
   "outputs": [],
   "source": [
    "help(comid)"
   ]
  },
  {
   "cell_type": "code",
   "execution_count": null,
   "id": "58360cae",
   "metadata": {},
   "outputs": [],
   "source": [
    "print(comid[6])"
   ]
  },
  {
   "cell_type": "code",
   "execution_count": null,
   "id": "2e8dd12a",
   "metadata": {},
   "outputs": [],
   "source": [
    "output1['data']['9731484']"
   ]
  },
  {
   "cell_type": "code",
   "execution_count": null,
   "id": "e511e2c7",
   "metadata": {},
   "outputs": [],
   "source": [
    "output1['table']['9731484']['LengthKM']"
   ]
  },
  {
   "cell_type": "code",
   "execution_count": 31,
   "id": "37a64c8b",
   "metadata": {},
   "outputs": [
    {
     "data": {
      "text/plain": [
       "{'dataset': 'Streamflow',\n",
       " 'dataSource': 'constant',\n",
       " 'metadata': {'request_time': '07/25/2022 18:46:46',\n",
       "  'column_1': 'Date (GMT)',\n",
       "  'column_2': 'Streamflow',\n",
       "  'units': 'm^3/sec'},\n",
       " 'data': {'07/01/2014': ['0.413'],\n",
       "  '07/02/2014': ['0.431'],\n",
       "  '07/03/2014': ['1.411'],\n",
       "  '07/04/2014': ['2.657'],\n",
       "  '07/05/2014': ['0.438'],\n",
       "  '07/06/2014': ['0.45'],\n",
       "  '07/07/2014': ['0.463'],\n",
       "  '07/08/2014': ['0.474'],\n",
       "  '07/09/2014': ['0.896'],\n",
       "  '07/10/2014': ['0.489'],\n",
       "  '07/11/2014': ['0.493'],\n",
       "  '07/12/2014': ['0.495'],\n",
       "  '07/13/2014': ['0.495'],\n",
       "  '07/14/2014': ['0.494'],\n",
       "  '07/15/2014': ['1.081'],\n",
       "  '07/16/2014': ['1.579'],\n",
       "  '07/17/2014': ['0.482'],\n",
       "  '07/18/2014': ['0.478'],\n",
       "  '07/19/2014': ['0.48'],\n",
       "  '07/20/2014': ['0.47'],\n",
       "  '07/21/2014': ['2.3'],\n",
       "  '07/22/2014': ['0.821'],\n",
       "  '07/23/2014': ['0.459'],\n",
       "  '07/24/2014': ['0.518'],\n",
       "  '07/25/2014': ['0.532'],\n",
       "  '07/26/2014': ['0.484'],\n",
       "  '07/27/2014': ['0.536'],\n",
       "  '07/28/2014': ['0.516'],\n",
       "  '07/29/2014': ['0.513'],\n",
       "  '07/30/2014': ['0.518'],\n",
       "  '07/31/2014': ['0.521']}}"
      ]
     },
     "execution_count": 31,
     "metadata": {},
     "output_type": "execute_result"
    }
   ],
   "source": [
    "output1['data']['9731484']['StreamHydrology']"
   ]
  },
  {
   "cell_type": "code",
   "execution_count": 32,
   "id": "b12fdb69",
   "metadata": {},
   "outputs": [
    {
     "data": {
      "text/plain": [
       "dict_keys(['07/01/2014', '07/02/2014', '07/03/2014', '07/04/2014', '07/05/2014', '07/06/2014', '07/07/2014', '07/08/2014', '07/09/2014', '07/10/2014', '07/11/2014', '07/12/2014', '07/13/2014', '07/14/2014', '07/15/2014', '07/16/2014', '07/17/2014', '07/18/2014', '07/19/2014', '07/20/2014', '07/21/2014', '07/22/2014', '07/23/2014', '07/24/2014', '07/25/2014', '07/26/2014', '07/27/2014', '07/28/2014', '07/29/2014', '07/30/2014', '07/31/2014'])"
      ]
     },
     "execution_count": 32,
     "metadata": {},
     "output_type": "execute_result"
    }
   ],
   "source": [
    "output1['data']['9731484']['StreamHydrology']['data'].keys()"
   ]
  },
  {
   "cell_type": "code",
   "execution_count": 33,
   "id": "dade38c0",
   "metadata": {},
   "outputs": [
    {
     "data": {
      "text/plain": [
       "{'07/01/2014': ['0.413'],\n",
       " '07/02/2014': ['0.431'],\n",
       " '07/03/2014': ['1.411'],\n",
       " '07/04/2014': ['2.657'],\n",
       " '07/05/2014': ['0.438'],\n",
       " '07/06/2014': ['0.45'],\n",
       " '07/07/2014': ['0.463'],\n",
       " '07/08/2014': ['0.474'],\n",
       " '07/09/2014': ['0.896'],\n",
       " '07/10/2014': ['0.489'],\n",
       " '07/11/2014': ['0.493'],\n",
       " '07/12/2014': ['0.495'],\n",
       " '07/13/2014': ['0.495'],\n",
       " '07/14/2014': ['0.494'],\n",
       " '07/15/2014': ['1.081'],\n",
       " '07/16/2014': ['1.579'],\n",
       " '07/17/2014': ['0.482'],\n",
       " '07/18/2014': ['0.478'],\n",
       " '07/19/2014': ['0.48'],\n",
       " '07/20/2014': ['0.47'],\n",
       " '07/21/2014': ['2.3'],\n",
       " '07/22/2014': ['0.821'],\n",
       " '07/23/2014': ['0.459'],\n",
       " '07/24/2014': ['0.518'],\n",
       " '07/25/2014': ['0.532'],\n",
       " '07/26/2014': ['0.484'],\n",
       " '07/27/2014': ['0.536'],\n",
       " '07/28/2014': ['0.516'],\n",
       " '07/29/2014': ['0.513'],\n",
       " '07/30/2014': ['0.518'],\n",
       " '07/31/2014': ['0.521']}"
      ]
     },
     "execution_count": 33,
     "metadata": {},
     "output_type": "execute_result"
    }
   ],
   "source": [
    "output1['data']['9731484']['StreamHydrology']['data'] #'m^3/sec' Q"
   ]
  },
  {
   "cell_type": "code",
   "execution_count": null,
   "id": "e6ae1c7d",
   "metadata": {},
   "outputs": [],
   "source": [
    "q_out = output1['data']['9731484']['StreamHydrology']['data']\n",
    "df_q_out = pd.DataFrame.from_dict(q_out, orient='index')\n",
    "\n",
    "df_q_out.info()"
   ]
  },
  {
   "cell_type": "code",
   "execution_count": null,
   "id": "0260e1eb",
   "metadata": {},
   "outputs": [],
   "source": [
    "df_q_out.head()"
   ]
  },
  {
   "cell_type": "code",
   "execution_count": null,
   "id": "9fa0ced4",
   "metadata": {},
   "outputs": [],
   "source": []
  },
  {
   "cell_type": "code",
   "execution_count": null,
   "id": "58588986",
   "metadata": {},
   "outputs": [],
   "source": [
    "output1['data']['9731484']['SurfaceRunoff']"
   ]
  },
  {
   "cell_type": "code",
   "execution_count": null,
   "id": "0c4dc8be",
   "metadata": {},
   "outputs": [],
   "source": [
    "output1['data']['9731484']['SurfaceRunoff']['data'] #.keys() or .values() for value pair can import date time"
   ]
  },
  {
   "cell_type": "code",
   "execution_count": null,
   "id": "6083b0c1",
   "metadata": {},
   "outputs": [],
   "source": [
    "import pandas as pd\n",
    "sfc_runoff_out1 = output1['data']['9731484']['SurfaceRunoff']['data']\n",
    "df_sfc_runoff = pd.DataFrame.from_dict(sfc_runoff_out1, orient='index')\n",
    "\n",
    "df_sfc_runoff.info()"
   ]
  },
  {
   "cell_type": "code",
   "execution_count": null,
   "id": "2c0423e9",
   "metadata": {},
   "outputs": [],
   "source": [
    "df_sfc_runoff.head()"
   ]
  },
  {
   "cell_type": "code",
   "execution_count": null,
   "id": "da244978",
   "metadata": {},
   "outputs": [],
   "source": [
    "df_sfc_runoff.index = pd.to_datetime(df_sfc_runoff.index)\n",
    "df_sfc_runoff.info()"
   ]
  },
  {
   "cell_type": "code",
   "execution_count": null,
   "id": "95f7f68f",
   "metadata": {},
   "outputs": [],
   "source": [
    "df_sfc_runoff.head()"
   ]
  },
  {
   "cell_type": "code",
   "execution_count": null,
   "id": "eb6325df",
   "metadata": {},
   "outputs": [],
   "source": [
    "#df_sfc_runoff.to_csv('BrTest1.csv')"
   ]
  },
  {
   "cell_type": "code",
   "execution_count": null,
   "id": "ffae6e26",
   "metadata": {},
   "outputs": [],
   "source": [
    "   output1['data']['9731484']['Precipitation']['data']  "
   ]
  },
  {
   "cell_type": "code",
   "execution_count": null,
   "id": "97621d68",
   "metadata": {},
   "outputs": [],
   "source": [
    "   output1['data']['9731484']['StreamHydrology']['data']"
   ]
  },
  {
   "cell_type": "code",
   "execution_count": null,
   "id": "bd8d1ea5",
   "metadata": {},
   "outputs": [],
   "source": [
    "df_watchar = pd.DataFrame(columns = ['COMID', 'Length', 'MedDia', 'Depth', 'Strflw', 'StrVel', 'Area' ])"
   ]
  },
  {
   "cell_type": "code",
   "execution_count": null,
   "id": "ded8c113",
   "metadata": {},
   "outputs": [],
   "source": [
    "df_watchar.keys()"
   ]
  },
  {
   "cell_type": "code",
   "execution_count": null,
   "id": "e9f6b08f",
   "metadata": {},
   "outputs": [],
   "source": [
    "df_watchar['COMID'] = str('9731484')"
   ]
  },
  {
   "cell_type": "code",
   "execution_count": null,
   "id": "647765b9",
   "metadata": {},
   "outputs": [],
   "source": [
    "df_watchar['Length'] = output1['table']['9731484']['LengthKM']"
   ]
  },
  {
   "cell_type": "code",
   "execution_count": null,
   "id": "5104977a",
   "metadata": {},
   "outputs": [],
   "source": [
    "df_watchar['Strflw'] = output1['data']['9731484']['StreamHydrology']['data'].values()"
   ]
  },
  {
   "cell_type": "code",
   "execution_count": null,
   "id": "e5719c7c",
   "metadata": {},
   "outputs": [],
   "source": [
    "df_watchar.head()"
   ]
  },
  {
   "cell_type": "code",
   "execution_count": null,
   "id": "8a19281b",
   "metadata": {},
   "outputs": [],
   "source": []
  },
  {
   "cell_type": "code",
   "execution_count": null,
   "id": "eea870b2",
   "metadata": {},
   "outputs": [],
   "source": []
  }
 ],
 "metadata": {
  "kernelspec": {
   "display_name": "Python 3",
   "language": "python",
   "name": "python3"
  },
  "language_info": {
   "codemirror_mode": {
    "name": "ipython",
    "version": 3
   },
   "file_extension": ".py",
   "mimetype": "text/x-python",
   "name": "python",
   "nbconvert_exporter": "python",
   "pygments_lexer": "ipython3",
   "version": "3.8.8"
  },
  "varInspector": {
   "cols": {
    "lenName": 16,
    "lenType": 16,
    "lenVar": 40
   },
   "kernels_config": {
    "python": {
     "delete_cmd_postfix": "",
     "delete_cmd_prefix": "del ",
     "library": "var_list.py",
     "varRefreshCmd": "print(var_dic_list())"
    },
    "r": {
     "delete_cmd_postfix": ") ",
     "delete_cmd_prefix": "rm(",
     "library": "var_list.r",
     "varRefreshCmd": "cat(var_dic_list()) "
    }
   },
   "types_to_exclude": [
    "module",
    "function",
    "builtin_function_or_method",
    "instance",
    "_Feature"
   ],
   "window_display": false
  }
 },
 "nbformat": 4,
 "nbformat_minor": 5
}
